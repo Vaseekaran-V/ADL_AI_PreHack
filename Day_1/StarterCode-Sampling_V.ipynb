{
 "cells": [
  {
   "cell_type": "code",
   "execution_count": 39,
   "id": "gorgeous-outline",
   "metadata": {},
   "outputs": [],
   "source": [
    "import pandas as pd\n",
    "import numpy as np\n",
    "import matplotlib.pyplot as plt\n",
    "%matplotlib inline\n",
    "import seaborn as sns\n",
    "from sklearn.model_selection import train_test_split\n",
    "from sklearn.metrics import accuracy_score\n",
    "from sklearn.metrics import confusion_matrix\n",
    "from sklearn.model_selection import cross_val_score\n",
    "from sklearn.preprocessing import StandardScaler #you can use minmax scaler too\n",
    "from sklearn.ensemble import GradientBoostingClassifier\n",
    "#Import other necessary model libraries, for this example, using Logistic Regression"
   ]
  },
  {
   "cell_type": "markdown",
   "id": "hairy-biography",
   "metadata": {},
   "source": [
    "### Importing the Dataset"
   ]
  },
  {
   "cell_type": "code",
   "execution_count": 2,
   "id": "mexican-qatar",
   "metadata": {},
   "outputs": [],
   "source": [
    "train_data = pd.read_csv(\"data/train_dataset.csv\")"
   ]
  },
  {
   "cell_type": "code",
   "execution_count": 3,
   "id": "casual-simpson",
   "metadata": {},
   "outputs": [
    {
     "data": {
      "text/html": [
       "<div>\n",
       "<style scoped>\n",
       "    .dataframe tbody tr th:only-of-type {\n",
       "        vertical-align: middle;\n",
       "    }\n",
       "\n",
       "    .dataframe tbody tr th {\n",
       "        vertical-align: top;\n",
       "    }\n",
       "\n",
       "    .dataframe thead th {\n",
       "        text-align: right;\n",
       "    }\n",
       "</style>\n",
       "<table border=\"1\" class=\"dataframe\">\n",
       "  <thead>\n",
       "    <tr style=\"text-align: right;\">\n",
       "      <th></th>\n",
       "      <th>primary_identifier</th>\n",
       "      <th>device_type</th>\n",
       "      <th>device_category</th>\n",
       "      <th>gender</th>\n",
       "      <th>district_name</th>\n",
       "      <th>age_group</th>\n",
       "      <th>network_stay</th>\n",
       "      <th>average_monthly_bill_amount</th>\n",
       "      <th>dusage_sum</th>\n",
       "      <th>dusage_min</th>\n",
       "      <th>...</th>\n",
       "      <th>vusage_offnet_max</th>\n",
       "      <th>vusage_offnet_min</th>\n",
       "      <th>vusage_offnet_days</th>\n",
       "      <th>vusage_offnet_avg</th>\n",
       "      <th>vusage_offnet_stddev</th>\n",
       "      <th>number_of_fixed_bb_accounts</th>\n",
       "      <th>number_of_iptv_accounts</th>\n",
       "      <th>add_on_tot_rental</th>\n",
       "      <th>add_on_count</th>\n",
       "      <th>next_month_plan</th>\n",
       "    </tr>\n",
       "  </thead>\n",
       "  <tbody>\n",
       "    <tr>\n",
       "      <th>10495</th>\n",
       "      <td>1438655</td>\n",
       "      <td>4G</td>\n",
       "      <td>Smartphone</td>\n",
       "      <td>MALE</td>\n",
       "      <td>Kalutara</td>\n",
       "      <td>40-50</td>\n",
       "      <td>64</td>\n",
       "      <td>2088.13</td>\n",
       "      <td>479.0</td>\n",
       "      <td>0.346959</td>\n",
       "      <td>...</td>\n",
       "      <td>29.866667</td>\n",
       "      <td>0.0</td>\n",
       "      <td>7.0</td>\n",
       "      <td>14.571429</td>\n",
       "      <td>8.017054</td>\n",
       "      <td>0.0</td>\n",
       "      <td>0.0</td>\n",
       "      <td>NaN</td>\n",
       "      <td>NaN</td>\n",
       "      <td>PKG6</td>\n",
       "    </tr>\n",
       "    <tr>\n",
       "      <th>10496</th>\n",
       "      <td>7827264</td>\n",
       "      <td>4G</td>\n",
       "      <td>Smartphone</td>\n",
       "      <td>FEMALE</td>\n",
       "      <td>Colombo</td>\n",
       "      <td>&lt;20</td>\n",
       "      <td>6</td>\n",
       "      <td>2053.50</td>\n",
       "      <td>23168.0</td>\n",
       "      <td>0.219985</td>\n",
       "      <td>...</td>\n",
       "      <td>25.366667</td>\n",
       "      <td>0.0</td>\n",
       "      <td>3.0</td>\n",
       "      <td>10.861111</td>\n",
       "      <td>5.151029</td>\n",
       "      <td>0.0</td>\n",
       "      <td>0.0</td>\n",
       "      <td>580.0</td>\n",
       "      <td>3.0</td>\n",
       "      <td>PKG1</td>\n",
       "    </tr>\n",
       "    <tr>\n",
       "      <th>10497</th>\n",
       "      <td>1433957</td>\n",
       "      <td>4G</td>\n",
       "      <td>Smartphone</td>\n",
       "      <td>FEMALE</td>\n",
       "      <td>Colombo</td>\n",
       "      <td>30-40</td>\n",
       "      <td>69</td>\n",
       "      <td>2827.33</td>\n",
       "      <td>4553.0</td>\n",
       "      <td>4.831711</td>\n",
       "      <td>...</td>\n",
       "      <td>0.000000</td>\n",
       "      <td>0.0</td>\n",
       "      <td>0.0</td>\n",
       "      <td>NaN</td>\n",
       "      <td>0.000000</td>\n",
       "      <td>0.0</td>\n",
       "      <td>1.0</td>\n",
       "      <td>NaN</td>\n",
       "      <td>NaN</td>\n",
       "      <td>PKG6</td>\n",
       "    </tr>\n",
       "    <tr>\n",
       "      <th>10498</th>\n",
       "      <td>8494507</td>\n",
       "      <td>4G</td>\n",
       "      <td>Smartphone</td>\n",
       "      <td>MALE</td>\n",
       "      <td>Kandy</td>\n",
       "      <td>60-70</td>\n",
       "      <td>233</td>\n",
       "      <td>645.43</td>\n",
       "      <td>2069.0</td>\n",
       "      <td>4.722031</td>\n",
       "      <td>...</td>\n",
       "      <td>18.650000</td>\n",
       "      <td>0.0</td>\n",
       "      <td>18.0</td>\n",
       "      <td>5.887963</td>\n",
       "      <td>4.956822</td>\n",
       "      <td>0.0</td>\n",
       "      <td>1.0</td>\n",
       "      <td>NaN</td>\n",
       "      <td>NaN</td>\n",
       "      <td>PKG1</td>\n",
       "    </tr>\n",
       "    <tr>\n",
       "      <th>10499</th>\n",
       "      <td>3569439</td>\n",
       "      <td>3G</td>\n",
       "      <td>Smartphone</td>\n",
       "      <td>MALE</td>\n",
       "      <td>Puttalam</td>\n",
       "      <td>40-50</td>\n",
       "      <td>33</td>\n",
       "      <td>498.20</td>\n",
       "      <td>536.0</td>\n",
       "      <td>0.003048</td>\n",
       "      <td>...</td>\n",
       "      <td>4.366667</td>\n",
       "      <td>0.0</td>\n",
       "      <td>7.0</td>\n",
       "      <td>2.228571</td>\n",
       "      <td>1.096541</td>\n",
       "      <td>0.0</td>\n",
       "      <td>0.0</td>\n",
       "      <td>NaN</td>\n",
       "      <td>NaN</td>\n",
       "      <td>PKG1</td>\n",
       "    </tr>\n",
       "  </tbody>\n",
       "</table>\n",
       "<p>5 rows × 31 columns</p>\n",
       "</div>"
      ],
      "text/plain": [
       "       primary_identifier device_type device_category  gender district_name  \\\n",
       "10495             1438655          4G      Smartphone    MALE      Kalutara   \n",
       "10496             7827264          4G      Smartphone  FEMALE       Colombo   \n",
       "10497             1433957          4G      Smartphone  FEMALE       Colombo   \n",
       "10498             8494507          4G      Smartphone    MALE         Kandy   \n",
       "10499             3569439          3G      Smartphone    MALE      Puttalam   \n",
       "\n",
       "      age_group  network_stay  average_monthly_bill_amount  dusage_sum  \\\n",
       "10495     40-50            64                      2088.13       479.0   \n",
       "10496       <20             6                      2053.50     23168.0   \n",
       "10497     30-40            69                      2827.33      4553.0   \n",
       "10498     60-70           233                       645.43      2069.0   \n",
       "10499     40-50            33                       498.20       536.0   \n",
       "\n",
       "       dusage_min  ...  vusage_offnet_max  vusage_offnet_min  \\\n",
       "10495    0.346959  ...          29.866667                0.0   \n",
       "10496    0.219985  ...          25.366667                0.0   \n",
       "10497    4.831711  ...           0.000000                0.0   \n",
       "10498    4.722031  ...          18.650000                0.0   \n",
       "10499    0.003048  ...           4.366667                0.0   \n",
       "\n",
       "       vusage_offnet_days  vusage_offnet_avg  vusage_offnet_stddev  \\\n",
       "10495                 7.0          14.571429              8.017054   \n",
       "10496                 3.0          10.861111              5.151029   \n",
       "10497                 0.0                NaN              0.000000   \n",
       "10498                18.0           5.887963              4.956822   \n",
       "10499                 7.0           2.228571              1.096541   \n",
       "\n",
       "       number_of_fixed_bb_accounts  number_of_iptv_accounts  \\\n",
       "10495                          0.0                      0.0   \n",
       "10496                          0.0                      0.0   \n",
       "10497                          0.0                      1.0   \n",
       "10498                          0.0                      1.0   \n",
       "10499                          0.0                      0.0   \n",
       "\n",
       "       add_on_tot_rental  add_on_count  next_month_plan  \n",
       "10495                NaN           NaN             PKG6  \n",
       "10496              580.0           3.0             PKG1  \n",
       "10497                NaN           NaN             PKG6  \n",
       "10498                NaN           NaN             PKG1  \n",
       "10499                NaN           NaN             PKG1  \n",
       "\n",
       "[5 rows x 31 columns]"
      ]
     },
     "execution_count": 3,
     "metadata": {},
     "output_type": "execute_result"
    }
   ],
   "source": [
    "train_data.tail()"
   ]
  },
  {
   "cell_type": "markdown",
   "id": "prospective-bouquet",
   "metadata": {},
   "source": [
    "### Label Encoding the y variable"
   ]
  },
  {
   "cell_type": "code",
   "execution_count": 4,
   "id": "imported-premium",
   "metadata": {},
   "outputs": [],
   "source": [
    "train_data['next_month_plan'] = train_data['next_month_plan'].astype('category')"
   ]
  },
  {
   "cell_type": "code",
   "execution_count": 5,
   "id": "violent-sessions",
   "metadata": {},
   "outputs": [
    {
     "data": {
      "text/plain": [
       "['PKG2', 'PKG1', 'PKG6', 'PKG4', 'PKG5', 'PKG3', 'PKG8', 'PKG7']\n",
       "Categories (8, object): ['PKG2', 'PKG1', 'PKG6', 'PKG4', 'PKG5', 'PKG3', 'PKG8', 'PKG7']"
      ]
     },
     "execution_count": 5,
     "metadata": {},
     "output_type": "execute_result"
    }
   ],
   "source": [
    "train_data['next_month_plan'].unique()"
   ]
  },
  {
   "cell_type": "code",
   "execution_count": 6,
   "id": "institutional-climb",
   "metadata": {},
   "outputs": [],
   "source": [
    "labels_x = ['PKG0','PKG1', 'PKG2', 'PKG3', 'PKG4', 'PKG5', 'PKG6', 'PKG7', 'PKG8']"
   ]
  },
  {
   "cell_type": "code",
   "execution_count": 7,
   "id": "stuffed-biography",
   "metadata": {},
   "outputs": [],
   "source": [
    "le = preprocessing.LabelEncoder()"
   ]
  },
  {
   "cell_type": "code",
   "execution_count": 8,
   "id": "controversial-kitty",
   "metadata": {},
   "outputs": [
    {
     "data": {
      "text/plain": [
       "LabelEncoder()"
      ]
     },
     "execution_count": 8,
     "metadata": {},
     "output_type": "execute_result"
    }
   ],
   "source": [
    "le.fit(labels_x)"
   ]
  },
  {
   "cell_type": "code",
   "execution_count": 9,
   "id": "separate-breach",
   "metadata": {},
   "outputs": [
    {
     "data": {
      "text/plain": [
       "array(['PKG0', 'PKG1', 'PKG2', 'PKG3', 'PKG4', 'PKG5', 'PKG6', 'PKG7',\n",
       "       'PKG8'], dtype='<U4')"
      ]
     },
     "execution_count": 9,
     "metadata": {},
     "output_type": "execute_result"
    }
   ],
   "source": [
    "le.classes_"
   ]
  },
  {
   "cell_type": "code",
   "execution_count": 10,
   "id": "suburban-reservoir",
   "metadata": {},
   "outputs": [],
   "source": [
    "train_data['encoded_class_labels'] = le.transform(train_data['next_month_plan'])"
   ]
  },
  {
   "cell_type": "code",
   "execution_count": 12,
   "id": "sonic-organic",
   "metadata": {},
   "outputs": [
    {
     "data": {
      "text/html": [
       "<div>\n",
       "<style scoped>\n",
       "    .dataframe tbody tr th:only-of-type {\n",
       "        vertical-align: middle;\n",
       "    }\n",
       "\n",
       "    .dataframe tbody tr th {\n",
       "        vertical-align: top;\n",
       "    }\n",
       "\n",
       "    .dataframe thead th {\n",
       "        text-align: right;\n",
       "    }\n",
       "</style>\n",
       "<table border=\"1\" class=\"dataframe\">\n",
       "  <thead>\n",
       "    <tr style=\"text-align: right;\">\n",
       "      <th></th>\n",
       "      <th>primary_identifier</th>\n",
       "      <th>device_type</th>\n",
       "      <th>device_category</th>\n",
       "      <th>gender</th>\n",
       "      <th>district_name</th>\n",
       "      <th>age_group</th>\n",
       "      <th>network_stay</th>\n",
       "      <th>average_monthly_bill_amount</th>\n",
       "      <th>dusage_sum</th>\n",
       "      <th>dusage_min</th>\n",
       "      <th>...</th>\n",
       "      <th>vusage_offnet_min</th>\n",
       "      <th>vusage_offnet_days</th>\n",
       "      <th>vusage_offnet_avg</th>\n",
       "      <th>vusage_offnet_stddev</th>\n",
       "      <th>number_of_fixed_bb_accounts</th>\n",
       "      <th>number_of_iptv_accounts</th>\n",
       "      <th>add_on_tot_rental</th>\n",
       "      <th>add_on_count</th>\n",
       "      <th>next_month_plan</th>\n",
       "      <th>encoded_class_labels</th>\n",
       "    </tr>\n",
       "  </thead>\n",
       "  <tbody>\n",
       "    <tr>\n",
       "      <th>0</th>\n",
       "      <td>6875768</td>\n",
       "      <td>4G</td>\n",
       "      <td>Smartphone</td>\n",
       "      <td>MALE</td>\n",
       "      <td>Kegalle</td>\n",
       "      <td>40-50</td>\n",
       "      <td>219</td>\n",
       "      <td>761.62</td>\n",
       "      <td>6317.0</td>\n",
       "      <td>2.773958</td>\n",
       "      <td>...</td>\n",
       "      <td>0.0</td>\n",
       "      <td>27.0</td>\n",
       "      <td>25.099383</td>\n",
       "      <td>34.759221</td>\n",
       "      <td>0.0</td>\n",
       "      <td>1.0</td>\n",
       "      <td>NaN</td>\n",
       "      <td>NaN</td>\n",
       "      <td>PKG2</td>\n",
       "      <td>2</td>\n",
       "    </tr>\n",
       "    <tr>\n",
       "      <th>1</th>\n",
       "      <td>6406277</td>\n",
       "      <td>4G</td>\n",
       "      <td>Smartphone</td>\n",
       "      <td>MALE</td>\n",
       "      <td>Galle</td>\n",
       "      <td>40-50</td>\n",
       "      <td>36</td>\n",
       "      <td>2482.52</td>\n",
       "      <td>28365.0</td>\n",
       "      <td>3.079438</td>\n",
       "      <td>...</td>\n",
       "      <td>0.0</td>\n",
       "      <td>15.0</td>\n",
       "      <td>5.071111</td>\n",
       "      <td>6.779644</td>\n",
       "      <td>0.0</td>\n",
       "      <td>0.0</td>\n",
       "      <td>600.0</td>\n",
       "      <td>2.0</td>\n",
       "      <td>PKG1</td>\n",
       "      <td>1</td>\n",
       "    </tr>\n",
       "    <tr>\n",
       "      <th>2</th>\n",
       "      <td>3563570</td>\n",
       "      <td>4G</td>\n",
       "      <td>Smartphone</td>\n",
       "      <td>MALE</td>\n",
       "      <td>Kandy</td>\n",
       "      <td>30-40</td>\n",
       "      <td>186</td>\n",
       "      <td>1565.55</td>\n",
       "      <td>18581.0</td>\n",
       "      <td>48.193713</td>\n",
       "      <td>...</td>\n",
       "      <td>0.0</td>\n",
       "      <td>0.0</td>\n",
       "      <td>NaN</td>\n",
       "      <td>0.000000</td>\n",
       "      <td>0.0</td>\n",
       "      <td>0.0</td>\n",
       "      <td>0.0</td>\n",
       "      <td>1.0</td>\n",
       "      <td>PKG6</td>\n",
       "      <td>6</td>\n",
       "    </tr>\n",
       "    <tr>\n",
       "      <th>3</th>\n",
       "      <td>1853666</td>\n",
       "      <td>4G</td>\n",
       "      <td>Smartphone</td>\n",
       "      <td>FEMALE</td>\n",
       "      <td>Colombo</td>\n",
       "      <td>40-50</td>\n",
       "      <td>24</td>\n",
       "      <td>2397.49</td>\n",
       "      <td>91071.0</td>\n",
       "      <td>22.437842</td>\n",
       "      <td>...</td>\n",
       "      <td>0.0</td>\n",
       "      <td>0.0</td>\n",
       "      <td>NaN</td>\n",
       "      <td>0.000000</td>\n",
       "      <td>0.0</td>\n",
       "      <td>0.0</td>\n",
       "      <td>1110.0</td>\n",
       "      <td>2.0</td>\n",
       "      <td>PKG4</td>\n",
       "      <td>4</td>\n",
       "    </tr>\n",
       "    <tr>\n",
       "      <th>4</th>\n",
       "      <td>2794331</td>\n",
       "      <td>4G</td>\n",
       "      <td>Smartphone</td>\n",
       "      <td>FEMALE</td>\n",
       "      <td>Kandy</td>\n",
       "      <td>50-60</td>\n",
       "      <td>37</td>\n",
       "      <td>2501.75</td>\n",
       "      <td>19736.0</td>\n",
       "      <td>53.302092</td>\n",
       "      <td>...</td>\n",
       "      <td>0.0</td>\n",
       "      <td>23.0</td>\n",
       "      <td>11.256522</td>\n",
       "      <td>16.224071</td>\n",
       "      <td>0.0</td>\n",
       "      <td>1.0</td>\n",
       "      <td>1350.0</td>\n",
       "      <td>2.0</td>\n",
       "      <td>PKG4</td>\n",
       "      <td>4</td>\n",
       "    </tr>\n",
       "  </tbody>\n",
       "</table>\n",
       "<p>5 rows × 32 columns</p>\n",
       "</div>"
      ],
      "text/plain": [
       "   primary_identifier device_type device_category  gender district_name  \\\n",
       "0             6875768          4G      Smartphone    MALE       Kegalle   \n",
       "1             6406277          4G      Smartphone    MALE         Galle   \n",
       "2             3563570          4G      Smartphone    MALE         Kandy   \n",
       "3             1853666          4G      Smartphone  FEMALE       Colombo   \n",
       "4             2794331          4G      Smartphone  FEMALE         Kandy   \n",
       "\n",
       "  age_group  network_stay  average_monthly_bill_amount  dusage_sum  \\\n",
       "0     40-50           219                       761.62      6317.0   \n",
       "1     40-50            36                      2482.52     28365.0   \n",
       "2     30-40           186                      1565.55     18581.0   \n",
       "3     40-50            24                      2397.49     91071.0   \n",
       "4     50-60            37                      2501.75     19736.0   \n",
       "\n",
       "   dusage_min  ...  vusage_offnet_min  vusage_offnet_days  vusage_offnet_avg  \\\n",
       "0    2.773958  ...                0.0                27.0          25.099383   \n",
       "1    3.079438  ...                0.0                15.0           5.071111   \n",
       "2   48.193713  ...                0.0                 0.0                NaN   \n",
       "3   22.437842  ...                0.0                 0.0                NaN   \n",
       "4   53.302092  ...                0.0                23.0          11.256522   \n",
       "\n",
       "   vusage_offnet_stddev  number_of_fixed_bb_accounts  number_of_iptv_accounts  \\\n",
       "0             34.759221                          0.0                      1.0   \n",
       "1              6.779644                          0.0                      0.0   \n",
       "2              0.000000                          0.0                      0.0   \n",
       "3              0.000000                          0.0                      0.0   \n",
       "4             16.224071                          0.0                      1.0   \n",
       "\n",
       "   add_on_tot_rental  add_on_count  next_month_plan  encoded_class_labels  \n",
       "0                NaN           NaN             PKG2                     2  \n",
       "1              600.0           2.0             PKG1                     1  \n",
       "2                0.0           1.0             PKG6                     6  \n",
       "3             1110.0           2.0             PKG4                     4  \n",
       "4             1350.0           2.0             PKG4                     4  \n",
       "\n",
       "[5 rows x 32 columns]"
      ]
     },
     "execution_count": 12,
     "metadata": {},
     "output_type": "execute_result"
    }
   ],
   "source": [
    "train_data.head()"
   ]
  },
  {
   "cell_type": "markdown",
   "id": "tropical-rwanda",
   "metadata": {},
   "source": [
    "### Handling Missing values"
   ]
  },
  {
   "cell_type": "code",
   "execution_count": 13,
   "id": "legitimate-order",
   "metadata": {},
   "outputs": [
    {
     "name": "stdout",
     "output_type": "stream",
     "text": [
      "<class 'pandas.core.frame.DataFrame'>\n",
      "RangeIndex: 10500 entries, 0 to 10499\n",
      "Data columns (total 32 columns):\n",
      " #   Column                       Non-Null Count  Dtype   \n",
      "---  ------                       --------------  -----   \n",
      " 0   primary_identifier           10500 non-null  int64   \n",
      " 1   device_type                  10477 non-null  object  \n",
      " 2   device_category              10470 non-null  object  \n",
      " 3   gender                       10365 non-null  object  \n",
      " 4   district_name                10500 non-null  object  \n",
      " 5   age_group                    10365 non-null  object  \n",
      " 6   network_stay                 10500 non-null  int64   \n",
      " 7   average_monthly_bill_amount  10500 non-null  float64 \n",
      " 8   dusage_sum                   10500 non-null  float64 \n",
      " 9   dusage_min                   10500 non-null  float64 \n",
      " 10  dusage_max                   10500 non-null  float64 \n",
      " 11  dusage_avg                   9642 non-null   float64 \n",
      " 12  dusage_days                  10500 non-null  float64 \n",
      " 13  dusage_stddev                10500 non-null  float64 \n",
      " 14  vusage_onnet_sum             10500 non-null  float64 \n",
      " 15  vusage_onnet_max             10500 non-null  float64 \n",
      " 16  vusage_onnet_min             10500 non-null  float64 \n",
      " 17  vusage_onnet_days            10500 non-null  float64 \n",
      " 18  vusage_onnet_avg             1828 non-null   float64 \n",
      " 19  vusage_onnet_stddev          10500 non-null  float64 \n",
      " 20  vusage_offnet_sum            10500 non-null  float64 \n",
      " 21  vusage_offnet_max            10500 non-null  float64 \n",
      " 22  vusage_offnet_min            10500 non-null  float64 \n",
      " 23  vusage_offnet_days           10500 non-null  float64 \n",
      " 24  vusage_offnet_avg            7187 non-null   float64 \n",
      " 25  vusage_offnet_stddev         10500 non-null  float64 \n",
      " 26  number_of_fixed_bb_accounts  10500 non-null  float64 \n",
      " 27  number_of_iptv_accounts      10500 non-null  float64 \n",
      " 28  add_on_tot_rental            6667 non-null   float64 \n",
      " 29  add_on_count                 6667 non-null   float64 \n",
      " 30  next_month_plan              10500 non-null  category\n",
      " 31  encoded_class_labels         10500 non-null  int64   \n",
      "dtypes: category(1), float64(23), int64(3), object(5)\n",
      "memory usage: 2.5+ MB\n"
     ]
    }
   ],
   "source": [
    "train_data.info()"
   ]
  },
  {
   "cell_type": "markdown",
   "id": "tropical-jenny",
   "metadata": {},
   "source": [
    "#### Removing the missing values in categorical variables"
   ]
  },
  {
   "cell_type": "code",
   "execution_count": 14,
   "id": "black-length",
   "metadata": {},
   "outputs": [],
   "source": [
    "train_data = train_data.dropna(subset = ['device_type', 'device_category', 'gender', 'age_group'], axis = 0)"
   ]
  },
  {
   "cell_type": "code",
   "execution_count": 15,
   "id": "increasing-stamp",
   "metadata": {},
   "outputs": [
    {
     "name": "stdout",
     "output_type": "stream",
     "text": [
      "<class 'pandas.core.frame.DataFrame'>\n",
      "Int64Index: 10337 entries, 0 to 10499\n",
      "Data columns (total 32 columns):\n",
      " #   Column                       Non-Null Count  Dtype   \n",
      "---  ------                       --------------  -----   \n",
      " 0   primary_identifier           10337 non-null  int64   \n",
      " 1   device_type                  10337 non-null  object  \n",
      " 2   device_category              10337 non-null  object  \n",
      " 3   gender                       10337 non-null  object  \n",
      " 4   district_name                10337 non-null  object  \n",
      " 5   age_group                    10337 non-null  object  \n",
      " 6   network_stay                 10337 non-null  int64   \n",
      " 7   average_monthly_bill_amount  10337 non-null  float64 \n",
      " 8   dusage_sum                   10337 non-null  float64 \n",
      " 9   dusage_min                   10337 non-null  float64 \n",
      " 10  dusage_max                   10337 non-null  float64 \n",
      " 11  dusage_avg                   9513 non-null   float64 \n",
      " 12  dusage_days                  10337 non-null  float64 \n",
      " 13  dusage_stddev                10337 non-null  float64 \n",
      " 14  vusage_onnet_sum             10337 non-null  float64 \n",
      " 15  vusage_onnet_max             10337 non-null  float64 \n",
      " 16  vusage_onnet_min             10337 non-null  float64 \n",
      " 17  vusage_onnet_days            10337 non-null  float64 \n",
      " 18  vusage_onnet_avg             1814 non-null   float64 \n",
      " 19  vusage_onnet_stddev          10337 non-null  float64 \n",
      " 20  vusage_offnet_sum            10337 non-null  float64 \n",
      " 21  vusage_offnet_max            10337 non-null  float64 \n",
      " 22  vusage_offnet_min            10337 non-null  float64 \n",
      " 23  vusage_offnet_days           10337 non-null  float64 \n",
      " 24  vusage_offnet_avg            7119 non-null   float64 \n",
      " 25  vusage_offnet_stddev         10337 non-null  float64 \n",
      " 26  number_of_fixed_bb_accounts  10337 non-null  float64 \n",
      " 27  number_of_iptv_accounts      10337 non-null  float64 \n",
      " 28  add_on_tot_rental            6589 non-null   float64 \n",
      " 29  add_on_count                 6589 non-null   float64 \n",
      " 30  next_month_plan              10337 non-null  category\n",
      " 31  encoded_class_labels         10337 non-null  int64   \n",
      "dtypes: category(1), float64(23), int64(3), object(5)\n",
      "memory usage: 2.5+ MB\n"
     ]
    }
   ],
   "source": [
    "train_data.info()"
   ]
  },
  {
   "cell_type": "markdown",
   "id": "senior-alpha",
   "metadata": {},
   "source": [
    "#### Adding zeros to the quantitative variables"
   ]
  },
  {
   "cell_type": "code",
   "execution_count": 16,
   "id": "crude-reference",
   "metadata": {},
   "outputs": [],
   "source": [
    "train_data = train_data.drop(columns = ['next_month_plan', 'vusage_onnet_avg'])"
   ]
  },
  {
   "cell_type": "code",
   "execution_count": 18,
   "id": "important-finger",
   "metadata": {},
   "outputs": [
    {
     "data": {
      "text/plain": [
       "primary_identifier                0\n",
       "device_type                       0\n",
       "device_category                   0\n",
       "gender                            0\n",
       "district_name                     0\n",
       "age_group                         0\n",
       "network_stay                      0\n",
       "average_monthly_bill_amount       0\n",
       "dusage_sum                        0\n",
       "dusage_min                        0\n",
       "dusage_max                        0\n",
       "dusage_avg                      824\n",
       "dusage_days                       0\n",
       "dusage_stddev                     0\n",
       "vusage_onnet_sum                  0\n",
       "vusage_onnet_max                  0\n",
       "vusage_onnet_min                  0\n",
       "vusage_onnet_days                 0\n",
       "vusage_onnet_stddev               0\n",
       "vusage_offnet_sum                 0\n",
       "vusage_offnet_max                 0\n",
       "vusage_offnet_min                 0\n",
       "vusage_offnet_days                0\n",
       "vusage_offnet_avg              3218\n",
       "vusage_offnet_stddev              0\n",
       "number_of_fixed_bb_accounts       0\n",
       "number_of_iptv_accounts           0\n",
       "add_on_tot_rental              3748\n",
       "add_on_count                   3748\n",
       "encoded_class_labels              0\n",
       "dtype: int64"
      ]
     },
     "execution_count": 18,
     "metadata": {},
     "output_type": "execute_result"
    }
   ],
   "source": [
    "train_data.isnull().sum()"
   ]
  },
  {
   "cell_type": "code",
   "execution_count": 19,
   "id": "jewish-pointer",
   "metadata": {},
   "outputs": [],
   "source": [
    "train_data['dusage_avg'] = train_data['dusage_avg'].fillna(value = 0)\n",
    "train_data['vusage_offnet_avg'] = train_data['vusage_offnet_avg'].fillna(value = 0)\n",
    "train_data['add_on_tot_rental'] = train_data['add_on_tot_rental'].fillna(value = 0)\n",
    "train_data['add_on_count'] = train_data['add_on_count'].fillna(value = 0)"
   ]
  },
  {
   "cell_type": "code",
   "execution_count": 23,
   "id": "billion-ontario",
   "metadata": {},
   "outputs": [
    {
     "data": {
      "text/plain": [
       "primary_identifier             0\n",
       "device_type                    0\n",
       "device_category                0\n",
       "gender                         0\n",
       "district_name                  0\n",
       "age_group                      0\n",
       "network_stay                   0\n",
       "average_monthly_bill_amount    0\n",
       "dusage_sum                     0\n",
       "dusage_min                     0\n",
       "dusage_max                     0\n",
       "dusage_avg                     0\n",
       "dusage_days                    0\n",
       "dusage_stddev                  0\n",
       "vusage_onnet_sum               0\n",
       "vusage_onnet_max               0\n",
       "vusage_onnet_min               0\n",
       "vusage_onnet_days              0\n",
       "vusage_onnet_stddev            0\n",
       "vusage_offnet_sum              0\n",
       "vusage_offnet_max              0\n",
       "vusage_offnet_min              0\n",
       "vusage_offnet_days             0\n",
       "vusage_offnet_avg              0\n",
       "vusage_offnet_stddev           0\n",
       "number_of_fixed_bb_accounts    0\n",
       "number_of_iptv_accounts        0\n",
       "add_on_tot_rental              0\n",
       "add_on_count                   0\n",
       "encoded_class_labels           0\n",
       "dtype: int64"
      ]
     },
     "execution_count": 23,
     "metadata": {},
     "output_type": "execute_result"
    }
   ],
   "source": [
    "train_data.isnull().sum()"
   ]
  },
  {
   "cell_type": "code",
   "execution_count": 24,
   "id": "elect-catering",
   "metadata": {},
   "outputs": [
    {
     "name": "stdout",
     "output_type": "stream",
     "text": [
      "<class 'pandas.core.frame.DataFrame'>\n",
      "Int64Index: 10337 entries, 0 to 10499\n",
      "Data columns (total 30 columns):\n",
      " #   Column                       Non-Null Count  Dtype  \n",
      "---  ------                       --------------  -----  \n",
      " 0   primary_identifier           10337 non-null  int64  \n",
      " 1   device_type                  10337 non-null  object \n",
      " 2   device_category              10337 non-null  object \n",
      " 3   gender                       10337 non-null  object \n",
      " 4   district_name                10337 non-null  object \n",
      " 5   age_group                    10337 non-null  object \n",
      " 6   network_stay                 10337 non-null  int64  \n",
      " 7   average_monthly_bill_amount  10337 non-null  float64\n",
      " 8   dusage_sum                   10337 non-null  float64\n",
      " 9   dusage_min                   10337 non-null  float64\n",
      " 10  dusage_max                   10337 non-null  float64\n",
      " 11  dusage_avg                   10337 non-null  float64\n",
      " 12  dusage_days                  10337 non-null  float64\n",
      " 13  dusage_stddev                10337 non-null  float64\n",
      " 14  vusage_onnet_sum             10337 non-null  float64\n",
      " 15  vusage_onnet_max             10337 non-null  float64\n",
      " 16  vusage_onnet_min             10337 non-null  float64\n",
      " 17  vusage_onnet_days            10337 non-null  float64\n",
      " 18  vusage_onnet_stddev          10337 non-null  float64\n",
      " 19  vusage_offnet_sum            10337 non-null  float64\n",
      " 20  vusage_offnet_max            10337 non-null  float64\n",
      " 21  vusage_offnet_min            10337 non-null  float64\n",
      " 22  vusage_offnet_days           10337 non-null  float64\n",
      " 23  vusage_offnet_avg            10337 non-null  float64\n",
      " 24  vusage_offnet_stddev         10337 non-null  float64\n",
      " 25  number_of_fixed_bb_accounts  10337 non-null  float64\n",
      " 26  number_of_iptv_accounts      10337 non-null  float64\n",
      " 27  add_on_tot_rental            10337 non-null  float64\n",
      " 28  add_on_count                 10337 non-null  float64\n",
      " 29  encoded_class_labels         10337 non-null  int64  \n",
      "dtypes: float64(22), int64(3), object(5)\n",
      "memory usage: 2.4+ MB\n"
     ]
    }
   ],
   "source": [
    "train_data.info()"
   ]
  },
  {
   "cell_type": "markdown",
   "id": "entertaining-southeast",
   "metadata": {},
   "source": [
    "### One-Hot encoding the Categorical variables"
   ]
  },
  {
   "cell_type": "code",
   "execution_count": 25,
   "id": "compressed-search",
   "metadata": {},
   "outputs": [],
   "source": [
    "categorical_variables = ['device_type', 'device_category', 'gender', 'age_group', 'district_name']"
   ]
  },
  {
   "cell_type": "code",
   "execution_count": 26,
   "id": "sporting-programming",
   "metadata": {},
   "outputs": [],
   "source": [
    "for var in categorical_variables:\n",
    "    cat_list='var'+'_'+var\n",
    "    cat_list = pd.get_dummies(train_data[var], prefix=var)\n",
    "    train_data_1=train_data.join(cat_list)\n",
    "    train_data=train_data_1"
   ]
  },
  {
   "cell_type": "code",
   "execution_count": 27,
   "id": "adult-harvest",
   "metadata": {},
   "outputs": [],
   "source": [
    "train_data_vars=train_data.columns.values.tolist()\n",
    "to_keep=[i for i in train_data_vars if i not in categorical_variables]"
   ]
  },
  {
   "cell_type": "code",
   "execution_count": 28,
   "id": "complicated-appliance",
   "metadata": {},
   "outputs": [
    {
     "data": {
      "text/plain": [
       "array(['primary_identifier', 'network_stay',\n",
       "       'average_monthly_bill_amount', 'dusage_sum', 'dusage_min',\n",
       "       'dusage_max', 'dusage_avg', 'dusage_days', 'dusage_stddev',\n",
       "       'vusage_onnet_sum', 'vusage_onnet_max', 'vusage_onnet_min',\n",
       "       'vusage_onnet_days', 'vusage_onnet_stddev', 'vusage_offnet_sum',\n",
       "       'vusage_offnet_max', 'vusage_offnet_min', 'vusage_offnet_days',\n",
       "       'vusage_offnet_avg', 'vusage_offnet_stddev',\n",
       "       'number_of_fixed_bb_accounts', 'number_of_iptv_accounts',\n",
       "       'add_on_tot_rental', 'add_on_count', 'encoded_class_labels',\n",
       "       'device_type_2G', 'device_type_3G', 'device_type_4G',\n",
       "       'device_category_Basic', 'device_category_Feature phone',\n",
       "       'device_category_Modem', 'device_category_Pluggable card',\n",
       "       'device_category_Smartphone', 'device_category_Tablet',\n",
       "       'gender_FEMALE', 'gender_MALE', 'age_group_20-30',\n",
       "       'age_group_30-40', 'age_group_40-50', 'age_group_50-60',\n",
       "       'age_group_60-70', 'age_group_<20', 'age_group_>70',\n",
       "       'district_name_Ampara', 'district_name_Anuradhapura',\n",
       "       'district_name_Badulla', 'district_name_Batticaloa',\n",
       "       'district_name_Colombo', 'district_name_Galle',\n",
       "       'district_name_Gampaha', 'district_name_Hambantota',\n",
       "       'district_name_Jaffna', 'district_name_Kalutara',\n",
       "       'district_name_Kandy', 'district_name_Kegalle',\n",
       "       'district_name_Kilinochchi', 'district_name_Kurunegala',\n",
       "       'district_name_Mannar', 'district_name_Matale',\n",
       "       'district_name_Matara', 'district_name_Monaragala',\n",
       "       'district_name_Mullaitivu', 'district_name_Nuwara Eliya',\n",
       "       'district_name_Polonnaruwa', 'district_name_Puttalam',\n",
       "       'district_name_Ratnapura', 'district_name_Trincomalee',\n",
       "       'district_name_Unknown', 'district_name_Vavuniya'], dtype=object)"
      ]
     },
     "execution_count": 28,
     "metadata": {},
     "output_type": "execute_result"
    }
   ],
   "source": [
    "train_data_final=train_data[to_keep]\n",
    "train_data_final.columns.values"
   ]
  },
  {
   "cell_type": "code",
   "execution_count": 29,
   "id": "three-position",
   "metadata": {},
   "outputs": [
    {
     "name": "stdout",
     "output_type": "stream",
     "text": [
      "<class 'pandas.core.frame.DataFrame'>\n",
      "Int64Index: 10337 entries, 0 to 10499\n",
      "Data columns (total 69 columns):\n",
      " #   Column                          Non-Null Count  Dtype  \n",
      "---  ------                          --------------  -----  \n",
      " 0   primary_identifier              10337 non-null  int64  \n",
      " 1   network_stay                    10337 non-null  int64  \n",
      " 2   average_monthly_bill_amount     10337 non-null  float64\n",
      " 3   dusage_sum                      10337 non-null  float64\n",
      " 4   dusage_min                      10337 non-null  float64\n",
      " 5   dusage_max                      10337 non-null  float64\n",
      " 6   dusage_avg                      10337 non-null  float64\n",
      " 7   dusage_days                     10337 non-null  float64\n",
      " 8   dusage_stddev                   10337 non-null  float64\n",
      " 9   vusage_onnet_sum                10337 non-null  float64\n",
      " 10  vusage_onnet_max                10337 non-null  float64\n",
      " 11  vusage_onnet_min                10337 non-null  float64\n",
      " 12  vusage_onnet_days               10337 non-null  float64\n",
      " 13  vusage_onnet_stddev             10337 non-null  float64\n",
      " 14  vusage_offnet_sum               10337 non-null  float64\n",
      " 15  vusage_offnet_max               10337 non-null  float64\n",
      " 16  vusage_offnet_min               10337 non-null  float64\n",
      " 17  vusage_offnet_days              10337 non-null  float64\n",
      " 18  vusage_offnet_avg               10337 non-null  float64\n",
      " 19  vusage_offnet_stddev            10337 non-null  float64\n",
      " 20  number_of_fixed_bb_accounts     10337 non-null  float64\n",
      " 21  number_of_iptv_accounts         10337 non-null  float64\n",
      " 22  add_on_tot_rental               10337 non-null  float64\n",
      " 23  add_on_count                    10337 non-null  float64\n",
      " 24  encoded_class_labels            10337 non-null  int64  \n",
      " 25  device_type_2G                  10337 non-null  uint8  \n",
      " 26  device_type_3G                  10337 non-null  uint8  \n",
      " 27  device_type_4G                  10337 non-null  uint8  \n",
      " 28  device_category_Basic           10337 non-null  uint8  \n",
      " 29  device_category_Feature phone   10337 non-null  uint8  \n",
      " 30  device_category_Modem           10337 non-null  uint8  \n",
      " 31  device_category_Pluggable card  10337 non-null  uint8  \n",
      " 32  device_category_Smartphone      10337 non-null  uint8  \n",
      " 33  device_category_Tablet          10337 non-null  uint8  \n",
      " 34  gender_FEMALE                   10337 non-null  uint8  \n",
      " 35  gender_MALE                     10337 non-null  uint8  \n",
      " 36  age_group_20-30                 10337 non-null  uint8  \n",
      " 37  age_group_30-40                 10337 non-null  uint8  \n",
      " 38  age_group_40-50                 10337 non-null  uint8  \n",
      " 39  age_group_50-60                 10337 non-null  uint8  \n",
      " 40  age_group_60-70                 10337 non-null  uint8  \n",
      " 41  age_group_<20                   10337 non-null  uint8  \n",
      " 42  age_group_>70                   10337 non-null  uint8  \n",
      " 43  district_name_Ampara            10337 non-null  uint8  \n",
      " 44  district_name_Anuradhapura      10337 non-null  uint8  \n",
      " 45  district_name_Badulla           10337 non-null  uint8  \n",
      " 46  district_name_Batticaloa        10337 non-null  uint8  \n",
      " 47  district_name_Colombo           10337 non-null  uint8  \n",
      " 48  district_name_Galle             10337 non-null  uint8  \n",
      " 49  district_name_Gampaha           10337 non-null  uint8  \n",
      " 50  district_name_Hambantota        10337 non-null  uint8  \n",
      " 51  district_name_Jaffna            10337 non-null  uint8  \n",
      " 52  district_name_Kalutara          10337 non-null  uint8  \n",
      " 53  district_name_Kandy             10337 non-null  uint8  \n",
      " 54  district_name_Kegalle           10337 non-null  uint8  \n",
      " 55  district_name_Kilinochchi       10337 non-null  uint8  \n",
      " 56  district_name_Kurunegala        10337 non-null  uint8  \n",
      " 57  district_name_Mannar            10337 non-null  uint8  \n",
      " 58  district_name_Matale            10337 non-null  uint8  \n",
      " 59  district_name_Matara            10337 non-null  uint8  \n",
      " 60  district_name_Monaragala        10337 non-null  uint8  \n",
      " 61  district_name_Mullaitivu        10337 non-null  uint8  \n",
      " 62  district_name_Nuwara Eliya      10337 non-null  uint8  \n",
      " 63  district_name_Polonnaruwa       10337 non-null  uint8  \n",
      " 64  district_name_Puttalam          10337 non-null  uint8  \n",
      " 65  district_name_Ratnapura         10337 non-null  uint8  \n",
      " 66  district_name_Trincomalee       10337 non-null  uint8  \n",
      " 67  district_name_Unknown           10337 non-null  uint8  \n",
      " 68  district_name_Vavuniya          10337 non-null  uint8  \n",
      "dtypes: float64(22), int64(3), uint8(44)\n",
      "memory usage: 2.7 MB\n"
     ]
    }
   ],
   "source": [
    "train_data_final.info()"
   ]
  },
  {
   "cell_type": "markdown",
   "id": "emotional-house",
   "metadata": {},
   "source": [
    "### Selecting X and y"
   ]
  },
  {
   "cell_type": "code",
   "execution_count": 74,
   "id": "decreased-electron",
   "metadata": {},
   "outputs": [],
   "source": [
    "train_data_final.to_csv(\"updated_train_data.csv\")"
   ]
  },
  {
   "cell_type": "code",
   "execution_count": 30,
   "id": "burning-running",
   "metadata": {},
   "outputs": [],
   "source": [
    "y = train_data_final['encoded_class_labels']"
   ]
  },
  {
   "cell_type": "code",
   "execution_count": 31,
   "id": "straight-tender",
   "metadata": {},
   "outputs": [],
   "source": [
    "X = train_data_final.drop(columns=['encoded_class_labels', 'primary_identifier'])"
   ]
  },
  {
   "cell_type": "code",
   "execution_count": 66,
   "id": "sensitive-sharp",
   "metadata": {},
   "outputs": [],
   "source": [
    "X_train, X_test, Y_train, Y_test = train_test_split(X, y, random_state=10, test_size = 0.05, stratify = y)"
   ]
  },
  {
   "cell_type": "markdown",
   "id": "sweet-newton",
   "metadata": {},
   "source": [
    "### Scaling the variables"
   ]
  },
  {
   "cell_type": "code",
   "execution_count": 67,
   "id": "pressed-macintosh",
   "metadata": {},
   "outputs": [],
   "source": [
    "standard_X = StandardScaler()\n",
    "X_train = standard_X.fit_transform(X_train)\n",
    "X_test = standard_X.transform(X_test)"
   ]
  },
  {
   "cell_type": "code",
   "execution_count": 68,
   "id": "buried-referral",
   "metadata": {},
   "outputs": [
    {
     "data": {
      "text/plain": [
       "(517, 67)"
      ]
     },
     "execution_count": 68,
     "metadata": {},
     "output_type": "execute_result"
    }
   ],
   "source": [
    "X_test.shape"
   ]
  },
  {
   "cell_type": "markdown",
   "id": "republican-debut",
   "metadata": {},
   "source": [
    "### Fitting X and y to a model"
   ]
  },
  {
   "cell_type": "code",
   "execution_count": 69,
   "id": "located-marketing",
   "metadata": {},
   "outputs": [],
   "source": [
    "model = GradientBoostingClassifier()"
   ]
  },
  {
   "cell_type": "code",
   "execution_count": 70,
   "id": "willing-state",
   "metadata": {},
   "outputs": [
    {
     "data": {
      "text/plain": [
       "GradientBoostingClassifier()"
      ]
     },
     "execution_count": 70,
     "metadata": {},
     "output_type": "execute_result"
    }
   ],
   "source": [
    "model.fit(X_train, Y_train) #training the model"
   ]
  },
  {
   "cell_type": "markdown",
   "id": "blessed-ottawa",
   "metadata": {},
   "source": [
    "### Test set predictions and classification report"
   ]
  },
  {
   "cell_type": "code",
   "execution_count": 71,
   "id": "average-alert",
   "metadata": {},
   "outputs": [],
   "source": [
    "y_pred = model.predict(X_test)"
   ]
  },
  {
   "cell_type": "code",
   "execution_count": 72,
   "id": "structured-litigation",
   "metadata": {},
   "outputs": [
    {
     "data": {
      "text/plain": [
       "array([[146,   1,  25,   3,   5,   1,   0,   0],\n",
       "       [ 39,   7,  19,   2,   0,   0,   0,   0],\n",
       "       [ 16,   1,  63,   5,   0,   0,   0,   0],\n",
       "       [  2,   2,  26,   3,   3,   0,   0,   0],\n",
       "       [  4,   2,   7,   2,  54,   7,   0,   1],\n",
       "       [  0,   0,   1,   2,  18,  12,   0,   3],\n",
       "       [  1,   0,   1,   0,   5,   3,   4,   4],\n",
       "       [  0,   0,   0,   0,   0,   6,   2,   9]])"
      ]
     },
     "execution_count": 72,
     "metadata": {},
     "output_type": "execute_result"
    }
   ],
   "source": [
    "# Printing confusion matrix\n",
    "confusion_matrix(Y_test, y_pred)"
   ]
  },
  {
   "cell_type": "code",
   "execution_count": 73,
   "id": "outer-prescription",
   "metadata": {},
   "outputs": [
    {
     "name": "stdout",
     "output_type": "stream",
     "text": [
      "              precision    recall  f1-score   support\n",
      "\n",
      "           1       0.70      0.81      0.75       181\n",
      "           2       0.54      0.10      0.18        67\n",
      "           3       0.44      0.74      0.56        85\n",
      "           4       0.18      0.08      0.11        36\n",
      "           5       0.64      0.70      0.67        77\n",
      "           6       0.41      0.33      0.37        36\n",
      "           7       0.67      0.22      0.33        18\n",
      "           8       0.53      0.53      0.53        17\n",
      "\n",
      "    accuracy                           0.58       517\n",
      "   macro avg       0.51      0.44      0.44       517\n",
      "weighted avg       0.56      0.58      0.54       517\n",
      "\n"
     ]
    }
   ],
   "source": [
    "# Getting f1 score\n",
    "from sklearn.metrics import classification_report\n",
    "print(classification_report(Y_test, y_pred))"
   ]
  },
  {
   "cell_type": "code",
   "execution_count": 53,
   "id": "located-weapon",
   "metadata": {},
   "outputs": [],
   "source": [
    "from collections import Counter\n",
    "from imblearn.over_sampling import SMOTE"
   ]
  },
  {
   "cell_type": "code",
   "execution_count": 54,
   "id": "informative-aside",
   "metadata": {},
   "outputs": [
    {
     "name": "stdout",
     "output_type": "stream",
     "text": [
      "Original dataset shape Counter({1: 3622, 3: 1695, 5: 1539, 2: 1342, 4: 725, 6: 719, 7: 350, 8: 345})\n"
     ]
    }
   ],
   "source": [
    "print('Original dataset shape %s' % Counter(y))"
   ]
  },
  {
   "cell_type": "code",
   "execution_count": 55,
   "id": "annoying-choir",
   "metadata": {},
   "outputs": [],
   "source": [
    "sm = SMOTE(random_state=42)"
   ]
  },
  {
   "cell_type": "code",
   "execution_count": 56,
   "id": "conscious-profile",
   "metadata": {},
   "outputs": [],
   "source": [
    "X_res, y_res = sm.fit_resample(X, y)"
   ]
  },
  {
   "cell_type": "code",
   "execution_count": 57,
   "id": "primary-oriental",
   "metadata": {},
   "outputs": [
    {
     "name": "stdout",
     "output_type": "stream",
     "text": [
      "Resampled dataset shape Counter({2: 3622, 1: 3622, 6: 3622, 4: 3622, 5: 3622, 3: 3622, 8: 3622, 7: 3622})\n"
     ]
    }
   ],
   "source": [
    "print('Resampled dataset shape %s' % Counter(y_res))"
   ]
  },
  {
   "cell_type": "code",
   "execution_count": 58,
   "id": "duplicate-robert",
   "metadata": {},
   "outputs": [],
   "source": [
    "X_train_res, X_test_res, Y_train_res, Y_test_res = train_test_split(X_res, y_res, random_state=10, test_size = 0.05)"
   ]
  },
  {
   "cell_type": "code",
   "execution_count": 59,
   "id": "sensitive-british",
   "metadata": {},
   "outputs": [
    {
     "data": {
      "text/plain": [
       "(1449, 67)"
      ]
     },
     "execution_count": 59,
     "metadata": {},
     "output_type": "execute_result"
    }
   ],
   "source": [
    "X_test_res.shape"
   ]
  },
  {
   "cell_type": "code",
   "execution_count": 60,
   "id": "accomplished-museum",
   "metadata": {},
   "outputs": [],
   "source": [
    "model_res = GradientBoostingClassifier()"
   ]
  },
  {
   "cell_type": "code",
   "execution_count": 61,
   "id": "recognized-centre",
   "metadata": {},
   "outputs": [
    {
     "data": {
      "text/plain": [
       "GradientBoostingClassifier()"
      ]
     },
     "execution_count": 61,
     "metadata": {},
     "output_type": "execute_result"
    }
   ],
   "source": [
    "model_res.fit(X_train_res, Y_train_res) #training the model"
   ]
  },
  {
   "cell_type": "code",
   "execution_count": 63,
   "id": "quiet-nebraska",
   "metadata": {},
   "outputs": [],
   "source": [
    "y_pred_res = model.predict(X_test_res)"
   ]
  },
  {
   "cell_type": "code",
   "execution_count": 64,
   "id": "motivated-candidate",
   "metadata": {},
   "outputs": [
    {
     "data": {
      "text/plain": [
       "array([[  0,   1,  11,  13,   0,   3,   1, 165],\n",
       "       [  0,   0,   8,   2,   0,   3,   0, 179],\n",
       "       [  0,   1,   2,   6,   0,   2,   0, 150],\n",
       "       [  0,   0,   0,   3,   0,   0,   0, 187],\n",
       "       [  0,   0,   6,   3,   0,   2,   0, 175],\n",
       "       [  0,   2,   2,   1,   0,   1,   2, 163],\n",
       "       [  0,   1,   2,   0,   0,   1,   0, 172],\n",
       "       [  0,   0,   1,   1,   0,   1,   1, 175]])"
      ]
     },
     "execution_count": 64,
     "metadata": {},
     "output_type": "execute_result"
    }
   ],
   "source": [
    "# Printing confusion matrix\n",
    "confusion_matrix(Y_test_res, y_pred_res)"
   ]
  },
  {
   "cell_type": "code",
   "execution_count": 65,
   "id": "modern-eligibility",
   "metadata": {},
   "outputs": [
    {
     "name": "stdout",
     "output_type": "stream",
     "text": [
      "              precision    recall  f1-score   support\n",
      "\n",
      "           1       0.00      0.00      0.00       194\n",
      "           2       0.00      0.00      0.00       192\n",
      "           3       0.06      0.01      0.02       161\n",
      "           4       0.10      0.02      0.03       190\n",
      "           5       0.00      0.00      0.00       186\n",
      "           6       0.08      0.01      0.01       171\n",
      "           7       0.00      0.00      0.00       176\n",
      "           8       0.13      0.98      0.23       179\n",
      "\n",
      "    accuracy                           0.12      1449\n",
      "   macro avg       0.05      0.13      0.04      1449\n",
      "weighted avg       0.05      0.12      0.04      1449\n",
      "\n"
     ]
    },
    {
     "name": "stderr",
     "output_type": "stream",
     "text": [
      "/opt/anaconda3/envs/datastorm2/lib/python3.7/site-packages/sklearn/metrics/_classification.py:1245: UndefinedMetricWarning: Precision and F-score are ill-defined and being set to 0.0 in labels with no predicted samples. Use `zero_division` parameter to control this behavior.\n",
      "  _warn_prf(average, modifier, msg_start, len(result))\n",
      "/opt/anaconda3/envs/datastorm2/lib/python3.7/site-packages/sklearn/metrics/_classification.py:1245: UndefinedMetricWarning: Precision and F-score are ill-defined and being set to 0.0 in labels with no predicted samples. Use `zero_division` parameter to control this behavior.\n",
      "  _warn_prf(average, modifier, msg_start, len(result))\n",
      "/opt/anaconda3/envs/datastorm2/lib/python3.7/site-packages/sklearn/metrics/_classification.py:1245: UndefinedMetricWarning: Precision and F-score are ill-defined and being set to 0.0 in labels with no predicted samples. Use `zero_division` parameter to control this behavior.\n",
      "  _warn_prf(average, modifier, msg_start, len(result))\n"
     ]
    }
   ],
   "source": [
    "# Getting f1 score\n",
    "from sklearn.metrics import classification_report\n",
    "print(classification_report(Y_test_res, y_pred_res))"
   ]
  },
  {
   "cell_type": "code",
   "execution_count": null,
   "id": "polar-musical",
   "metadata": {},
   "outputs": [],
   "source": [
    "# Byte-compiled / optimized / DLL files\n",
    "__pycache__/\n",
    "*.py[cod]\n",
    "*$py.class\n",
    "\n",
    "# C extensions\n",
    "*.so\n",
    "\n",
    "# Distribution / packaging\n",
    ".Python\n",
    "build/\n",
    "develop-eggs/\n",
    "dist/\n",
    "downloads/\n",
    "eggs/\n",
    ".eggs/\n",
    "lib/\n",
    "lib64/\n",
    "parts/\n",
    "sdist/\n",
    "var/\n",
    "wheels/\n",
    "pip-wheel-metadata/\n",
    "share/python-wheels/\n",
    "*.egg-info/\n",
    ".installed.cfg\n",
    "*.egg\n",
    "MANIFEST\n",
    "\n",
    "# PyInstaller\n",
    "#  Usually these files are written by a python script from a template\n",
    "#  before PyInstaller builds the exe, so as to inject date/other infos into it.\n",
    "*.manifest\n",
    "*.spec\n",
    "\n",
    "# Installer logs\n",
    "pip-log.txt\n",
    "pip-delete-this-directory.txt\n",
    "\n",
    "# Unit test / coverage reports\n",
    "htmlcov/\n",
    ".tox/\n",
    ".nox/\n",
    ".coverage\n",
    ".coverage.*\n",
    ".cache\n",
    "nosetests.xml\n",
    "coverage.xml\n",
    "*.cover\n",
    "*.py,cover\n",
    ".hypothesis/\n",
    ".pytest_cache/\n",
    "\n",
    "# Translations\n",
    "*.mo\n",
    "*.pot\n",
    "\n",
    "# Django stuff:\n",
    "*.log\n",
    "local_settings.py\n",
    "db.sqlite3\n",
    "db.sqlite3-journal\n",
    "\n",
    "# Flask stuff:\n",
    "instance/\n",
    ".webassets-cache\n",
    "\n",
    "# Scrapy stuff:\n",
    ".scrapy\n",
    "\n",
    "# Sphinx documentation\n",
    "docs/_build/\n",
    "\n",
    "# PyBuilder\n",
    "target/\n",
    "\n",
    "# Jupyter Notebook\n",
    ".ipynb_checkpoints\n",
    "\n",
    "# IPython\n",
    "profile_default/\n",
    "ipython_config.py\n",
    "\n",
    "# pyenv\n",
    ".python-version\n",
    "\n",
    "# pipenv\n",
    "#   According to pypa/pipenv#598, it is recommended to include Pipfile.lock in version control.\n",
    "#   However, in case of collaboration, if having platform-specific dependencies or dependencies\n",
    "#   having no cross-platform support, pipenv may install dependencies that don't work, or not\n",
    "#   install all needed dependencies.\n",
    "#Pipfile.lock\n",
    "\n",
    "# PEP 582; used by e.g. github.com/David-OConnor/pyflow\n",
    "__pypackages__/\n",
    "\n",
    "# Celery stuff\n",
    "celerybeat-schedule\n",
    "celerybeat.pid\n",
    "\n",
    "# SageMath parsed files\n",
    "*.sage.py\n",
    "\n",
    "# Environments\n",
    ".env\n",
    ".venv\n",
    "env/\n",
    "venv/\n",
    "ENV/\n",
    "env.bak/\n",
    "venv.bak/\n",
    "\n",
    "# Spyder project settings\n",
    ".spyderproject\n",
    ".spyproject\n",
    "\n",
    "# Rope project settings\n",
    ".ropeproject\n",
    "\n",
    "# mkdocs documentation\n",
    "/site\n",
    "\n",
    "# mypy\n",
    ".mypy_cache/\n",
    ".dmypy.json\n",
    "dmypy.json\n",
    "\n",
    "# Pyre type checker\n",
    ".pyre/\n",
    "\n",
    "#Other files\n",
    ".DS_Store\n"
   ]
  }
 ],
 "metadata": {
  "kernelspec": {
   "display_name": "Python 3",
   "language": "python",
   "name": "python3"
  },
  "language_info": {
   "codemirror_mode": {
    "name": "ipython",
    "version": 3
   },
   "file_extension": ".py",
   "mimetype": "text/x-python",
   "name": "python",
   "nbconvert_exporter": "python",
   "pygments_lexer": "ipython3",
   "version": "3.7.10"
  }
 },
 "nbformat": 4,
 "nbformat_minor": 5
}
