{
 "cells": [
  {
   "cell_type": "markdown",
   "id": "silver-footage",
   "metadata": {},
   "source": [
    "### Import libraries & csv data"
   ]
  },
  {
   "cell_type": "code",
   "execution_count": 1,
   "id": "african-pizza",
   "metadata": {},
   "outputs": [],
   "source": [
    "import pandas as pd\n",
    "import numpy as np"
   ]
  },
  {
   "cell_type": "code",
   "execution_count": 2,
   "id": "lucky-sailing",
   "metadata": {},
   "outputs": [],
   "source": [
    "train_data = pd.read_csv(\"data/train_dataset.csv\")\n",
    "submission_data = pd.read_csv(\"data/test_dataset_new.csv\")"
   ]
  },
  {
   "cell_type": "code",
   "execution_count": 3,
   "id": "aerial-stranger",
   "metadata": {},
   "outputs": [],
   "source": [
    "data_cat_cols = ['device_type', 'device_category', 'gender', 'district_name', 'age_group']"
   ]
  },
  {
   "cell_type": "code",
   "execution_count": 4,
   "id": "scheduled-reproduction",
   "metadata": {},
   "outputs": [],
   "source": [
    "data_quan_cols = ['network_stay','average_monthly_bill_amount', 'dusage_sum', \n",
    "                 'dusage_min', 'dusage_max','dusage_avg', 'dusage_days', \n",
    "                 'dusage_stddev', 'vusage_onnet_sum','vusage_onnet_max', \n",
    "                 'vusage_onnet_min', 'vusage_onnet_days','vusage_onnet_stddev', \n",
    "                 'vusage_offnet_sum', 'vusage_offnet_max','vusage_offnet_min', \n",
    "                 'vusage_offnet_days', 'vusage_offnet_avg','vusage_offnet_stddev', \n",
    "                 'number_of_fixed_bb_accounts','number_of_iptv_accounts', \n",
    "                 'add_on_tot_rental', 'add_on_count']"
   ]
  },
  {
   "cell_type": "code",
   "execution_count": 19,
   "id": "muslim-generation",
   "metadata": {},
   "outputs": [
    {
     "name": "stdout",
     "output_type": "stream",
     "text": [
      "The category is device_type\n",
      "['4G' '2G' '3G' 'Unknown']\n",
      "The category is device_category\n",
      "['Smartphone' 'Basic' 'Feature phone' 'Pluggable card' 'Tablet' 'Unknown'\n",
      " 'Modem']\n",
      "The category is gender\n",
      "['MALE' 'FEMALE' 'Unknown']\n",
      "The category is district_name\n",
      "['Kegalle' 'Galle' 'Kandy' 'Colombo' 'Gampaha' 'Kalutara' 'Kurunegala'\n",
      " 'Puttalam' 'Jaffna' 'Ampara' 'Matara' 'Matale' 'Anuradhapura' 'Ratnapura'\n",
      " 'Nuwara Eliya' 'Badulla' 'Unknown' 'Mannar' 'Monaragala' 'Trincomalee'\n",
      " 'Batticaloa' 'Hambantota' 'Polonnaruwa' 'Vavuniya' 'Kilinochchi'\n",
      " 'Mullaitivu']\n",
      "The category is age_group\n",
      "['40-50' '30-40' '50-60' '20-30' '>70' 'Unknown' '60-70' '<20']\n"
     ]
    }
   ],
   "source": [
    "for category in data_cat_cols:\n",
    "    print(\"The category is\", category)\n",
    "    print(train_data[category].unique())"
   ]
  },
  {
   "cell_type": "code",
   "execution_count": 20,
   "id": "lesbian-duration",
   "metadata": {},
   "outputs": [
    {
     "name": "stdout",
     "output_type": "stream",
     "text": [
      "The category is device_type\n",
      "['4G' '2G' '3G' 'Unknown']\n",
      "The category is device_category\n",
      "['Smartphone' 'Basic' 'Feature phone' 'Unknown' 'Tablet' 'Pluggable card'\n",
      " 'Modem']\n",
      "The category is gender\n",
      "['MALE' 'FEMALE' 'Unknown']\n",
      "The category is district_name\n",
      "['Colombo' 'Matara' 'Kandy' 'Galle' 'Gampaha' 'Kurunegala' 'Kegalle'\n",
      " 'Matale' 'Kalutara' 'Anuradhapura' 'Puttalam' 'Trincomalee' 'Jaffna'\n",
      " 'Batticaloa' 'Hambantota' 'Monaragala' 'Nuwara Eliya' 'Ratnapura'\n",
      " 'Ampara' 'Badulla' 'Unknown' 'Mannar' 'Mullaitivu' 'Vavuniya'\n",
      " 'Kilinochchi' 'Polonnaruwa']\n",
      "The category is age_group\n",
      "['40-50' '20-30' '30-40' '>70' '50-60' '60-70' 'Unknown' '<20']\n"
     ]
    }
   ],
   "source": [
    "for category in data_cat_cols:\n",
    "    print(\"The category is\", category)\n",
    "    print(submission_data[category].unique())"
   ]
  },
  {
   "cell_type": "code",
   "execution_count": 7,
   "id": "color-sound",
   "metadata": {},
   "outputs": [
    {
     "data": {
      "text/plain": [
       "array(['Smartphone', 'Basic', 'Feature phone', 'Pluggable card', 'Tablet',\n",
       "       nan, 'Modem'], dtype=object)"
      ]
     },
     "execution_count": 7,
     "metadata": {},
     "output_type": "execute_result"
    }
   ],
   "source": [
    "train_data['device_category'].unique()"
   ]
  },
  {
   "cell_type": "code",
   "execution_count": 8,
   "id": "toxic-husband",
   "metadata": {},
   "outputs": [
    {
     "data": {
      "text/plain": [
       "array(['Smartphone', 'Basic', 'Feature phone', 'Unknown', nan, 'Tablet',\n",
       "       'Pluggable card', 'Modem'], dtype=object)"
      ]
     },
     "execution_count": 8,
     "metadata": {},
     "output_type": "execute_result"
    }
   ],
   "source": [
    "submission_data['device_category'].unique()"
   ]
  },
  {
   "cell_type": "code",
   "execution_count": 9,
   "id": "loose-liabilities",
   "metadata": {},
   "outputs": [],
   "source": [
    "train_data['dusage_avg'] = train_data['dusage_avg'].fillna(value = 0)\n",
    "train_data['vusage_offnet_avg'] = train_data['vusage_offnet_avg'].fillna(value = 0)\n",
    "train_data['add_on_tot_rental'] = train_data['add_on_tot_rental'].fillna(value = 0)\n",
    "train_data['add_on_count'] = train_data['add_on_count'].fillna(value = 0)"
   ]
  },
  {
   "cell_type": "code",
   "execution_count": 10,
   "id": "capital-premiere",
   "metadata": {},
   "outputs": [],
   "source": [
    "submission_data['dusage_avg'] = submission_data['dusage_avg'].fillna(value = 0)\n",
    "submission_data['vusage_offnet_avg'] = submission_data['vusage_offnet_avg'].fillna(value = 0)\n",
    "submission_data['add_on_tot_rental'] = submission_data['add_on_tot_rental'].fillna(value = 0)\n",
    "submission_data['add_on_count'] = submission_data['add_on_count'].fillna(value = 0)"
   ]
  },
  {
   "cell_type": "code",
   "execution_count": 11,
   "id": "varied-pierre",
   "metadata": {},
   "outputs": [
    {
     "name": "stdout",
     "output_type": "stream",
     "text": [
      "<class 'pandas.core.frame.DataFrame'>\n",
      "RangeIndex: 10500 entries, 0 to 10499\n",
      "Data columns (total 31 columns):\n",
      " #   Column                       Non-Null Count  Dtype  \n",
      "---  ------                       --------------  -----  \n",
      " 0   primary_identifier           10500 non-null  int64  \n",
      " 1   device_type                  10477 non-null  object \n",
      " 2   device_category              10470 non-null  object \n",
      " 3   gender                       10365 non-null  object \n",
      " 4   district_name                10500 non-null  object \n",
      " 5   age_group                    10365 non-null  object \n",
      " 6   network_stay                 10500 non-null  int64  \n",
      " 7   average_monthly_bill_amount  10500 non-null  float64\n",
      " 8   dusage_sum                   10500 non-null  float64\n",
      " 9   dusage_min                   10500 non-null  float64\n",
      " 10  dusage_max                   10500 non-null  float64\n",
      " 11  dusage_avg                   10500 non-null  float64\n",
      " 12  dusage_days                  10500 non-null  float64\n",
      " 13  dusage_stddev                10500 non-null  float64\n",
      " 14  vusage_onnet_sum             10500 non-null  float64\n",
      " 15  vusage_onnet_max             10500 non-null  float64\n",
      " 16  vusage_onnet_min             10500 non-null  float64\n",
      " 17  vusage_onnet_days            10500 non-null  float64\n",
      " 18  vusage_onnet_avg             1828 non-null   float64\n",
      " 19  vusage_onnet_stddev          10500 non-null  float64\n",
      " 20  vusage_offnet_sum            10500 non-null  float64\n",
      " 21  vusage_offnet_max            10500 non-null  float64\n",
      " 22  vusage_offnet_min            10500 non-null  float64\n",
      " 23  vusage_offnet_days           10500 non-null  float64\n",
      " 24  vusage_offnet_avg            10500 non-null  float64\n",
      " 25  vusage_offnet_stddev         10500 non-null  float64\n",
      " 26  number_of_fixed_bb_accounts  10500 non-null  float64\n",
      " 27  number_of_iptv_accounts      10500 non-null  float64\n",
      " 28  add_on_tot_rental            10500 non-null  float64\n",
      " 29  add_on_count                 10500 non-null  float64\n",
      " 30  next_month_plan              10500 non-null  object \n",
      "dtypes: float64(23), int64(2), object(6)\n",
      "memory usage: 2.5+ MB\n"
     ]
    }
   ],
   "source": [
    "train_data.info()"
   ]
  },
  {
   "cell_type": "code",
   "execution_count": 12,
   "id": "immediate-shift",
   "metadata": {},
   "outputs": [
    {
     "name": "stdout",
     "output_type": "stream",
     "text": [
      "<class 'pandas.core.frame.DataFrame'>\n",
      "RangeIndex: 4500 entries, 0 to 4499\n",
      "Data columns (total 30 columns):\n",
      " #   Column                       Non-Null Count  Dtype  \n",
      "---  ------                       --------------  -----  \n",
      " 0   primary_identifier           4500 non-null   int64  \n",
      " 1   device_type                  4487 non-null   object \n",
      " 2   device_category              4484 non-null   object \n",
      " 3   gender                       4445 non-null   object \n",
      " 4   district_name                4500 non-null   object \n",
      " 5   age_group                    4445 non-null   object \n",
      " 6   network_stay                 4500 non-null   int64  \n",
      " 7   average_monthly_bill_amount  4500 non-null   float64\n",
      " 8   dusage_sum                   4500 non-null   int64  \n",
      " 9   dusage_min                   4500 non-null   float64\n",
      " 10  dusage_max                   4500 non-null   float64\n",
      " 11  dusage_avg                   4500 non-null   float64\n",
      " 12  dusage_days                  4500 non-null   int64  \n",
      " 13  dusage_stddev                4500 non-null   float64\n",
      " 14  vusage_onnet_sum             4500 non-null   int64  \n",
      " 15  vusage_onnet_max             4500 non-null   float64\n",
      " 16  vusage_onnet_min             4500 non-null   float64\n",
      " 17  vusage_onnet_days            4500 non-null   int64  \n",
      " 18  vusage_onnet_avg             785 non-null    float64\n",
      " 19  vusage_onnet_stddev          4500 non-null   float64\n",
      " 20  vusage_offnet_sum            4500 non-null   int64  \n",
      " 21  vusage_offnet_max            4500 non-null   float64\n",
      " 22  vusage_offnet_min            4500 non-null   float64\n",
      " 23  vusage_offnet_days           4500 non-null   int64  \n",
      " 24  vusage_offnet_avg            4500 non-null   float64\n",
      " 25  vusage_offnet_stddev         4500 non-null   float64\n",
      " 26  number_of_fixed_bb_accounts  4500 non-null   int64  \n",
      " 27  number_of_iptv_accounts      4500 non-null   int64  \n",
      " 28  add_on_tot_rental            4500 non-null   float64\n",
      " 29  add_on_count                 4500 non-null   float64\n",
      "dtypes: float64(15), int64(10), object(5)\n",
      "memory usage: 1.0+ MB\n"
     ]
    }
   ],
   "source": [
    "submission_data.info()"
   ]
  },
  {
   "cell_type": "code",
   "execution_count": 13,
   "id": "younger-sunset",
   "metadata": {},
   "outputs": [],
   "source": [
    "train_data = train_data.drop(columns = ['vusage_onnet_avg'])\n",
    "submission_data = submission_data.drop(columns = ['vusage_onnet_avg'])"
   ]
  },
  {
   "cell_type": "code",
   "execution_count": 14,
   "id": "arranged-solomon",
   "metadata": {},
   "outputs": [],
   "source": [
    "train_data['device_type'] = train_data['device_type'].fillna(value = 'Unknown')\n",
    "train_data['device_category'] = train_data['device_category'].fillna(value = 'Unknown')\n",
    "train_data['gender'] = train_data['gender'].fillna(value = 'Unknown')\n",
    "train_data['age_group'] = train_data['age_group'].fillna(value = 'Unknown')"
   ]
  },
  {
   "cell_type": "code",
   "execution_count": 16,
   "id": "purple-reward",
   "metadata": {},
   "outputs": [],
   "source": [
    "submission_data['device_type'] = submission_data['device_type'].fillna(value = 'Unknown')\n",
    "submission_data['device_category'] = submission_data['device_category'].fillna(value = 'Unknown')\n",
    "submission_data['gender'] = submission_data['gender'].fillna(value = 'Unknown')\n",
    "submission_data['age_group'] = submission_data['age_group'].fillna(value = 'Unknown')"
   ]
  },
  {
   "cell_type": "code",
   "execution_count": 15,
   "id": "weighted-angle",
   "metadata": {},
   "outputs": [
    {
     "name": "stdout",
     "output_type": "stream",
     "text": [
      "<class 'pandas.core.frame.DataFrame'>\n",
      "RangeIndex: 10500 entries, 0 to 10499\n",
      "Data columns (total 30 columns):\n",
      " #   Column                       Non-Null Count  Dtype  \n",
      "---  ------                       --------------  -----  \n",
      " 0   primary_identifier           10500 non-null  int64  \n",
      " 1   device_type                  10500 non-null  object \n",
      " 2   device_category              10500 non-null  object \n",
      " 3   gender                       10500 non-null  object \n",
      " 4   district_name                10500 non-null  object \n",
      " 5   age_group                    10500 non-null  object \n",
      " 6   network_stay                 10500 non-null  int64  \n",
      " 7   average_monthly_bill_amount  10500 non-null  float64\n",
      " 8   dusage_sum                   10500 non-null  float64\n",
      " 9   dusage_min                   10500 non-null  float64\n",
      " 10  dusage_max                   10500 non-null  float64\n",
      " 11  dusage_avg                   10500 non-null  float64\n",
      " 12  dusage_days                  10500 non-null  float64\n",
      " 13  dusage_stddev                10500 non-null  float64\n",
      " 14  vusage_onnet_sum             10500 non-null  float64\n",
      " 15  vusage_onnet_max             10500 non-null  float64\n",
      " 16  vusage_onnet_min             10500 non-null  float64\n",
      " 17  vusage_onnet_days            10500 non-null  float64\n",
      " 18  vusage_onnet_stddev          10500 non-null  float64\n",
      " 19  vusage_offnet_sum            10500 non-null  float64\n",
      " 20  vusage_offnet_max            10500 non-null  float64\n",
      " 21  vusage_offnet_min            10500 non-null  float64\n",
      " 22  vusage_offnet_days           10500 non-null  float64\n",
      " 23  vusage_offnet_avg            10500 non-null  float64\n",
      " 24  vusage_offnet_stddev         10500 non-null  float64\n",
      " 25  number_of_fixed_bb_accounts  10500 non-null  float64\n",
      " 26  number_of_iptv_accounts      10500 non-null  float64\n",
      " 27  add_on_tot_rental            10500 non-null  float64\n",
      " 28  add_on_count                 10500 non-null  float64\n",
      " 29  next_month_plan              10500 non-null  object \n",
      "dtypes: float64(22), int64(2), object(6)\n",
      "memory usage: 2.4+ MB\n"
     ]
    }
   ],
   "source": [
    "train_data.info()"
   ]
  },
  {
   "cell_type": "code",
   "execution_count": 17,
   "id": "matched-laundry",
   "metadata": {},
   "outputs": [
    {
     "name": "stdout",
     "output_type": "stream",
     "text": [
      "<class 'pandas.core.frame.DataFrame'>\n",
      "RangeIndex: 4500 entries, 0 to 4499\n",
      "Data columns (total 29 columns):\n",
      " #   Column                       Non-Null Count  Dtype  \n",
      "---  ------                       --------------  -----  \n",
      " 0   primary_identifier           4500 non-null   int64  \n",
      " 1   device_type                  4500 non-null   object \n",
      " 2   device_category              4500 non-null   object \n",
      " 3   gender                       4500 non-null   object \n",
      " 4   district_name                4500 non-null   object \n",
      " 5   age_group                    4500 non-null   object \n",
      " 6   network_stay                 4500 non-null   int64  \n",
      " 7   average_monthly_bill_amount  4500 non-null   float64\n",
      " 8   dusage_sum                   4500 non-null   int64  \n",
      " 9   dusage_min                   4500 non-null   float64\n",
      " 10  dusage_max                   4500 non-null   float64\n",
      " 11  dusage_avg                   4500 non-null   float64\n",
      " 12  dusage_days                  4500 non-null   int64  \n",
      " 13  dusage_stddev                4500 non-null   float64\n",
      " 14  vusage_onnet_sum             4500 non-null   int64  \n",
      " 15  vusage_onnet_max             4500 non-null   float64\n",
      " 16  vusage_onnet_min             4500 non-null   float64\n",
      " 17  vusage_onnet_days            4500 non-null   int64  \n",
      " 18  vusage_onnet_stddev          4500 non-null   float64\n",
      " 19  vusage_offnet_sum            4500 non-null   int64  \n",
      " 20  vusage_offnet_max            4500 non-null   float64\n",
      " 21  vusage_offnet_min            4500 non-null   float64\n",
      " 22  vusage_offnet_days           4500 non-null   int64  \n",
      " 23  vusage_offnet_avg            4500 non-null   float64\n",
      " 24  vusage_offnet_stddev         4500 non-null   float64\n",
      " 25  number_of_fixed_bb_accounts  4500 non-null   int64  \n",
      " 26  number_of_iptv_accounts      4500 non-null   int64  \n",
      " 27  add_on_tot_rental            4500 non-null   float64\n",
      " 28  add_on_count                 4500 non-null   float64\n",
      "dtypes: float64(14), int64(10), object(5)\n",
      "memory usage: 1019.7+ KB\n"
     ]
    }
   ],
   "source": [
    "submission_data.info()"
   ]
  },
  {
   "cell_type": "code",
   "execution_count": 18,
   "id": "beautiful-patrol",
   "metadata": {},
   "outputs": [
    {
     "data": {
      "text/plain": [
       "array(['Smartphone', 'Basic', 'Feature phone', 'Unknown', 'Tablet',\n",
       "       'Pluggable card', 'Modem'], dtype=object)"
      ]
     },
     "execution_count": 18,
     "metadata": {},
     "output_type": "execute_result"
    }
   ],
   "source": [
    "submission_data['device_category'].unique()"
   ]
  },
  {
   "cell_type": "code",
   "execution_count": null,
   "id": "flexible-sunday",
   "metadata": {},
   "outputs": [],
   "source": []
  }
 ],
 "metadata": {
  "kernelspec": {
   "display_name": "Python 3",
   "language": "python",
   "name": "python3"
  },
  "language_info": {
   "codemirror_mode": {
    "name": "ipython",
    "version": 3
   },
   "file_extension": ".py",
   "mimetype": "text/x-python",
   "name": "python",
   "nbconvert_exporter": "python",
   "pygments_lexer": "ipython3",
   "version": "3.7.10"
  }
 },
 "nbformat": 4,
 "nbformat_minor": 5
}
