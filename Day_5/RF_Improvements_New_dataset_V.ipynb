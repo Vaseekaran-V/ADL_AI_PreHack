{
 "cells": [
  {
   "cell_type": "markdown",
   "id": "muslim-collaboration",
   "metadata": {},
   "source": [
    "## Import the needed libraries"
   ]
  },
  {
   "cell_type": "code",
   "execution_count": 1,
   "id": "changing-pricing",
   "metadata": {},
   "outputs": [],
   "source": [
    "import pandas as pd\n",
    "import numpy as np\n",
    "import matplotlib.pyplot as plt\n",
    "%matplotlib inline\n",
    "import seaborn as sns\n",
    "from sklearn.model_selection import train_test_split\n",
    "from sklearn.metrics import accuracy_score\n",
    "from sklearn.metrics import confusion_matrix\n",
    "from sklearn.model_selection import cross_val_score\n",
    "from sklearn.preprocessing import OneHotEncoder\n",
    "from sklearn.preprocessing import LabelEncoder, OrdinalEncoder\n",
    "from sklearn.pipeline import Pipeline\n",
    "from sklearn import preprocessing\n",
    "from sklearn.compose import ColumnTransformer\n",
    "from sklearn.preprocessing import StandardScaler, MinMaxScaler, RobustScaler\n",
    "from sklearn.model_selection import cross_val_score\n",
    "from xgboost import XGBClassifier\n",
    "import xgboost as xgb\n",
    "from imblearn.ensemble import BalancedBaggingClassifier\n",
    "from imblearn.under_sampling import NearMiss\n",
    "from imblearn.under_sampling import TomekLinks\n",
    "from sklearn.tree import DecisionTreeClassifier\n",
    "from sklearn.ensemble import RandomForestClassifier\n",
    "from sklearn.metrics import classification_report\n",
    "from sklearn.ensemble import GradientBoostingClassifier\n",
    "from sklearn.ensemble import ExtraTreesClassifier\n",
    "from sklearn.experimental import enable_hist_gradient_boosting\n",
    "from sklearn.ensemble import HistGradientBoostingClassifier\n",
    "from sklearn.ensemble import StackingClassifier\n",
    "from sklearn.linear_model import LogisticRegression\n",
    "from sklearn.model_selection import GridSearchCV\n",
    "#Import other necessary model libraries, for this example, using Logistic Regression"
   ]
  },
  {
   "cell_type": "markdown",
   "id": "occasional-updating",
   "metadata": {},
   "source": [
    "## Import the training data"
   ]
  },
  {
   "cell_type": "code",
   "execution_count": 2,
   "id": "demonstrated-perth",
   "metadata": {},
   "outputs": [],
   "source": [
    "train_data = pd.read_csv(\"../data/train_dataset_v2.csv\")"
   ]
  },
  {
   "cell_type": "code",
   "execution_count": 3,
   "id": "disciplinary-accounting",
   "metadata": {},
   "outputs": [
    {
     "data": {
      "text/html": [
       "<div>\n",
       "<style scoped>\n",
       "    .dataframe tbody tr th:only-of-type {\n",
       "        vertical-align: middle;\n",
       "    }\n",
       "\n",
       "    .dataframe tbody tr th {\n",
       "        vertical-align: top;\n",
       "    }\n",
       "\n",
       "    .dataframe thead th {\n",
       "        text-align: right;\n",
       "    }\n",
       "</style>\n",
       "<table border=\"1\" class=\"dataframe\">\n",
       "  <thead>\n",
       "    <tr style=\"text-align: right;\">\n",
       "      <th></th>\n",
       "      <th>primary_identifier</th>\n",
       "      <th>device_type</th>\n",
       "      <th>device_category</th>\n",
       "      <th>gender</th>\n",
       "      <th>district_name</th>\n",
       "      <th>age_group</th>\n",
       "      <th>network_stay</th>\n",
       "      <th>average_monthly_bill_amount</th>\n",
       "      <th>dusage_sum</th>\n",
       "      <th>dusage_min</th>\n",
       "      <th>...</th>\n",
       "      <th>vusage_offnet_min</th>\n",
       "      <th>vusage_offnet_diff</th>\n",
       "      <th>vusage_offnet_days</th>\n",
       "      <th>vusage_offnet_avg</th>\n",
       "      <th>vusage_offnet_stddev</th>\n",
       "      <th>number_of_fixed_bb_accounts</th>\n",
       "      <th>number_of_iptv_accounts</th>\n",
       "      <th>add_on_tot_rental</th>\n",
       "      <th>add_on_count</th>\n",
       "      <th>next_month_plan</th>\n",
       "    </tr>\n",
       "  </thead>\n",
       "  <tbody>\n",
       "    <tr>\n",
       "      <th>10495</th>\n",
       "      <td>1438655</td>\n",
       "      <td>4G</td>\n",
       "      <td>Smartphone</td>\n",
       "      <td>MALE</td>\n",
       "      <td>Kalutara</td>\n",
       "      <td>40-50</td>\n",
       "      <td>64</td>\n",
       "      <td>2088.13</td>\n",
       "      <td>479</td>\n",
       "      <td>0.346959</td>\n",
       "      <td>...</td>\n",
       "      <td>0.0</td>\n",
       "      <td>29.866667</td>\n",
       "      <td>7</td>\n",
       "      <td>14.571429</td>\n",
       "      <td>8.017054</td>\n",
       "      <td>0</td>\n",
       "      <td>0</td>\n",
       "      <td>NaN</td>\n",
       "      <td>NaN</td>\n",
       "      <td>PKG6</td>\n",
       "    </tr>\n",
       "    <tr>\n",
       "      <th>10496</th>\n",
       "      <td>7827264</td>\n",
       "      <td>4G</td>\n",
       "      <td>Smartphone</td>\n",
       "      <td>FEMALE</td>\n",
       "      <td>Colombo</td>\n",
       "      <td>&lt;20</td>\n",
       "      <td>6</td>\n",
       "      <td>2053.50</td>\n",
       "      <td>23168</td>\n",
       "      <td>0.219985</td>\n",
       "      <td>...</td>\n",
       "      <td>0.0</td>\n",
       "      <td>25.366667</td>\n",
       "      <td>3</td>\n",
       "      <td>10.861111</td>\n",
       "      <td>5.151029</td>\n",
       "      <td>0</td>\n",
       "      <td>0</td>\n",
       "      <td>580.0</td>\n",
       "      <td>3.0</td>\n",
       "      <td>PKG1</td>\n",
       "    </tr>\n",
       "    <tr>\n",
       "      <th>10497</th>\n",
       "      <td>1433957</td>\n",
       "      <td>4G</td>\n",
       "      <td>Smartphone</td>\n",
       "      <td>FEMALE</td>\n",
       "      <td>Colombo</td>\n",
       "      <td>30-40</td>\n",
       "      <td>69</td>\n",
       "      <td>2827.33</td>\n",
       "      <td>4553</td>\n",
       "      <td>4.831711</td>\n",
       "      <td>...</td>\n",
       "      <td>0.0</td>\n",
       "      <td>0.000000</td>\n",
       "      <td>0</td>\n",
       "      <td>NaN</td>\n",
       "      <td>0.000000</td>\n",
       "      <td>0</td>\n",
       "      <td>1</td>\n",
       "      <td>NaN</td>\n",
       "      <td>NaN</td>\n",
       "      <td>PKG6</td>\n",
       "    </tr>\n",
       "    <tr>\n",
       "      <th>10498</th>\n",
       "      <td>8494507</td>\n",
       "      <td>4G</td>\n",
       "      <td>Smartphone</td>\n",
       "      <td>MALE</td>\n",
       "      <td>Kandy</td>\n",
       "      <td>60-70</td>\n",
       "      <td>233</td>\n",
       "      <td>645.43</td>\n",
       "      <td>2069</td>\n",
       "      <td>4.722031</td>\n",
       "      <td>...</td>\n",
       "      <td>0.0</td>\n",
       "      <td>18.650000</td>\n",
       "      <td>18</td>\n",
       "      <td>5.887963</td>\n",
       "      <td>4.956822</td>\n",
       "      <td>0</td>\n",
       "      <td>1</td>\n",
       "      <td>NaN</td>\n",
       "      <td>NaN</td>\n",
       "      <td>PKG1</td>\n",
       "    </tr>\n",
       "    <tr>\n",
       "      <th>10499</th>\n",
       "      <td>3569439</td>\n",
       "      <td>3G</td>\n",
       "      <td>Smartphone</td>\n",
       "      <td>MALE</td>\n",
       "      <td>Puttalam</td>\n",
       "      <td>40-50</td>\n",
       "      <td>33</td>\n",
       "      <td>498.20</td>\n",
       "      <td>536</td>\n",
       "      <td>0.003048</td>\n",
       "      <td>...</td>\n",
       "      <td>0.0</td>\n",
       "      <td>4.366667</td>\n",
       "      <td>7</td>\n",
       "      <td>2.228571</td>\n",
       "      <td>1.096541</td>\n",
       "      <td>0</td>\n",
       "      <td>0</td>\n",
       "      <td>NaN</td>\n",
       "      <td>NaN</td>\n",
       "      <td>PKG1</td>\n",
       "    </tr>\n",
       "  </tbody>\n",
       "</table>\n",
       "<p>5 rows × 34 columns</p>\n",
       "</div>"
      ],
      "text/plain": [
       "       primary_identifier device_type device_category  gender district_name  \\\n",
       "10495             1438655          4G      Smartphone    MALE      Kalutara   \n",
       "10496             7827264          4G      Smartphone  FEMALE       Colombo   \n",
       "10497             1433957          4G      Smartphone  FEMALE       Colombo   \n",
       "10498             8494507          4G      Smartphone    MALE         Kandy   \n",
       "10499             3569439          3G      Smartphone    MALE      Puttalam   \n",
       "\n",
       "      age_group  network_stay  average_monthly_bill_amount  dusage_sum  \\\n",
       "10495     40-50            64                      2088.13         479   \n",
       "10496       <20             6                      2053.50       23168   \n",
       "10497     30-40            69                      2827.33        4553   \n",
       "10498     60-70           233                       645.43        2069   \n",
       "10499     40-50            33                       498.20         536   \n",
       "\n",
       "       dusage_min  ...  vusage_offnet_min  vusage_offnet_diff  \\\n",
       "10495    0.346959  ...                0.0           29.866667   \n",
       "10496    0.219985  ...                0.0           25.366667   \n",
       "10497    4.831711  ...                0.0            0.000000   \n",
       "10498    4.722031  ...                0.0           18.650000   \n",
       "10499    0.003048  ...                0.0            4.366667   \n",
       "\n",
       "       vusage_offnet_days  vusage_offnet_avg  vusage_offnet_stddev  \\\n",
       "10495                   7          14.571429              8.017054   \n",
       "10496                   3          10.861111              5.151029   \n",
       "10497                   0                NaN              0.000000   \n",
       "10498                  18           5.887963              4.956822   \n",
       "10499                   7           2.228571              1.096541   \n",
       "\n",
       "       number_of_fixed_bb_accounts  number_of_iptv_accounts  \\\n",
       "10495                            0                        0   \n",
       "10496                            0                        0   \n",
       "10497                            0                        1   \n",
       "10498                            0                        1   \n",
       "10499                            0                        0   \n",
       "\n",
       "       add_on_tot_rental  add_on_count  next_month_plan  \n",
       "10495                NaN           NaN             PKG6  \n",
       "10496              580.0           3.0             PKG1  \n",
       "10497                NaN           NaN             PKG6  \n",
       "10498                NaN           NaN             PKG1  \n",
       "10499                NaN           NaN             PKG1  \n",
       "\n",
       "[5 rows x 34 columns]"
      ]
     },
     "execution_count": 3,
     "metadata": {},
     "output_type": "execute_result"
    }
   ],
   "source": [
    "train_data.tail()"
   ]
  },
  {
   "cell_type": "markdown",
   "id": "lightweight-mountain",
   "metadata": {},
   "source": [
    "## Encoding Labels"
   ]
  },
  {
   "cell_type": "code",
   "execution_count": 4,
   "id": "wired-raising",
   "metadata": {},
   "outputs": [],
   "source": [
    "train_data['next_month_plan'] = train_data['next_month_plan'].astype('category')"
   ]
  },
  {
   "cell_type": "code",
   "execution_count": 5,
   "id": "neutral-suite",
   "metadata": {},
   "outputs": [
    {
     "data": {
      "text/plain": [
       "['PKG2', 'PKG1', 'PKG6', 'PKG4', 'PKG5', 'PKG3', 'PKG8', 'PKG7']\n",
       "Categories (8, object): ['PKG2', 'PKG1', 'PKG6', 'PKG4', 'PKG5', 'PKG3', 'PKG8', 'PKG7']"
      ]
     },
     "execution_count": 5,
     "metadata": {},
     "output_type": "execute_result"
    }
   ],
   "source": [
    "train_data['next_month_plan'].unique()"
   ]
  },
  {
   "cell_type": "code",
   "execution_count": 6,
   "id": "disabled-eight",
   "metadata": {},
   "outputs": [],
   "source": [
    "labels_x = ['PKG0','PKG1', 'PKG2', 'PKG3', 'PKG4', 'PKG5', 'PKG6', 'PKG7', 'PKG8']"
   ]
  },
  {
   "cell_type": "code",
   "execution_count": 7,
   "id": "local-authorization",
   "metadata": {},
   "outputs": [],
   "source": [
    "le = preprocessing.LabelEncoder()"
   ]
  },
  {
   "cell_type": "code",
   "execution_count": 8,
   "id": "personal-simulation",
   "metadata": {},
   "outputs": [
    {
     "data": {
      "text/plain": [
       "LabelEncoder()"
      ]
     },
     "execution_count": 8,
     "metadata": {},
     "output_type": "execute_result"
    }
   ],
   "source": [
    "le.fit(labels_x)"
   ]
  },
  {
   "cell_type": "code",
   "execution_count": 9,
   "id": "secondary-istanbul",
   "metadata": {},
   "outputs": [
    {
     "data": {
      "text/plain": [
       "array(['PKG0', 'PKG1', 'PKG2', 'PKG3', 'PKG4', 'PKG5', 'PKG6', 'PKG7',\n",
       "       'PKG8'], dtype='<U4')"
      ]
     },
     "execution_count": 9,
     "metadata": {},
     "output_type": "execute_result"
    }
   ],
   "source": [
    "le.classes_"
   ]
  },
  {
   "cell_type": "code",
   "execution_count": 10,
   "id": "legendary-antenna",
   "metadata": {},
   "outputs": [],
   "source": [
    "train_data['encoded_class_labels'] = le.transform(train_data['next_month_plan'])"
   ]
  },
  {
   "cell_type": "code",
   "execution_count": 11,
   "id": "comprehensive-shape",
   "metadata": {},
   "outputs": [
    {
     "data": {
      "text/html": [
       "<div>\n",
       "<style scoped>\n",
       "    .dataframe tbody tr th:only-of-type {\n",
       "        vertical-align: middle;\n",
       "    }\n",
       "\n",
       "    .dataframe tbody tr th {\n",
       "        vertical-align: top;\n",
       "    }\n",
       "\n",
       "    .dataframe thead th {\n",
       "        text-align: right;\n",
       "    }\n",
       "</style>\n",
       "<table border=\"1\" class=\"dataframe\">\n",
       "  <thead>\n",
       "    <tr style=\"text-align: right;\">\n",
       "      <th></th>\n",
       "      <th>primary_identifier</th>\n",
       "      <th>device_type</th>\n",
       "      <th>device_category</th>\n",
       "      <th>gender</th>\n",
       "      <th>district_name</th>\n",
       "      <th>age_group</th>\n",
       "      <th>network_stay</th>\n",
       "      <th>average_monthly_bill_amount</th>\n",
       "      <th>dusage_sum</th>\n",
       "      <th>dusage_min</th>\n",
       "      <th>...</th>\n",
       "      <th>vusage_offnet_diff</th>\n",
       "      <th>vusage_offnet_days</th>\n",
       "      <th>vusage_offnet_avg</th>\n",
       "      <th>vusage_offnet_stddev</th>\n",
       "      <th>number_of_fixed_bb_accounts</th>\n",
       "      <th>number_of_iptv_accounts</th>\n",
       "      <th>add_on_tot_rental</th>\n",
       "      <th>add_on_count</th>\n",
       "      <th>next_month_plan</th>\n",
       "      <th>encoded_class_labels</th>\n",
       "    </tr>\n",
       "  </thead>\n",
       "  <tbody>\n",
       "    <tr>\n",
       "      <th>0</th>\n",
       "      <td>6875768</td>\n",
       "      <td>4G</td>\n",
       "      <td>Smartphone</td>\n",
       "      <td>MALE</td>\n",
       "      <td>Kegalle</td>\n",
       "      <td>40-50</td>\n",
       "      <td>219</td>\n",
       "      <td>761.62</td>\n",
       "      <td>6317</td>\n",
       "      <td>2.773958</td>\n",
       "      <td>...</td>\n",
       "      <td>152.866667</td>\n",
       "      <td>27</td>\n",
       "      <td>25.099383</td>\n",
       "      <td>34.759221</td>\n",
       "      <td>0</td>\n",
       "      <td>1</td>\n",
       "      <td>NaN</td>\n",
       "      <td>NaN</td>\n",
       "      <td>PKG2</td>\n",
       "      <td>2</td>\n",
       "    </tr>\n",
       "    <tr>\n",
       "      <th>1</th>\n",
       "      <td>6406277</td>\n",
       "      <td>4G</td>\n",
       "      <td>Smartphone</td>\n",
       "      <td>MALE</td>\n",
       "      <td>Galle</td>\n",
       "      <td>40-50</td>\n",
       "      <td>36</td>\n",
       "      <td>2482.52</td>\n",
       "      <td>28365</td>\n",
       "      <td>3.079438</td>\n",
       "      <td>...</td>\n",
       "      <td>35.433333</td>\n",
       "      <td>15</td>\n",
       "      <td>5.071111</td>\n",
       "      <td>6.779644</td>\n",
       "      <td>0</td>\n",
       "      <td>0</td>\n",
       "      <td>600.0</td>\n",
       "      <td>2.0</td>\n",
       "      <td>PKG1</td>\n",
       "      <td>1</td>\n",
       "    </tr>\n",
       "    <tr>\n",
       "      <th>2</th>\n",
       "      <td>3563570</td>\n",
       "      <td>4G</td>\n",
       "      <td>Smartphone</td>\n",
       "      <td>MALE</td>\n",
       "      <td>Kandy</td>\n",
       "      <td>30-40</td>\n",
       "      <td>186</td>\n",
       "      <td>1565.55</td>\n",
       "      <td>18581</td>\n",
       "      <td>48.193713</td>\n",
       "      <td>...</td>\n",
       "      <td>0.000000</td>\n",
       "      <td>0</td>\n",
       "      <td>NaN</td>\n",
       "      <td>0.000000</td>\n",
       "      <td>0</td>\n",
       "      <td>0</td>\n",
       "      <td>0.0</td>\n",
       "      <td>1.0</td>\n",
       "      <td>PKG6</td>\n",
       "      <td>6</td>\n",
       "    </tr>\n",
       "    <tr>\n",
       "      <th>3</th>\n",
       "      <td>1853666</td>\n",
       "      <td>4G</td>\n",
       "      <td>Smartphone</td>\n",
       "      <td>FEMALE</td>\n",
       "      <td>Colombo</td>\n",
       "      <td>40-50</td>\n",
       "      <td>24</td>\n",
       "      <td>2397.49</td>\n",
       "      <td>91071</td>\n",
       "      <td>22.437842</td>\n",
       "      <td>...</td>\n",
       "      <td>0.000000</td>\n",
       "      <td>0</td>\n",
       "      <td>NaN</td>\n",
       "      <td>0.000000</td>\n",
       "      <td>0</td>\n",
       "      <td>0</td>\n",
       "      <td>1110.0</td>\n",
       "      <td>2.0</td>\n",
       "      <td>PKG4</td>\n",
       "      <td>4</td>\n",
       "    </tr>\n",
       "    <tr>\n",
       "      <th>4</th>\n",
       "      <td>2794331</td>\n",
       "      <td>4G</td>\n",
       "      <td>Smartphone</td>\n",
       "      <td>FEMALE</td>\n",
       "      <td>Kandy</td>\n",
       "      <td>50-60</td>\n",
       "      <td>37</td>\n",
       "      <td>2501.75</td>\n",
       "      <td>19736</td>\n",
       "      <td>53.302092</td>\n",
       "      <td>...</td>\n",
       "      <td>87.616667</td>\n",
       "      <td>23</td>\n",
       "      <td>11.256522</td>\n",
       "      <td>16.224071</td>\n",
       "      <td>0</td>\n",
       "      <td>1</td>\n",
       "      <td>1350.0</td>\n",
       "      <td>2.0</td>\n",
       "      <td>PKG4</td>\n",
       "      <td>4</td>\n",
       "    </tr>\n",
       "    <tr>\n",
       "      <th>5</th>\n",
       "      <td>3619017</td>\n",
       "      <td>2G</td>\n",
       "      <td>Basic</td>\n",
       "      <td>MALE</td>\n",
       "      <td>Galle</td>\n",
       "      <td>40-50</td>\n",
       "      <td>30</td>\n",
       "      <td>495.54</td>\n",
       "      <td>0</td>\n",
       "      <td>0.001531</td>\n",
       "      <td>...</td>\n",
       "      <td>1.066667</td>\n",
       "      <td>3</td>\n",
       "      <td>0.700000</td>\n",
       "      <td>0.233432</td>\n",
       "      <td>0</td>\n",
       "      <td>0</td>\n",
       "      <td>NaN</td>\n",
       "      <td>NaN</td>\n",
       "      <td>PKG1</td>\n",
       "      <td>1</td>\n",
       "    </tr>\n",
       "    <tr>\n",
       "      <th>6</th>\n",
       "      <td>7633257</td>\n",
       "      <td>4G</td>\n",
       "      <td>Smartphone</td>\n",
       "      <td>MALE</td>\n",
       "      <td>Kegalle</td>\n",
       "      <td>30-40</td>\n",
       "      <td>35</td>\n",
       "      <td>1977.19</td>\n",
       "      <td>14782</td>\n",
       "      <td>205.394299</td>\n",
       "      <td>...</td>\n",
       "      <td>0.000000</td>\n",
       "      <td>0</td>\n",
       "      <td>NaN</td>\n",
       "      <td>0.000000</td>\n",
       "      <td>0</td>\n",
       "      <td>0</td>\n",
       "      <td>110.0</td>\n",
       "      <td>1.0</td>\n",
       "      <td>PKG5</td>\n",
       "      <td>5</td>\n",
       "    </tr>\n",
       "    <tr>\n",
       "      <th>7</th>\n",
       "      <td>5507217</td>\n",
       "      <td>4G</td>\n",
       "      <td>Smartphone</td>\n",
       "      <td>MALE</td>\n",
       "      <td>Gampaha</td>\n",
       "      <td>30-40</td>\n",
       "      <td>170</td>\n",
       "      <td>2925.00</td>\n",
       "      <td>3473</td>\n",
       "      <td>6.426329</td>\n",
       "      <td>...</td>\n",
       "      <td>0.000000</td>\n",
       "      <td>0</td>\n",
       "      <td>NaN</td>\n",
       "      <td>0.000000</td>\n",
       "      <td>0</td>\n",
       "      <td>0</td>\n",
       "      <td>650.0</td>\n",
       "      <td>1.0</td>\n",
       "      <td>PKG5</td>\n",
       "      <td>5</td>\n",
       "    </tr>\n",
       "    <tr>\n",
       "      <th>8</th>\n",
       "      <td>7566055</td>\n",
       "      <td>4G</td>\n",
       "      <td>Smartphone</td>\n",
       "      <td>MALE</td>\n",
       "      <td>Kalutara</td>\n",
       "      <td>20-30</td>\n",
       "      <td>48</td>\n",
       "      <td>473.59</td>\n",
       "      <td>3870</td>\n",
       "      <td>0.000000</td>\n",
       "      <td>...</td>\n",
       "      <td>22.883333</td>\n",
       "      <td>3</td>\n",
       "      <td>11.338889</td>\n",
       "      <td>4.661264</td>\n",
       "      <td>0</td>\n",
       "      <td>0</td>\n",
       "      <td>110.0</td>\n",
       "      <td>1.0</td>\n",
       "      <td>PKG2</td>\n",
       "      <td>2</td>\n",
       "    </tr>\n",
       "    <tr>\n",
       "      <th>9</th>\n",
       "      <td>7324903</td>\n",
       "      <td>4G</td>\n",
       "      <td>Smartphone</td>\n",
       "      <td>MALE</td>\n",
       "      <td>Colombo</td>\n",
       "      <td>20-30</td>\n",
       "      <td>81</td>\n",
       "      <td>1324.60</td>\n",
       "      <td>20876</td>\n",
       "      <td>3.450117</td>\n",
       "      <td>...</td>\n",
       "      <td>6.816667</td>\n",
       "      <td>6</td>\n",
       "      <td>1.922222</td>\n",
       "      <td>1.310881</td>\n",
       "      <td>0</td>\n",
       "      <td>0</td>\n",
       "      <td>360.0</td>\n",
       "      <td>2.0</td>\n",
       "      <td>PKG2</td>\n",
       "      <td>2</td>\n",
       "    </tr>\n",
       "    <tr>\n",
       "      <th>10</th>\n",
       "      <td>4058040</td>\n",
       "      <td>4G</td>\n",
       "      <td>Smartphone</td>\n",
       "      <td>FEMALE</td>\n",
       "      <td>Kalutara</td>\n",
       "      <td>30-40</td>\n",
       "      <td>64</td>\n",
       "      <td>1612.70</td>\n",
       "      <td>11580</td>\n",
       "      <td>49.483975</td>\n",
       "      <td>...</td>\n",
       "      <td>11.416667</td>\n",
       "      <td>7</td>\n",
       "      <td>3.959524</td>\n",
       "      <td>2.649690</td>\n",
       "      <td>0</td>\n",
       "      <td>0</td>\n",
       "      <td>740.0</td>\n",
       "      <td>2.0</td>\n",
       "      <td>PKG3</td>\n",
       "      <td>3</td>\n",
       "    </tr>\n",
       "    <tr>\n",
       "      <th>11</th>\n",
       "      <td>9835417</td>\n",
       "      <td>4G</td>\n",
       "      <td>Smartphone</td>\n",
       "      <td>FEMALE</td>\n",
       "      <td>Kurunegala</td>\n",
       "      <td>30-40</td>\n",
       "      <td>32</td>\n",
       "      <td>0.00</td>\n",
       "      <td>136</td>\n",
       "      <td>0.000000</td>\n",
       "      <td>...</td>\n",
       "      <td>2.083333</td>\n",
       "      <td>2</td>\n",
       "      <td>1.283333</td>\n",
       "      <td>0.778115</td>\n",
       "      <td>0</td>\n",
       "      <td>0</td>\n",
       "      <td>110.0</td>\n",
       "      <td>1.0</td>\n",
       "      <td>PKG1</td>\n",
       "      <td>1</td>\n",
       "    </tr>\n",
       "    <tr>\n",
       "      <th>12</th>\n",
       "      <td>8104537</td>\n",
       "      <td>4G</td>\n",
       "      <td>Smartphone</td>\n",
       "      <td>MALE</td>\n",
       "      <td>Gampaha</td>\n",
       "      <td>30-40</td>\n",
       "      <td>26</td>\n",
       "      <td>1787.08</td>\n",
       "      <td>10043</td>\n",
       "      <td>40.711069</td>\n",
       "      <td>...</td>\n",
       "      <td>0.000000</td>\n",
       "      <td>0</td>\n",
       "      <td>NaN</td>\n",
       "      <td>0.000000</td>\n",
       "      <td>0</td>\n",
       "      <td>0</td>\n",
       "      <td>NaN</td>\n",
       "      <td>NaN</td>\n",
       "      <td>PKG5</td>\n",
       "      <td>5</td>\n",
       "    </tr>\n",
       "    <tr>\n",
       "      <th>13</th>\n",
       "      <td>6937092</td>\n",
       "      <td>2G</td>\n",
       "      <td>Basic</td>\n",
       "      <td>MALE</td>\n",
       "      <td>Puttalam</td>\n",
       "      <td>40-50</td>\n",
       "      <td>178</td>\n",
       "      <td>496.34</td>\n",
       "      <td>0</td>\n",
       "      <td>0.000000</td>\n",
       "      <td>...</td>\n",
       "      <td>13.566667</td>\n",
       "      <td>3</td>\n",
       "      <td>4.911111</td>\n",
       "      <td>2.560657</td>\n",
       "      <td>0</td>\n",
       "      <td>0</td>\n",
       "      <td>NaN</td>\n",
       "      <td>NaN</td>\n",
       "      <td>PKG1</td>\n",
       "      <td>1</td>\n",
       "    </tr>\n",
       "    <tr>\n",
       "      <th>14</th>\n",
       "      <td>3515441</td>\n",
       "      <td>3G</td>\n",
       "      <td>Smartphone</td>\n",
       "      <td>MALE</td>\n",
       "      <td>Galle</td>\n",
       "      <td>50-60</td>\n",
       "      <td>18</td>\n",
       "      <td>1528.66</td>\n",
       "      <td>1447</td>\n",
       "      <td>0.000000</td>\n",
       "      <td>...</td>\n",
       "      <td>11.050000</td>\n",
       "      <td>5</td>\n",
       "      <td>4.273333</td>\n",
       "      <td>2.357698</td>\n",
       "      <td>0</td>\n",
       "      <td>0</td>\n",
       "      <td>NaN</td>\n",
       "      <td>NaN</td>\n",
       "      <td>PKG1</td>\n",
       "      <td>1</td>\n",
       "    </tr>\n",
       "    <tr>\n",
       "      <th>15</th>\n",
       "      <td>1254707</td>\n",
       "      <td>4G</td>\n",
       "      <td>Smartphone</td>\n",
       "      <td>FEMALE</td>\n",
       "      <td>Colombo</td>\n",
       "      <td>30-40</td>\n",
       "      <td>94</td>\n",
       "      <td>1826.41</td>\n",
       "      <td>3978</td>\n",
       "      <td>1.125170</td>\n",
       "      <td>...</td>\n",
       "      <td>21.366667</td>\n",
       "      <td>11</td>\n",
       "      <td>4.310606</td>\n",
       "      <td>4.407215</td>\n",
       "      <td>0</td>\n",
       "      <td>0</td>\n",
       "      <td>350.0</td>\n",
       "      <td>1.0</td>\n",
       "      <td>PKG3</td>\n",
       "      <td>3</td>\n",
       "    </tr>\n",
       "    <tr>\n",
       "      <th>16</th>\n",
       "      <td>5038603</td>\n",
       "      <td>4G</td>\n",
       "      <td>Smartphone</td>\n",
       "      <td>FEMALE</td>\n",
       "      <td>Colombo</td>\n",
       "      <td>30-40</td>\n",
       "      <td>52</td>\n",
       "      <td>352.97</td>\n",
       "      <td>1862</td>\n",
       "      <td>2.095556</td>\n",
       "      <td>...</td>\n",
       "      <td>2.816667</td>\n",
       "      <td>6</td>\n",
       "      <td>1.236111</td>\n",
       "      <td>0.657627</td>\n",
       "      <td>0</td>\n",
       "      <td>0</td>\n",
       "      <td>NaN</td>\n",
       "      <td>NaN</td>\n",
       "      <td>PKG2</td>\n",
       "      <td>2</td>\n",
       "    </tr>\n",
       "    <tr>\n",
       "      <th>17</th>\n",
       "      <td>3037770</td>\n",
       "      <td>2G</td>\n",
       "      <td>Feature phone</td>\n",
       "      <td>MALE</td>\n",
       "      <td>Kalutara</td>\n",
       "      <td>50-60</td>\n",
       "      <td>4</td>\n",
       "      <td>557.74</td>\n",
       "      <td>0</td>\n",
       "      <td>0.000000</td>\n",
       "      <td>...</td>\n",
       "      <td>10.216667</td>\n",
       "      <td>22</td>\n",
       "      <td>2.231061</td>\n",
       "      <td>2.491781</td>\n",
       "      <td>0</td>\n",
       "      <td>0</td>\n",
       "      <td>NaN</td>\n",
       "      <td>NaN</td>\n",
       "      <td>PKG1</td>\n",
       "      <td>1</td>\n",
       "    </tr>\n",
       "    <tr>\n",
       "      <th>18</th>\n",
       "      <td>4669431</td>\n",
       "      <td>4G</td>\n",
       "      <td>Smartphone</td>\n",
       "      <td>FEMALE</td>\n",
       "      <td>Gampaha</td>\n",
       "      <td>20-30</td>\n",
       "      <td>57</td>\n",
       "      <td>4721.84</td>\n",
       "      <td>19508</td>\n",
       "      <td>205.565197</td>\n",
       "      <td>...</td>\n",
       "      <td>0.000000</td>\n",
       "      <td>0</td>\n",
       "      <td>NaN</td>\n",
       "      <td>0.000000</td>\n",
       "      <td>0</td>\n",
       "      <td>0</td>\n",
       "      <td>2550.0</td>\n",
       "      <td>5.0</td>\n",
       "      <td>PKG3</td>\n",
       "      <td>3</td>\n",
       "    </tr>\n",
       "    <tr>\n",
       "      <th>19</th>\n",
       "      <td>8683145</td>\n",
       "      <td>4G</td>\n",
       "      <td>Smartphone</td>\n",
       "      <td>MALE</td>\n",
       "      <td>Galle</td>\n",
       "      <td>40-50</td>\n",
       "      <td>126</td>\n",
       "      <td>1165.14</td>\n",
       "      <td>325</td>\n",
       "      <td>0.000000</td>\n",
       "      <td>...</td>\n",
       "      <td>11.700000</td>\n",
       "      <td>15</td>\n",
       "      <td>3.936667</td>\n",
       "      <td>3.213490</td>\n",
       "      <td>0</td>\n",
       "      <td>1</td>\n",
       "      <td>NaN</td>\n",
       "      <td>NaN</td>\n",
       "      <td>PKG2</td>\n",
       "      <td>2</td>\n",
       "    </tr>\n",
       "  </tbody>\n",
       "</table>\n",
       "<p>20 rows × 35 columns</p>\n",
       "</div>"
      ],
      "text/plain": [
       "    primary_identifier device_type device_category  gender district_name  \\\n",
       "0              6875768          4G      Smartphone    MALE       Kegalle   \n",
       "1              6406277          4G      Smartphone    MALE         Galle   \n",
       "2              3563570          4G      Smartphone    MALE         Kandy   \n",
       "3              1853666          4G      Smartphone  FEMALE       Colombo   \n",
       "4              2794331          4G      Smartphone  FEMALE         Kandy   \n",
       "5              3619017          2G           Basic    MALE         Galle   \n",
       "6              7633257          4G      Smartphone    MALE       Kegalle   \n",
       "7              5507217          4G      Smartphone    MALE       Gampaha   \n",
       "8              7566055          4G      Smartphone    MALE      Kalutara   \n",
       "9              7324903          4G      Smartphone    MALE       Colombo   \n",
       "10             4058040          4G      Smartphone  FEMALE      Kalutara   \n",
       "11             9835417          4G      Smartphone  FEMALE    Kurunegala   \n",
       "12             8104537          4G      Smartphone    MALE       Gampaha   \n",
       "13             6937092          2G           Basic    MALE      Puttalam   \n",
       "14             3515441          3G      Smartphone    MALE         Galle   \n",
       "15             1254707          4G      Smartphone  FEMALE       Colombo   \n",
       "16             5038603          4G      Smartphone  FEMALE       Colombo   \n",
       "17             3037770          2G   Feature phone    MALE      Kalutara   \n",
       "18             4669431          4G      Smartphone  FEMALE       Gampaha   \n",
       "19             8683145          4G      Smartphone    MALE         Galle   \n",
       "\n",
       "   age_group  network_stay  average_monthly_bill_amount  dusage_sum  \\\n",
       "0      40-50           219                       761.62        6317   \n",
       "1      40-50            36                      2482.52       28365   \n",
       "2      30-40           186                      1565.55       18581   \n",
       "3      40-50            24                      2397.49       91071   \n",
       "4      50-60            37                      2501.75       19736   \n",
       "5      40-50            30                       495.54           0   \n",
       "6      30-40            35                      1977.19       14782   \n",
       "7      30-40           170                      2925.00        3473   \n",
       "8      20-30            48                       473.59        3870   \n",
       "9      20-30            81                      1324.60       20876   \n",
       "10     30-40            64                      1612.70       11580   \n",
       "11     30-40            32                         0.00         136   \n",
       "12     30-40            26                      1787.08       10043   \n",
       "13     40-50           178                       496.34           0   \n",
       "14     50-60            18                      1528.66        1447   \n",
       "15     30-40            94                      1826.41        3978   \n",
       "16     30-40            52                       352.97        1862   \n",
       "17     50-60             4                       557.74           0   \n",
       "18     20-30            57                      4721.84       19508   \n",
       "19     40-50           126                      1165.14         325   \n",
       "\n",
       "    dusage_min  ...  vusage_offnet_diff  vusage_offnet_days  \\\n",
       "0     2.773958  ...          152.866667                  27   \n",
       "1     3.079438  ...           35.433333                  15   \n",
       "2    48.193713  ...            0.000000                   0   \n",
       "3    22.437842  ...            0.000000                   0   \n",
       "4    53.302092  ...           87.616667                  23   \n",
       "5     0.001531  ...            1.066667                   3   \n",
       "6   205.394299  ...            0.000000                   0   \n",
       "7     6.426329  ...            0.000000                   0   \n",
       "8     0.000000  ...           22.883333                   3   \n",
       "9     3.450117  ...            6.816667                   6   \n",
       "10   49.483975  ...           11.416667                   7   \n",
       "11    0.000000  ...            2.083333                   2   \n",
       "12   40.711069  ...            0.000000                   0   \n",
       "13    0.000000  ...           13.566667                   3   \n",
       "14    0.000000  ...           11.050000                   5   \n",
       "15    1.125170  ...           21.366667                  11   \n",
       "16    2.095556  ...            2.816667                   6   \n",
       "17    0.000000  ...           10.216667                  22   \n",
       "18  205.565197  ...            0.000000                   0   \n",
       "19    0.000000  ...           11.700000                  15   \n",
       "\n",
       "    vusage_offnet_avg  vusage_offnet_stddev  number_of_fixed_bb_accounts  \\\n",
       "0           25.099383             34.759221                            0   \n",
       "1            5.071111              6.779644                            0   \n",
       "2                 NaN              0.000000                            0   \n",
       "3                 NaN              0.000000                            0   \n",
       "4           11.256522             16.224071                            0   \n",
       "5            0.700000              0.233432                            0   \n",
       "6                 NaN              0.000000                            0   \n",
       "7                 NaN              0.000000                            0   \n",
       "8           11.338889              4.661264                            0   \n",
       "9            1.922222              1.310881                            0   \n",
       "10           3.959524              2.649690                            0   \n",
       "11           1.283333              0.778115                            0   \n",
       "12                NaN              0.000000                            0   \n",
       "13           4.911111              2.560657                            0   \n",
       "14           4.273333              2.357698                            0   \n",
       "15           4.310606              4.407215                            0   \n",
       "16           1.236111              0.657627                            0   \n",
       "17           2.231061              2.491781                            0   \n",
       "18                NaN              0.000000                            0   \n",
       "19           3.936667              3.213490                            0   \n",
       "\n",
       "    number_of_iptv_accounts  add_on_tot_rental  add_on_count  next_month_plan  \\\n",
       "0                         1                NaN           NaN             PKG2   \n",
       "1                         0              600.0           2.0             PKG1   \n",
       "2                         0                0.0           1.0             PKG6   \n",
       "3                         0             1110.0           2.0             PKG4   \n",
       "4                         1             1350.0           2.0             PKG4   \n",
       "5                         0                NaN           NaN             PKG1   \n",
       "6                         0              110.0           1.0             PKG5   \n",
       "7                         0              650.0           1.0             PKG5   \n",
       "8                         0              110.0           1.0             PKG2   \n",
       "9                         0              360.0           2.0             PKG2   \n",
       "10                        0              740.0           2.0             PKG3   \n",
       "11                        0              110.0           1.0             PKG1   \n",
       "12                        0                NaN           NaN             PKG5   \n",
       "13                        0                NaN           NaN             PKG1   \n",
       "14                        0                NaN           NaN             PKG1   \n",
       "15                        0              350.0           1.0             PKG3   \n",
       "16                        0                NaN           NaN             PKG2   \n",
       "17                        0                NaN           NaN             PKG1   \n",
       "18                        0             2550.0           5.0             PKG3   \n",
       "19                        1                NaN           NaN             PKG2   \n",
       "\n",
       "    encoded_class_labels  \n",
       "0                      2  \n",
       "1                      1  \n",
       "2                      6  \n",
       "3                      4  \n",
       "4                      4  \n",
       "5                      1  \n",
       "6                      5  \n",
       "7                      5  \n",
       "8                      2  \n",
       "9                      2  \n",
       "10                     3  \n",
       "11                     1  \n",
       "12                     5  \n",
       "13                     1  \n",
       "14                     1  \n",
       "15                     3  \n",
       "16                     2  \n",
       "17                     1  \n",
       "18                     3  \n",
       "19                     2  \n",
       "\n",
       "[20 rows x 35 columns]"
      ]
     },
     "execution_count": 11,
     "metadata": {},
     "output_type": "execute_result"
    }
   ],
   "source": [
    "train_data.head(20)"
   ]
  },
  {
   "cell_type": "markdown",
   "id": "other-apollo",
   "metadata": {},
   "source": [
    "## Handling Missing Values"
   ]
  },
  {
   "cell_type": "code",
   "execution_count": 12,
   "id": "experimental-latino",
   "metadata": {},
   "outputs": [
    {
     "name": "stdout",
     "output_type": "stream",
     "text": [
      "<class 'pandas.core.frame.DataFrame'>\n",
      "RangeIndex: 10500 entries, 0 to 10499\n",
      "Data columns (total 35 columns):\n",
      " #   Column                       Non-Null Count  Dtype   \n",
      "---  ------                       --------------  -----   \n",
      " 0   primary_identifier           10500 non-null  int64   \n",
      " 1   device_type                  10477 non-null  object  \n",
      " 2   device_category              10470 non-null  object  \n",
      " 3   gender                       10365 non-null  object  \n",
      " 4   district_name                10500 non-null  object  \n",
      " 5   age_group                    10365 non-null  object  \n",
      " 6   network_stay                 10500 non-null  int64   \n",
      " 7   average_monthly_bill_amount  10500 non-null  float64 \n",
      " 8   dusage_sum                   10500 non-null  int64   \n",
      " 9   dusage_min                   10500 non-null  float64 \n",
      " 10  dusage_max                   10500 non-null  float64 \n",
      " 11  dusage_diff                  10500 non-null  float64 \n",
      " 12  dusage_avg                   9642 non-null   float64 \n",
      " 13  dusage_days                  10500 non-null  int64   \n",
      " 14  dusage_stddev                10500 non-null  float64 \n",
      " 15  vusage_onnet_sum             10500 non-null  int64   \n",
      " 16  vusage_onnet_max             10500 non-null  float64 \n",
      " 17  vusage_onnet_min             10500 non-null  int64   \n",
      " 18  vusage_onnet_diff            10500 non-null  float64 \n",
      " 19  vusage_onnet_days            10500 non-null  int64   \n",
      " 20  vusage_onnet_avg             1828 non-null   float64 \n",
      " 21  vusage_onnet_stddev          10500 non-null  float64 \n",
      " 22  vusage_offnet_sum            10500 non-null  int64   \n",
      " 23  vusage_offnet_max            10500 non-null  float64 \n",
      " 24  vusage_offnet_min            10500 non-null  float64 \n",
      " 25  vusage_offnet_diff           10500 non-null  float64 \n",
      " 26  vusage_offnet_days           10500 non-null  int64   \n",
      " 27  vusage_offnet_avg            7187 non-null   float64 \n",
      " 28  vusage_offnet_stddev         10500 non-null  float64 \n",
      " 29  number_of_fixed_bb_accounts  10500 non-null  int64   \n",
      " 30  number_of_iptv_accounts      10500 non-null  int64   \n",
      " 31  add_on_tot_rental            6667 non-null   float64 \n",
      " 32  add_on_count                 6667 non-null   float64 \n",
      " 33  next_month_plan              10500 non-null  category\n",
      " 34  encoded_class_labels         10500 non-null  int64   \n",
      "dtypes: category(1), float64(17), int64(12), object(5)\n",
      "memory usage: 2.7+ MB\n"
     ]
    }
   ],
   "source": [
    "train_data.info()"
   ]
  },
  {
   "cell_type": "code",
   "execution_count": 13,
   "id": "threaded-market",
   "metadata": {},
   "outputs": [
    {
     "data": {
      "text/plain": [
       "array(['Smartphone', 'Basic', 'Feature phone', 'Pluggable card', 'Tablet',\n",
       "       nan, 'Modem'], dtype=object)"
      ]
     },
     "execution_count": 13,
     "metadata": {},
     "output_type": "execute_result"
    }
   ],
   "source": [
    "train_data['device_category'].unique()"
   ]
  },
  {
   "cell_type": "code",
   "execution_count": 14,
   "id": "metropolitan-joining",
   "metadata": {},
   "outputs": [],
   "source": [
    "train_data['device_type'] = train_data['device_type'].fillna(value = 'Unknown')\n",
    "train_data['device_category'] = train_data['device_category'].fillna(value = 'Unknown')\n",
    "train_data['gender'] = train_data['gender'].fillna(value = 'Unknown')\n",
    "train_data['age_group'] = train_data['age_group'].fillna(value = 'Unknown')"
   ]
  },
  {
   "cell_type": "code",
   "execution_count": 15,
   "id": "floppy-second",
   "metadata": {},
   "outputs": [],
   "source": [
    "train_data = train_data.drop(columns = ['next_month_plan'])"
   ]
  },
  {
   "cell_type": "code",
   "execution_count": 16,
   "id": "minimal-producer",
   "metadata": {},
   "outputs": [],
   "source": [
    "train_data['dusage_avg'] = train_data['dusage_avg'].fillna(value = 0)\n",
    "train_data['vusage_offnet_avg'] = train_data['vusage_offnet_avg'].fillna(value = 0)\n",
    "train_data['add_on_tot_rental'] = train_data['add_on_tot_rental'].fillna(value = -1)\n",
    "train_data['add_on_count'] = train_data['add_on_count'].fillna(value = 0)\n",
    "train_data['vusage_onnet_avg'] = train_data['vusage_onnet_avg'].fillna(value = 0)"
   ]
  },
  {
   "cell_type": "code",
   "execution_count": 17,
   "id": "regulation-appointment",
   "metadata": {},
   "outputs": [
    {
     "name": "stdout",
     "output_type": "stream",
     "text": [
      "<class 'pandas.core.frame.DataFrame'>\n",
      "RangeIndex: 10500 entries, 0 to 10499\n",
      "Data columns (total 34 columns):\n",
      " #   Column                       Non-Null Count  Dtype  \n",
      "---  ------                       --------------  -----  \n",
      " 0   primary_identifier           10500 non-null  int64  \n",
      " 1   device_type                  10500 non-null  object \n",
      " 2   device_category              10500 non-null  object \n",
      " 3   gender                       10500 non-null  object \n",
      " 4   district_name                10500 non-null  object \n",
      " 5   age_group                    10500 non-null  object \n",
      " 6   network_stay                 10500 non-null  int64  \n",
      " 7   average_monthly_bill_amount  10500 non-null  float64\n",
      " 8   dusage_sum                   10500 non-null  int64  \n",
      " 9   dusage_min                   10500 non-null  float64\n",
      " 10  dusage_max                   10500 non-null  float64\n",
      " 11  dusage_diff                  10500 non-null  float64\n",
      " 12  dusage_avg                   10500 non-null  float64\n",
      " 13  dusage_days                  10500 non-null  int64  \n",
      " 14  dusage_stddev                10500 non-null  float64\n",
      " 15  vusage_onnet_sum             10500 non-null  int64  \n",
      " 16  vusage_onnet_max             10500 non-null  float64\n",
      " 17  vusage_onnet_min             10500 non-null  int64  \n",
      " 18  vusage_onnet_diff            10500 non-null  float64\n",
      " 19  vusage_onnet_days            10500 non-null  int64  \n",
      " 20  vusage_onnet_avg             10500 non-null  float64\n",
      " 21  vusage_onnet_stddev          10500 non-null  float64\n",
      " 22  vusage_offnet_sum            10500 non-null  int64  \n",
      " 23  vusage_offnet_max            10500 non-null  float64\n",
      " 24  vusage_offnet_min            10500 non-null  float64\n",
      " 25  vusage_offnet_diff           10500 non-null  float64\n",
      " 26  vusage_offnet_days           10500 non-null  int64  \n",
      " 27  vusage_offnet_avg            10500 non-null  float64\n",
      " 28  vusage_offnet_stddev         10500 non-null  float64\n",
      " 29  number_of_fixed_bb_accounts  10500 non-null  int64  \n",
      " 30  number_of_iptv_accounts      10500 non-null  int64  \n",
      " 31  add_on_tot_rental            10500 non-null  float64\n",
      " 32  add_on_count                 10500 non-null  float64\n",
      " 33  encoded_class_labels         10500 non-null  int64  \n",
      "dtypes: float64(17), int64(12), object(5)\n",
      "memory usage: 2.7+ MB\n"
     ]
    }
   ],
   "source": [
    "train_data.info()"
   ]
  },
  {
   "cell_type": "markdown",
   "id": "warming-pocket",
   "metadata": {},
   "source": [
    "## Creating pre-processing pipeline"
   ]
  },
  {
   "cell_type": "code",
   "execution_count": 18,
   "id": "former-letter",
   "metadata": {},
   "outputs": [
    {
     "data": {
      "text/plain": [
       "Index(['primary_identifier', 'device_type', 'device_category', 'gender',\n",
       "       'district_name', 'age_group', 'network_stay',\n",
       "       'average_monthly_bill_amount', 'dusage_sum', 'dusage_min', 'dusage_max',\n",
       "       'dusage_diff', 'dusage_avg', 'dusage_days', 'dusage_stddev',\n",
       "       'vusage_onnet_sum', 'vusage_onnet_max', 'vusage_onnet_min',\n",
       "       'vusage_onnet_diff', 'vusage_onnet_days', 'vusage_onnet_avg',\n",
       "       'vusage_onnet_stddev', 'vusage_offnet_sum', 'vusage_offnet_max',\n",
       "       'vusage_offnet_min', 'vusage_offnet_diff', 'vusage_offnet_days',\n",
       "       'vusage_offnet_avg', 'vusage_offnet_stddev',\n",
       "       'number_of_fixed_bb_accounts', 'number_of_iptv_accounts',\n",
       "       'add_on_tot_rental', 'add_on_count', 'encoded_class_labels'],\n",
       "      dtype='object')"
      ]
     },
     "execution_count": 18,
     "metadata": {},
     "output_type": "execute_result"
    }
   ],
   "source": [
    "train_data.columns"
   ]
  },
  {
   "cell_type": "code",
   "execution_count": 19,
   "id": "encouraging-strap",
   "metadata": {},
   "outputs": [],
   "source": [
    "def get_col_types(dataframe):\n",
    "    data_cat_cols = []\n",
    "    data_quan_cols = []\n",
    "    \n",
    "    for col in np.array(dataframe.columns):\n",
    "        if dataframe[col].dtype == 'int64' or dataframe[col].dtype == 'float64':\n",
    "            data_quan_cols.append(col)\n",
    "        elif dataframe[col].dtype == 'O':\n",
    "            data_cat_cols.append(col)\n",
    "            \n",
    "    return data_cat_cols, data_quan_cols"
   ]
  },
  {
   "cell_type": "code",
   "execution_count": 21,
   "id": "experienced-blocking",
   "metadata": {},
   "outputs": [],
   "source": [
    "X = train_data.drop(columns=['encoded_class_labels', 'primary_identifier'])"
   ]
  },
  {
   "cell_type": "code",
   "execution_count": 22,
   "id": "floppy-graduate",
   "metadata": {},
   "outputs": [],
   "source": [
    "data_cat_cols, data_quan_cols = get_col_types(X)"
   ]
  },
  {
   "cell_type": "code",
   "execution_count": 23,
   "id": "automatic-nerve",
   "metadata": {},
   "outputs": [
    {
     "data": {
      "text/plain": [
       "['device_type', 'device_category', 'gender', 'district_name', 'age_group']"
      ]
     },
     "execution_count": 23,
     "metadata": {},
     "output_type": "execute_result"
    }
   ],
   "source": [
    "data_cat_cols"
   ]
  },
  {
   "cell_type": "code",
   "execution_count": 24,
   "id": "allied-latest",
   "metadata": {},
   "outputs": [
    {
     "data": {
      "text/plain": [
       "['network_stay',\n",
       " 'average_monthly_bill_amount',\n",
       " 'dusage_sum',\n",
       " 'dusage_min',\n",
       " 'dusage_max',\n",
       " 'dusage_diff',\n",
       " 'dusage_avg',\n",
       " 'dusage_days',\n",
       " 'dusage_stddev',\n",
       " 'vusage_onnet_sum',\n",
       " 'vusage_onnet_max',\n",
       " 'vusage_onnet_min',\n",
       " 'vusage_onnet_diff',\n",
       " 'vusage_onnet_days',\n",
       " 'vusage_onnet_avg',\n",
       " 'vusage_onnet_stddev',\n",
       " 'vusage_offnet_sum',\n",
       " 'vusage_offnet_max',\n",
       " 'vusage_offnet_min',\n",
       " 'vusage_offnet_diff',\n",
       " 'vusage_offnet_days',\n",
       " 'vusage_offnet_avg',\n",
       " 'vusage_offnet_stddev',\n",
       " 'number_of_fixed_bb_accounts',\n",
       " 'number_of_iptv_accounts',\n",
       " 'add_on_tot_rental',\n",
       " 'add_on_count']"
      ]
     },
     "execution_count": 24,
     "metadata": {},
     "output_type": "execute_result"
    }
   ],
   "source": [
    "data_quan_cols"
   ]
  },
  {
   "cell_type": "code",
   "execution_count": 25,
   "id": "crucial-daily",
   "metadata": {},
   "outputs": [],
   "source": [
    "y = train_data['encoded_class_labels']"
   ]
  },
  {
   "cell_type": "code",
   "execution_count": 26,
   "id": "supreme-defense",
   "metadata": {},
   "outputs": [],
   "source": [
    "X_train, X_test, Y_train, Y_test = train_test_split(X, y, random_state=10, test_size = 0.05, stratify = y)"
   ]
  },
  {
   "cell_type": "code",
   "execution_count": 27,
   "id": "wound-reproduction",
   "metadata": {},
   "outputs": [
    {
     "data": {
      "text/html": [
       "<div>\n",
       "<style scoped>\n",
       "    .dataframe tbody tr th:only-of-type {\n",
       "        vertical-align: middle;\n",
       "    }\n",
       "\n",
       "    .dataframe tbody tr th {\n",
       "        vertical-align: top;\n",
       "    }\n",
       "\n",
       "    .dataframe thead th {\n",
       "        text-align: right;\n",
       "    }\n",
       "</style>\n",
       "<table border=\"1\" class=\"dataframe\">\n",
       "  <thead>\n",
       "    <tr style=\"text-align: right;\">\n",
       "      <th></th>\n",
       "      <th>device_type</th>\n",
       "      <th>device_category</th>\n",
       "      <th>gender</th>\n",
       "      <th>district_name</th>\n",
       "      <th>age_group</th>\n",
       "      <th>network_stay</th>\n",
       "      <th>average_monthly_bill_amount</th>\n",
       "      <th>dusage_sum</th>\n",
       "      <th>dusage_min</th>\n",
       "      <th>dusage_max</th>\n",
       "      <th>...</th>\n",
       "      <th>vusage_offnet_max</th>\n",
       "      <th>vusage_offnet_min</th>\n",
       "      <th>vusage_offnet_diff</th>\n",
       "      <th>vusage_offnet_days</th>\n",
       "      <th>vusage_offnet_avg</th>\n",
       "      <th>vusage_offnet_stddev</th>\n",
       "      <th>number_of_fixed_bb_accounts</th>\n",
       "      <th>number_of_iptv_accounts</th>\n",
       "      <th>add_on_tot_rental</th>\n",
       "      <th>add_on_count</th>\n",
       "    </tr>\n",
       "  </thead>\n",
       "  <tbody>\n",
       "    <tr>\n",
       "      <th>6155</th>\n",
       "      <td>4G</td>\n",
       "      <td>Smartphone</td>\n",
       "      <td>MALE</td>\n",
       "      <td>Colombo</td>\n",
       "      <td>60-70</td>\n",
       "      <td>39</td>\n",
       "      <td>831.92</td>\n",
       "      <td>34164</td>\n",
       "      <td>425.700622</td>\n",
       "      <td>1789.252680</td>\n",
       "      <td>...</td>\n",
       "      <td>3.600000</td>\n",
       "      <td>0.0</td>\n",
       "      <td>3.600000</td>\n",
       "      <td>5</td>\n",
       "      <td>1.103333</td>\n",
       "      <td>0.672225</td>\n",
       "      <td>1</td>\n",
       "      <td>2</td>\n",
       "      <td>360.0</td>\n",
       "      <td>2.0</td>\n",
       "    </tr>\n",
       "    <tr>\n",
       "      <th>2288</th>\n",
       "      <td>4G</td>\n",
       "      <td>Smartphone</td>\n",
       "      <td>MALE</td>\n",
       "      <td>Kandy</td>\n",
       "      <td>20-30</td>\n",
       "      <td>93</td>\n",
       "      <td>2677.35</td>\n",
       "      <td>11984</td>\n",
       "      <td>2.270360</td>\n",
       "      <td>1055.490074</td>\n",
       "      <td>...</td>\n",
       "      <td>0.000000</td>\n",
       "      <td>0.0</td>\n",
       "      <td>0.000000</td>\n",
       "      <td>0</td>\n",
       "      <td>0.000000</td>\n",
       "      <td>0.000000</td>\n",
       "      <td>0</td>\n",
       "      <td>0</td>\n",
       "      <td>-1.0</td>\n",
       "      <td>0.0</td>\n",
       "    </tr>\n",
       "    <tr>\n",
       "      <th>9714</th>\n",
       "      <td>4G</td>\n",
       "      <td>Smartphone</td>\n",
       "      <td>MALE</td>\n",
       "      <td>Colombo</td>\n",
       "      <td>40-50</td>\n",
       "      <td>92</td>\n",
       "      <td>2627.77</td>\n",
       "      <td>19830</td>\n",
       "      <td>114.694360</td>\n",
       "      <td>1129.623393</td>\n",
       "      <td>...</td>\n",
       "      <td>0.000000</td>\n",
       "      <td>0.0</td>\n",
       "      <td>0.000000</td>\n",
       "      <td>0</td>\n",
       "      <td>0.000000</td>\n",
       "      <td>0.000000</td>\n",
       "      <td>0</td>\n",
       "      <td>0</td>\n",
       "      <td>-1.0</td>\n",
       "      <td>0.0</td>\n",
       "    </tr>\n",
       "    <tr>\n",
       "      <th>7157</th>\n",
       "      <td>4G</td>\n",
       "      <td>Smartphone</td>\n",
       "      <td>MALE</td>\n",
       "      <td>Colombo</td>\n",
       "      <td>40-50</td>\n",
       "      <td>158</td>\n",
       "      <td>4795.76</td>\n",
       "      <td>8498</td>\n",
       "      <td>13.755560</td>\n",
       "      <td>725.783259</td>\n",
       "      <td>...</td>\n",
       "      <td>17.050000</td>\n",
       "      <td>0.0</td>\n",
       "      <td>17.050000</td>\n",
       "      <td>22</td>\n",
       "      <td>5.197727</td>\n",
       "      <td>4.522210</td>\n",
       "      <td>0</td>\n",
       "      <td>0</td>\n",
       "      <td>360.0</td>\n",
       "      <td>2.0</td>\n",
       "    </tr>\n",
       "    <tr>\n",
       "      <th>738</th>\n",
       "      <td>4G</td>\n",
       "      <td>Smartphone</td>\n",
       "      <td>MALE</td>\n",
       "      <td>Colombo</td>\n",
       "      <td>50-60</td>\n",
       "      <td>51</td>\n",
       "      <td>3978.40</td>\n",
       "      <td>36917</td>\n",
       "      <td>660.364806</td>\n",
       "      <td>2735.215541</td>\n",
       "      <td>...</td>\n",
       "      <td>0.000000</td>\n",
       "      <td>0.0</td>\n",
       "      <td>0.000000</td>\n",
       "      <td>0</td>\n",
       "      <td>0.000000</td>\n",
       "      <td>0.000000</td>\n",
       "      <td>0</td>\n",
       "      <td>0</td>\n",
       "      <td>1500.0</td>\n",
       "      <td>1.0</td>\n",
       "    </tr>\n",
       "    <tr>\n",
       "      <th>490</th>\n",
       "      <td>4G</td>\n",
       "      <td>Smartphone</td>\n",
       "      <td>FEMALE</td>\n",
       "      <td>Colombo</td>\n",
       "      <td>40-50</td>\n",
       "      <td>133</td>\n",
       "      <td>2582.98</td>\n",
       "      <td>6820</td>\n",
       "      <td>16.479900</td>\n",
       "      <td>766.500066</td>\n",
       "      <td>...</td>\n",
       "      <td>66.483333</td>\n",
       "      <td>0.0</td>\n",
       "      <td>66.483333</td>\n",
       "      <td>18</td>\n",
       "      <td>18.367593</td>\n",
       "      <td>18.339099</td>\n",
       "      <td>0</td>\n",
       "      <td>1</td>\n",
       "      <td>650.0</td>\n",
       "      <td>1.0</td>\n",
       "    </tr>\n",
       "    <tr>\n",
       "      <th>467</th>\n",
       "      <td>4G</td>\n",
       "      <td>Smartphone</td>\n",
       "      <td>MALE</td>\n",
       "      <td>Kalutara</td>\n",
       "      <td>40-50</td>\n",
       "      <td>9</td>\n",
       "      <td>906.76</td>\n",
       "      <td>7652</td>\n",
       "      <td>0.043341</td>\n",
       "      <td>958.006304</td>\n",
       "      <td>...</td>\n",
       "      <td>17.700000</td>\n",
       "      <td>0.0</td>\n",
       "      <td>17.700000</td>\n",
       "      <td>27</td>\n",
       "      <td>3.873457</td>\n",
       "      <td>4.288491</td>\n",
       "      <td>0</td>\n",
       "      <td>0</td>\n",
       "      <td>110.0</td>\n",
       "      <td>2.0</td>\n",
       "    </tr>\n",
       "    <tr>\n",
       "      <th>6161</th>\n",
       "      <td>4G</td>\n",
       "      <td>Smartphone</td>\n",
       "      <td>MALE</td>\n",
       "      <td>Colombo</td>\n",
       "      <td>30-40</td>\n",
       "      <td>32</td>\n",
       "      <td>2148.93</td>\n",
       "      <td>10470</td>\n",
       "      <td>24.448140</td>\n",
       "      <td>1649.124297</td>\n",
       "      <td>...</td>\n",
       "      <td>21.683333</td>\n",
       "      <td>0.0</td>\n",
       "      <td>21.683333</td>\n",
       "      <td>9</td>\n",
       "      <td>5.916667</td>\n",
       "      <td>4.704471</td>\n",
       "      <td>0</td>\n",
       "      <td>0</td>\n",
       "      <td>-1.0</td>\n",
       "      <td>0.0</td>\n",
       "    </tr>\n",
       "    <tr>\n",
       "      <th>1343</th>\n",
       "      <td>4G</td>\n",
       "      <td>Smartphone</td>\n",
       "      <td>MALE</td>\n",
       "      <td>Gampaha</td>\n",
       "      <td>40-50</td>\n",
       "      <td>10</td>\n",
       "      <td>2759.05</td>\n",
       "      <td>15901</td>\n",
       "      <td>102.143398</td>\n",
       "      <td>1233.143407</td>\n",
       "      <td>...</td>\n",
       "      <td>8.533333</td>\n",
       "      <td>0.0</td>\n",
       "      <td>8.533333</td>\n",
       "      <td>11</td>\n",
       "      <td>4.140909</td>\n",
       "      <td>2.426823</td>\n",
       "      <td>0</td>\n",
       "      <td>0</td>\n",
       "      <td>-1.0</td>\n",
       "      <td>0.0</td>\n",
       "    </tr>\n",
       "    <tr>\n",
       "      <th>5792</th>\n",
       "      <td>4G</td>\n",
       "      <td>Smartphone</td>\n",
       "      <td>MALE</td>\n",
       "      <td>Colombo</td>\n",
       "      <td>50-60</td>\n",
       "      <td>198</td>\n",
       "      <td>1069.44</td>\n",
       "      <td>13193</td>\n",
       "      <td>52.539788</td>\n",
       "      <td>1733.798770</td>\n",
       "      <td>...</td>\n",
       "      <td>13.333333</td>\n",
       "      <td>0.0</td>\n",
       "      <td>13.333333</td>\n",
       "      <td>8</td>\n",
       "      <td>3.879167</td>\n",
       "      <td>2.785113</td>\n",
       "      <td>1</td>\n",
       "      <td>0</td>\n",
       "      <td>600.0</td>\n",
       "      <td>2.0</td>\n",
       "    </tr>\n",
       "    <tr>\n",
       "      <th>9711</th>\n",
       "      <td>4G</td>\n",
       "      <td>Smartphone</td>\n",
       "      <td>FEMALE</td>\n",
       "      <td>Gampaha</td>\n",
       "      <td>40-50</td>\n",
       "      <td>106</td>\n",
       "      <td>2126.13</td>\n",
       "      <td>5165</td>\n",
       "      <td>0.000000</td>\n",
       "      <td>960.163307</td>\n",
       "      <td>...</td>\n",
       "      <td>0.000000</td>\n",
       "      <td>0.0</td>\n",
       "      <td>0.000000</td>\n",
       "      <td>0</td>\n",
       "      <td>0.000000</td>\n",
       "      <td>0.000000</td>\n",
       "      <td>0</td>\n",
       "      <td>0</td>\n",
       "      <td>40.0</td>\n",
       "      <td>1.0</td>\n",
       "    </tr>\n",
       "    <tr>\n",
       "      <th>8101</th>\n",
       "      <td>4G</td>\n",
       "      <td>Smartphone</td>\n",
       "      <td>FEMALE</td>\n",
       "      <td>Kalutara</td>\n",
       "      <td>40-50</td>\n",
       "      <td>5</td>\n",
       "      <td>989.94</td>\n",
       "      <td>10032</td>\n",
       "      <td>342.528443</td>\n",
       "      <td>1654.087762</td>\n",
       "      <td>...</td>\n",
       "      <td>0.000000</td>\n",
       "      <td>0.0</td>\n",
       "      <td>0.000000</td>\n",
       "      <td>0</td>\n",
       "      <td>0.000000</td>\n",
       "      <td>0.000000</td>\n",
       "      <td>0</td>\n",
       "      <td>0</td>\n",
       "      <td>520.0</td>\n",
       "      <td>3.0</td>\n",
       "    </tr>\n",
       "    <tr>\n",
       "      <th>2582</th>\n",
       "      <td>4G</td>\n",
       "      <td>Smartphone</td>\n",
       "      <td>FEMALE</td>\n",
       "      <td>Gampaha</td>\n",
       "      <td>40-50</td>\n",
       "      <td>10</td>\n",
       "      <td>829.50</td>\n",
       "      <td>13010</td>\n",
       "      <td>0.000000</td>\n",
       "      <td>1781.257216</td>\n",
       "      <td>...</td>\n",
       "      <td>8.050000</td>\n",
       "      <td>0.0</td>\n",
       "      <td>8.050000</td>\n",
       "      <td>2</td>\n",
       "      <td>4.900000</td>\n",
       "      <td>1.493245</td>\n",
       "      <td>0</td>\n",
       "      <td>0</td>\n",
       "      <td>410.0</td>\n",
       "      <td>2.0</td>\n",
       "    </tr>\n",
       "    <tr>\n",
       "      <th>3711</th>\n",
       "      <td>4G</td>\n",
       "      <td>Smartphone</td>\n",
       "      <td>FEMALE</td>\n",
       "      <td>Colombo</td>\n",
       "      <td>20-30</td>\n",
       "      <td>53</td>\n",
       "      <td>1010.39</td>\n",
       "      <td>2585</td>\n",
       "      <td>2.542772</td>\n",
       "      <td>485.774677</td>\n",
       "      <td>...</td>\n",
       "      <td>11.833333</td>\n",
       "      <td>0.0</td>\n",
       "      <td>11.833333</td>\n",
       "      <td>25</td>\n",
       "      <td>3.258667</td>\n",
       "      <td>3.088797</td>\n",
       "      <td>0</td>\n",
       "      <td>0</td>\n",
       "      <td>200.0</td>\n",
       "      <td>1.0</td>\n",
       "    </tr>\n",
       "    <tr>\n",
       "      <th>2789</th>\n",
       "      <td>2G</td>\n",
       "      <td>Feature phone</td>\n",
       "      <td>MALE</td>\n",
       "      <td>Badulla</td>\n",
       "      <td>40-50</td>\n",
       "      <td>185</td>\n",
       "      <td>745.14</td>\n",
       "      <td>0</td>\n",
       "      <td>0.000000</td>\n",
       "      <td>0.000000</td>\n",
       "      <td>...</td>\n",
       "      <td>6.066667</td>\n",
       "      <td>0.0</td>\n",
       "      <td>6.066667</td>\n",
       "      <td>21</td>\n",
       "      <td>2.099206</td>\n",
       "      <td>1.724081</td>\n",
       "      <td>0</td>\n",
       "      <td>1</td>\n",
       "      <td>-1.0</td>\n",
       "      <td>0.0</td>\n",
       "    </tr>\n",
       "    <tr>\n",
       "      <th>5569</th>\n",
       "      <td>4G</td>\n",
       "      <td>Smartphone</td>\n",
       "      <td>FEMALE</td>\n",
       "      <td>Gampaha</td>\n",
       "      <td>30-40</td>\n",
       "      <td>88</td>\n",
       "      <td>2090.50</td>\n",
       "      <td>4069</td>\n",
       "      <td>16.297462</td>\n",
       "      <td>477.574168</td>\n",
       "      <td>...</td>\n",
       "      <td>33.616667</td>\n",
       "      <td>0.0</td>\n",
       "      <td>33.616667</td>\n",
       "      <td>24</td>\n",
       "      <td>12.493750</td>\n",
       "      <td>10.299765</td>\n",
       "      <td>0</td>\n",
       "      <td>0</td>\n",
       "      <td>0.0</td>\n",
       "      <td>1.0</td>\n",
       "    </tr>\n",
       "    <tr>\n",
       "      <th>3744</th>\n",
       "      <td>4G</td>\n",
       "      <td>Smartphone</td>\n",
       "      <td>FEMALE</td>\n",
       "      <td>Gampaha</td>\n",
       "      <td>30-40</td>\n",
       "      <td>5</td>\n",
       "      <td>1405.05</td>\n",
       "      <td>2094</td>\n",
       "      <td>2.217326</td>\n",
       "      <td>295.740664</td>\n",
       "      <td>...</td>\n",
       "      <td>54.500000</td>\n",
       "      <td>0.0</td>\n",
       "      <td>54.500000</td>\n",
       "      <td>13</td>\n",
       "      <td>12.434615</td>\n",
       "      <td>12.956256</td>\n",
       "      <td>0</td>\n",
       "      <td>0</td>\n",
       "      <td>350.0</td>\n",
       "      <td>1.0</td>\n",
       "    </tr>\n",
       "    <tr>\n",
       "      <th>714</th>\n",
       "      <td>2G</td>\n",
       "      <td>Basic</td>\n",
       "      <td>MALE</td>\n",
       "      <td>Kalutara</td>\n",
       "      <td>30-40</td>\n",
       "      <td>20</td>\n",
       "      <td>1039.11</td>\n",
       "      <td>0</td>\n",
       "      <td>0.000000</td>\n",
       "      <td>0.000000</td>\n",
       "      <td>...</td>\n",
       "      <td>14.933333</td>\n",
       "      <td>0.0</td>\n",
       "      <td>14.933333</td>\n",
       "      <td>20</td>\n",
       "      <td>2.356667</td>\n",
       "      <td>2.953237</td>\n",
       "      <td>0</td>\n",
       "      <td>1</td>\n",
       "      <td>-1.0</td>\n",
       "      <td>0.0</td>\n",
       "    </tr>\n",
       "    <tr>\n",
       "      <th>7060</th>\n",
       "      <td>4G</td>\n",
       "      <td>Smartphone</td>\n",
       "      <td>MALE</td>\n",
       "      <td>Jaffna</td>\n",
       "      <td>30-40</td>\n",
       "      <td>203</td>\n",
       "      <td>3112.37</td>\n",
       "      <td>6446</td>\n",
       "      <td>0.000751</td>\n",
       "      <td>887.345405</td>\n",
       "      <td>...</td>\n",
       "      <td>3.450000</td>\n",
       "      <td>0.0</td>\n",
       "      <td>3.450000</td>\n",
       "      <td>3</td>\n",
       "      <td>1.766667</td>\n",
       "      <td>0.775940</td>\n",
       "      <td>0</td>\n",
       "      <td>0</td>\n",
       "      <td>800.0</td>\n",
       "      <td>3.0</td>\n",
       "    </tr>\n",
       "    <tr>\n",
       "      <th>6213</th>\n",
       "      <td>4G</td>\n",
       "      <td>Smartphone</td>\n",
       "      <td>FEMALE</td>\n",
       "      <td>Puttalam</td>\n",
       "      <td>&gt;70</td>\n",
       "      <td>9</td>\n",
       "      <td>473.19</td>\n",
       "      <td>0</td>\n",
       "      <td>0.000000</td>\n",
       "      <td>0.000000</td>\n",
       "      <td>...</td>\n",
       "      <td>10.733333</td>\n",
       "      <td>0.0</td>\n",
       "      <td>10.733333</td>\n",
       "      <td>9</td>\n",
       "      <td>2.475926</td>\n",
       "      <td>2.614520</td>\n",
       "      <td>0</td>\n",
       "      <td>0</td>\n",
       "      <td>-1.0</td>\n",
       "      <td>0.0</td>\n",
       "    </tr>\n",
       "  </tbody>\n",
       "</table>\n",
       "<p>20 rows × 32 columns</p>\n",
       "</div>"
      ],
      "text/plain": [
       "     device_type device_category  gender district_name age_group  \\\n",
       "6155          4G      Smartphone    MALE       Colombo     60-70   \n",
       "2288          4G      Smartphone    MALE         Kandy     20-30   \n",
       "9714          4G      Smartphone    MALE       Colombo     40-50   \n",
       "7157          4G      Smartphone    MALE       Colombo     40-50   \n",
       "738           4G      Smartphone    MALE       Colombo     50-60   \n",
       "490           4G      Smartphone  FEMALE       Colombo     40-50   \n",
       "467           4G      Smartphone    MALE      Kalutara     40-50   \n",
       "6161          4G      Smartphone    MALE       Colombo     30-40   \n",
       "1343          4G      Smartphone    MALE       Gampaha     40-50   \n",
       "5792          4G      Smartphone    MALE       Colombo     50-60   \n",
       "9711          4G      Smartphone  FEMALE       Gampaha     40-50   \n",
       "8101          4G      Smartphone  FEMALE      Kalutara     40-50   \n",
       "2582          4G      Smartphone  FEMALE       Gampaha     40-50   \n",
       "3711          4G      Smartphone  FEMALE       Colombo     20-30   \n",
       "2789          2G   Feature phone    MALE       Badulla     40-50   \n",
       "5569          4G      Smartphone  FEMALE       Gampaha     30-40   \n",
       "3744          4G      Smartphone  FEMALE       Gampaha     30-40   \n",
       "714           2G           Basic    MALE      Kalutara     30-40   \n",
       "7060          4G      Smartphone    MALE        Jaffna     30-40   \n",
       "6213          4G      Smartphone  FEMALE      Puttalam       >70   \n",
       "\n",
       "      network_stay  average_monthly_bill_amount  dusage_sum  dusage_min  \\\n",
       "6155            39                       831.92       34164  425.700622   \n",
       "2288            93                      2677.35       11984    2.270360   \n",
       "9714            92                      2627.77       19830  114.694360   \n",
       "7157           158                      4795.76        8498   13.755560   \n",
       "738             51                      3978.40       36917  660.364806   \n",
       "490            133                      2582.98        6820   16.479900   \n",
       "467              9                       906.76        7652    0.043341   \n",
       "6161            32                      2148.93       10470   24.448140   \n",
       "1343            10                      2759.05       15901  102.143398   \n",
       "5792           198                      1069.44       13193   52.539788   \n",
       "9711           106                      2126.13        5165    0.000000   \n",
       "8101             5                       989.94       10032  342.528443   \n",
       "2582            10                       829.50       13010    0.000000   \n",
       "3711            53                      1010.39        2585    2.542772   \n",
       "2789           185                       745.14           0    0.000000   \n",
       "5569            88                      2090.50        4069   16.297462   \n",
       "3744             5                      1405.05        2094    2.217326   \n",
       "714             20                      1039.11           0    0.000000   \n",
       "7060           203                      3112.37        6446    0.000751   \n",
       "6213             9                       473.19           0    0.000000   \n",
       "\n",
       "       dusage_max  ...  vusage_offnet_max  vusage_offnet_min  \\\n",
       "6155  1789.252680  ...           3.600000                0.0   \n",
       "2288  1055.490074  ...           0.000000                0.0   \n",
       "9714  1129.623393  ...           0.000000                0.0   \n",
       "7157   725.783259  ...          17.050000                0.0   \n",
       "738   2735.215541  ...           0.000000                0.0   \n",
       "490    766.500066  ...          66.483333                0.0   \n",
       "467    958.006304  ...          17.700000                0.0   \n",
       "6161  1649.124297  ...          21.683333                0.0   \n",
       "1343  1233.143407  ...           8.533333                0.0   \n",
       "5792  1733.798770  ...          13.333333                0.0   \n",
       "9711   960.163307  ...           0.000000                0.0   \n",
       "8101  1654.087762  ...           0.000000                0.0   \n",
       "2582  1781.257216  ...           8.050000                0.0   \n",
       "3711   485.774677  ...          11.833333                0.0   \n",
       "2789     0.000000  ...           6.066667                0.0   \n",
       "5569   477.574168  ...          33.616667                0.0   \n",
       "3744   295.740664  ...          54.500000                0.0   \n",
       "714      0.000000  ...          14.933333                0.0   \n",
       "7060   887.345405  ...           3.450000                0.0   \n",
       "6213     0.000000  ...          10.733333                0.0   \n",
       "\n",
       "      vusage_offnet_diff  vusage_offnet_days  vusage_offnet_avg  \\\n",
       "6155            3.600000                   5           1.103333   \n",
       "2288            0.000000                   0           0.000000   \n",
       "9714            0.000000                   0           0.000000   \n",
       "7157           17.050000                  22           5.197727   \n",
       "738             0.000000                   0           0.000000   \n",
       "490            66.483333                  18          18.367593   \n",
       "467            17.700000                  27           3.873457   \n",
       "6161           21.683333                   9           5.916667   \n",
       "1343            8.533333                  11           4.140909   \n",
       "5792           13.333333                   8           3.879167   \n",
       "9711            0.000000                   0           0.000000   \n",
       "8101            0.000000                   0           0.000000   \n",
       "2582            8.050000                   2           4.900000   \n",
       "3711           11.833333                  25           3.258667   \n",
       "2789            6.066667                  21           2.099206   \n",
       "5569           33.616667                  24          12.493750   \n",
       "3744           54.500000                  13          12.434615   \n",
       "714            14.933333                  20           2.356667   \n",
       "7060            3.450000                   3           1.766667   \n",
       "6213           10.733333                   9           2.475926   \n",
       "\n",
       "      vusage_offnet_stddev  number_of_fixed_bb_accounts  \\\n",
       "6155              0.672225                            1   \n",
       "2288              0.000000                            0   \n",
       "9714              0.000000                            0   \n",
       "7157              4.522210                            0   \n",
       "738               0.000000                            0   \n",
       "490              18.339099                            0   \n",
       "467               4.288491                            0   \n",
       "6161              4.704471                            0   \n",
       "1343              2.426823                            0   \n",
       "5792              2.785113                            1   \n",
       "9711              0.000000                            0   \n",
       "8101              0.000000                            0   \n",
       "2582              1.493245                            0   \n",
       "3711              3.088797                            0   \n",
       "2789              1.724081                            0   \n",
       "5569             10.299765                            0   \n",
       "3744             12.956256                            0   \n",
       "714               2.953237                            0   \n",
       "7060              0.775940                            0   \n",
       "6213              2.614520                            0   \n",
       "\n",
       "      number_of_iptv_accounts  add_on_tot_rental  add_on_count  \n",
       "6155                        2              360.0           2.0  \n",
       "2288                        0               -1.0           0.0  \n",
       "9714                        0               -1.0           0.0  \n",
       "7157                        0              360.0           2.0  \n",
       "738                         0             1500.0           1.0  \n",
       "490                         1              650.0           1.0  \n",
       "467                         0              110.0           2.0  \n",
       "6161                        0               -1.0           0.0  \n",
       "1343                        0               -1.0           0.0  \n",
       "5792                        0              600.0           2.0  \n",
       "9711                        0               40.0           1.0  \n",
       "8101                        0              520.0           3.0  \n",
       "2582                        0              410.0           2.0  \n",
       "3711                        0              200.0           1.0  \n",
       "2789                        1               -1.0           0.0  \n",
       "5569                        0                0.0           1.0  \n",
       "3744                        0              350.0           1.0  \n",
       "714                         1               -1.0           0.0  \n",
       "7060                        0              800.0           3.0  \n",
       "6213                        0               -1.0           0.0  \n",
       "\n",
       "[20 rows x 32 columns]"
      ]
     },
     "execution_count": 27,
     "metadata": {},
     "output_type": "execute_result"
    }
   ],
   "source": [
    "X_train.head(20)"
   ]
  },
  {
   "cell_type": "code",
   "execution_count": 28,
   "id": "preceding-findings",
   "metadata": {},
   "outputs": [
    {
     "data": {
      "text/plain": [
       "array(['60-70', '20-30', '40-50', '50-60', '30-40', '>70', 'Unknown',\n",
       "       '<20'], dtype=object)"
      ]
     },
     "execution_count": 28,
     "metadata": {},
     "output_type": "execute_result"
    }
   ],
   "source": [
    "X_train['age_group'].unique()"
   ]
  },
  {
   "cell_type": "code",
   "execution_count": 29,
   "id": "signal-contest",
   "metadata": {},
   "outputs": [
    {
     "data": {
      "text/plain": [
       "(9975, 32)"
      ]
     },
     "execution_count": 29,
     "metadata": {},
     "output_type": "execute_result"
    }
   ],
   "source": [
    "X_train.shape"
   ]
  },
  {
   "cell_type": "code",
   "execution_count": 30,
   "id": "musical-stability",
   "metadata": {},
   "outputs": [],
   "source": [
    "quan_pipeline = Pipeline([\n",
    "    ('std_scaler', RobustScaler())\n",
    "])\n",
    "\n",
    "quan_transformed = quan_pipeline.fit_transform(X_train[data_quan_cols])"
   ]
  },
  {
   "cell_type": "code",
   "execution_count": 31,
   "id": "breathing-integer",
   "metadata": {},
   "outputs": [],
   "source": [
    "data_pipeline = ColumnTransformer([\n",
    "    ('numerical', quan_pipeline, data_quan_cols),\n",
    "    ('categorical', OrdinalEncoder(), data_cat_cols),\n",
    "    \n",
    "])\n",
    "\n",
    "train_data_processed = data_pipeline.fit_transform(X_train)"
   ]
  },
  {
   "cell_type": "code",
   "execution_count": 32,
   "id": "attractive-seven",
   "metadata": {},
   "outputs": [
    {
     "data": {
      "text/plain": [
       "array([ 9.44881890e-02,  5.36438249e-01,  2.59987477e-01, -2.46300869e-03,\n",
       "        5.14737330e-02,  9.18799625e-02,  2.02782339e-01,  0.00000000e+00,\n",
       "        1.45573065e-01,  0.00000000e+00,  0.00000000e+00,  0.00000000e+00,\n",
       "        0.00000000e+00,  0.00000000e+00,  0.00000000e+00,  0.00000000e+00,\n",
       "       -2.00000000e-01, -3.26498423e-01,  0.00000000e+00, -3.26627219e-01,\n",
       "       -3.75000000e-01, -4.32542308e-01, -3.23931364e-01,  0.00000000e+00,\n",
       "        0.00000000e+00, -4.45676275e-01, -5.00000000e-01,  2.00000000e+00,\n",
       "        4.00000000e+00,  1.00000000e+00,  1.00000000e+01,  0.00000000e+00])"
      ]
     },
     "execution_count": 32,
     "metadata": {},
     "output_type": "execute_result"
    }
   ],
   "source": [
    "train_data_processed[1]"
   ]
  },
  {
   "cell_type": "code",
   "execution_count": 33,
   "id": "light-unemployment",
   "metadata": {},
   "outputs": [
    {
     "data": {
      "text/html": [
       "<div>\n",
       "<style scoped>\n",
       "    .dataframe tbody tr th:only-of-type {\n",
       "        vertical-align: middle;\n",
       "    }\n",
       "\n",
       "    .dataframe tbody tr th {\n",
       "        vertical-align: top;\n",
       "    }\n",
       "\n",
       "    .dataframe thead th {\n",
       "        text-align: right;\n",
       "    }\n",
       "</style>\n",
       "<table border=\"1\" class=\"dataframe\">\n",
       "  <thead>\n",
       "    <tr style=\"text-align: right;\">\n",
       "      <th></th>\n",
       "      <th>device_type</th>\n",
       "      <th>device_category</th>\n",
       "      <th>gender</th>\n",
       "      <th>district_name</th>\n",
       "      <th>age_group</th>\n",
       "      <th>network_stay</th>\n",
       "      <th>average_monthly_bill_amount</th>\n",
       "      <th>dusage_sum</th>\n",
       "      <th>dusage_min</th>\n",
       "      <th>dusage_max</th>\n",
       "      <th>...</th>\n",
       "      <th>vusage_offnet_max</th>\n",
       "      <th>vusage_offnet_min</th>\n",
       "      <th>vusage_offnet_diff</th>\n",
       "      <th>vusage_offnet_days</th>\n",
       "      <th>vusage_offnet_avg</th>\n",
       "      <th>vusage_offnet_stddev</th>\n",
       "      <th>number_of_fixed_bb_accounts</th>\n",
       "      <th>number_of_iptv_accounts</th>\n",
       "      <th>add_on_tot_rental</th>\n",
       "      <th>add_on_count</th>\n",
       "    </tr>\n",
       "  </thead>\n",
       "  <tbody>\n",
       "    <tr>\n",
       "      <th>231</th>\n",
       "      <td>4G</td>\n",
       "      <td>Smartphone</td>\n",
       "      <td>FEMALE</td>\n",
       "      <td>Colombo</td>\n",
       "      <td>30-40</td>\n",
       "      <td>11</td>\n",
       "      <td>1716.27</td>\n",
       "      <td>12647</td>\n",
       "      <td>0.000000</td>\n",
       "      <td>1875.519728</td>\n",
       "      <td>...</td>\n",
       "      <td>10.366667</td>\n",
       "      <td>0.0</td>\n",
       "      <td>10.366667</td>\n",
       "      <td>4</td>\n",
       "      <td>3.395833</td>\n",
       "      <td>1.946967</td>\n",
       "      <td>0</td>\n",
       "      <td>0</td>\n",
       "      <td>250.0</td>\n",
       "      <td>1.0</td>\n",
       "    </tr>\n",
       "    <tr>\n",
       "      <th>9966</th>\n",
       "      <td>4G</td>\n",
       "      <td>Smartphone</td>\n",
       "      <td>MALE</td>\n",
       "      <td>Ratnapura</td>\n",
       "      <td>20-30</td>\n",
       "      <td>9</td>\n",
       "      <td>985.32</td>\n",
       "      <td>1089</td>\n",
       "      <td>0.000000</td>\n",
       "      <td>267.741177</td>\n",
       "      <td>...</td>\n",
       "      <td>5.850000</td>\n",
       "      <td>0.0</td>\n",
       "      <td>5.850000</td>\n",
       "      <td>11</td>\n",
       "      <td>2.775758</td>\n",
       "      <td>1.919775</td>\n",
       "      <td>0</td>\n",
       "      <td>0</td>\n",
       "      <td>-1.0</td>\n",
       "      <td>0.0</td>\n",
       "    </tr>\n",
       "    <tr>\n",
       "      <th>486</th>\n",
       "      <td>4G</td>\n",
       "      <td>Smartphone</td>\n",
       "      <td>MALE</td>\n",
       "      <td>Gampaha</td>\n",
       "      <td>40-50</td>\n",
       "      <td>108</td>\n",
       "      <td>3518.42</td>\n",
       "      <td>22732</td>\n",
       "      <td>0.000000</td>\n",
       "      <td>1351.566897</td>\n",
       "      <td>...</td>\n",
       "      <td>44.533333</td>\n",
       "      <td>0.0</td>\n",
       "      <td>44.533333</td>\n",
       "      <td>4</td>\n",
       "      <td>28.425000</td>\n",
       "      <td>10.514607</td>\n",
       "      <td>0</td>\n",
       "      <td>0</td>\n",
       "      <td>760.0</td>\n",
       "      <td>2.0</td>\n",
       "    </tr>\n",
       "    <tr>\n",
       "      <th>9686</th>\n",
       "      <td>4G</td>\n",
       "      <td>Smartphone</td>\n",
       "      <td>MALE</td>\n",
       "      <td>Colombo</td>\n",
       "      <td>30-40</td>\n",
       "      <td>34</td>\n",
       "      <td>2559.86</td>\n",
       "      <td>14666</td>\n",
       "      <td>96.475040</td>\n",
       "      <td>1160.861369</td>\n",
       "      <td>...</td>\n",
       "      <td>0.000000</td>\n",
       "      <td>0.0</td>\n",
       "      <td>0.000000</td>\n",
       "      <td>0</td>\n",
       "      <td>0.000000</td>\n",
       "      <td>0.000000</td>\n",
       "      <td>0</td>\n",
       "      <td>0</td>\n",
       "      <td>-1.0</td>\n",
       "      <td>0.0</td>\n",
       "    </tr>\n",
       "    <tr>\n",
       "      <th>6310</th>\n",
       "      <td>4G</td>\n",
       "      <td>Smartphone</td>\n",
       "      <td>FEMALE</td>\n",
       "      <td>Trincomalee</td>\n",
       "      <td>30-40</td>\n",
       "      <td>24</td>\n",
       "      <td>1802.86</td>\n",
       "      <td>31567</td>\n",
       "      <td>521.592238</td>\n",
       "      <td>1672.417785</td>\n",
       "      <td>...</td>\n",
       "      <td>24.683333</td>\n",
       "      <td>0.0</td>\n",
       "      <td>24.683333</td>\n",
       "      <td>12</td>\n",
       "      <td>4.397222</td>\n",
       "      <td>4.734033</td>\n",
       "      <td>0</td>\n",
       "      <td>0</td>\n",
       "      <td>450.0</td>\n",
       "      <td>2.0</td>\n",
       "    </tr>\n",
       "  </tbody>\n",
       "</table>\n",
       "<p>5 rows × 32 columns</p>\n",
       "</div>"
      ],
      "text/plain": [
       "     device_type device_category  gender district_name age_group  \\\n",
       "231           4G      Smartphone  FEMALE       Colombo     30-40   \n",
       "9966          4G      Smartphone    MALE     Ratnapura     20-30   \n",
       "486           4G      Smartphone    MALE       Gampaha     40-50   \n",
       "9686          4G      Smartphone    MALE       Colombo     30-40   \n",
       "6310          4G      Smartphone  FEMALE   Trincomalee     30-40   \n",
       "\n",
       "      network_stay  average_monthly_bill_amount  dusage_sum  dusage_min  \\\n",
       "231             11                      1716.27       12647    0.000000   \n",
       "9966             9                       985.32        1089    0.000000   \n",
       "486            108                      3518.42       22732    0.000000   \n",
       "9686            34                      2559.86       14666   96.475040   \n",
       "6310            24                      1802.86       31567  521.592238   \n",
       "\n",
       "       dusage_max  ...  vusage_offnet_max  vusage_offnet_min  \\\n",
       "231   1875.519728  ...          10.366667                0.0   \n",
       "9966   267.741177  ...           5.850000                0.0   \n",
       "486   1351.566897  ...          44.533333                0.0   \n",
       "9686  1160.861369  ...           0.000000                0.0   \n",
       "6310  1672.417785  ...          24.683333                0.0   \n",
       "\n",
       "      vusage_offnet_diff  vusage_offnet_days  vusage_offnet_avg  \\\n",
       "231            10.366667                   4           3.395833   \n",
       "9966            5.850000                  11           2.775758   \n",
       "486            44.533333                   4          28.425000   \n",
       "9686            0.000000                   0           0.000000   \n",
       "6310           24.683333                  12           4.397222   \n",
       "\n",
       "      vusage_offnet_stddev  number_of_fixed_bb_accounts  \\\n",
       "231               1.946967                            0   \n",
       "9966              1.919775                            0   \n",
       "486              10.514607                            0   \n",
       "9686              0.000000                            0   \n",
       "6310              4.734033                            0   \n",
       "\n",
       "      number_of_iptv_accounts  add_on_tot_rental  add_on_count  \n",
       "231                         0              250.0           1.0  \n",
       "9966                        0               -1.0           0.0  \n",
       "486                         0              760.0           2.0  \n",
       "9686                        0               -1.0           0.0  \n",
       "6310                        0              450.0           2.0  \n",
       "\n",
       "[5 rows x 32 columns]"
      ]
     },
     "execution_count": 33,
     "metadata": {},
     "output_type": "execute_result"
    }
   ],
   "source": [
    "X_test.head()"
   ]
  },
  {
   "cell_type": "code",
   "execution_count": 34,
   "id": "focused-milton",
   "metadata": {},
   "outputs": [
    {
     "data": {
      "text/plain": [
       "Index(['device_type', 'device_category', 'gender', 'district_name',\n",
       "       'age_group', 'network_stay', 'average_monthly_bill_amount',\n",
       "       'dusage_sum', 'dusage_min', 'dusage_max', 'dusage_diff', 'dusage_avg',\n",
       "       'dusage_days', 'dusage_stddev', 'vusage_onnet_sum', 'vusage_onnet_max',\n",
       "       'vusage_onnet_min', 'vusage_onnet_diff', 'vusage_onnet_days',\n",
       "       'vusage_onnet_avg', 'vusage_onnet_stddev', 'vusage_offnet_sum',\n",
       "       'vusage_offnet_max', 'vusage_offnet_min', 'vusage_offnet_diff',\n",
       "       'vusage_offnet_days', 'vusage_offnet_avg', 'vusage_offnet_stddev',\n",
       "       'number_of_fixed_bb_accounts', 'number_of_iptv_accounts',\n",
       "       'add_on_tot_rental', 'add_on_count'],\n",
       "      dtype='object')"
      ]
     },
     "execution_count": 34,
     "metadata": {},
     "output_type": "execute_result"
    }
   ],
   "source": [
    "X_train.columns"
   ]
  },
  {
   "cell_type": "code",
   "execution_count": 35,
   "id": "hollywood-conviction",
   "metadata": {},
   "outputs": [
    {
     "name": "stdout",
     "output_type": "stream",
     "text": [
      "<class 'pandas.core.frame.DataFrame'>\n",
      "Int64Index: 525 entries, 231 to 229\n",
      "Data columns (total 32 columns):\n",
      " #   Column                       Non-Null Count  Dtype  \n",
      "---  ------                       --------------  -----  \n",
      " 0   device_type                  525 non-null    object \n",
      " 1   device_category              525 non-null    object \n",
      " 2   gender                       525 non-null    object \n",
      " 3   district_name                525 non-null    object \n",
      " 4   age_group                    525 non-null    object \n",
      " 5   network_stay                 525 non-null    int64  \n",
      " 6   average_monthly_bill_amount  525 non-null    float64\n",
      " 7   dusage_sum                   525 non-null    int64  \n",
      " 8   dusage_min                   525 non-null    float64\n",
      " 9   dusage_max                   525 non-null    float64\n",
      " 10  dusage_diff                  525 non-null    float64\n",
      " 11  dusage_avg                   525 non-null    float64\n",
      " 12  dusage_days                  525 non-null    int64  \n",
      " 13  dusage_stddev                525 non-null    float64\n",
      " 14  vusage_onnet_sum             525 non-null    int64  \n",
      " 15  vusage_onnet_max             525 non-null    float64\n",
      " 16  vusage_onnet_min             525 non-null    int64  \n",
      " 17  vusage_onnet_diff            525 non-null    float64\n",
      " 18  vusage_onnet_days            525 non-null    int64  \n",
      " 19  vusage_onnet_avg             525 non-null    float64\n",
      " 20  vusage_onnet_stddev          525 non-null    float64\n",
      " 21  vusage_offnet_sum            525 non-null    int64  \n",
      " 22  vusage_offnet_max            525 non-null    float64\n",
      " 23  vusage_offnet_min            525 non-null    float64\n",
      " 24  vusage_offnet_diff           525 non-null    float64\n",
      " 25  vusage_offnet_days           525 non-null    int64  \n",
      " 26  vusage_offnet_avg            525 non-null    float64\n",
      " 27  vusage_offnet_stddev         525 non-null    float64\n",
      " 28  number_of_fixed_bb_accounts  525 non-null    int64  \n",
      " 29  number_of_iptv_accounts      525 non-null    int64  \n",
      " 30  add_on_tot_rental            525 non-null    float64\n",
      " 31  add_on_count                 525 non-null    float64\n",
      "dtypes: float64(17), int64(10), object(5)\n",
      "memory usage: 135.4+ KB\n"
     ]
    }
   ],
   "source": [
    "X_test.info()"
   ]
  },
  {
   "cell_type": "code",
   "execution_count": 36,
   "id": "treated-millennium",
   "metadata": {},
   "outputs": [],
   "source": [
    "test_data_processed = data_pipeline.transform(X_test)"
   ]
  },
  {
   "cell_type": "code",
   "execution_count": 37,
   "id": "willing-roller",
   "metadata": {},
   "outputs": [
    {
     "data": {
      "text/plain": [
       "array([-0.5511811 , -0.04037991,  0.30150282, -0.03786963,  0.60829292,\n",
       "        0.69580789,  0.68906446, -2.2       ,  1.07049724,  0.        ,\n",
       "        0.        ,  0.        ,  0.        ,  0.        ,  0.        ,\n",
       "        0.        , -0.04705882,  0.16403786,  0.        ,  0.16410256,\n",
       "       -0.125     ,  0.14406906,  0.06531578,  0.        ,  0.        ,\n",
       "        0.11086475,  0.        ,  2.        ,  4.        ,  0.        ,\n",
       "        4.        ,  1.        ])"
      ]
     },
     "execution_count": 37,
     "metadata": {},
     "output_type": "execute_result"
    }
   ],
   "source": [
    "test_data_processed[0]"
   ]
  },
  {
   "cell_type": "markdown",
   "id": "muslim-straight",
   "metadata": {},
   "source": [
    "### Loading Submission data"
   ]
  },
  {
   "cell_type": "code",
   "execution_count": 38,
   "id": "continued-mention",
   "metadata": {},
   "outputs": [],
   "source": [
    "submission_data = pd.read_csv(\"../data/test_dataset_v2.csv\")"
   ]
  },
  {
   "cell_type": "code",
   "execution_count": 39,
   "id": "dying-painting",
   "metadata": {},
   "outputs": [
    {
     "data": {
      "text/html": [
       "<div>\n",
       "<style scoped>\n",
       "    .dataframe tbody tr th:only-of-type {\n",
       "        vertical-align: middle;\n",
       "    }\n",
       "\n",
       "    .dataframe tbody tr th {\n",
       "        vertical-align: top;\n",
       "    }\n",
       "\n",
       "    .dataframe thead th {\n",
       "        text-align: right;\n",
       "    }\n",
       "</style>\n",
       "<table border=\"1\" class=\"dataframe\">\n",
       "  <thead>\n",
       "    <tr style=\"text-align: right;\">\n",
       "      <th></th>\n",
       "      <th>primary_identifier</th>\n",
       "      <th>device_type</th>\n",
       "      <th>device_category</th>\n",
       "      <th>gender</th>\n",
       "      <th>district_name</th>\n",
       "      <th>age_group</th>\n",
       "      <th>network_stay</th>\n",
       "      <th>average_monthly_bill_amount</th>\n",
       "      <th>dusage_sum</th>\n",
       "      <th>dusage_min</th>\n",
       "      <th>...</th>\n",
       "      <th>vusage_offnet_max</th>\n",
       "      <th>vusage_offnet_min</th>\n",
       "      <th>vusage_offnet_diff</th>\n",
       "      <th>vusage_offnet_days</th>\n",
       "      <th>vusage_offnet_avg</th>\n",
       "      <th>vusage_offnet_stddev</th>\n",
       "      <th>number_of_fixed_bb_accounts</th>\n",
       "      <th>number_of_iptv_accounts</th>\n",
       "      <th>add_on_tot_rental</th>\n",
       "      <th>add_on_count</th>\n",
       "    </tr>\n",
       "  </thead>\n",
       "  <tbody>\n",
       "    <tr>\n",
       "      <th>0</th>\n",
       "      <td>2003793</td>\n",
       "      <td>4G</td>\n",
       "      <td>Smartphone</td>\n",
       "      <td>MALE</td>\n",
       "      <td>Colombo</td>\n",
       "      <td>40-50</td>\n",
       "      <td>4</td>\n",
       "      <td>689.42</td>\n",
       "      <td>148</td>\n",
       "      <td>0.000000</td>\n",
       "      <td>...</td>\n",
       "      <td>0.000000</td>\n",
       "      <td>0.0</td>\n",
       "      <td>0.000000</td>\n",
       "      <td>0</td>\n",
       "      <td>NaN</td>\n",
       "      <td>0.000000</td>\n",
       "      <td>0</td>\n",
       "      <td>1</td>\n",
       "      <td>NaN</td>\n",
       "      <td>NaN</td>\n",
       "    </tr>\n",
       "    <tr>\n",
       "      <th>1</th>\n",
       "      <td>1776101</td>\n",
       "      <td>4G</td>\n",
       "      <td>Smartphone</td>\n",
       "      <td>MALE</td>\n",
       "      <td>Colombo</td>\n",
       "      <td>40-50</td>\n",
       "      <td>7</td>\n",
       "      <td>799.93</td>\n",
       "      <td>300</td>\n",
       "      <td>0.180222</td>\n",
       "      <td>...</td>\n",
       "      <td>16.266667</td>\n",
       "      <td>0.0</td>\n",
       "      <td>16.266667</td>\n",
       "      <td>21</td>\n",
       "      <td>5.107143</td>\n",
       "      <td>4.924111</td>\n",
       "      <td>0</td>\n",
       "      <td>0</td>\n",
       "      <td>NaN</td>\n",
       "      <td>NaN</td>\n",
       "    </tr>\n",
       "    <tr>\n",
       "      <th>2</th>\n",
       "      <td>6945050</td>\n",
       "      <td>2G</td>\n",
       "      <td>Basic</td>\n",
       "      <td>MALE</td>\n",
       "      <td>Colombo</td>\n",
       "      <td>20-30</td>\n",
       "      <td>20</td>\n",
       "      <td>1538.45</td>\n",
       "      <td>8215</td>\n",
       "      <td>0.000000</td>\n",
       "      <td>...</td>\n",
       "      <td>90.000000</td>\n",
       "      <td>0.0</td>\n",
       "      <td>90.000000</td>\n",
       "      <td>8</td>\n",
       "      <td>13.558333</td>\n",
       "      <td>16.397071</td>\n",
       "      <td>0</td>\n",
       "      <td>0</td>\n",
       "      <td>110.0</td>\n",
       "      <td>2.0</td>\n",
       "    </tr>\n",
       "    <tr>\n",
       "      <th>3</th>\n",
       "      <td>2472049</td>\n",
       "      <td>4G</td>\n",
       "      <td>Smartphone</td>\n",
       "      <td>FEMALE</td>\n",
       "      <td>Matara</td>\n",
       "      <td>40-50</td>\n",
       "      <td>10</td>\n",
       "      <td>995.75</td>\n",
       "      <td>11613</td>\n",
       "      <td>0.000000</td>\n",
       "      <td>...</td>\n",
       "      <td>0.416667</td>\n",
       "      <td>0.0</td>\n",
       "      <td>0.416667</td>\n",
       "      <td>2</td>\n",
       "      <td>0.333333</td>\n",
       "      <td>0.087355</td>\n",
       "      <td>0</td>\n",
       "      <td>0</td>\n",
       "      <td>NaN</td>\n",
       "      <td>NaN</td>\n",
       "    </tr>\n",
       "    <tr>\n",
       "      <th>4</th>\n",
       "      <td>7197266</td>\n",
       "      <td>4G</td>\n",
       "      <td>Smartphone</td>\n",
       "      <td>MALE</td>\n",
       "      <td>Kandy</td>\n",
       "      <td>30-40</td>\n",
       "      <td>154</td>\n",
       "      <td>553.61</td>\n",
       "      <td>26505</td>\n",
       "      <td>28.515345</td>\n",
       "      <td>...</td>\n",
       "      <td>0.000000</td>\n",
       "      <td>0.0</td>\n",
       "      <td>0.000000</td>\n",
       "      <td>0</td>\n",
       "      <td>NaN</td>\n",
       "      <td>0.000000</td>\n",
       "      <td>0</td>\n",
       "      <td>0</td>\n",
       "      <td>350.0</td>\n",
       "      <td>1.0</td>\n",
       "    </tr>\n",
       "  </tbody>\n",
       "</table>\n",
       "<p>5 rows × 33 columns</p>\n",
       "</div>"
      ],
      "text/plain": [
       "   primary_identifier device_type device_category  gender district_name  \\\n",
       "0             2003793          4G      Smartphone    MALE       Colombo   \n",
       "1             1776101          4G      Smartphone    MALE       Colombo   \n",
       "2             6945050          2G           Basic    MALE       Colombo   \n",
       "3             2472049          4G      Smartphone  FEMALE        Matara   \n",
       "4             7197266          4G      Smartphone    MALE         Kandy   \n",
       "\n",
       "  age_group  network_stay  average_monthly_bill_amount  dusage_sum  \\\n",
       "0     40-50             4                       689.42         148   \n",
       "1     40-50             7                       799.93         300   \n",
       "2     20-30            20                      1538.45        8215   \n",
       "3     40-50            10                       995.75       11613   \n",
       "4     30-40           154                       553.61       26505   \n",
       "\n",
       "   dusage_min  ...  vusage_offnet_max  vusage_offnet_min  vusage_offnet_diff  \\\n",
       "0    0.000000  ...           0.000000                0.0            0.000000   \n",
       "1    0.180222  ...          16.266667                0.0           16.266667   \n",
       "2    0.000000  ...          90.000000                0.0           90.000000   \n",
       "3    0.000000  ...           0.416667                0.0            0.416667   \n",
       "4   28.515345  ...           0.000000                0.0            0.000000   \n",
       "\n",
       "   vusage_offnet_days  vusage_offnet_avg  vusage_offnet_stddev  \\\n",
       "0                   0                NaN              0.000000   \n",
       "1                  21           5.107143              4.924111   \n",
       "2                   8          13.558333             16.397071   \n",
       "3                   2           0.333333              0.087355   \n",
       "4                   0                NaN              0.000000   \n",
       "\n",
       "   number_of_fixed_bb_accounts  number_of_iptv_accounts  add_on_tot_rental  \\\n",
       "0                            0                        1                NaN   \n",
       "1                            0                        0                NaN   \n",
       "2                            0                        0              110.0   \n",
       "3                            0                        0                NaN   \n",
       "4                            0                        0              350.0   \n",
       "\n",
       "   add_on_count  \n",
       "0           NaN  \n",
       "1           NaN  \n",
       "2           2.0  \n",
       "3           NaN  \n",
       "4           1.0  \n",
       "\n",
       "[5 rows x 33 columns]"
      ]
     },
     "execution_count": 39,
     "metadata": {},
     "output_type": "execute_result"
    }
   ],
   "source": [
    "submission_data.head()"
   ]
  },
  {
   "cell_type": "markdown",
   "id": "ethical-witch",
   "metadata": {},
   "source": [
    "## Handling missing values in submission data"
   ]
  },
  {
   "cell_type": "code",
   "execution_count": 40,
   "id": "funny-register",
   "metadata": {},
   "outputs": [
    {
     "name": "stdout",
     "output_type": "stream",
     "text": [
      "<class 'pandas.core.frame.DataFrame'>\n",
      "RangeIndex: 4500 entries, 0 to 4499\n",
      "Data columns (total 33 columns):\n",
      " #   Column                       Non-Null Count  Dtype  \n",
      "---  ------                       --------------  -----  \n",
      " 0   primary_identifier           4500 non-null   int64  \n",
      " 1   device_type                  4487 non-null   object \n",
      " 2   device_category              4484 non-null   object \n",
      " 3   gender                       4445 non-null   object \n",
      " 4   district_name                4500 non-null   object \n",
      " 5   age_group                    4445 non-null   object \n",
      " 6   network_stay                 4500 non-null   int64  \n",
      " 7   average_monthly_bill_amount  4500 non-null   float64\n",
      " 8   dusage_sum                   4500 non-null   int64  \n",
      " 9   dusage_min                   4500 non-null   float64\n",
      " 10  dusage_max                   4500 non-null   float64\n",
      " 11  dusage_diff                  4500 non-null   float64\n",
      " 12  dusage_avg                   4136 non-null   float64\n",
      " 13  dusage_days                  4500 non-null   int64  \n",
      " 14  dusage_stddev                4500 non-null   float64\n",
      " 15  vusage_onnet_sum             4500 non-null   int64  \n",
      " 16  vusage_onnet_max             4500 non-null   float64\n",
      " 17  vusage_onnet_min             4500 non-null   float64\n",
      " 18  vusage_onnet_diff            4500 non-null   float64\n",
      " 19  vusage_onnet_days            4500 non-null   int64  \n",
      " 20  vusage_onnet_avg             785 non-null    float64\n",
      " 21  vusage_onnet_stddev          4500 non-null   float64\n",
      " 22  vusage_offnet_sum            4500 non-null   int64  \n",
      " 23  vusage_offnet_max            4500 non-null   float64\n",
      " 24  vusage_offnet_min            4500 non-null   float64\n",
      " 25  vusage_offnet_diff           4500 non-null   float64\n",
      " 26  vusage_offnet_days           4500 non-null   int64  \n",
      " 27  vusage_offnet_avg            3074 non-null   float64\n",
      " 28  vusage_offnet_stddev         4500 non-null   float64\n",
      " 29  number_of_fixed_bb_accounts  4500 non-null   int64  \n",
      " 30  number_of_iptv_accounts      4500 non-null   int64  \n",
      " 31  add_on_tot_rental            2788 non-null   float64\n",
      " 32  add_on_count                 2788 non-null   float64\n",
      "dtypes: float64(18), int64(10), object(5)\n",
      "memory usage: 1.1+ MB\n"
     ]
    }
   ],
   "source": [
    "submission_data.info()"
   ]
  },
  {
   "cell_type": "code",
   "execution_count": 41,
   "id": "cleared-formula",
   "metadata": {},
   "outputs": [
    {
     "data": {
      "text/plain": [
       "array(['Smartphone', 'Basic', 'Feature phone', 'Unknown', nan, 'Tablet',\n",
       "       'Pluggable card', 'Modem'], dtype=object)"
      ]
     },
     "execution_count": 41,
     "metadata": {},
     "output_type": "execute_result"
    }
   ],
   "source": [
    "submission_data['device_category'].unique()"
   ]
  },
  {
   "cell_type": "code",
   "execution_count": 42,
   "id": "nervous-attack",
   "metadata": {},
   "outputs": [],
   "source": [
    "submission_data['device_type'] = submission_data['device_type'].fillna(value = 'Unknown')\n",
    "submission_data['device_category'] = submission_data['device_category'].fillna(value = 'Unknown')\n",
    "submission_data['gender'] = submission_data['gender'].fillna(value = 'Unknown')\n",
    "submission_data['age_group'] = submission_data['age_group'].fillna(value = 'Unknown')"
   ]
  },
  {
   "cell_type": "code",
   "execution_count": 43,
   "id": "motivated-strip",
   "metadata": {},
   "outputs": [],
   "source": [
    "submission_data['dusage_avg'] = submission_data['dusage_avg'].fillna(value = 0)\n",
    "submission_data['vusage_offnet_avg'] = submission_data['vusage_offnet_avg'].fillna(value = 0)\n",
    "submission_data['add_on_tot_rental'] = submission_data['add_on_tot_rental'].fillna(value = -1)\n",
    "submission_data['add_on_count'] = submission_data['add_on_count'].fillna(value = 0)\n",
    "submission_data['vusage_onnet_avg'] = submission_data['vusage_onnet_avg'].fillna(value = 0)"
   ]
  },
  {
   "cell_type": "code",
   "execution_count": 44,
   "id": "general-conjunction",
   "metadata": {},
   "outputs": [
    {
     "name": "stdout",
     "output_type": "stream",
     "text": [
      "<class 'pandas.core.frame.DataFrame'>\n",
      "RangeIndex: 4500 entries, 0 to 4499\n",
      "Data columns (total 33 columns):\n",
      " #   Column                       Non-Null Count  Dtype  \n",
      "---  ------                       --------------  -----  \n",
      " 0   primary_identifier           4500 non-null   int64  \n",
      " 1   device_type                  4500 non-null   object \n",
      " 2   device_category              4500 non-null   object \n",
      " 3   gender                       4500 non-null   object \n",
      " 4   district_name                4500 non-null   object \n",
      " 5   age_group                    4500 non-null   object \n",
      " 6   network_stay                 4500 non-null   int64  \n",
      " 7   average_monthly_bill_amount  4500 non-null   float64\n",
      " 8   dusage_sum                   4500 non-null   int64  \n",
      " 9   dusage_min                   4500 non-null   float64\n",
      " 10  dusage_max                   4500 non-null   float64\n",
      " 11  dusage_diff                  4500 non-null   float64\n",
      " 12  dusage_avg                   4500 non-null   float64\n",
      " 13  dusage_days                  4500 non-null   int64  \n",
      " 14  dusage_stddev                4500 non-null   float64\n",
      " 15  vusage_onnet_sum             4500 non-null   int64  \n",
      " 16  vusage_onnet_max             4500 non-null   float64\n",
      " 17  vusage_onnet_min             4500 non-null   float64\n",
      " 18  vusage_onnet_diff            4500 non-null   float64\n",
      " 19  vusage_onnet_days            4500 non-null   int64  \n",
      " 20  vusage_onnet_avg             4500 non-null   float64\n",
      " 21  vusage_onnet_stddev          4500 non-null   float64\n",
      " 22  vusage_offnet_sum            4500 non-null   int64  \n",
      " 23  vusage_offnet_max            4500 non-null   float64\n",
      " 24  vusage_offnet_min            4500 non-null   float64\n",
      " 25  vusage_offnet_diff           4500 non-null   float64\n",
      " 26  vusage_offnet_days           4500 non-null   int64  \n",
      " 27  vusage_offnet_avg            4500 non-null   float64\n",
      " 28  vusage_offnet_stddev         4500 non-null   float64\n",
      " 29  number_of_fixed_bb_accounts  4500 non-null   int64  \n",
      " 30  number_of_iptv_accounts      4500 non-null   int64  \n",
      " 31  add_on_tot_rental            4500 non-null   float64\n",
      " 32  add_on_count                 4500 non-null   float64\n",
      "dtypes: float64(18), int64(10), object(5)\n",
      "memory usage: 1.1+ MB\n"
     ]
    }
   ],
   "source": [
    "submission_data.info()"
   ]
  },
  {
   "cell_type": "code",
   "execution_count": 45,
   "id": "hungarian-exclusive",
   "metadata": {},
   "outputs": [],
   "source": [
    "prim_id = submission_data['primary_identifier']"
   ]
  },
  {
   "cell_type": "code",
   "execution_count": 46,
   "id": "extraordinary-newsletter",
   "metadata": {},
   "outputs": [
    {
     "data": {
      "text/plain": [
       "(4500, 33)"
      ]
     },
     "execution_count": 46,
     "metadata": {},
     "output_type": "execute_result"
    }
   ],
   "source": [
    "submission_data.shape"
   ]
  },
  {
   "cell_type": "code",
   "execution_count": 47,
   "id": "baking-province",
   "metadata": {},
   "outputs": [],
   "source": [
    "submission_X = submission_data.drop(columns=['primary_identifier'])"
   ]
  },
  {
   "cell_type": "code",
   "execution_count": 48,
   "id": "detected-glenn",
   "metadata": {},
   "outputs": [
    {
     "data": {
      "text/plain": [
       "(4500, 32)"
      ]
     },
     "execution_count": 48,
     "metadata": {},
     "output_type": "execute_result"
    }
   ],
   "source": [
    "submission_X.shape"
   ]
  },
  {
   "cell_type": "markdown",
   "id": "recreational-pickup",
   "metadata": {},
   "source": [
    "## Pre-processing the submission data"
   ]
  },
  {
   "cell_type": "code",
   "execution_count": 49,
   "id": "assumed-senegal",
   "metadata": {},
   "outputs": [],
   "source": [
    "submission_data_processed = data_pipeline.transform(submission_X)"
   ]
  },
  {
   "cell_type": "code",
   "execution_count": 50,
   "id": "periodic-yugoslavia",
   "metadata": {},
   "outputs": [
    {
     "data": {
      "text/plain": [
       "(32,)"
      ]
     },
     "execution_count": 50,
     "metadata": {},
     "output_type": "execute_result"
    }
   ],
   "source": [
    "submission_data_processed[0].shape"
   ]
  },
  {
   "cell_type": "code",
   "execution_count": 51,
   "id": "sitting-telling",
   "metadata": {},
   "outputs": [
    {
     "data": {
      "text/plain": [
       "array([-0.60629921, -0.65667172, -0.48115216, -0.03786963, -0.56463354,\n",
       "       -0.57283961, -0.4593038 , -5.2       , -0.57999961,  0.        ,\n",
       "        0.        ,  0.        ,  0.        ,  0.        ,  0.        ,\n",
       "        0.        , -0.2       , -0.32649842,  0.        , -0.32662722,\n",
       "       -0.375     , -0.43254231, -0.32393136,  0.        ,  1.        ,\n",
       "       -0.44567627, -0.5       ,  2.        ,  4.        ,  1.        ,\n",
       "        4.        ,  2.        ])"
      ]
     },
     "execution_count": 51,
     "metadata": {},
     "output_type": "execute_result"
    }
   ],
   "source": [
    "submission_data_processed[0]"
   ]
  },
  {
   "cell_type": "markdown",
   "id": "empirical-excellence",
   "metadata": {},
   "source": [
    "## Model Code"
   ]
  },
  {
   "cell_type": "code",
   "execution_count": 52,
   "id": "toxic-ideal",
   "metadata": {},
   "outputs": [
    {
     "data": {
      "text/plain": [
       "{1: 3490, 2: 1286, 3: 1631, 4: 698, 5: 1480, 6: 703, 7: 346, 8: 341}"
      ]
     },
     "execution_count": 52,
     "metadata": {},
     "output_type": "execute_result"
    }
   ],
   "source": [
    "unique, counts = np.unique(Y_train, return_counts=True)\n",
    "dict(zip(unique, counts))"
   ]
  },
  {
   "cell_type": "code",
   "execution_count": 50,
   "id": "informational-alloy",
   "metadata": {},
   "outputs": [],
   "source": [
    "strategy = {\n",
    "    1: 3490,\n",
    "    2: 1250,\n",
    "    3: 1600,\n",
    "    4: 698,\n",
    "    5: 1450,\n",
    "    6: 700,\n",
    "    7: 346,\n",
    "    8: 341\n",
    "}"
   ]
  },
  {
   "cell_type": "code",
   "execution_count": 51,
   "id": "missing-congress",
   "metadata": {},
   "outputs": [],
   "source": [
    "undersample = NearMiss(sampling_strategy=strategy,n_neighbors=2)"
   ]
  },
  {
   "cell_type": "code",
   "execution_count": 52,
   "id": "photographic-hawaiian",
   "metadata": {},
   "outputs": [],
   "source": [
    "X_near , y_near = undersample.fit_resample(train_data_processed,Y_train)"
   ]
  },
  {
   "cell_type": "code",
   "execution_count": 53,
   "id": "registered-armenia",
   "metadata": {},
   "outputs": [
    {
     "data": {
      "text/plain": [
       "{1: 3490, 2: 1250, 3: 1600, 4: 698, 5: 1450, 6: 700, 7: 346, 8: 341}"
      ]
     },
     "execution_count": 53,
     "metadata": {},
     "output_type": "execute_result"
    }
   ],
   "source": [
    "unique, counts = np.unique(y_near, return_counts=True)\n",
    "dict(zip(unique, counts))"
   ]
  },
  {
   "cell_type": "code",
   "execution_count": 53,
   "id": "moral-relation",
   "metadata": {},
   "outputs": [],
   "source": [
    "strategy_os = {\n",
    "    1: 3500,\n",
    "    2: 3500,\n",
    "    3: 3500,\n",
    "    4: 3500,\n",
    "    5: 3500,\n",
    "    6: 3500,\n",
    "    7: 3500,\n",
    "    8: 3500\n",
    "}"
   ]
  },
  {
   "cell_type": "code",
   "execution_count": 54,
   "id": "weighted-thread",
   "metadata": {},
   "outputs": [
    {
     "name": "stderr",
     "output_type": "stream",
     "text": [
      "/opt/anaconda3/envs/datastorm2/lib/python3.7/site-packages/imblearn/utils/_validation.py:300: UserWarning: After over-sampling, the number of samples (3500) in class 1 will be larger than the number of samples in the majority class (class #1 -> 3490)\n",
      "  f\"After over-sampling, the number of samples ({n_samples})\"\n",
      "/opt/anaconda3/envs/datastorm2/lib/python3.7/site-packages/imblearn/utils/_validation.py:300: UserWarning: After over-sampling, the number of samples (3500) in class 2 will be larger than the number of samples in the majority class (class #1 -> 3490)\n",
      "  f\"After over-sampling, the number of samples ({n_samples})\"\n",
      "/opt/anaconda3/envs/datastorm2/lib/python3.7/site-packages/imblearn/utils/_validation.py:300: UserWarning: After over-sampling, the number of samples (3500) in class 3 will be larger than the number of samples in the majority class (class #1 -> 3490)\n",
      "  f\"After over-sampling, the number of samples ({n_samples})\"\n",
      "/opt/anaconda3/envs/datastorm2/lib/python3.7/site-packages/imblearn/utils/_validation.py:300: UserWarning: After over-sampling, the number of samples (3500) in class 4 will be larger than the number of samples in the majority class (class #1 -> 3490)\n",
      "  f\"After over-sampling, the number of samples ({n_samples})\"\n",
      "/opt/anaconda3/envs/datastorm2/lib/python3.7/site-packages/imblearn/utils/_validation.py:300: UserWarning: After over-sampling, the number of samples (3500) in class 5 will be larger than the number of samples in the majority class (class #1 -> 3490)\n",
      "  f\"After over-sampling, the number of samples ({n_samples})\"\n",
      "/opt/anaconda3/envs/datastorm2/lib/python3.7/site-packages/imblearn/utils/_validation.py:300: UserWarning: After over-sampling, the number of samples (3500) in class 6 will be larger than the number of samples in the majority class (class #1 -> 3490)\n",
      "  f\"After over-sampling, the number of samples ({n_samples})\"\n",
      "/opt/anaconda3/envs/datastorm2/lib/python3.7/site-packages/imblearn/utils/_validation.py:300: UserWarning: After over-sampling, the number of samples (3500) in class 7 will be larger than the number of samples in the majority class (class #1 -> 3490)\n",
      "  f\"After over-sampling, the number of samples ({n_samples})\"\n",
      "/opt/anaconda3/envs/datastorm2/lib/python3.7/site-packages/imblearn/utils/_validation.py:300: UserWarning: After over-sampling, the number of samples (3500) in class 8 will be larger than the number of samples in the majority class (class #1 -> 3490)\n",
      "  f\"After over-sampling, the number of samples ({n_samples})\"\n"
     ]
    }
   ],
   "source": [
    "from imblearn.over_sampling import SMOTE\n",
    "sm = SMOTE(random_state=42, sampling_strategy = strategy_os)\n",
    "X_res, y_res = sm.fit_resample(train_data_processed, Y_train)"
   ]
  },
  {
   "cell_type": "code",
   "execution_count": 55,
   "id": "whole-picking",
   "metadata": {},
   "outputs": [
    {
     "data": {
      "text/plain": [
       "{1: 3500, 2: 3500, 3: 3500, 4: 3500, 5: 3500, 6: 3500, 7: 3500, 8: 3500}"
      ]
     },
     "execution_count": 55,
     "metadata": {},
     "output_type": "execute_result"
    }
   ],
   "source": [
    "unique, counts = np.unique(y_res, return_counts=True)\n",
    "dict(zip(unique, counts))"
   ]
  },
  {
   "cell_type": "code",
   "execution_count": 56,
   "id": "permanent-anderson",
   "metadata": {},
   "outputs": [
    {
     "data": {
      "text/plain": [
       "(28000, 32)"
      ]
     },
     "execution_count": 56,
     "metadata": {},
     "output_type": "execute_result"
    }
   ],
   "source": [
    "X_res.shape"
   ]
  },
  {
   "cell_type": "markdown",
   "id": "written-illustration",
   "metadata": {},
   "source": [
    "### Decision Trees"
   ]
  },
  {
   "cell_type": "code",
   "execution_count": 58,
   "id": "warming-technician",
   "metadata": {},
   "outputs": [],
   "source": [
    "model_dec_tree = DecisionTreeClassifier()"
   ]
  },
  {
   "cell_type": "code",
   "execution_count": 59,
   "id": "blessed-leave",
   "metadata": {},
   "outputs": [
    {
     "data": {
      "text/plain": [
       "DecisionTreeClassifier()"
      ]
     },
     "execution_count": 59,
     "metadata": {},
     "output_type": "execute_result"
    }
   ],
   "source": [
    "model_dec_tree.fit(X_res, y_res)"
   ]
  },
  {
   "cell_type": "code",
   "execution_count": 60,
   "id": "cleared-enclosure",
   "metadata": {},
   "outputs": [],
   "source": [
    "y_pred_dec_tree = model_dec_tree.predict(test_data_processed)"
   ]
  },
  {
   "cell_type": "code",
   "execution_count": 61,
   "id": "narrow-ballet",
   "metadata": {},
   "outputs": [
    {
     "name": "stdout",
     "output_type": "stream",
     "text": [
      "              precision    recall  f1-score   support\n",
      "\n",
      "           1       0.73      0.64      0.68       183\n",
      "           2       0.26      0.29      0.27        68\n",
      "           3       0.45      0.47      0.46        86\n",
      "           4       0.19      0.19      0.19        37\n",
      "           5       0.58      0.54      0.56        78\n",
      "           6       0.22      0.22      0.22        37\n",
      "           7       0.15      0.22      0.18        18\n",
      "           8       0.32      0.50      0.39        18\n",
      "\n",
      "    accuracy                           0.47       525\n",
      "   macro avg       0.36      0.38      0.37       525\n",
      "weighted avg       0.49      0.47      0.48       525\n",
      "\n"
     ]
    }
   ],
   "source": [
    "print(classification_report(Y_test, y_pred_dec_tree))"
   ]
  },
  {
   "cell_type": "markdown",
   "id": "fatal-paragraph",
   "metadata": {},
   "source": [
    "### Random Forests"
   ]
  },
  {
   "cell_type": "code",
   "execution_count": 62,
   "id": "czech-secret",
   "metadata": {},
   "outputs": [],
   "source": [
    "model_ran_for = RandomForestClassifier()"
   ]
  },
  {
   "cell_type": "code",
   "execution_count": 63,
   "id": "advanced-apple",
   "metadata": {},
   "outputs": [
    {
     "data": {
      "text/plain": [
       "RandomForestClassifier()"
      ]
     },
     "execution_count": 63,
     "metadata": {},
     "output_type": "execute_result"
    }
   ],
   "source": [
    "model_ran_for.fit(X_res, y_res)"
   ]
  },
  {
   "cell_type": "code",
   "execution_count": 64,
   "id": "suffering-registration",
   "metadata": {},
   "outputs": [],
   "source": [
    "y_pred_ran_for = model_ran_for.predict(test_data_processed)"
   ]
  },
  {
   "cell_type": "code",
   "execution_count": 65,
   "id": "desperate-kuwait",
   "metadata": {},
   "outputs": [
    {
     "name": "stdout",
     "output_type": "stream",
     "text": [
      "              precision    recall  f1-score   support\n",
      "\n",
      "           1       0.73      0.72      0.72       183\n",
      "           2       0.34      0.28      0.31        68\n",
      "           3       0.44      0.53      0.48        86\n",
      "           4       0.34      0.27      0.30        37\n",
      "           5       0.65      0.71      0.68        78\n",
      "           6       0.53      0.43      0.48        37\n",
      "           7       0.15      0.11      0.13        18\n",
      "           8       0.38      0.61      0.47        18\n",
      "\n",
      "    accuracy                           0.55       525\n",
      "   macro avg       0.45      0.46      0.45       525\n",
      "weighted avg       0.55      0.55      0.55       525\n",
      "\n"
     ]
    }
   ],
   "source": [
    "print(classification_report(Y_test, y_pred_ran_for))"
   ]
  },
  {
   "cell_type": "markdown",
   "id": "transparent-conjunction",
   "metadata": {},
   "source": [
    "### Extra Trees Classifier"
   ]
  },
  {
   "cell_type": "code",
   "execution_count": 66,
   "id": "acknowledged-trouble",
   "metadata": {},
   "outputs": [],
   "source": [
    "model_ex_trees = ExtraTreesClassifier()"
   ]
  },
  {
   "cell_type": "code",
   "execution_count": 67,
   "id": "silver-function",
   "metadata": {},
   "outputs": [
    {
     "data": {
      "text/plain": [
       "ExtraTreesClassifier()"
      ]
     },
     "execution_count": 67,
     "metadata": {},
     "output_type": "execute_result"
    }
   ],
   "source": [
    "model_ex_trees.fit(X_res, y_res)"
   ]
  },
  {
   "cell_type": "code",
   "execution_count": 68,
   "id": "prompt-breed",
   "metadata": {},
   "outputs": [],
   "source": [
    "y_pred_ex_trees = model_ex_trees.predict(test_data_processed)"
   ]
  },
  {
   "cell_type": "code",
   "execution_count": 69,
   "id": "straight-quebec",
   "metadata": {},
   "outputs": [
    {
     "name": "stdout",
     "output_type": "stream",
     "text": [
      "              precision    recall  f1-score   support\n",
      "\n",
      "           1       0.67      0.78      0.72       183\n",
      "           2       0.39      0.22      0.28        68\n",
      "           3       0.40      0.42      0.41        86\n",
      "           4       0.28      0.22      0.24        37\n",
      "           5       0.62      0.65      0.64        78\n",
      "           6       0.41      0.35      0.38        37\n",
      "           7       0.00      0.00      0.00        18\n",
      "           8       0.39      0.61      0.48        18\n",
      "\n",
      "    accuracy                           0.53       525\n",
      "   macro avg       0.39      0.41      0.39       525\n",
      "weighted avg       0.50      0.53      0.51       525\n",
      "\n"
     ]
    }
   ],
   "source": [
    "print(classification_report(Y_test, y_pred_ex_trees))"
   ]
  },
  {
   "cell_type": "markdown",
   "id": "statewide-garage",
   "metadata": {},
   "source": [
    "### Gradient Boosting"
   ]
  },
  {
   "cell_type": "code",
   "execution_count": 70,
   "id": "severe-street",
   "metadata": {},
   "outputs": [],
   "source": [
    "model_grad_boost = GradientBoostingClassifier()"
   ]
  },
  {
   "cell_type": "code",
   "execution_count": 71,
   "id": "maritime-intellectual",
   "metadata": {},
   "outputs": [
    {
     "data": {
      "text/plain": [
       "GradientBoostingClassifier()"
      ]
     },
     "execution_count": 71,
     "metadata": {},
     "output_type": "execute_result"
    }
   ],
   "source": [
    "model_grad_boost.fit(X_res, y_res)"
   ]
  },
  {
   "cell_type": "code",
   "execution_count": 72,
   "id": "thousand-deficit",
   "metadata": {},
   "outputs": [],
   "source": [
    "y_pred_grad_boost = model_grad_boost.predict(test_data_processed)"
   ]
  },
  {
   "cell_type": "code",
   "execution_count": 73,
   "id": "viral-blink",
   "metadata": {},
   "outputs": [
    {
     "name": "stdout",
     "output_type": "stream",
     "text": [
      "              precision    recall  f1-score   support\n",
      "\n",
      "           1       0.77      0.72      0.74       183\n",
      "           2       0.41      0.26      0.32        68\n",
      "           3       0.41      0.52      0.46        86\n",
      "           4       0.23      0.22      0.22        37\n",
      "           5       0.66      0.63      0.64        78\n",
      "           6       0.38      0.38      0.38        37\n",
      "           7       0.26      0.28      0.27        18\n",
      "           8       0.37      0.72      0.49        18\n",
      "\n",
      "    accuracy                           0.54       525\n",
      "   macro avg       0.44      0.47      0.44       525\n",
      "weighted avg       0.55      0.54      0.54       525\n",
      "\n"
     ]
    }
   ],
   "source": [
    "print(classification_report(Y_test, y_pred_grad_boost))"
   ]
  },
  {
   "cell_type": "markdown",
   "id": "previous-fantasy",
   "metadata": {},
   "source": [
    "### Hist Gradient Boosting Classifier"
   ]
  },
  {
   "cell_type": "code",
   "execution_count": 74,
   "id": "ignored-apartment",
   "metadata": {},
   "outputs": [],
   "source": [
    "model_hist_gb = HistGradientBoostingClassifier()"
   ]
  },
  {
   "cell_type": "code",
   "execution_count": 75,
   "id": "enclosed-certification",
   "metadata": {},
   "outputs": [
    {
     "data": {
      "text/plain": [
       "HistGradientBoostingClassifier()"
      ]
     },
     "execution_count": 75,
     "metadata": {},
     "output_type": "execute_result"
    }
   ],
   "source": [
    "model_hist_gb.fit(X_res, y_res)"
   ]
  },
  {
   "cell_type": "code",
   "execution_count": 76,
   "id": "insured-clone",
   "metadata": {},
   "outputs": [],
   "source": [
    "y_pred_his_gb = model_hist_gb.predict(test_data_processed)"
   ]
  },
  {
   "cell_type": "code",
   "execution_count": 77,
   "id": "voluntary-archive",
   "metadata": {},
   "outputs": [
    {
     "name": "stdout",
     "output_type": "stream",
     "text": [
      "              precision    recall  f1-score   support\n",
      "\n",
      "           1       0.70      0.75      0.72       183\n",
      "           2       0.37      0.21      0.26        68\n",
      "           3       0.43      0.49      0.46        86\n",
      "           4       0.25      0.22      0.23        37\n",
      "           5       0.66      0.67      0.66        78\n",
      "           6       0.41      0.38      0.39        37\n",
      "           7       0.21      0.17      0.19        18\n",
      "           8       0.39      0.72      0.51        18\n",
      "\n",
      "    accuracy                           0.54       525\n",
      "   macro avg       0.43      0.45      0.43       525\n",
      "weighted avg       0.53      0.54      0.53       525\n",
      "\n"
     ]
    }
   ],
   "source": [
    "print(classification_report(Y_test, y_pred_his_gb))"
   ]
  },
  {
   "cell_type": "markdown",
   "id": "severe-offering",
   "metadata": {},
   "source": [
    "### XG Boost"
   ]
  },
  {
   "cell_type": "code",
   "execution_count": 78,
   "id": "miniature-retreat",
   "metadata": {},
   "outputs": [],
   "source": [
    "model = XGBClassifier(label_encoder = False)"
   ]
  },
  {
   "cell_type": "code",
   "execution_count": 79,
   "id": "shaped-economics",
   "metadata": {},
   "outputs": [
    {
     "name": "stderr",
     "output_type": "stream",
     "text": [
      "/opt/anaconda3/envs/datastorm2/lib/python3.7/site-packages/xgboost/sklearn.py:888: UserWarning: The use of label encoder in XGBClassifier is deprecated and will be removed in a future release. To remove this warning, do the following: 1) Pass option use_label_encoder=False when constructing XGBClassifier object; and 2) Encode your labels (y) as integers starting with 0, i.e. 0, 1, 2, ..., [num_class - 1].\n",
      "  warnings.warn(label_encoder_deprecation_msg, UserWarning)\n"
     ]
    },
    {
     "name": "stdout",
     "output_type": "stream",
     "text": [
      "[21:25:40] WARNING: /Users/travis/build/dmlc/xgboost/src/learner.cc:541: \n",
      "Parameters: { label_encoder } might not be used.\n",
      "\n",
      "  This may not be accurate due to some parameters are only used in language bindings but\n",
      "  passed down to XGBoost core.  Or some parameters are not used but slip through this\n",
      "  verification. Please open an issue if you find above cases.\n",
      "\n",
      "\n",
      "[21:25:41] WARNING: /Users/travis/build/dmlc/xgboost/src/learner.cc:1061: Starting in XGBoost 1.3.0, the default evaluation metric used with the objective 'multi:softprob' was changed from 'merror' to 'mlogloss'. Explicitly set eval_metric if you'd like to restore the old behavior.\n"
     ]
    },
    {
     "data": {
      "text/plain": [
       "XGBClassifier(base_score=0.5, booster='gbtree', colsample_bylevel=1,\n",
       "              colsample_bynode=1, colsample_bytree=1, gamma=0, gpu_id=-1,\n",
       "              importance_type='gain', interaction_constraints='',\n",
       "              label_encoder=False, learning_rate=0.300000012, max_delta_step=0,\n",
       "              max_depth=6, min_child_weight=1, missing=nan,\n",
       "              monotone_constraints='()', n_estimators=100, n_jobs=16,\n",
       "              num_parallel_tree=1, objective='multi:softprob', random_state=0,\n",
       "              reg_alpha=0, reg_lambda=1, scale_pos_weight=None, subsample=1,\n",
       "              tree_method='exact', validate_parameters=1, verbosity=None)"
      ]
     },
     "execution_count": 79,
     "metadata": {},
     "output_type": "execute_result"
    }
   ],
   "source": [
    "model.fit(X_res, y_res)"
   ]
  },
  {
   "cell_type": "code",
   "execution_count": 80,
   "id": "threaded-theta",
   "metadata": {},
   "outputs": [],
   "source": [
    "y_pred = model.predict(test_data_processed)"
   ]
  },
  {
   "cell_type": "code",
   "execution_count": 81,
   "id": "auburn-olive",
   "metadata": {},
   "outputs": [
    {
     "name": "stdout",
     "output_type": "stream",
     "text": [
      "              precision    recall  f1-score   support\n",
      "\n",
      "           1       0.73      0.76      0.74       183\n",
      "           2       0.33      0.21      0.25        68\n",
      "           3       0.44      0.55      0.48        86\n",
      "           4       0.33      0.27      0.30        37\n",
      "           5       0.72      0.68      0.70        78\n",
      "           6       0.37      0.38      0.37        37\n",
      "           7       0.24      0.22      0.23        18\n",
      "           8       0.46      0.61      0.52        18\n",
      "\n",
      "    accuracy                           0.56       525\n",
      "   macro avg       0.45      0.46      0.45       525\n",
      "weighted avg       0.55      0.56      0.55       525\n",
      "\n"
     ]
    }
   ],
   "source": [
    "print(classification_report(Y_test, y_pred))"
   ]
  },
  {
   "cell_type": "markdown",
   "id": "cleared-cooperation",
   "metadata": {},
   "source": [
    "## Attempting Stacking Classification"
   ]
  },
  {
   "cell_type": "code",
   "execution_count": null,
   "id": "western-march",
   "metadata": {},
   "outputs": [],
   "source": [
    "estimators = [('rf', RandomForestClassifier()),\n",
    "              ('xgb', XGBClassifier(label_encoder = False)),\n",
    "              ('hist_tree', HistGradientBoostingClassifier())\n",
    "             ]"
   ]
  },
  {
   "cell_type": "code",
   "execution_count": null,
   "id": "quiet-legislation",
   "metadata": {},
   "outputs": [],
   "source": [
    "clf = StackingClassifier(estimators=estimators, final_estimator=RandomForestClassifier())"
   ]
  },
  {
   "cell_type": "code",
   "execution_count": null,
   "id": "beginning-variable",
   "metadata": {},
   "outputs": [],
   "source": [
    "clf.fit(X_res, y_res)"
   ]
  },
  {
   "cell_type": "code",
   "execution_count": null,
   "id": "interpreted-mapping",
   "metadata": {},
   "outputs": [],
   "source": [
    "y_pred_clf = clf.predict(test_data_processed)"
   ]
  },
  {
   "cell_type": "code",
   "execution_count": null,
   "id": "driving-climate",
   "metadata": {},
   "outputs": [],
   "source": [
    "print(classification_report(Y_test, y_pred_clf))"
   ]
  },
  {
   "cell_type": "code",
   "execution_count": null,
   "id": "refined-authority",
   "metadata": {},
   "outputs": [],
   "source": []
  },
  {
   "cell_type": "markdown",
   "id": "sublime-enforcement",
   "metadata": {},
   "source": [
    "## Submission"
   ]
  },
  {
   "cell_type": "code",
   "execution_count": null,
   "id": "contained-terminal",
   "metadata": {},
   "outputs": [],
   "source": [
    "y_submission = model_ran_for.predict(submission_data_processed)"
   ]
  },
  {
   "cell_type": "code",
   "execution_count": null,
   "id": "stylish-diploma",
   "metadata": {},
   "outputs": [],
   "source": [
    "y_submission"
   ]
  },
  {
   "cell_type": "code",
   "execution_count": null,
   "id": "established-example",
   "metadata": {},
   "outputs": [],
   "source": [
    "unique, counts = np.unique(y_submission, return_counts=True)\n",
    "dict(zip(unique, counts))"
   ]
  },
  {
   "cell_type": "code",
   "execution_count": null,
   "id": "protected-township",
   "metadata": {},
   "outputs": [],
   "source": [
    "y_submissions_series = pd.Series(y_submission)"
   ]
  },
  {
   "cell_type": "code",
   "execution_count": null,
   "id": "cardiac-defendant",
   "metadata": {},
   "outputs": [],
   "source": [
    "submission_data = {'primary_identifier' : pd.to_numeric(prim_id),\n",
    "                 'next_month_plan' : pd.to_numeric(y_submissions_series)}\n",
    "\n",
    "submission_df = pd.DataFrame(submission_data)"
   ]
  },
  {
   "cell_type": "code",
   "execution_count": null,
   "id": "female-fashion",
   "metadata": {},
   "outputs": [],
   "source": [
    "submission_df.shape"
   ]
  },
  {
   "cell_type": "code",
   "execution_count": null,
   "id": "falling-messaging",
   "metadata": {},
   "outputs": [],
   "source": [
    "#submission_df.to_csv(\"submission_7.csv\")"
   ]
  },
  {
   "cell_type": "code",
   "execution_count": null,
   "id": "thick-reflection",
   "metadata": {},
   "outputs": [],
   "source": []
  },
  {
   "cell_type": "code",
   "execution_count": null,
   "id": "immediate-whale",
   "metadata": {},
   "outputs": [],
   "source": [
    "param_dist = {'n_estimators': [50, 100, 300, 500, 700, 900],\n",
    "              'criterion': ['gini', 'entropy'],\n",
    "              'max_depth': [1, 3, 4, 5, 6, 8, 10, 12, None],\n",
    "              'max_features': ['auto', 'sqrt', 'log2', 15, 20, 25],\n",
    "              'class_weight': ['balanced', 'balanced_subsample']\n",
    "             }"
   ]
  },
  {
   "cell_type": "code",
   "execution_count": null,
   "id": "amazing-origin",
   "metadata": {},
   "outputs": [],
   "source": [
    "param_dist = {'max_depth': [16, 20],\n",
    "              'n_estimators': [400, 500, 600],\n",
    "              'max_features': ['log2', 15, 20]\n",
    "             }"
   ]
  },
  {
   "cell_type": "code",
   "execution_count": null,
   "id": "japanese-explosion",
   "metadata": {},
   "outputs": [],
   "source": [
    "clf_rf = RandomForestClassifier()\n",
    "clf = GridSearchCV(clf_rf, \n",
    "                   param_dist,\n",
    "                   cv = 5,\n",
    "                   verbose = 3, \n",
    "                   n_jobs = -1)"
   ]
  },
  {
   "cell_type": "code",
   "execution_count": null,
   "id": "noticed-hammer",
   "metadata": {},
   "outputs": [],
   "source": [
    "clf.fit(X_res, y_res)"
   ]
  },
  {
   "cell_type": "code",
   "execution_count": null,
   "id": "amber-middle",
   "metadata": {},
   "outputs": [],
   "source": [
    "clf.best_params_"
   ]
  },
  {
   "cell_type": "code",
   "execution_count": null,
   "id": "official-companion",
   "metadata": {},
   "outputs": [],
   "source": [
    "clf.best_score_"
   ]
  },
  {
   "cell_type": "code",
   "execution_count": 63,
   "id": "contemporary-federal",
   "metadata": {},
   "outputs": [],
   "source": [
    "model_ran_for_new = RandomForestClassifier(random_state = 0, max_depth = 10, \n",
    "                                           n_estimators = 400, max_features=31)"
   ]
  },
  {
   "cell_type": "code",
   "execution_count": 64,
   "id": "remarkable-blind",
   "metadata": {},
   "outputs": [
    {
     "data": {
      "text/plain": [
       "RandomForestClassifier(max_depth=10, max_features=31, n_estimators=400,\n",
       "                       random_state=0)"
      ]
     },
     "execution_count": 64,
     "metadata": {},
     "output_type": "execute_result"
    }
   ],
   "source": [
    "model_ran_for_new.fit(X_res, y_res)"
   ]
  },
  {
   "cell_type": "code",
   "execution_count": 65,
   "id": "proper-excellence",
   "metadata": {},
   "outputs": [],
   "source": [
    "y_pred_ran_for_new = model_ran_for_new.predict(test_data_processed)"
   ]
  },
  {
   "cell_type": "code",
   "execution_count": 66,
   "id": "engaging-finish",
   "metadata": {},
   "outputs": [
    {
     "name": "stdout",
     "output_type": "stream",
     "text": [
      "              precision    recall  f1-score   support\n",
      "\n",
      "           1       0.82      0.66      0.73       183\n",
      "           2       0.39      0.38      0.39        68\n",
      "           3       0.48      0.49      0.49        86\n",
      "           4       0.34      0.54      0.42        37\n",
      "           5       0.72      0.67      0.69        78\n",
      "           6       0.43      0.41      0.42        37\n",
      "           7       0.24      0.28      0.26        18\n",
      "           8       0.37      0.78      0.50        18\n",
      "\n",
      "    accuracy                           0.56       525\n",
      "   macro avg       0.47      0.52      0.49       525\n",
      "weighted avg       0.60      0.56      0.57       525\n",
      "\n"
     ]
    }
   ],
   "source": [
    "print(classification_report(Y_test, y_pred_ran_for_new))"
   ]
  },
  {
   "cell_type": "code",
   "execution_count": 130,
   "id": "sealed-worthy",
   "metadata": {},
   "outputs": [],
   "source": [
    "model_ran_for_new_2 = RandomForestClassifier(random_state = 0, max_depth = 10, \n",
    "                                           n_estimators = 450, max_features=31)"
   ]
  },
  {
   "cell_type": "code",
   "execution_count": 131,
   "id": "independent-calculation",
   "metadata": {},
   "outputs": [
    {
     "data": {
      "text/plain": [
       "RandomForestClassifier(max_depth=10, max_features=31, n_estimators=450,\n",
       "                       random_state=0)"
      ]
     },
     "execution_count": 131,
     "metadata": {},
     "output_type": "execute_result"
    }
   ],
   "source": [
    "model_ran_for_new_2.fit(X_res, y_res)"
   ]
  },
  {
   "cell_type": "code",
   "execution_count": 132,
   "id": "seeing-atlanta",
   "metadata": {},
   "outputs": [],
   "source": [
    "y_pred_ran_for_new_2 = model_ran_for_new_2.predict(test_data_processed)"
   ]
  },
  {
   "cell_type": "code",
   "execution_count": 133,
   "id": "advance-terry",
   "metadata": {},
   "outputs": [
    {
     "name": "stdout",
     "output_type": "stream",
     "text": [
      "              precision    recall  f1-score   support\n",
      "\n",
      "           1       0.82      0.65      0.72       183\n",
      "           2       0.39      0.38      0.39        68\n",
      "           3       0.48      0.48      0.48        86\n",
      "           4       0.33      0.54      0.41        37\n",
      "           5       0.72      0.67      0.69        78\n",
      "           6       0.43      0.41      0.42        37\n",
      "           7       0.23      0.28      0.25        18\n",
      "           8       0.37      0.78      0.50        18\n",
      "\n",
      "    accuracy                           0.56       525\n",
      "   macro avg       0.47      0.52      0.48       525\n",
      "weighted avg       0.60      0.56      0.57       525\n",
      "\n"
     ]
    }
   ],
   "source": [
    "print(classification_report(Y_test, y_pred_ran_for_new_2))"
   ]
  },
  {
   "cell_type": "raw",
   "id": "tough-guide",
   "metadata": {},
   "source": [
    "for i in range(10):\n",
    "    print(\"Random state is -> \", i)\n",
    "    model_ran_for_new = RandomForestClassifier(random_state = i, max_depth = 10, \n",
    "                                               n_estimators = 400, max_features = 20)\n",
    "    model_ran_for_new.fit(X_res, y_res)\n",
    "    y_pred_ran_for_new = model_ran_for_new.predict(test_data_processed)\n",
    "    print(classification_report(Y_test, y_pred_ran_for_new))"
   ]
  },
  {
   "cell_type": "code",
   "execution_count": 135,
   "id": "written-absolute",
   "metadata": {},
   "outputs": [],
   "source": [
    "y_submission = model_ran_for_new_2.predict(submission_data_processed)"
   ]
  },
  {
   "cell_type": "code",
   "execution_count": 136,
   "id": "convinced-relationship",
   "metadata": {},
   "outputs": [
    {
     "data": {
      "text/plain": [
       "{1: 1252, 2: 605, 3: 655, 4: 574, 5: 627, 6: 331, 7: 192, 8: 264}"
      ]
     },
     "execution_count": 136,
     "metadata": {},
     "output_type": "execute_result"
    }
   ],
   "source": [
    "unique, counts = np.unique(y_submission, return_counts=True)\n",
    "dict(zip(unique, counts))"
   ]
  },
  {
   "cell_type": "code",
   "execution_count": 142,
   "id": "encouraging-software",
   "metadata": {},
   "outputs": [],
   "source": [
    "y_submissions_series = pd.Series(y_submission)"
   ]
  },
  {
   "cell_type": "code",
   "execution_count": 143,
   "id": "attended-chair",
   "metadata": {},
   "outputs": [],
   "source": [
    "submission_data = {'primary_identifier' : pd.to_numeric(prim_id),\n",
    "                 'next_month_plan' : pd.to_numeric(y_submissions_series)}\n",
    "\n",
    "submission_df = pd.DataFrame(submission_data)"
   ]
  },
  {
   "cell_type": "code",
   "execution_count": 144,
   "id": "surprising-circuit",
   "metadata": {},
   "outputs": [
    {
     "data": {
      "text/plain": [
       "(4500, 2)"
      ]
     },
     "execution_count": 144,
     "metadata": {},
     "output_type": "execute_result"
    }
   ],
   "source": [
    "submission_df.shape"
   ]
  },
  {
   "cell_type": "code",
   "execution_count": 145,
   "id": "focused-consciousness",
   "metadata": {},
   "outputs": [],
   "source": [
    "submission_df.to_csv(\"submission_11.csv\")"
   ]
  },
  {
   "cell_type": "code",
   "execution_count": null,
   "id": "latin-memorabilia",
   "metadata": {},
   "outputs": [],
   "source": []
  }
 ],
 "metadata": {
  "kernelspec": {
   "display_name": "Python 3",
   "language": "python",
   "name": "python3"
  },
  "language_info": {
   "codemirror_mode": {
    "name": "ipython",
    "version": 3
   },
   "file_extension": ".py",
   "mimetype": "text/x-python",
   "name": "python",
   "nbconvert_exporter": "python",
   "pygments_lexer": "ipython3",
   "version": "3.7.10"
  }
 },
 "nbformat": 4,
 "nbformat_minor": 5
}
