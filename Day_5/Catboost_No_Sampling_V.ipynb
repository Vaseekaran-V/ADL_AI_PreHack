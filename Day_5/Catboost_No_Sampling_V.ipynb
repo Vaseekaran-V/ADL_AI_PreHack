{
 "cells": [
  {
   "cell_type": "code",
   "execution_count": 1,
   "id": "funny-nightlife",
   "metadata": {},
   "outputs": [],
   "source": [
    "import pandas as pd\n",
    "import numpy as np\n",
    "import matplotlib.pyplot as plt\n",
    "%matplotlib inline\n",
    "import seaborn as sns\n",
    "from sklearn.model_selection import train_test_split\n",
    "from sklearn.metrics import accuracy_score\n",
    "from sklearn.metrics import confusion_matrix\n",
    "from sklearn.model_selection import cross_val_score\n",
    "from sklearn.preprocessing import OneHotEncoder\n",
    "from sklearn.preprocessing import LabelEncoder, OrdinalEncoder\n",
    "from sklearn.pipeline import Pipeline\n",
    "from sklearn import preprocessing\n",
    "from sklearn.compose import ColumnTransformer\n",
    "from sklearn.preprocessing import StandardScaler, MinMaxScaler, RobustScaler\n",
    "from sklearn.model_selection import cross_val_score\n",
    "from xgboost import XGBClassifier\n",
    "import xgboost as xgb\n",
    "from imblearn.ensemble import BalancedBaggingClassifier\n",
    "from imblearn.under_sampling import NearMiss\n",
    "from imblearn.under_sampling import TomekLinks\n",
    "from sklearn.tree import DecisionTreeClassifier\n",
    "from sklearn.ensemble import RandomForestClassifier\n",
    "from sklearn.metrics import classification_report\n",
    "from sklearn.ensemble import GradientBoostingClassifier\n",
    "from sklearn.ensemble import ExtraTreesClassifier\n",
    "from sklearn.experimental import enable_hist_gradient_boosting\n",
    "from sklearn.ensemble import HistGradientBoostingClassifier\n",
    "from sklearn.ensemble import StackingClassifier\n",
    "from sklearn.linear_model import LogisticRegression\n",
    "from sklearn.model_selection import GridSearchCV\n",
    "from catboost import CatBoostClassifier, Pool\n",
    "#Import other necessary model libraries, for this example, using Logistic Regression"
   ]
  },
  {
   "cell_type": "code",
   "execution_count": 2,
   "id": "empty-cinema",
   "metadata": {},
   "outputs": [],
   "source": [
    "train_data = pd.read_csv(\"../data/train_dataset.csv\")"
   ]
  },
  {
   "cell_type": "code",
   "execution_count": 3,
   "id": "painted-bumper",
   "metadata": {},
   "outputs": [],
   "source": [
    "train_data['next_month_plan'] = train_data['next_month_plan'].astype('category')"
   ]
  },
  {
   "cell_type": "code",
   "execution_count": 4,
   "id": "cardiovascular-banks",
   "metadata": {},
   "outputs": [
    {
     "data": {
      "text/plain": [
       "['PKG2', 'PKG1', 'PKG6', 'PKG4', 'PKG5', 'PKG3', 'PKG8', 'PKG7']\n",
       "Categories (8, object): ['PKG2', 'PKG1', 'PKG6', 'PKG4', 'PKG5', 'PKG3', 'PKG8', 'PKG7']"
      ]
     },
     "execution_count": 4,
     "metadata": {},
     "output_type": "execute_result"
    }
   ],
   "source": [
    "train_data['next_month_plan'].unique()"
   ]
  },
  {
   "cell_type": "code",
   "execution_count": 5,
   "id": "light-convertible",
   "metadata": {},
   "outputs": [],
   "source": [
    "labels_x = ['PKG0','PKG1', 'PKG2', 'PKG3', 'PKG4', 'PKG5', 'PKG6', 'PKG7', 'PKG8']"
   ]
  },
  {
   "cell_type": "code",
   "execution_count": 6,
   "id": "classical-manhattan",
   "metadata": {},
   "outputs": [],
   "source": [
    "le = preprocessing.LabelEncoder()"
   ]
  },
  {
   "cell_type": "code",
   "execution_count": 7,
   "id": "unusual-antibody",
   "metadata": {},
   "outputs": [
    {
     "data": {
      "text/plain": [
       "LabelEncoder()"
      ]
     },
     "execution_count": 7,
     "metadata": {},
     "output_type": "execute_result"
    }
   ],
   "source": [
    "le.fit(labels_x)"
   ]
  },
  {
   "cell_type": "code",
   "execution_count": 8,
   "id": "fuzzy-capacity",
   "metadata": {},
   "outputs": [],
   "source": [
    "train_data['encoded_class_labels'] = le.transform(train_data['next_month_plan'])"
   ]
  },
  {
   "cell_type": "code",
   "execution_count": 9,
   "id": "linear-drawing",
   "metadata": {},
   "outputs": [
    {
     "data": {
      "text/plain": [
       "array(['Smartphone', 'Basic', 'Feature phone', 'Pluggable card', 'Tablet',\n",
       "       nan, 'Modem'], dtype=object)"
      ]
     },
     "execution_count": 9,
     "metadata": {},
     "output_type": "execute_result"
    }
   ],
   "source": [
    "train_data['device_category'].unique()"
   ]
  },
  {
   "cell_type": "code",
   "execution_count": 10,
   "id": "combined-hamburg",
   "metadata": {},
   "outputs": [],
   "source": [
    "train_data['device_type'] = train_data['device_type'].fillna(value = 'Unknown')\n",
    "train_data['device_category'] = train_data['device_category'].fillna(value = 'Unknown')\n",
    "train_data['gender'] = train_data['gender'].fillna(value = 'Unknown')\n",
    "train_data['age_group'] = train_data['age_group'].fillna(value = 'Unknown')"
   ]
  },
  {
   "cell_type": "code",
   "execution_count": 11,
   "id": "purple-smile",
   "metadata": {},
   "outputs": [],
   "source": [
    "train_data = train_data.drop(columns = ['next_month_plan'])"
   ]
  },
  {
   "cell_type": "code",
   "execution_count": 12,
   "id": "polished-throw",
   "metadata": {},
   "outputs": [],
   "source": [
    "train_data['dusage_avg'] = train_data['dusage_avg'].fillna(value = 0)\n",
    "train_data['vusage_offnet_avg'] = train_data['vusage_offnet_avg'].fillna(value = 0)\n",
    "train_data['add_on_tot_rental'] = train_data['add_on_tot_rental'].fillna(value = -1)\n",
    "train_data['add_on_count'] = train_data['add_on_count'].fillna(value = 0)\n",
    "train_data['vusage_onnet_avg'] = train_data['vusage_onnet_avg'].fillna(value = 0)"
   ]
  },
  {
   "cell_type": "code",
   "execution_count": null,
   "id": "played-process",
   "metadata": {},
   "outputs": [],
   "source": []
  },
  {
   "cell_type": "code",
   "execution_count": null,
   "id": "running-silly",
   "metadata": {},
   "outputs": [],
   "source": []
  },
  {
   "cell_type": "code",
   "execution_count": null,
   "id": "advance-transcription",
   "metadata": {},
   "outputs": [],
   "source": []
  },
  {
   "cell_type": "code",
   "execution_count": null,
   "id": "israeli-stick",
   "metadata": {},
   "outputs": [],
   "source": []
  },
  {
   "cell_type": "code",
   "execution_count": 13,
   "id": "organizational-latex",
   "metadata": {},
   "outputs": [],
   "source": [
    "def get_col_types(dataframe):\n",
    "    data_cat_cols = []\n",
    "    data_quan_cols = []\n",
    "    \n",
    "    for col in np.array(dataframe.columns):\n",
    "        if dataframe[col].dtype == 'int64' or dataframe[col].dtype == 'float64':\n",
    "            data_quan_cols.append(col)\n",
    "        elif dataframe[col].dtype == 'O':\n",
    "            data_cat_cols.append(col)\n",
    "            \n",
    "    return data_cat_cols, data_quan_cols"
   ]
  },
  {
   "cell_type": "code",
   "execution_count": 14,
   "id": "romantic-playback",
   "metadata": {},
   "outputs": [],
   "source": [
    "X = train_data.drop(columns=['encoded_class_labels', 'primary_identifier'])"
   ]
  },
  {
   "cell_type": "code",
   "execution_count": 15,
   "id": "binary-replication",
   "metadata": {},
   "outputs": [],
   "source": [
    "data_cat_cols, data_quan_cols = get_col_types(X)"
   ]
  },
  {
   "cell_type": "code",
   "execution_count": 16,
   "id": "arranged-bearing",
   "metadata": {},
   "outputs": [],
   "source": [
    "y = train_data['encoded_class_labels']"
   ]
  },
  {
   "cell_type": "code",
   "execution_count": 17,
   "id": "heated-definition",
   "metadata": {},
   "outputs": [],
   "source": [
    "X_train, X_test, Y_train, Y_test = train_test_split(X, y, random_state=10, test_size = 0.05, stratify = y)"
   ]
  },
  {
   "cell_type": "code",
   "execution_count": 18,
   "id": "valued-volunteer",
   "metadata": {},
   "outputs": [],
   "source": [
    "quan_pipeline = Pipeline([\n",
    "    ('std_scaler', RobustScaler())\n",
    "])\n",
    "\n",
    "quan_transformed = quan_pipeline.fit_transform(X_train[data_quan_cols])"
   ]
  },
  {
   "cell_type": "code",
   "execution_count": 19,
   "id": "pursuant-container",
   "metadata": {},
   "outputs": [],
   "source": [
    "data_pipeline = ColumnTransformer([\n",
    "    ('numerical', quan_pipeline, data_quan_cols),\n",
    "    ('categorical', OrdinalEncoder(), data_cat_cols),\n",
    "    \n",
    "])\n",
    "\n",
    "train_data_processed = data_pipeline.fit_transform(X_train)"
   ]
  },
  {
   "cell_type": "code",
   "execution_count": 20,
   "id": "suburban-pottery",
   "metadata": {},
   "outputs": [],
   "source": [
    "test_data_processed = data_pipeline.transform(X_test)"
   ]
  },
  {
   "cell_type": "code",
   "execution_count": 54,
   "id": "robust-anchor",
   "metadata": {
    "scrolled": true
   },
   "outputs": [
    {
     "data": {
      "application/vnd.jupyter.widget-view+json": {
       "model_id": "5632d394279c4c09ad52419a73a858cc",
       "version_major": 2,
       "version_minor": 0
      },
      "text/plain": [
       "MetricVisualizer(layout=Layout(align_self='stretch', height='500px'))"
      ]
     },
     "metadata": {},
     "output_type": "display_data"
    },
    {
     "name": "stdout",
     "output_type": "stream",
     "text": [
      "Learning rate set to 0.086759\n",
      "0:\tlearn: 1.9280575\ttest: 1.9226005\tbest: 1.9226005 (0)\ttotal: 21.8ms\tremaining: 43.7s\n",
      "1:\tlearn: 1.8190385\ttest: 1.8144847\tbest: 1.8144847 (1)\ttotal: 37ms\tremaining: 37s\n",
      "2:\tlearn: 1.7381213\ttest: 1.7355724\tbest: 1.7355724 (2)\ttotal: 56.3ms\tremaining: 37.5s\n",
      "3:\tlearn: 1.6778376\ttest: 1.6771039\tbest: 1.6771039 (3)\ttotal: 76.2ms\tremaining: 38s\n",
      "4:\tlearn: 1.6254117\ttest: 1.6232697\tbest: 1.6232697 (4)\ttotal: 91.5ms\tremaining: 36.5s\n",
      "5:\tlearn: 1.5808453\ttest: 1.5795967\tbest: 1.5795967 (5)\ttotal: 106ms\tremaining: 35.1s\n",
      "6:\tlearn: 1.5427321\ttest: 1.5414343\tbest: 1.5414343 (6)\ttotal: 121ms\tremaining: 34.5s\n",
      "7:\tlearn: 1.5094716\ttest: 1.5083477\tbest: 1.5083477 (7)\ttotal: 135ms\tremaining: 33.7s\n",
      "8:\tlearn: 1.4813277\ttest: 1.4816599\tbest: 1.4816599 (8)\ttotal: 149ms\tremaining: 33s\n",
      "9:\tlearn: 1.4575483\ttest: 1.4580327\tbest: 1.4580327 (9)\ttotal: 163ms\tremaining: 32.5s\n",
      "10:\tlearn: 1.4338787\ttest: 1.4343382\tbest: 1.4343382 (10)\ttotal: 176ms\tremaining: 31.8s\n",
      "11:\tlearn: 1.4133736\ttest: 1.4112983\tbest: 1.4112983 (11)\ttotal: 190ms\tremaining: 31.4s\n",
      "12:\tlearn: 1.3910837\ttest: 1.3884223\tbest: 1.3884223 (12)\ttotal: 204ms\tremaining: 31.2s\n",
      "13:\tlearn: 1.3727710\ttest: 1.3709123\tbest: 1.3709123 (13)\ttotal: 218ms\tremaining: 30.9s\n",
      "14:\tlearn: 1.3561671\ttest: 1.3555884\tbest: 1.3555884 (14)\ttotal: 230ms\tremaining: 30.5s\n",
      "15:\tlearn: 1.3403078\ttest: 1.3380498\tbest: 1.3380498 (15)\ttotal: 249ms\tremaining: 30.9s\n",
      "16:\tlearn: 1.3251194\ttest: 1.3210614\tbest: 1.3210614 (16)\ttotal: 263ms\tremaining: 30.7s\n",
      "17:\tlearn: 1.3129280\ttest: 1.3078401\tbest: 1.3078401 (17)\ttotal: 277ms\tremaining: 30.5s\n",
      "18:\tlearn: 1.3027474\ttest: 1.2972702\tbest: 1.2972702 (18)\ttotal: 291ms\tremaining: 30.3s\n",
      "19:\tlearn: 1.2931909\ttest: 1.2870738\tbest: 1.2870738 (19)\ttotal: 305ms\tremaining: 30.2s\n",
      "20:\tlearn: 1.2815177\ttest: 1.2770603\tbest: 1.2770603 (20)\ttotal: 321ms\tremaining: 30.3s\n",
      "21:\tlearn: 1.2741250\ttest: 1.2701247\tbest: 1.2701247 (21)\ttotal: 334ms\tremaining: 30s\n",
      "22:\tlearn: 1.2679553\ttest: 1.2638817\tbest: 1.2638817 (22)\ttotal: 349ms\tremaining: 30s\n",
      "23:\tlearn: 1.2623275\ttest: 1.2588450\tbest: 1.2588450 (23)\ttotal: 369ms\tremaining: 30.4s\n",
      "24:\tlearn: 1.2541202\ttest: 1.2495928\tbest: 1.2495928 (24)\ttotal: 382ms\tremaining: 30.2s\n",
      "25:\tlearn: 1.2472395\ttest: 1.2432451\tbest: 1.2432451 (25)\ttotal: 395ms\tremaining: 30s\n",
      "26:\tlearn: 1.2395850\ttest: 1.2351888\tbest: 1.2351888 (26)\ttotal: 409ms\tremaining: 29.9s\n",
      "27:\tlearn: 1.2355791\ttest: 1.2300556\tbest: 1.2300556 (27)\ttotal: 423ms\tremaining: 29.8s\n",
      "28:\tlearn: 1.2290061\ttest: 1.2233187\tbest: 1.2233187 (28)\ttotal: 442ms\tremaining: 30s\n",
      "29:\tlearn: 1.2240088\ttest: 1.2183998\tbest: 1.2183998 (29)\ttotal: 456ms\tremaining: 29.9s\n",
      "30:\tlearn: 1.2178474\ttest: 1.2117655\tbest: 1.2117655 (30)\ttotal: 474ms\tremaining: 30.1s\n",
      "31:\tlearn: 1.2123036\ttest: 1.2068496\tbest: 1.2068496 (31)\ttotal: 487ms\tremaining: 30s\n",
      "32:\tlearn: 1.2081914\ttest: 1.2043468\tbest: 1.2043468 (32)\ttotal: 502ms\tremaining: 29.9s\n",
      "33:\tlearn: 1.2031121\ttest: 1.1994295\tbest: 1.1994295 (33)\ttotal: 516ms\tremaining: 29.8s\n",
      "34:\tlearn: 1.1989666\ttest: 1.1959184\tbest: 1.1959184 (34)\ttotal: 529ms\tremaining: 29.7s\n",
      "35:\tlearn: 1.1956934\ttest: 1.1929729\tbest: 1.1929729 (35)\ttotal: 543ms\tremaining: 29.6s\n",
      "36:\tlearn: 1.1921184\ttest: 1.1896258\tbest: 1.1896258 (36)\ttotal: 556ms\tremaining: 29.5s\n",
      "37:\tlearn: 1.1883398\ttest: 1.1859140\tbest: 1.1859140 (37)\ttotal: 569ms\tremaining: 29.4s\n",
      "38:\tlearn: 1.1863057\ttest: 1.1833880\tbest: 1.1833880 (38)\ttotal: 581ms\tremaining: 29.2s\n",
      "39:\tlearn: 1.1820791\ttest: 1.1796920\tbest: 1.1796920 (39)\ttotal: 594ms\tremaining: 29.1s\n",
      "40:\tlearn: 1.1786067\ttest: 1.1768269\tbest: 1.1768269 (40)\ttotal: 607ms\tremaining: 29s\n",
      "41:\tlearn: 1.1755383\ttest: 1.1750601\tbest: 1.1750601 (41)\ttotal: 620ms\tremaining: 28.9s\n",
      "42:\tlearn: 1.1713655\ttest: 1.1713481\tbest: 1.1713481 (42)\ttotal: 635ms\tremaining: 28.9s\n",
      "43:\tlearn: 1.1696106\ttest: 1.1699790\tbest: 1.1699790 (43)\ttotal: 649ms\tremaining: 28.9s\n",
      "44:\tlearn: 1.1670236\ttest: 1.1674538\tbest: 1.1674538 (44)\ttotal: 664ms\tremaining: 28.9s\n",
      "45:\tlearn: 1.1650331\ttest: 1.1661726\tbest: 1.1661726 (45)\ttotal: 678ms\tremaining: 28.8s\n",
      "46:\tlearn: 1.1627464\ttest: 1.1648160\tbest: 1.1648160 (46)\ttotal: 692ms\tremaining: 28.8s\n",
      "47:\tlearn: 1.1608618\ttest: 1.1639682\tbest: 1.1639682 (47)\ttotal: 708ms\tremaining: 28.8s\n",
      "48:\tlearn: 1.1586899\ttest: 1.1619889\tbest: 1.1619889 (48)\ttotal: 723ms\tremaining: 28.8s\n",
      "49:\tlearn: 1.1565536\ttest: 1.1606624\tbest: 1.1606624 (49)\ttotal: 739ms\tremaining: 28.8s\n",
      "50:\tlearn: 1.1541846\ttest: 1.1592294\tbest: 1.1592294 (50)\ttotal: 754ms\tremaining: 28.8s\n",
      "51:\tlearn: 1.1519123\ttest: 1.1575468\tbest: 1.1575468 (51)\ttotal: 772ms\tremaining: 28.9s\n",
      "52:\tlearn: 1.1485413\ttest: 1.1544132\tbest: 1.1544132 (52)\ttotal: 788ms\tremaining: 28.9s\n",
      "53:\tlearn: 1.1468120\ttest: 1.1532516\tbest: 1.1532516 (53)\ttotal: 802ms\tremaining: 28.9s\n",
      "54:\tlearn: 1.1448779\ttest: 1.1517153\tbest: 1.1517153 (54)\ttotal: 817ms\tremaining: 28.9s\n",
      "55:\tlearn: 1.1424495\ttest: 1.1494955\tbest: 1.1494955 (55)\ttotal: 832ms\tremaining: 28.9s\n",
      "56:\tlearn: 1.1393601\ttest: 1.1472650\tbest: 1.1472650 (56)\ttotal: 849ms\tremaining: 29s\n",
      "57:\tlearn: 1.1380284\ttest: 1.1467013\tbest: 1.1467013 (57)\ttotal: 866ms\tremaining: 29s\n",
      "58:\tlearn: 1.1369565\ttest: 1.1457081\tbest: 1.1457081 (58)\ttotal: 880ms\tremaining: 29s\n",
      "59:\tlearn: 1.1344950\ttest: 1.1440597\tbest: 1.1440597 (59)\ttotal: 895ms\tremaining: 28.9s\n",
      "60:\tlearn: 1.1334050\ttest: 1.1429683\tbest: 1.1429683 (60)\ttotal: 910ms\tremaining: 28.9s\n",
      "61:\tlearn: 1.1318039\ttest: 1.1411353\tbest: 1.1411353 (61)\ttotal: 924ms\tremaining: 28.9s\n",
      "62:\tlearn: 1.1284796\ttest: 1.1391504\tbest: 1.1391504 (62)\ttotal: 938ms\tremaining: 28.8s\n",
      "63:\tlearn: 1.1272566\ttest: 1.1379807\tbest: 1.1379807 (63)\ttotal: 952ms\tremaining: 28.8s\n",
      "64:\tlearn: 1.1258999\ttest: 1.1371067\tbest: 1.1371067 (64)\ttotal: 967ms\tremaining: 28.8s\n",
      "65:\tlearn: 1.1236082\ttest: 1.1353614\tbest: 1.1353614 (65)\ttotal: 986ms\tremaining: 28.9s\n",
      "66:\tlearn: 1.1221446\ttest: 1.1340664\tbest: 1.1340664 (66)\ttotal: 1s\tremaining: 28.9s\n",
      "67:\tlearn: 1.1200336\ttest: 1.1317616\tbest: 1.1317616 (67)\ttotal: 1.01s\tremaining: 28.8s\n",
      "68:\tlearn: 1.1175571\ttest: 1.1290592\tbest: 1.1290592 (68)\ttotal: 1.03s\tremaining: 28.8s\n",
      "69:\tlearn: 1.1162160\ttest: 1.1276145\tbest: 1.1276145 (69)\ttotal: 1.04s\tremaining: 28.8s\n",
      "70:\tlearn: 1.1140240\ttest: 1.1265061\tbest: 1.1265061 (70)\ttotal: 1.06s\tremaining: 28.7s\n",
      "71:\tlearn: 1.1119236\ttest: 1.1253694\tbest: 1.1253694 (71)\ttotal: 1.08s\tremaining: 28.9s\n",
      "72:\tlearn: 1.1106256\ttest: 1.1240973\tbest: 1.1240973 (72)\ttotal: 1.09s\tremaining: 28.8s\n",
      "73:\tlearn: 1.1090407\ttest: 1.1234983\tbest: 1.1234983 (73)\ttotal: 1.11s\tremaining: 28.9s\n",
      "74:\tlearn: 1.1080194\ttest: 1.1227761\tbest: 1.1227761 (74)\ttotal: 1.12s\tremaining: 28.8s\n",
      "75:\tlearn: 1.1073683\ttest: 1.1227581\tbest: 1.1227581 (75)\ttotal: 1.13s\tremaining: 28.7s\n",
      "76:\tlearn: 1.1061713\ttest: 1.1222963\tbest: 1.1222963 (76)\ttotal: 1.15s\tremaining: 28.7s\n",
      "77:\tlearn: 1.1043199\ttest: 1.1217195\tbest: 1.1217195 (77)\ttotal: 1.16s\tremaining: 28.6s\n",
      "78:\tlearn: 1.1032546\ttest: 1.1208735\tbest: 1.1208735 (78)\ttotal: 1.17s\tremaining: 28.5s\n",
      "79:\tlearn: 1.1008805\ttest: 1.1198932\tbest: 1.1198932 (79)\ttotal: 1.18s\tremaining: 28.4s\n",
      "80:\tlearn: 1.0993586\ttest: 1.1186628\tbest: 1.1186628 (80)\ttotal: 1.2s\tremaining: 28.4s\n",
      "81:\tlearn: 1.0980143\ttest: 1.1178038\tbest: 1.1178038 (81)\ttotal: 1.21s\tremaining: 28.3s\n",
      "82:\tlearn: 1.0967554\ttest: 1.1170612\tbest: 1.1170612 (82)\ttotal: 1.22s\tremaining: 28.2s\n",
      "83:\tlearn: 1.0950963\ttest: 1.1160382\tbest: 1.1160382 (83)\ttotal: 1.24s\tremaining: 28.2s\n",
      "84:\tlearn: 1.0937113\ttest: 1.1157460\tbest: 1.1157460 (84)\ttotal: 1.25s\tremaining: 28.1s\n",
      "85:\tlearn: 1.0927640\ttest: 1.1149792\tbest: 1.1149792 (85)\ttotal: 1.26s\tremaining: 28.1s\n",
      "86:\tlearn: 1.0913601\ttest: 1.1141082\tbest: 1.1141082 (86)\ttotal: 1.27s\tremaining: 28.1s\n",
      "87:\tlearn: 1.0907375\ttest: 1.1136013\tbest: 1.1136013 (87)\ttotal: 1.29s\tremaining: 28.1s\n",
      "88:\tlearn: 1.0894860\ttest: 1.1132586\tbest: 1.1132586 (88)\ttotal: 1.3s\tremaining: 28s\n",
      "89:\tlearn: 1.0884739\ttest: 1.1132313\tbest: 1.1132313 (89)\ttotal: 1.32s\tremaining: 28s\n",
      "90:\tlearn: 1.0870728\ttest: 1.1119172\tbest: 1.1119172 (90)\ttotal: 1.33s\tremaining: 28s\n",
      "91:\tlearn: 1.0864524\ttest: 1.1115379\tbest: 1.1115379 (91)\ttotal: 1.35s\tremaining: 28s\n",
      "92:\tlearn: 1.0843612\ttest: 1.1108383\tbest: 1.1108383 (92)\ttotal: 1.36s\tremaining: 27.9s\n",
      "93:\tlearn: 1.0829818\ttest: 1.1104371\tbest: 1.1104371 (93)\ttotal: 1.37s\tremaining: 27.9s\n",
      "94:\tlearn: 1.0820330\ttest: 1.1096126\tbest: 1.1096126 (94)\ttotal: 1.39s\tremaining: 27.9s\n",
      "95:\tlearn: 1.0814150\ttest: 1.1097760\tbest: 1.1096126 (94)\ttotal: 1.4s\tremaining: 27.8s\n",
      "96:\tlearn: 1.0803805\ttest: 1.1094999\tbest: 1.1094999 (96)\ttotal: 1.42s\tremaining: 27.8s\n",
      "97:\tlearn: 1.0790916\ttest: 1.1088121\tbest: 1.1088121 (97)\ttotal: 1.43s\tremaining: 27.8s\n"
     ]
    },
    {
     "name": "stdout",
     "output_type": "stream",
     "text": [
      "98:\tlearn: 1.0780047\ttest: 1.1080073\tbest: 1.1080073 (98)\ttotal: 1.45s\tremaining: 27.8s\n",
      "99:\tlearn: 1.0768874\ttest: 1.1077157\tbest: 1.1077157 (99)\ttotal: 1.46s\tremaining: 27.8s\n",
      "100:\tlearn: 1.0759722\ttest: 1.1069283\tbest: 1.1069283 (100)\ttotal: 1.47s\tremaining: 27.7s\n",
      "101:\tlearn: 1.0745382\ttest: 1.1059507\tbest: 1.1059507 (101)\ttotal: 1.49s\tremaining: 27.7s\n",
      "102:\tlearn: 1.0729878\ttest: 1.1051542\tbest: 1.1051542 (102)\ttotal: 1.5s\tremaining: 27.7s\n",
      "103:\tlearn: 1.0721532\ttest: 1.1047710\tbest: 1.1047710 (103)\ttotal: 1.51s\tremaining: 27.6s\n",
      "104:\tlearn: 1.0706712\ttest: 1.1032486\tbest: 1.1032486 (104)\ttotal: 1.53s\tremaining: 27.7s\n",
      "105:\tlearn: 1.0699180\ttest: 1.1031629\tbest: 1.1031629 (105)\ttotal: 1.55s\tremaining: 27.7s\n",
      "106:\tlearn: 1.0688744\ttest: 1.1028191\tbest: 1.1028191 (106)\ttotal: 1.56s\tremaining: 27.7s\n",
      "107:\tlearn: 1.0678257\ttest: 1.1026004\tbest: 1.1026004 (107)\ttotal: 1.58s\tremaining: 27.6s\n",
      "108:\tlearn: 1.0666904\ttest: 1.1023969\tbest: 1.1023969 (108)\ttotal: 1.59s\tremaining: 27.6s\n",
      "109:\tlearn: 1.0649195\ttest: 1.1011948\tbest: 1.1011948 (109)\ttotal: 1.61s\tremaining: 27.6s\n",
      "110:\tlearn: 1.0637528\ttest: 1.1013248\tbest: 1.1011948 (109)\ttotal: 1.63s\tremaining: 27.7s\n",
      "111:\tlearn: 1.0627672\ttest: 1.1008464\tbest: 1.1008464 (111)\ttotal: 1.65s\tremaining: 27.8s\n",
      "112:\tlearn: 1.0617745\ttest: 1.1005073\tbest: 1.1005073 (112)\ttotal: 1.67s\tremaining: 27.9s\n",
      "113:\tlearn: 1.0613956\ttest: 1.1004746\tbest: 1.1004746 (113)\ttotal: 1.69s\tremaining: 28s\n",
      "114:\tlearn: 1.0599501\ttest: 1.0991162\tbest: 1.0991162 (114)\ttotal: 1.71s\tremaining: 28s\n",
      "115:\tlearn: 1.0587278\ttest: 1.0985340\tbest: 1.0985340 (115)\ttotal: 1.72s\tremaining: 28s\n",
      "116:\tlearn: 1.0573000\ttest: 1.0977216\tbest: 1.0977216 (116)\ttotal: 1.74s\tremaining: 27.9s\n",
      "117:\tlearn: 1.0562721\ttest: 1.0968725\tbest: 1.0968725 (117)\ttotal: 1.75s\tremaining: 27.9s\n",
      "118:\tlearn: 1.0553321\ttest: 1.0962927\tbest: 1.0962927 (118)\ttotal: 1.76s\tremaining: 27.9s\n",
      "119:\tlearn: 1.0545645\ttest: 1.0963968\tbest: 1.0962927 (118)\ttotal: 1.77s\tremaining: 27.8s\n",
      "120:\tlearn: 1.0538520\ttest: 1.0965605\tbest: 1.0962927 (118)\ttotal: 1.79s\tremaining: 27.8s\n",
      "121:\tlearn: 1.0527237\ttest: 1.0955155\tbest: 1.0955155 (121)\ttotal: 1.8s\tremaining: 27.8s\n",
      "122:\tlearn: 1.0509092\ttest: 1.0955210\tbest: 1.0955155 (121)\ttotal: 1.82s\tremaining: 27.7s\n",
      "123:\tlearn: 1.0496385\ttest: 1.0949918\tbest: 1.0949918 (123)\ttotal: 1.83s\tremaining: 27.7s\n",
      "124:\tlearn: 1.0490730\ttest: 1.0951266\tbest: 1.0949918 (123)\ttotal: 1.84s\tremaining: 27.7s\n",
      "125:\tlearn: 1.0474741\ttest: 1.0946103\tbest: 1.0946103 (125)\ttotal: 1.86s\tremaining: 27.6s\n",
      "126:\tlearn: 1.0467520\ttest: 1.0942871\tbest: 1.0942871 (126)\ttotal: 1.87s\tremaining: 27.6s\n",
      "127:\tlearn: 1.0449635\ttest: 1.0940102\tbest: 1.0940102 (127)\ttotal: 1.89s\tremaining: 27.6s\n",
      "128:\tlearn: 1.0444072\ttest: 1.0938402\tbest: 1.0938402 (128)\ttotal: 1.9s\tremaining: 27.6s\n",
      "129:\tlearn: 1.0430913\ttest: 1.0935720\tbest: 1.0935720 (129)\ttotal: 1.92s\tremaining: 27.6s\n",
      "130:\tlearn: 1.0420414\ttest: 1.0933900\tbest: 1.0933900 (130)\ttotal: 1.93s\tremaining: 27.6s\n",
      "131:\tlearn: 1.0413011\ttest: 1.0933719\tbest: 1.0933719 (131)\ttotal: 1.95s\tremaining: 27.6s\n",
      "132:\tlearn: 1.0397258\ttest: 1.0925089\tbest: 1.0925089 (132)\ttotal: 1.96s\tremaining: 27.5s\n",
      "133:\tlearn: 1.0386366\ttest: 1.0918231\tbest: 1.0918231 (133)\ttotal: 1.98s\tremaining: 27.6s\n",
      "134:\tlearn: 1.0371968\ttest: 1.0907674\tbest: 1.0907674 (134)\ttotal: 1.99s\tremaining: 27.5s\n",
      "135:\tlearn: 1.0361604\ttest: 1.0906831\tbest: 1.0906831 (135)\ttotal: 2.01s\tremaining: 27.5s\n",
      "136:\tlearn: 1.0349402\ttest: 1.0896655\tbest: 1.0896655 (136)\ttotal: 2.02s\tremaining: 27.4s\n",
      "137:\tlearn: 1.0341103\ttest: 1.0896991\tbest: 1.0896655 (136)\ttotal: 2.03s\tremaining: 27.4s\n",
      "138:\tlearn: 1.0331974\ttest: 1.0889416\tbest: 1.0889416 (138)\ttotal: 2.04s\tremaining: 27.4s\n",
      "139:\tlearn: 1.0320063\ttest: 1.0884167\tbest: 1.0884167 (139)\ttotal: 2.06s\tremaining: 27.3s\n",
      "140:\tlearn: 1.0305315\ttest: 1.0880167\tbest: 1.0880167 (140)\ttotal: 2.07s\tremaining: 27.3s\n",
      "141:\tlearn: 1.0292057\ttest: 1.0879255\tbest: 1.0879255 (141)\ttotal: 2.08s\tremaining: 27.3s\n",
      "142:\tlearn: 1.0280722\ttest: 1.0875790\tbest: 1.0875790 (142)\ttotal: 2.1s\tremaining: 27.2s\n",
      "143:\tlearn: 1.0271967\ttest: 1.0874203\tbest: 1.0874203 (143)\ttotal: 2.11s\tremaining: 27.2s\n",
      "144:\tlearn: 1.0263847\ttest: 1.0870677\tbest: 1.0870677 (144)\ttotal: 2.12s\tremaining: 27.2s\n",
      "145:\tlearn: 1.0248459\ttest: 1.0861725\tbest: 1.0861725 (145)\ttotal: 2.13s\tremaining: 27.1s\n",
      "146:\tlearn: 1.0242473\ttest: 1.0862533\tbest: 1.0861725 (145)\ttotal: 2.15s\tremaining: 27.1s\n",
      "147:\tlearn: 1.0234732\ttest: 1.0854698\tbest: 1.0854698 (147)\ttotal: 2.16s\tremaining: 27s\n",
      "148:\tlearn: 1.0224774\ttest: 1.0850233\tbest: 1.0850233 (148)\ttotal: 2.17s\tremaining: 27s\n",
      "149:\tlearn: 1.0215150\ttest: 1.0846219\tbest: 1.0846219 (149)\ttotal: 2.19s\tremaining: 27s\n",
      "150:\tlearn: 1.0206832\ttest: 1.0845291\tbest: 1.0845291 (150)\ttotal: 2.2s\tremaining: 26.9s\n",
      "151:\tlearn: 1.0194110\ttest: 1.0837378\tbest: 1.0837378 (151)\ttotal: 2.21s\tremaining: 26.9s\n",
      "152:\tlearn: 1.0188285\ttest: 1.0835983\tbest: 1.0835983 (152)\ttotal: 2.22s\tremaining: 26.8s\n",
      "153:\tlearn: 1.0173436\ttest: 1.0827753\tbest: 1.0827753 (153)\ttotal: 2.24s\tremaining: 26.8s\n",
      "154:\tlearn: 1.0161199\ttest: 1.0822948\tbest: 1.0822948 (154)\ttotal: 2.25s\tremaining: 26.8s\n",
      "155:\tlearn: 1.0154563\ttest: 1.0818911\tbest: 1.0818911 (155)\ttotal: 2.26s\tremaining: 26.7s\n",
      "156:\tlearn: 1.0147043\ttest: 1.0815547\tbest: 1.0815547 (156)\ttotal: 2.27s\tremaining: 26.7s\n",
      "157:\tlearn: 1.0140525\ttest: 1.0811615\tbest: 1.0811615 (157)\ttotal: 2.29s\tremaining: 26.7s\n",
      "158:\tlearn: 1.0134281\ttest: 1.0811605\tbest: 1.0811605 (158)\ttotal: 2.3s\tremaining: 26.7s\n",
      "159:\tlearn: 1.0123235\ttest: 1.0809922\tbest: 1.0809922 (159)\ttotal: 2.32s\tremaining: 26.6s\n",
      "160:\tlearn: 1.0118501\ttest: 1.0806594\tbest: 1.0806594 (160)\ttotal: 2.33s\tremaining: 26.6s\n",
      "161:\tlearn: 1.0113493\ttest: 1.0805153\tbest: 1.0805153 (161)\ttotal: 2.34s\tremaining: 26.6s\n",
      "162:\tlearn: 1.0103338\ttest: 1.0804834\tbest: 1.0804834 (162)\ttotal: 2.35s\tremaining: 26.5s\n",
      "163:\tlearn: 1.0094860\ttest: 1.0795643\tbest: 1.0795643 (163)\ttotal: 2.37s\tremaining: 26.5s\n",
      "164:\tlearn: 1.0086342\ttest: 1.0800435\tbest: 1.0795643 (163)\ttotal: 2.38s\tremaining: 26.5s\n",
      "165:\tlearn: 1.0078907\ttest: 1.0797213\tbest: 1.0795643 (163)\ttotal: 2.39s\tremaining: 26.5s\n",
      "166:\tlearn: 1.0073351\ttest: 1.0797999\tbest: 1.0795643 (163)\ttotal: 2.41s\tremaining: 26.4s\n",
      "167:\tlearn: 1.0062441\ttest: 1.0793256\tbest: 1.0793256 (167)\ttotal: 2.42s\tremaining: 26.4s\n",
      "168:\tlearn: 1.0053383\ttest: 1.0793581\tbest: 1.0793256 (167)\ttotal: 2.43s\tremaining: 26.4s\n",
      "169:\tlearn: 1.0047971\ttest: 1.0791915\tbest: 1.0791915 (169)\ttotal: 2.45s\tremaining: 26.3s\n",
      "170:\tlearn: 1.0036493\ttest: 1.0785184\tbest: 1.0785184 (170)\ttotal: 2.46s\tremaining: 26.3s\n",
      "171:\tlearn: 1.0026011\ttest: 1.0782997\tbest: 1.0782997 (171)\ttotal: 2.47s\tremaining: 26.3s\n",
      "172:\tlearn: 1.0019844\ttest: 1.0782156\tbest: 1.0782156 (172)\ttotal: 2.48s\tremaining: 26.2s\n",
      "173:\tlearn: 1.0014179\ttest: 1.0780622\tbest: 1.0780622 (173)\ttotal: 2.5s\tremaining: 26.2s\n",
      "174:\tlearn: 1.0005959\ttest: 1.0776501\tbest: 1.0776501 (174)\ttotal: 2.51s\tremaining: 26.2s\n",
      "175:\tlearn: 0.9995076\ttest: 1.0772394\tbest: 1.0772394 (175)\ttotal: 2.53s\tremaining: 26.2s\n",
      "176:\tlearn: 0.9988949\ttest: 1.0773782\tbest: 1.0772394 (175)\ttotal: 2.54s\tremaining: 26.2s\n",
      "177:\tlearn: 0.9976392\ttest: 1.0773087\tbest: 1.0772394 (175)\ttotal: 2.56s\tremaining: 26.3s\n",
      "178:\tlearn: 0.9966759\ttest: 1.0772122\tbest: 1.0772122 (178)\ttotal: 2.58s\tremaining: 26.3s\n",
      "179:\tlearn: 0.9958042\ttest: 1.0768276\tbest: 1.0768276 (179)\ttotal: 2.6s\tremaining: 26.3s\n",
      "180:\tlearn: 0.9948416\ttest: 1.0773198\tbest: 1.0768276 (179)\ttotal: 2.62s\tremaining: 26.3s\n",
      "181:\tlearn: 0.9940169\ttest: 1.0773154\tbest: 1.0768276 (179)\ttotal: 2.63s\tremaining: 26.3s\n",
      "182:\tlearn: 0.9933876\ttest: 1.0773256\tbest: 1.0768276 (179)\ttotal: 2.64s\tremaining: 26.2s\n",
      "183:\tlearn: 0.9929316\ttest: 1.0772951\tbest: 1.0768276 (179)\ttotal: 2.66s\tremaining: 26.2s\n",
      "184:\tlearn: 0.9917107\ttest: 1.0772936\tbest: 1.0768276 (179)\ttotal: 2.67s\tremaining: 26.2s\n",
      "185:\tlearn: 0.9908154\ttest: 1.0768018\tbest: 1.0768018 (185)\ttotal: 2.68s\tremaining: 26.2s\n",
      "186:\tlearn: 0.9899221\ttest: 1.0766715\tbest: 1.0766715 (186)\ttotal: 2.7s\tremaining: 26.2s\n",
      "187:\tlearn: 0.9892388\ttest: 1.0764866\tbest: 1.0764866 (187)\ttotal: 2.71s\tremaining: 26.1s\n",
      "188:\tlearn: 0.9885925\ttest: 1.0762996\tbest: 1.0762996 (188)\ttotal: 2.73s\tremaining: 26.1s\n",
      "189:\tlearn: 0.9880581\ttest: 1.0760125\tbest: 1.0760125 (189)\ttotal: 2.74s\tremaining: 26.1s\n",
      "190:\tlearn: 0.9872662\ttest: 1.0757003\tbest: 1.0757003 (190)\ttotal: 2.75s\tremaining: 26.1s\n",
      "191:\tlearn: 0.9863123\ttest: 1.0752913\tbest: 1.0752913 (191)\ttotal: 2.77s\tremaining: 26s\n",
      "192:\tlearn: 0.9858653\ttest: 1.0752171\tbest: 1.0752171 (192)\ttotal: 2.78s\tremaining: 26s\n",
      "193:\tlearn: 0.9851108\ttest: 1.0748983\tbest: 1.0748983 (193)\ttotal: 2.79s\tremaining: 26s\n",
      "194:\tlearn: 0.9846024\ttest: 1.0748037\tbest: 1.0748037 (194)\ttotal: 2.8s\tremaining: 26s\n",
      "195:\tlearn: 0.9837339\ttest: 1.0748365\tbest: 1.0748037 (194)\ttotal: 2.82s\tremaining: 25.9s\n",
      "196:\tlearn: 0.9828915\ttest: 1.0744217\tbest: 1.0744217 (196)\ttotal: 2.83s\tremaining: 25.9s\n",
      "197:\tlearn: 0.9819130\ttest: 1.0745517\tbest: 1.0744217 (196)\ttotal: 2.84s\tremaining: 25.9s\n",
      "198:\tlearn: 0.9812792\ttest: 1.0743393\tbest: 1.0743393 (198)\ttotal: 2.85s\tremaining: 25.8s\n",
      "199:\tlearn: 0.9806544\ttest: 1.0745064\tbest: 1.0743393 (198)\ttotal: 2.87s\tremaining: 25.8s\n",
      "200:\tlearn: 0.9799318\ttest: 1.0745688\tbest: 1.0743393 (198)\ttotal: 2.88s\tremaining: 25.8s\n"
     ]
    },
    {
     "name": "stdout",
     "output_type": "stream",
     "text": [
      "201:\tlearn: 0.9792990\ttest: 1.0749054\tbest: 1.0743393 (198)\ttotal: 2.89s\tremaining: 25.8s\n",
      "202:\tlearn: 0.9790603\ttest: 1.0751222\tbest: 1.0743393 (198)\ttotal: 2.9s\tremaining: 25.7s\n",
      "203:\tlearn: 0.9782700\ttest: 1.0745442\tbest: 1.0743393 (198)\ttotal: 2.92s\tremaining: 25.7s\n",
      "204:\tlearn: 0.9772518\ttest: 1.0745500\tbest: 1.0743393 (198)\ttotal: 2.94s\tremaining: 25.7s\n",
      "205:\tlearn: 0.9760616\ttest: 1.0740797\tbest: 1.0740797 (205)\ttotal: 2.96s\tremaining: 25.8s\n",
      "206:\tlearn: 0.9757261\ttest: 1.0741103\tbest: 1.0740797 (205)\ttotal: 2.97s\tremaining: 25.8s\n",
      "207:\tlearn: 0.9749103\ttest: 1.0740679\tbest: 1.0740679 (207)\ttotal: 2.99s\tremaining: 25.7s\n",
      "208:\tlearn: 0.9745166\ttest: 1.0735437\tbest: 1.0735437 (208)\ttotal: 3s\tremaining: 25.7s\n",
      "209:\tlearn: 0.9734917\ttest: 1.0736909\tbest: 1.0735437 (208)\ttotal: 3.01s\tremaining: 25.7s\n",
      "210:\tlearn: 0.9728172\ttest: 1.0736450\tbest: 1.0735437 (208)\ttotal: 3.02s\tremaining: 25.6s\n",
      "211:\tlearn: 0.9720781\ttest: 1.0732465\tbest: 1.0732465 (211)\ttotal: 3.04s\tremaining: 25.6s\n",
      "212:\tlearn: 0.9706393\ttest: 1.0725121\tbest: 1.0725121 (212)\ttotal: 3.05s\tremaining: 25.6s\n",
      "213:\tlearn: 0.9698548\ttest: 1.0727159\tbest: 1.0725121 (212)\ttotal: 3.06s\tremaining: 25.6s\n",
      "214:\tlearn: 0.9691222\ttest: 1.0726322\tbest: 1.0725121 (212)\ttotal: 3.07s\tremaining: 25.5s\n",
      "215:\tlearn: 0.9683715\ttest: 1.0720516\tbest: 1.0720516 (215)\ttotal: 3.08s\tremaining: 25.5s\n",
      "216:\tlearn: 0.9675536\ttest: 1.0717451\tbest: 1.0717451 (216)\ttotal: 3.1s\tremaining: 25.5s\n",
      "217:\tlearn: 0.9670888\ttest: 1.0715134\tbest: 1.0715134 (217)\ttotal: 3.11s\tremaining: 25.5s\n",
      "218:\tlearn: 0.9661000\ttest: 1.0712022\tbest: 1.0712022 (218)\ttotal: 3.13s\tremaining: 25.4s\n",
      "219:\tlearn: 0.9654979\ttest: 1.0709811\tbest: 1.0709811 (219)\ttotal: 3.14s\tremaining: 25.4s\n",
      "220:\tlearn: 0.9651239\ttest: 1.0711647\tbest: 1.0709811 (219)\ttotal: 3.16s\tremaining: 25.4s\n",
      "221:\tlearn: 0.9644417\ttest: 1.0711856\tbest: 1.0709811 (219)\ttotal: 3.17s\tremaining: 25.4s\n",
      "222:\tlearn: 0.9638121\ttest: 1.0717695\tbest: 1.0709811 (219)\ttotal: 3.18s\tremaining: 25.4s\n",
      "223:\tlearn: 0.9634192\ttest: 1.0717430\tbest: 1.0709811 (219)\ttotal: 3.19s\tremaining: 25.3s\n",
      "224:\tlearn: 0.9627566\ttest: 1.0714159\tbest: 1.0709811 (219)\ttotal: 3.21s\tremaining: 25.3s\n",
      "225:\tlearn: 0.9618097\ttest: 1.0710639\tbest: 1.0709811 (219)\ttotal: 3.22s\tremaining: 25.3s\n",
      "226:\tlearn: 0.9606723\ttest: 1.0712945\tbest: 1.0709811 (219)\ttotal: 3.23s\tremaining: 25.3s\n",
      "227:\tlearn: 0.9595065\ttest: 1.0709779\tbest: 1.0709779 (227)\ttotal: 3.25s\tremaining: 25.2s\n",
      "228:\tlearn: 0.9589104\ttest: 1.0708530\tbest: 1.0708530 (228)\ttotal: 3.26s\tremaining: 25.2s\n",
      "229:\tlearn: 0.9584638\ttest: 1.0710613\tbest: 1.0708530 (228)\ttotal: 3.27s\tremaining: 25.2s\n",
      "230:\tlearn: 0.9577133\ttest: 1.0705092\tbest: 1.0705092 (230)\ttotal: 3.28s\tremaining: 25.1s\n",
      "231:\tlearn: 0.9570527\ttest: 1.0703762\tbest: 1.0703762 (231)\ttotal: 3.3s\tremaining: 25.1s\n",
      "232:\tlearn: 0.9566211\ttest: 1.0704116\tbest: 1.0703762 (231)\ttotal: 3.31s\tremaining: 25.1s\n",
      "233:\tlearn: 0.9561822\ttest: 1.0699603\tbest: 1.0699603 (233)\ttotal: 3.32s\tremaining: 25.1s\n",
      "234:\tlearn: 0.9555151\ttest: 1.0693216\tbest: 1.0693216 (234)\ttotal: 3.34s\tremaining: 25.1s\n",
      "235:\tlearn: 0.9550545\ttest: 1.0691164\tbest: 1.0691164 (235)\ttotal: 3.35s\tremaining: 25.1s\n",
      "236:\tlearn: 0.9545093\ttest: 1.0691034\tbest: 1.0691034 (236)\ttotal: 3.37s\tremaining: 25s\n",
      "237:\tlearn: 0.9538934\ttest: 1.0690360\tbest: 1.0690360 (237)\ttotal: 3.38s\tremaining: 25s\n",
      "238:\tlearn: 0.9532298\ttest: 1.0693578\tbest: 1.0690360 (237)\ttotal: 3.39s\tremaining: 25s\n",
      "239:\tlearn: 0.9528512\ttest: 1.0693901\tbest: 1.0690360 (237)\ttotal: 3.41s\tremaining: 25s\n",
      "240:\tlearn: 0.9520961\ttest: 1.0695466\tbest: 1.0690360 (237)\ttotal: 3.42s\tremaining: 25s\n",
      "241:\tlearn: 0.9514846\ttest: 1.0695146\tbest: 1.0690360 (237)\ttotal: 3.43s\tremaining: 24.9s\n",
      "242:\tlearn: 0.9510070\ttest: 1.0695876\tbest: 1.0690360 (237)\ttotal: 3.44s\tremaining: 24.9s\n",
      "243:\tlearn: 0.9505990\ttest: 1.0693800\tbest: 1.0690360 (237)\ttotal: 3.46s\tremaining: 24.9s\n",
      "244:\tlearn: 0.9499801\ttest: 1.0694670\tbest: 1.0690360 (237)\ttotal: 3.47s\tremaining: 24.9s\n",
      "245:\tlearn: 0.9489224\ttest: 1.0698504\tbest: 1.0690360 (237)\ttotal: 3.48s\tremaining: 24.8s\n",
      "246:\tlearn: 0.9481543\ttest: 1.0699279\tbest: 1.0690360 (237)\ttotal: 3.5s\tremaining: 24.8s\n",
      "247:\tlearn: 0.9475163\ttest: 1.0701136\tbest: 1.0690360 (237)\ttotal: 3.51s\tremaining: 24.8s\n",
      "248:\tlearn: 0.9472119\ttest: 1.0701664\tbest: 1.0690360 (237)\ttotal: 3.53s\tremaining: 24.8s\n",
      "249:\tlearn: 0.9466286\ttest: 1.0699383\tbest: 1.0690360 (237)\ttotal: 3.55s\tremaining: 24.8s\n",
      "250:\tlearn: 0.9461255\ttest: 1.0697508\tbest: 1.0690360 (237)\ttotal: 3.57s\tremaining: 24.9s\n",
      "251:\tlearn: 0.9455207\ttest: 1.0699322\tbest: 1.0690360 (237)\ttotal: 3.59s\tremaining: 24.9s\n",
      "252:\tlearn: 0.9446209\ttest: 1.0697753\tbest: 1.0690360 (237)\ttotal: 3.6s\tremaining: 24.9s\n",
      "253:\tlearn: 0.9438642\ttest: 1.0695311\tbest: 1.0690360 (237)\ttotal: 3.62s\tremaining: 24.9s\n",
      "254:\tlearn: 0.9429878\ttest: 1.0687408\tbest: 1.0687408 (254)\ttotal: 3.63s\tremaining: 24.9s\n",
      "255:\tlearn: 0.9424111\ttest: 1.0684085\tbest: 1.0684085 (255)\ttotal: 3.65s\tremaining: 24.9s\n",
      "256:\tlearn: 0.9416425\ttest: 1.0686350\tbest: 1.0684085 (255)\ttotal: 3.66s\tremaining: 24.8s\n",
      "257:\tlearn: 0.9404222\ttest: 1.0680625\tbest: 1.0680625 (257)\ttotal: 3.68s\tremaining: 24.8s\n",
      "258:\tlearn: 0.9400106\ttest: 1.0679648\tbest: 1.0679648 (258)\ttotal: 3.69s\tremaining: 24.8s\n",
      "259:\tlearn: 0.9392950\ttest: 1.0679141\tbest: 1.0679141 (259)\ttotal: 3.71s\tremaining: 24.8s\n",
      "260:\tlearn: 0.9386748\ttest: 1.0683466\tbest: 1.0679141 (259)\ttotal: 3.72s\tremaining: 24.8s\n",
      "261:\tlearn: 0.9380059\ttest: 1.0683889\tbest: 1.0679141 (259)\ttotal: 3.74s\tremaining: 24.8s\n",
      "262:\tlearn: 0.9376575\ttest: 1.0684563\tbest: 1.0679141 (259)\ttotal: 3.75s\tremaining: 24.8s\n",
      "263:\tlearn: 0.9370855\ttest: 1.0680065\tbest: 1.0679141 (259)\ttotal: 3.77s\tremaining: 24.8s\n",
      "264:\tlearn: 0.9360765\ttest: 1.0681470\tbest: 1.0679141 (259)\ttotal: 3.78s\tremaining: 24.8s\n",
      "265:\tlearn: 0.9355258\ttest: 1.0677940\tbest: 1.0677940 (265)\ttotal: 3.79s\tremaining: 24.7s\n",
      "266:\tlearn: 0.9351339\ttest: 1.0676717\tbest: 1.0676717 (266)\ttotal: 3.81s\tremaining: 24.7s\n",
      "267:\tlearn: 0.9348506\ttest: 1.0676467\tbest: 1.0676467 (267)\ttotal: 3.82s\tremaining: 24.7s\n",
      "268:\tlearn: 0.9340523\ttest: 1.0676724\tbest: 1.0676467 (267)\ttotal: 3.83s\tremaining: 24.7s\n",
      "269:\tlearn: 0.9334684\ttest: 1.0675938\tbest: 1.0675938 (269)\ttotal: 3.85s\tremaining: 24.6s\n",
      "270:\tlearn: 0.9330061\ttest: 1.0679503\tbest: 1.0675938 (269)\ttotal: 3.86s\tremaining: 24.6s\n",
      "271:\tlearn: 0.9318285\ttest: 1.0679433\tbest: 1.0675938 (269)\ttotal: 3.87s\tremaining: 24.6s\n",
      "272:\tlearn: 0.9310559\ttest: 1.0680199\tbest: 1.0675938 (269)\ttotal: 3.88s\tremaining: 24.6s\n",
      "273:\tlearn: 0.9306040\ttest: 1.0679948\tbest: 1.0675938 (269)\ttotal: 3.9s\tremaining: 24.5s\n",
      "274:\tlearn: 0.9301171\ttest: 1.0681108\tbest: 1.0675938 (269)\ttotal: 3.91s\tremaining: 24.5s\n",
      "275:\tlearn: 0.9297415\ttest: 1.0680104\tbest: 1.0675938 (269)\ttotal: 3.92s\tremaining: 24.5s\n",
      "276:\tlearn: 0.9291400\ttest: 1.0681623\tbest: 1.0675938 (269)\ttotal: 3.95s\tremaining: 24.6s\n",
      "277:\tlearn: 0.9281126\ttest: 1.0679600\tbest: 1.0675938 (269)\ttotal: 3.96s\tremaining: 24.5s\n",
      "278:\tlearn: 0.9274776\ttest: 1.0678596\tbest: 1.0675938 (269)\ttotal: 3.98s\tremaining: 24.5s\n",
      "279:\tlearn: 0.9267616\ttest: 1.0677401\tbest: 1.0675938 (269)\ttotal: 3.99s\tremaining: 24.5s\n",
      "280:\tlearn: 0.9260371\ttest: 1.0678705\tbest: 1.0675938 (269)\ttotal: 4s\tremaining: 24.5s\n",
      "281:\tlearn: 0.9256751\ttest: 1.0673917\tbest: 1.0673917 (281)\ttotal: 4.01s\tremaining: 24.5s\n",
      "282:\tlearn: 0.9249378\ttest: 1.0671390\tbest: 1.0671390 (282)\ttotal: 4.03s\tremaining: 24.4s\n",
      "283:\tlearn: 0.9243231\ttest: 1.0673063\tbest: 1.0671390 (282)\ttotal: 4.04s\tremaining: 24.4s\n",
      "284:\tlearn: 0.9232581\ttest: 1.0668850\tbest: 1.0668850 (284)\ttotal: 4.05s\tremaining: 24.4s\n",
      "285:\tlearn: 0.9222459\ttest: 1.0668057\tbest: 1.0668057 (285)\ttotal: 4.07s\tremaining: 24.4s\n",
      "286:\tlearn: 0.9218588\ttest: 1.0668210\tbest: 1.0668057 (285)\ttotal: 4.08s\tremaining: 24.4s\n",
      "287:\tlearn: 0.9211250\ttest: 1.0669819\tbest: 1.0668057 (285)\ttotal: 4.09s\tremaining: 24.3s\n",
      "288:\tlearn: 0.9199703\ttest: 1.0668011\tbest: 1.0668011 (288)\ttotal: 4.11s\tremaining: 24.3s\n",
      "289:\tlearn: 0.9190440\ttest: 1.0664401\tbest: 1.0664401 (289)\ttotal: 4.12s\tremaining: 24.3s\n",
      "290:\tlearn: 0.9180103\ttest: 1.0658946\tbest: 1.0658946 (290)\ttotal: 4.13s\tremaining: 24.3s\n",
      "291:\tlearn: 0.9169262\ttest: 1.0653956\tbest: 1.0653956 (291)\ttotal: 4.15s\tremaining: 24.3s\n",
      "292:\tlearn: 0.9165222\ttest: 1.0654945\tbest: 1.0653956 (291)\ttotal: 4.16s\tremaining: 24.2s\n",
      "293:\tlearn: 0.9157592\ttest: 1.0646422\tbest: 1.0646422 (293)\ttotal: 4.17s\tremaining: 24.2s\n",
      "294:\tlearn: 0.9153528\ttest: 1.0645434\tbest: 1.0645434 (294)\ttotal: 4.19s\tremaining: 24.2s\n",
      "295:\tlearn: 0.9145991\ttest: 1.0644874\tbest: 1.0644874 (295)\ttotal: 4.2s\tremaining: 24.2s\n",
      "296:\tlearn: 0.9139033\ttest: 1.0645206\tbest: 1.0644874 (295)\ttotal: 4.21s\tremaining: 24.2s\n",
      "297:\tlearn: 0.9136903\ttest: 1.0646123\tbest: 1.0644874 (295)\ttotal: 4.23s\tremaining: 24.1s\n",
      "298:\tlearn: 0.9133995\ttest: 1.0648018\tbest: 1.0644874 (295)\ttotal: 4.24s\tremaining: 24.1s\n",
      "299:\tlearn: 0.9131307\ttest: 1.0647387\tbest: 1.0644874 (295)\ttotal: 4.25s\tremaining: 24.1s\n",
      "300:\tlearn: 0.9125891\ttest: 1.0639089\tbest: 1.0639089 (300)\ttotal: 4.27s\tremaining: 24.1s\n",
      "301:\tlearn: 0.9119015\ttest: 1.0635197\tbest: 1.0635197 (301)\ttotal: 4.28s\tremaining: 24.1s\n",
      "302:\tlearn: 0.9114509\ttest: 1.0634937\tbest: 1.0634937 (302)\ttotal: 4.29s\tremaining: 24.1s\n",
      "303:\tlearn: 0.9109008\ttest: 1.0632175\tbest: 1.0632175 (303)\ttotal: 4.31s\tremaining: 24s\n"
     ]
    },
    {
     "name": "stdout",
     "output_type": "stream",
     "text": [
      "304:\tlearn: 0.9101689\ttest: 1.0629197\tbest: 1.0629197 (304)\ttotal: 4.32s\tremaining: 24s\n",
      "305:\tlearn: 0.9095757\ttest: 1.0626632\tbest: 1.0626632 (305)\ttotal: 4.34s\tremaining: 24s\n",
      "306:\tlearn: 0.9093023\ttest: 1.0630674\tbest: 1.0626632 (305)\ttotal: 4.35s\tremaining: 24s\n",
      "307:\tlearn: 0.9086860\ttest: 1.0630527\tbest: 1.0626632 (305)\ttotal: 4.37s\tremaining: 24s\n",
      "308:\tlearn: 0.9080657\ttest: 1.0629997\tbest: 1.0626632 (305)\ttotal: 4.38s\tremaining: 24s\n",
      "309:\tlearn: 0.9076130\ttest: 1.0632946\tbest: 1.0626632 (305)\ttotal: 4.4s\tremaining: 24s\n",
      "310:\tlearn: 0.9067535\ttest: 1.0631934\tbest: 1.0626632 (305)\ttotal: 4.41s\tremaining: 24s\n",
      "311:\tlearn: 0.9062733\ttest: 1.0631002\tbest: 1.0626632 (305)\ttotal: 4.42s\tremaining: 23.9s\n",
      "312:\tlearn: 0.9058405\ttest: 1.0632182\tbest: 1.0626632 (305)\ttotal: 4.44s\tremaining: 23.9s\n",
      "313:\tlearn: 0.9055267\ttest: 1.0629549\tbest: 1.0626632 (305)\ttotal: 4.45s\tremaining: 23.9s\n",
      "314:\tlearn: 0.9048505\ttest: 1.0630125\tbest: 1.0626632 (305)\ttotal: 4.46s\tremaining: 23.9s\n",
      "315:\tlearn: 0.9042341\ttest: 1.0627371\tbest: 1.0626632 (305)\ttotal: 4.48s\tremaining: 23.9s\n",
      "316:\tlearn: 0.9033139\ttest: 1.0627949\tbest: 1.0626632 (305)\ttotal: 4.49s\tremaining: 23.8s\n",
      "317:\tlearn: 0.9026128\ttest: 1.0626991\tbest: 1.0626632 (305)\ttotal: 4.5s\tremaining: 23.8s\n",
      "318:\tlearn: 0.9019196\ttest: 1.0626289\tbest: 1.0626289 (318)\ttotal: 4.51s\tremaining: 23.8s\n",
      "319:\tlearn: 0.9014741\ttest: 1.0629664\tbest: 1.0626289 (318)\ttotal: 4.53s\tremaining: 23.8s\n",
      "320:\tlearn: 0.9005311\ttest: 1.0627940\tbest: 1.0626289 (318)\ttotal: 4.55s\tremaining: 23.8s\n",
      "321:\tlearn: 0.9000121\ttest: 1.0627289\tbest: 1.0626289 (318)\ttotal: 4.57s\tremaining: 23.8s\n",
      "322:\tlearn: 0.8996538\ttest: 1.0629498\tbest: 1.0626289 (318)\ttotal: 4.59s\tremaining: 23.8s\n",
      "323:\tlearn: 0.8987330\ttest: 1.0630250\tbest: 1.0626289 (318)\ttotal: 4.61s\tremaining: 23.8s\n",
      "324:\tlearn: 0.8981469\ttest: 1.0629819\tbest: 1.0626289 (318)\ttotal: 4.62s\tremaining: 23.8s\n",
      "325:\tlearn: 0.8975229\ttest: 1.0630245\tbest: 1.0626289 (318)\ttotal: 4.64s\tremaining: 23.8s\n",
      "326:\tlearn: 0.8967439\ttest: 1.0625266\tbest: 1.0625266 (326)\ttotal: 4.65s\tremaining: 23.8s\n",
      "327:\tlearn: 0.8964648\ttest: 1.0629195\tbest: 1.0625266 (326)\ttotal: 4.66s\tremaining: 23.8s\n",
      "328:\tlearn: 0.8958934\ttest: 1.0631528\tbest: 1.0625266 (326)\ttotal: 4.68s\tremaining: 23.8s\n",
      "329:\tlearn: 0.8956332\ttest: 1.0630851\tbest: 1.0625266 (326)\ttotal: 4.69s\tremaining: 23.7s\n",
      "330:\tlearn: 0.8950576\ttest: 1.0631104\tbest: 1.0625266 (326)\ttotal: 4.7s\tremaining: 23.7s\n",
      "331:\tlearn: 0.8943214\ttest: 1.0635256\tbest: 1.0625266 (326)\ttotal: 4.71s\tremaining: 23.7s\n",
      "332:\tlearn: 0.8936701\ttest: 1.0639144\tbest: 1.0625266 (326)\ttotal: 4.73s\tremaining: 23.7s\n",
      "333:\tlearn: 0.8930978\ttest: 1.0636587\tbest: 1.0625266 (326)\ttotal: 4.74s\tremaining: 23.6s\n",
      "334:\tlearn: 0.8924944\ttest: 1.0636039\tbest: 1.0625266 (326)\ttotal: 4.75s\tremaining: 23.6s\n",
      "335:\tlearn: 0.8919504\ttest: 1.0636556\tbest: 1.0625266 (326)\ttotal: 4.76s\tremaining: 23.6s\n",
      "336:\tlearn: 0.8912130\ttest: 1.0640192\tbest: 1.0625266 (326)\ttotal: 4.78s\tremaining: 23.6s\n",
      "337:\tlearn: 0.8906701\ttest: 1.0643739\tbest: 1.0625266 (326)\ttotal: 4.79s\tremaining: 23.6s\n",
      "338:\tlearn: 0.8898592\ttest: 1.0641997\tbest: 1.0625266 (326)\ttotal: 4.81s\tremaining: 23.6s\n",
      "339:\tlearn: 0.8895186\ttest: 1.0639393\tbest: 1.0625266 (326)\ttotal: 4.82s\tremaining: 23.5s\n",
      "340:\tlearn: 0.8891202\ttest: 1.0639469\tbest: 1.0625266 (326)\ttotal: 4.83s\tremaining: 23.5s\n",
      "341:\tlearn: 0.8887064\ttest: 1.0642429\tbest: 1.0625266 (326)\ttotal: 4.84s\tremaining: 23.5s\n",
      "342:\tlearn: 0.8883162\ttest: 1.0643075\tbest: 1.0625266 (326)\ttotal: 4.86s\tremaining: 23.5s\n",
      "343:\tlearn: 0.8880232\ttest: 1.0640675\tbest: 1.0625266 (326)\ttotal: 4.87s\tremaining: 23.4s\n",
      "344:\tlearn: 0.8876858\ttest: 1.0642698\tbest: 1.0625266 (326)\ttotal: 4.88s\tremaining: 23.4s\n",
      "345:\tlearn: 0.8867127\ttest: 1.0641557\tbest: 1.0625266 (326)\ttotal: 4.9s\tremaining: 23.4s\n",
      "346:\tlearn: 0.8863928\ttest: 1.0644822\tbest: 1.0625266 (326)\ttotal: 4.91s\tremaining: 23.4s\n",
      "347:\tlearn: 0.8859932\ttest: 1.0643840\tbest: 1.0625266 (326)\ttotal: 4.92s\tremaining: 23.4s\n",
      "348:\tlearn: 0.8850686\ttest: 1.0641544\tbest: 1.0625266 (326)\ttotal: 4.95s\tremaining: 23.4s\n",
      "349:\tlearn: 0.8846686\ttest: 1.0643214\tbest: 1.0625266 (326)\ttotal: 4.96s\tremaining: 23.4s\n",
      "350:\tlearn: 0.8843454\ttest: 1.0643956\tbest: 1.0625266 (326)\ttotal: 4.98s\tremaining: 23.4s\n",
      "351:\tlearn: 0.8836892\ttest: 1.0639803\tbest: 1.0625266 (326)\ttotal: 5s\tremaining: 23.4s\n",
      "352:\tlearn: 0.8830686\ttest: 1.0634790\tbest: 1.0625266 (326)\ttotal: 5.01s\tremaining: 23.4s\n",
      "353:\tlearn: 0.8825214\ttest: 1.0638195\tbest: 1.0625266 (326)\ttotal: 5.02s\tremaining: 23.4s\n",
      "354:\tlearn: 0.8823404\ttest: 1.0636115\tbest: 1.0625266 (326)\ttotal: 5.04s\tremaining: 23.3s\n",
      "355:\tlearn: 0.8819200\ttest: 1.0635408\tbest: 1.0625266 (326)\ttotal: 5.05s\tremaining: 23.3s\n",
      "356:\tlearn: 0.8814674\ttest: 1.0636907\tbest: 1.0625266 (326)\ttotal: 5.06s\tremaining: 23.3s\n",
      "357:\tlearn: 0.8808970\ttest: 1.0637142\tbest: 1.0625266 (326)\ttotal: 5.08s\tremaining: 23.3s\n",
      "358:\tlearn: 0.8803407\ttest: 1.0639251\tbest: 1.0625266 (326)\ttotal: 5.09s\tremaining: 23.3s\n",
      "359:\tlearn: 0.8798915\ttest: 1.0638913\tbest: 1.0625266 (326)\ttotal: 5.1s\tremaining: 23.3s\n",
      "360:\tlearn: 0.8796935\ttest: 1.0638149\tbest: 1.0625266 (326)\ttotal: 5.12s\tremaining: 23.2s\n",
      "361:\tlearn: 0.8788942\ttest: 1.0640073\tbest: 1.0625266 (326)\ttotal: 5.13s\tremaining: 23.2s\n",
      "362:\tlearn: 0.8782946\ttest: 1.0639669\tbest: 1.0625266 (326)\ttotal: 5.15s\tremaining: 23.2s\n",
      "363:\tlearn: 0.8777281\ttest: 1.0640211\tbest: 1.0625266 (326)\ttotal: 5.16s\tremaining: 23.2s\n",
      "364:\tlearn: 0.8774059\ttest: 1.0641134\tbest: 1.0625266 (326)\ttotal: 5.17s\tremaining: 23.2s\n",
      "365:\tlearn: 0.8769513\ttest: 1.0642120\tbest: 1.0625266 (326)\ttotal: 5.19s\tremaining: 23.2s\n",
      "366:\tlearn: 0.8765769\ttest: 1.0641910\tbest: 1.0625266 (326)\ttotal: 5.21s\tremaining: 23.2s\n",
      "367:\tlearn: 0.8759262\ttest: 1.0642595\tbest: 1.0625266 (326)\ttotal: 5.22s\tremaining: 23.1s\n",
      "368:\tlearn: 0.8750395\ttest: 1.0641371\tbest: 1.0625266 (326)\ttotal: 5.23s\tremaining: 23.1s\n",
      "369:\tlearn: 0.8743540\ttest: 1.0642238\tbest: 1.0625266 (326)\ttotal: 5.24s\tremaining: 23.1s\n",
      "370:\tlearn: 0.8734180\ttest: 1.0641882\tbest: 1.0625266 (326)\ttotal: 5.26s\tremaining: 23.1s\n",
      "371:\tlearn: 0.8729034\ttest: 1.0640563\tbest: 1.0625266 (326)\ttotal: 5.27s\tremaining: 23.1s\n",
      "372:\tlearn: 0.8725731\ttest: 1.0642093\tbest: 1.0625266 (326)\ttotal: 5.28s\tremaining: 23s\n",
      "373:\tlearn: 0.8716928\ttest: 1.0640460\tbest: 1.0625266 (326)\ttotal: 5.29s\tremaining: 23s\n",
      "374:\tlearn: 0.8710369\ttest: 1.0644242\tbest: 1.0625266 (326)\ttotal: 5.31s\tremaining: 23s\n",
      "375:\tlearn: 0.8703147\ttest: 1.0641875\tbest: 1.0625266 (326)\ttotal: 5.32s\tremaining: 23s\n",
      "376:\tlearn: 0.8700247\ttest: 1.0640881\tbest: 1.0625266 (326)\ttotal: 5.33s\tremaining: 23s\n",
      "377:\tlearn: 0.8694952\ttest: 1.0642041\tbest: 1.0625266 (326)\ttotal: 5.34s\tremaining: 22.9s\n",
      "378:\tlearn: 0.8691876\ttest: 1.0644773\tbest: 1.0625266 (326)\ttotal: 5.36s\tremaining: 22.9s\n",
      "379:\tlearn: 0.8684554\ttest: 1.0641122\tbest: 1.0625266 (326)\ttotal: 5.37s\tremaining: 22.9s\n",
      "380:\tlearn: 0.8680539\ttest: 1.0643073\tbest: 1.0625266 (326)\ttotal: 5.38s\tremaining: 22.9s\n",
      "381:\tlearn: 0.8677719\ttest: 1.0644166\tbest: 1.0625266 (326)\ttotal: 5.4s\tremaining: 22.9s\n",
      "382:\tlearn: 0.8672247\ttest: 1.0646658\tbest: 1.0625266 (326)\ttotal: 5.42s\tremaining: 22.9s\n",
      "383:\tlearn: 0.8667685\ttest: 1.0645568\tbest: 1.0625266 (326)\ttotal: 5.43s\tremaining: 22.8s\n",
      "384:\tlearn: 0.8660283\ttest: 1.0644972\tbest: 1.0625266 (326)\ttotal: 5.44s\tremaining: 22.8s\n",
      "385:\tlearn: 0.8658273\ttest: 1.0644954\tbest: 1.0625266 (326)\ttotal: 5.46s\tremaining: 22.8s\n",
      "386:\tlearn: 0.8654674\ttest: 1.0644008\tbest: 1.0625266 (326)\ttotal: 5.47s\tremaining: 22.8s\n",
      "387:\tlearn: 0.8647078\ttest: 1.0648364\tbest: 1.0625266 (326)\ttotal: 5.48s\tremaining: 22.8s\n",
      "388:\tlearn: 0.8639663\ttest: 1.0649531\tbest: 1.0625266 (326)\ttotal: 5.49s\tremaining: 22.8s\n",
      "389:\tlearn: 0.8636263\ttest: 1.0651421\tbest: 1.0625266 (326)\ttotal: 5.5s\tremaining: 22.7s\n",
      "390:\tlearn: 0.8633279\ttest: 1.0653450\tbest: 1.0625266 (326)\ttotal: 5.52s\tremaining: 22.7s\n",
      "391:\tlearn: 0.8625885\ttest: 1.0653331\tbest: 1.0625266 (326)\ttotal: 5.53s\tremaining: 22.7s\n",
      "392:\tlearn: 0.8622583\ttest: 1.0651384\tbest: 1.0625266 (326)\ttotal: 5.55s\tremaining: 22.7s\n",
      "393:\tlearn: 0.8611732\ttest: 1.0650858\tbest: 1.0625266 (326)\ttotal: 5.57s\tremaining: 22.7s\n",
      "394:\tlearn: 0.8608409\ttest: 1.0649477\tbest: 1.0625266 (326)\ttotal: 5.59s\tremaining: 22.7s\n",
      "395:\tlearn: 0.8604088\ttest: 1.0652145\tbest: 1.0625266 (326)\ttotal: 5.61s\tremaining: 22.7s\n",
      "396:\tlearn: 0.8600203\ttest: 1.0649649\tbest: 1.0625266 (326)\ttotal: 5.63s\tremaining: 22.7s\n",
      "397:\tlearn: 0.8596060\ttest: 1.0648535\tbest: 1.0625266 (326)\ttotal: 5.64s\tremaining: 22.7s\n",
      "398:\tlearn: 0.8591414\ttest: 1.0642123\tbest: 1.0625266 (326)\ttotal: 5.65s\tremaining: 22.7s\n",
      "399:\tlearn: 0.8584757\ttest: 1.0639040\tbest: 1.0625266 (326)\ttotal: 5.67s\tremaining: 22.7s\n",
      "400:\tlearn: 0.8577167\ttest: 1.0640854\tbest: 1.0625266 (326)\ttotal: 5.68s\tremaining: 22.6s\n",
      "401:\tlearn: 0.8571041\ttest: 1.0641240\tbest: 1.0625266 (326)\ttotal: 5.69s\tremaining: 22.6s\n",
      "402:\tlearn: 0.8567034\ttest: 1.0639699\tbest: 1.0625266 (326)\ttotal: 5.71s\tremaining: 22.6s\n",
      "403:\tlearn: 0.8561672\ttest: 1.0638762\tbest: 1.0625266 (326)\ttotal: 5.72s\tremaining: 22.6s\n",
      "404:\tlearn: 0.8554109\ttest: 1.0641959\tbest: 1.0625266 (326)\ttotal: 5.73s\tremaining: 22.6s\n",
      "405:\tlearn: 0.8547817\ttest: 1.0639156\tbest: 1.0625266 (326)\ttotal: 5.74s\tremaining: 22.5s\n",
      "406:\tlearn: 0.8538231\ttest: 1.0646150\tbest: 1.0625266 (326)\ttotal: 5.75s\tremaining: 22.5s\n"
     ]
    },
    {
     "name": "stdout",
     "output_type": "stream",
     "text": [
      "407:\tlearn: 0.8532124\ttest: 1.0649920\tbest: 1.0625266 (326)\ttotal: 5.77s\tremaining: 22.5s\n",
      "408:\tlearn: 0.8525027\ttest: 1.0647824\tbest: 1.0625266 (326)\ttotal: 5.78s\tremaining: 22.5s\n",
      "409:\tlearn: 0.8521684\ttest: 1.0645937\tbest: 1.0625266 (326)\ttotal: 5.79s\tremaining: 22.5s\n",
      "410:\tlearn: 0.8519080\ttest: 1.0645339\tbest: 1.0625266 (326)\ttotal: 5.81s\tremaining: 22.5s\n",
      "411:\tlearn: 0.8508693\ttest: 1.0646985\tbest: 1.0625266 (326)\ttotal: 5.82s\tremaining: 22.4s\n",
      "412:\tlearn: 0.8500734\ttest: 1.0644949\tbest: 1.0625266 (326)\ttotal: 5.84s\tremaining: 22.4s\n",
      "413:\tlearn: 0.8495668\ttest: 1.0645436\tbest: 1.0625266 (326)\ttotal: 5.85s\tremaining: 22.4s\n",
      "414:\tlearn: 0.8491217\ttest: 1.0644655\tbest: 1.0625266 (326)\ttotal: 5.86s\tremaining: 22.4s\n",
      "415:\tlearn: 0.8484092\ttest: 1.0644206\tbest: 1.0625266 (326)\ttotal: 5.88s\tremaining: 22.4s\n",
      "416:\tlearn: 0.8482306\ttest: 1.0643375\tbest: 1.0625266 (326)\ttotal: 5.89s\tremaining: 22.3s\n",
      "417:\tlearn: 0.8477146\ttest: 1.0647129\tbest: 1.0625266 (326)\ttotal: 5.9s\tremaining: 22.3s\n",
      "418:\tlearn: 0.8470834\ttest: 1.0648222\tbest: 1.0625266 (326)\ttotal: 5.91s\tremaining: 22.3s\n",
      "419:\tlearn: 0.8463893\ttest: 1.0643671\tbest: 1.0625266 (326)\ttotal: 5.92s\tremaining: 22.3s\n",
      "420:\tlearn: 0.8460943\ttest: 1.0645166\tbest: 1.0625266 (326)\ttotal: 5.95s\tremaining: 22.3s\n",
      "421:\tlearn: 0.8455251\ttest: 1.0649486\tbest: 1.0625266 (326)\ttotal: 5.96s\tremaining: 22.3s\n",
      "422:\tlearn: 0.8448113\ttest: 1.0643669\tbest: 1.0625266 (326)\ttotal: 5.98s\tremaining: 22.3s\n",
      "423:\tlearn: 0.8443333\ttest: 1.0638391\tbest: 1.0625266 (326)\ttotal: 6s\tremaining: 22.3s\n",
      "424:\tlearn: 0.8437804\ttest: 1.0638789\tbest: 1.0625266 (326)\ttotal: 6.01s\tremaining: 22.3s\n",
      "425:\tlearn: 0.8433369\ttest: 1.0640791\tbest: 1.0625266 (326)\ttotal: 6.02s\tremaining: 22.3s\n",
      "426:\tlearn: 0.8426834\ttest: 1.0642164\tbest: 1.0625266 (326)\ttotal: 6.03s\tremaining: 22.2s\n",
      "Stopped by overfitting detector  (100 iterations wait)\n",
      "\n",
      "bestTest = 1.062526628\n",
      "bestIteration = 326\n",
      "\n",
      "Shrink model to first 327 iterations.\n"
     ]
    },
    {
     "data": {
      "text/plain": [
       "<catboost.core.CatBoostClassifier at 0x7f9485944490>"
      ]
     },
     "execution_count": 54,
     "metadata": {},
     "output_type": "execute_result"
    }
   ],
   "source": [
    "model_cb = CatBoostClassifier(early_stopping_rounds=100, n_estimators=2000)\n",
    "model_cb.fit(train_data_processed, Y_train, plot=True, eval_set=(test_data_processed, Y_test))"
   ]
  },
  {
   "cell_type": "code",
   "execution_count": 55,
   "id": "disturbed-progress",
   "metadata": {},
   "outputs": [],
   "source": [
    "y_pred = model_cb.predict(test_data_processed)"
   ]
  },
  {
   "cell_type": "code",
   "execution_count": 56,
   "id": "daily-parts",
   "metadata": {},
   "outputs": [
    {
     "name": "stdout",
     "output_type": "stream",
     "text": [
      "              precision    recall  f1-score   support\n",
      "\n",
      "           1       0.72      0.82      0.77       183\n",
      "           2       0.64      0.13      0.22        68\n",
      "           3       0.44      0.72      0.55        86\n",
      "           4       0.31      0.11      0.16        37\n",
      "           5       0.66      0.82      0.73        78\n",
      "           6       0.50      0.35      0.41        37\n",
      "           7       0.50      0.17      0.25        18\n",
      "           8       0.47      0.50      0.49        18\n",
      "\n",
      "    accuracy                           0.60       525\n",
      "   macro avg       0.53      0.45      0.45       525\n",
      "weighted avg       0.59      0.60      0.56       525\n",
      "\n"
     ]
    }
   ],
   "source": [
    "print(classification_report(Y_test, y_pred))"
   ]
  },
  {
   "cell_type": "code",
   "execution_count": null,
   "id": "optional-identity",
   "metadata": {},
   "outputs": [],
   "source": [
    "shap_values = model_cb.get_feature_importance(Pool(X, y), type='ShapValues')"
   ]
  },
  {
   "cell_type": "code",
   "execution_count": null,
   "id": "amino-things",
   "metadata": {},
   "outputs": [],
   "source": [
    "shap_values."
   ]
  },
  {
   "cell_type": "code",
   "execution_count": null,
   "id": "traditional-rings",
   "metadata": {},
   "outputs": [],
   "source": []
  }
 ],
 "metadata": {
  "kernelspec": {
   "display_name": "Python 3",
   "language": "python",
   "name": "python3"
  },
  "language_info": {
   "codemirror_mode": {
    "name": "ipython",
    "version": 3
   },
   "file_extension": ".py",
   "mimetype": "text/x-python",
   "name": "python",
   "nbconvert_exporter": "python",
   "pygments_lexer": "ipython3",
   "version": "3.7.10"
  }
 },
 "nbformat": 4,
 "nbformat_minor": 5
}
