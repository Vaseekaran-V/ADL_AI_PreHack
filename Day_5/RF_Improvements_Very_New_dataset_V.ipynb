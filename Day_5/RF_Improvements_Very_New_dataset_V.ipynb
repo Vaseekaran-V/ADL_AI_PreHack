{
 "cells": [
  {
   "cell_type": "markdown",
   "id": "muslim-collaboration",
   "metadata": {},
   "source": [
    "## Import the needed libraries"
   ]
  },
  {
   "cell_type": "code",
   "execution_count": 1,
   "id": "changing-pricing",
   "metadata": {},
   "outputs": [],
   "source": [
    "import pandas as pd\n",
    "import numpy as np\n",
    "import matplotlib.pyplot as plt\n",
    "%matplotlib inline\n",
    "import seaborn as sns\n",
    "from sklearn.model_selection import train_test_split\n",
    "from sklearn.metrics import accuracy_score\n",
    "from sklearn.metrics import confusion_matrix\n",
    "from sklearn.model_selection import cross_val_score\n",
    "from sklearn.preprocessing import OneHotEncoder\n",
    "from sklearn.preprocessing import LabelEncoder, OrdinalEncoder\n",
    "from sklearn.pipeline import Pipeline\n",
    "from sklearn import preprocessing\n",
    "from sklearn.compose import ColumnTransformer\n",
    "from sklearn.preprocessing import StandardScaler, MinMaxScaler, RobustScaler\n",
    "from sklearn.model_selection import cross_val_score\n",
    "from xgboost import XGBClassifier\n",
    "import xgboost as xgb\n",
    "from imblearn.ensemble import BalancedBaggingClassifier\n",
    "from imblearn.under_sampling import NearMiss\n",
    "from imblearn.under_sampling import TomekLinks\n",
    "from sklearn.tree import DecisionTreeClassifier\n",
    "from sklearn.ensemble import RandomForestClassifier\n",
    "from sklearn.metrics import classification_report\n",
    "from sklearn.ensemble import GradientBoostingClassifier\n",
    "from sklearn.ensemble import ExtraTreesClassifier\n",
    "from sklearn.experimental import enable_hist_gradient_boosting\n",
    "from sklearn.ensemble import HistGradientBoostingClassifier\n",
    "from sklearn.ensemble import StackingClassifier\n",
    "from sklearn.linear_model import LogisticRegression\n",
    "from sklearn.model_selection import GridSearchCV\n",
    "#Import other necessary model libraries, for this example, using Logistic Regression"
   ]
  },
  {
   "cell_type": "markdown",
   "id": "occasional-updating",
   "metadata": {},
   "source": [
    "## Import the training data"
   ]
  },
  {
   "cell_type": "code",
   "execution_count": 2,
   "id": "demonstrated-perth",
   "metadata": {},
   "outputs": [],
   "source": [
    "train_data = pd.read_csv(\"../data/updated_train_19.csv\")"
   ]
  },
  {
   "cell_type": "code",
   "execution_count": 3,
   "id": "disciplinary-accounting",
   "metadata": {},
   "outputs": [
    {
     "data": {
      "text/html": [
       "<div>\n",
       "<style scoped>\n",
       "    .dataframe tbody tr th:only-of-type {\n",
       "        vertical-align: middle;\n",
       "    }\n",
       "\n",
       "    .dataframe tbody tr th {\n",
       "        vertical-align: top;\n",
       "    }\n",
       "\n",
       "    .dataframe thead th {\n",
       "        text-align: right;\n",
       "    }\n",
       "</style>\n",
       "<table border=\"1\" class=\"dataframe\">\n",
       "  <thead>\n",
       "    <tr style=\"text-align: right;\">\n",
       "      <th></th>\n",
       "      <th>primary_identifier</th>\n",
       "      <th>device_type</th>\n",
       "      <th>device_category</th>\n",
       "      <th>gender</th>\n",
       "      <th>district_name</th>\n",
       "      <th>age_group</th>\n",
       "      <th>network_stay</th>\n",
       "      <th>average_monthly_bill_amount</th>\n",
       "      <th>dusage_sum</th>\n",
       "      <th>dusage_min</th>\n",
       "      <th>...</th>\n",
       "      <th>vusage_max</th>\n",
       "      <th>vusage_min</th>\n",
       "      <th>vusage_diff</th>\n",
       "      <th>vusage_days</th>\n",
       "      <th>vusage_avg</th>\n",
       "      <th>number_of_fixed_bb_accounts</th>\n",
       "      <th>number_of_iptv_accounts</th>\n",
       "      <th>add_on_tot_rental</th>\n",
       "      <th>add_on_count</th>\n",
       "      <th>encoded_class_labels</th>\n",
       "    </tr>\n",
       "  </thead>\n",
       "  <tbody>\n",
       "    <tr>\n",
       "      <th>10495</th>\n",
       "      <td>1438655</td>\n",
       "      <td>4G</td>\n",
       "      <td>Smartphone</td>\n",
       "      <td>MALE</td>\n",
       "      <td>Kalutara</td>\n",
       "      <td>40-50</td>\n",
       "      <td>64</td>\n",
       "      <td>2088.13</td>\n",
       "      <td>479</td>\n",
       "      <td>0.346959</td>\n",
       "      <td>...</td>\n",
       "      <td>43.433333</td>\n",
       "      <td>0</td>\n",
       "      <td>43.433333</td>\n",
       "      <td>19</td>\n",
       "      <td>41.090873</td>\n",
       "      <td>0</td>\n",
       "      <td>0</td>\n",
       "      <td>-1</td>\n",
       "      <td>0</td>\n",
       "      <td>6</td>\n",
       "    </tr>\n",
       "    <tr>\n",
       "      <th>10496</th>\n",
       "      <td>7827264</td>\n",
       "      <td>4G</td>\n",
       "      <td>Smartphone</td>\n",
       "      <td>FEMALE</td>\n",
       "      <td>Colombo</td>\n",
       "      <td>&lt;20</td>\n",
       "      <td>6</td>\n",
       "      <td>2053.50</td>\n",
       "      <td>23168</td>\n",
       "      <td>0.219985</td>\n",
       "      <td>...</td>\n",
       "      <td>25.366667</td>\n",
       "      <td>0</td>\n",
       "      <td>25.366667</td>\n",
       "      <td>3</td>\n",
       "      <td>10.861111</td>\n",
       "      <td>0</td>\n",
       "      <td>0</td>\n",
       "      <td>580</td>\n",
       "      <td>3</td>\n",
       "      <td>1</td>\n",
       "    </tr>\n",
       "    <tr>\n",
       "      <th>10497</th>\n",
       "      <td>1433957</td>\n",
       "      <td>4G</td>\n",
       "      <td>Smartphone</td>\n",
       "      <td>FEMALE</td>\n",
       "      <td>Colombo</td>\n",
       "      <td>30-40</td>\n",
       "      <td>69</td>\n",
       "      <td>2827.33</td>\n",
       "      <td>4553</td>\n",
       "      <td>4.831711</td>\n",
       "      <td>...</td>\n",
       "      <td>0.000000</td>\n",
       "      <td>0</td>\n",
       "      <td>0.000000</td>\n",
       "      <td>0</td>\n",
       "      <td>0.000000</td>\n",
       "      <td>0</td>\n",
       "      <td>1</td>\n",
       "      <td>-1</td>\n",
       "      <td>0</td>\n",
       "      <td>6</td>\n",
       "    </tr>\n",
       "    <tr>\n",
       "      <th>10498</th>\n",
       "      <td>8494507</td>\n",
       "      <td>4G</td>\n",
       "      <td>Smartphone</td>\n",
       "      <td>MALE</td>\n",
       "      <td>Kandy</td>\n",
       "      <td>60-70</td>\n",
       "      <td>233</td>\n",
       "      <td>645.43</td>\n",
       "      <td>2069</td>\n",
       "      <td>4.722031</td>\n",
       "      <td>...</td>\n",
       "      <td>18.650000</td>\n",
       "      <td>0</td>\n",
       "      <td>18.650000</td>\n",
       "      <td>18</td>\n",
       "      <td>5.887963</td>\n",
       "      <td>0</td>\n",
       "      <td>1</td>\n",
       "      <td>-1</td>\n",
       "      <td>0</td>\n",
       "      <td>1</td>\n",
       "    </tr>\n",
       "    <tr>\n",
       "      <th>10499</th>\n",
       "      <td>3569439</td>\n",
       "      <td>3G</td>\n",
       "      <td>Smartphone</td>\n",
       "      <td>MALE</td>\n",
       "      <td>Puttalam</td>\n",
       "      <td>40-50</td>\n",
       "      <td>33</td>\n",
       "      <td>498.20</td>\n",
       "      <td>536</td>\n",
       "      <td>0.003048</td>\n",
       "      <td>...</td>\n",
       "      <td>4.366667</td>\n",
       "      <td>0</td>\n",
       "      <td>4.366667</td>\n",
       "      <td>7</td>\n",
       "      <td>2.228571</td>\n",
       "      <td>0</td>\n",
       "      <td>0</td>\n",
       "      <td>-1</td>\n",
       "      <td>0</td>\n",
       "      <td>1</td>\n",
       "    </tr>\n",
       "  </tbody>\n",
       "</table>\n",
       "<p>5 rows × 40 columns</p>\n",
       "</div>"
      ],
      "text/plain": [
       "       primary_identifier device_type device_category  gender district_name  \\\n",
       "10495             1438655          4G      Smartphone    MALE      Kalutara   \n",
       "10496             7827264          4G      Smartphone  FEMALE       Colombo   \n",
       "10497             1433957          4G      Smartphone  FEMALE       Colombo   \n",
       "10498             8494507          4G      Smartphone    MALE         Kandy   \n",
       "10499             3569439          3G      Smartphone    MALE      Puttalam   \n",
       "\n",
       "      age_group  network_stay  average_monthly_bill_amount  dusage_sum  \\\n",
       "10495     40-50            64                      2088.13         479   \n",
       "10496       <20             6                      2053.50       23168   \n",
       "10497     30-40            69                      2827.33        4553   \n",
       "10498     60-70           233                       645.43        2069   \n",
       "10499     40-50            33                       498.20         536   \n",
       "\n",
       "       dusage_min  ...  vusage_max  vusage_min  vusage_diff  vusage_days  \\\n",
       "10495    0.346959  ...   43.433333           0    43.433333           19   \n",
       "10496    0.219985  ...   25.366667           0    25.366667            3   \n",
       "10497    4.831711  ...    0.000000           0     0.000000            0   \n",
       "10498    4.722031  ...   18.650000           0    18.650000           18   \n",
       "10499    0.003048  ...    4.366667           0     4.366667            7   \n",
       "\n",
       "       vusage_avg  number_of_fixed_bb_accounts  number_of_iptv_accounts  \\\n",
       "10495   41.090873                            0                        0   \n",
       "10496   10.861111                            0                        0   \n",
       "10497    0.000000                            0                        1   \n",
       "10498    5.887963                            0                        1   \n",
       "10499    2.228571                            0                        0   \n",
       "\n",
       "       add_on_tot_rental  add_on_count  encoded_class_labels  \n",
       "10495                 -1             0                     6  \n",
       "10496                580             3                     1  \n",
       "10497                 -1             0                     6  \n",
       "10498                 -1             0                     1  \n",
       "10499                 -1             0                     1  \n",
       "\n",
       "[5 rows x 40 columns]"
      ]
     },
     "execution_count": 3,
     "metadata": {},
     "output_type": "execute_result"
    }
   ],
   "source": [
    "train_data.tail()"
   ]
  },
  {
   "cell_type": "markdown",
   "id": "lightweight-mountain",
   "metadata": {},
   "source": [
    "## Encoding Labels"
   ]
  },
  {
   "cell_type": "code",
   "execution_count": 4,
   "id": "wired-raising",
   "metadata": {},
   "outputs": [
    {
     "ename": "KeyError",
     "evalue": "'next_month_plan'",
     "output_type": "error",
     "traceback": [
      "\u001b[0;31m---------------------------------------------------------------------------\u001b[0m",
      "\u001b[0;31mKeyError\u001b[0m                                  Traceback (most recent call last)",
      "\u001b[0;32m/opt/anaconda3/envs/datastorm2/lib/python3.7/site-packages/pandas/core/indexes/base.py\u001b[0m in \u001b[0;36mget_loc\u001b[0;34m(self, key, method, tolerance)\u001b[0m\n\u001b[1;32m   3079\u001b[0m             \u001b[0;32mtry\u001b[0m\u001b[0;34m:\u001b[0m\u001b[0;34m\u001b[0m\u001b[0;34m\u001b[0m\u001b[0m\n\u001b[0;32m-> 3080\u001b[0;31m                 \u001b[0;32mreturn\u001b[0m \u001b[0mself\u001b[0m\u001b[0;34m.\u001b[0m\u001b[0m_engine\u001b[0m\u001b[0;34m.\u001b[0m\u001b[0mget_loc\u001b[0m\u001b[0;34m(\u001b[0m\u001b[0mcasted_key\u001b[0m\u001b[0;34m)\u001b[0m\u001b[0;34m\u001b[0m\u001b[0;34m\u001b[0m\u001b[0m\n\u001b[0m\u001b[1;32m   3081\u001b[0m             \u001b[0;32mexcept\u001b[0m \u001b[0mKeyError\u001b[0m \u001b[0;32mas\u001b[0m \u001b[0merr\u001b[0m\u001b[0;34m:\u001b[0m\u001b[0;34m\u001b[0m\u001b[0;34m\u001b[0m\u001b[0m\n",
      "\u001b[0;32mpandas/_libs/index.pyx\u001b[0m in \u001b[0;36mpandas._libs.index.IndexEngine.get_loc\u001b[0;34m()\u001b[0m\n",
      "\u001b[0;32mpandas/_libs/index.pyx\u001b[0m in \u001b[0;36mpandas._libs.index.IndexEngine.get_loc\u001b[0;34m()\u001b[0m\n",
      "\u001b[0;32mpandas/_libs/hashtable_class_helper.pxi\u001b[0m in \u001b[0;36mpandas._libs.hashtable.PyObjectHashTable.get_item\u001b[0;34m()\u001b[0m\n",
      "\u001b[0;32mpandas/_libs/hashtable_class_helper.pxi\u001b[0m in \u001b[0;36mpandas._libs.hashtable.PyObjectHashTable.get_item\u001b[0;34m()\u001b[0m\n",
      "\u001b[0;31mKeyError\u001b[0m: 'next_month_plan'",
      "\nThe above exception was the direct cause of the following exception:\n",
      "\u001b[0;31mKeyError\u001b[0m                                  Traceback (most recent call last)",
      "\u001b[0;32m<ipython-input-4-876bc704627b>\u001b[0m in \u001b[0;36m<module>\u001b[0;34m\u001b[0m\n\u001b[0;32m----> 1\u001b[0;31m \u001b[0mtrain_data\u001b[0m\u001b[0;34m[\u001b[0m\u001b[0;34m'next_month_plan'\u001b[0m\u001b[0;34m]\u001b[0m \u001b[0;34m=\u001b[0m \u001b[0mtrain_data\u001b[0m\u001b[0;34m[\u001b[0m\u001b[0;34m'next_month_plan'\u001b[0m\u001b[0;34m]\u001b[0m\u001b[0;34m.\u001b[0m\u001b[0mastype\u001b[0m\u001b[0;34m(\u001b[0m\u001b[0;34m'category'\u001b[0m\u001b[0;34m)\u001b[0m\u001b[0;34m\u001b[0m\u001b[0;34m\u001b[0m\u001b[0m\n\u001b[0m",
      "\u001b[0;32m/opt/anaconda3/envs/datastorm2/lib/python3.7/site-packages/pandas/core/frame.py\u001b[0m in \u001b[0;36m__getitem__\u001b[0;34m(self, key)\u001b[0m\n\u001b[1;32m   3022\u001b[0m             \u001b[0;32mif\u001b[0m \u001b[0mself\u001b[0m\u001b[0;34m.\u001b[0m\u001b[0mcolumns\u001b[0m\u001b[0;34m.\u001b[0m\u001b[0mnlevels\u001b[0m \u001b[0;34m>\u001b[0m \u001b[0;36m1\u001b[0m\u001b[0;34m:\u001b[0m\u001b[0;34m\u001b[0m\u001b[0;34m\u001b[0m\u001b[0m\n\u001b[1;32m   3023\u001b[0m                 \u001b[0;32mreturn\u001b[0m \u001b[0mself\u001b[0m\u001b[0;34m.\u001b[0m\u001b[0m_getitem_multilevel\u001b[0m\u001b[0;34m(\u001b[0m\u001b[0mkey\u001b[0m\u001b[0;34m)\u001b[0m\u001b[0;34m\u001b[0m\u001b[0;34m\u001b[0m\u001b[0m\n\u001b[0;32m-> 3024\u001b[0;31m             \u001b[0mindexer\u001b[0m \u001b[0;34m=\u001b[0m \u001b[0mself\u001b[0m\u001b[0;34m.\u001b[0m\u001b[0mcolumns\u001b[0m\u001b[0;34m.\u001b[0m\u001b[0mget_loc\u001b[0m\u001b[0;34m(\u001b[0m\u001b[0mkey\u001b[0m\u001b[0;34m)\u001b[0m\u001b[0;34m\u001b[0m\u001b[0;34m\u001b[0m\u001b[0m\n\u001b[0m\u001b[1;32m   3025\u001b[0m             \u001b[0;32mif\u001b[0m \u001b[0mis_integer\u001b[0m\u001b[0;34m(\u001b[0m\u001b[0mindexer\u001b[0m\u001b[0;34m)\u001b[0m\u001b[0;34m:\u001b[0m\u001b[0;34m\u001b[0m\u001b[0;34m\u001b[0m\u001b[0m\n\u001b[1;32m   3026\u001b[0m                 \u001b[0mindexer\u001b[0m \u001b[0;34m=\u001b[0m \u001b[0;34m[\u001b[0m\u001b[0mindexer\u001b[0m\u001b[0;34m]\u001b[0m\u001b[0;34m\u001b[0m\u001b[0;34m\u001b[0m\u001b[0m\n",
      "\u001b[0;32m/opt/anaconda3/envs/datastorm2/lib/python3.7/site-packages/pandas/core/indexes/base.py\u001b[0m in \u001b[0;36mget_loc\u001b[0;34m(self, key, method, tolerance)\u001b[0m\n\u001b[1;32m   3080\u001b[0m                 \u001b[0;32mreturn\u001b[0m \u001b[0mself\u001b[0m\u001b[0;34m.\u001b[0m\u001b[0m_engine\u001b[0m\u001b[0;34m.\u001b[0m\u001b[0mget_loc\u001b[0m\u001b[0;34m(\u001b[0m\u001b[0mcasted_key\u001b[0m\u001b[0;34m)\u001b[0m\u001b[0;34m\u001b[0m\u001b[0;34m\u001b[0m\u001b[0m\n\u001b[1;32m   3081\u001b[0m             \u001b[0;32mexcept\u001b[0m \u001b[0mKeyError\u001b[0m \u001b[0;32mas\u001b[0m \u001b[0merr\u001b[0m\u001b[0;34m:\u001b[0m\u001b[0;34m\u001b[0m\u001b[0;34m\u001b[0m\u001b[0m\n\u001b[0;32m-> 3082\u001b[0;31m                 \u001b[0;32mraise\u001b[0m \u001b[0mKeyError\u001b[0m\u001b[0;34m(\u001b[0m\u001b[0mkey\u001b[0m\u001b[0;34m)\u001b[0m \u001b[0;32mfrom\u001b[0m \u001b[0merr\u001b[0m\u001b[0;34m\u001b[0m\u001b[0;34m\u001b[0m\u001b[0m\n\u001b[0m\u001b[1;32m   3083\u001b[0m \u001b[0;34m\u001b[0m\u001b[0m\n\u001b[1;32m   3084\u001b[0m         \u001b[0;32mif\u001b[0m \u001b[0mtolerance\u001b[0m \u001b[0;32mis\u001b[0m \u001b[0;32mnot\u001b[0m \u001b[0;32mNone\u001b[0m\u001b[0;34m:\u001b[0m\u001b[0;34m\u001b[0m\u001b[0;34m\u001b[0m\u001b[0m\n",
      "\u001b[0;31mKeyError\u001b[0m: 'next_month_plan'"
     ]
    }
   ],
   "source": [
    "train_data['next_month_plan'] = train_data['next_month_plan'].astype('category')"
   ]
  },
  {
   "cell_type": "code",
   "execution_count": 5,
   "id": "neutral-suite",
   "metadata": {},
   "outputs": [
    {
     "ename": "KeyError",
     "evalue": "'next_month_plan'",
     "output_type": "error",
     "traceback": [
      "\u001b[0;31m---------------------------------------------------------------------------\u001b[0m",
      "\u001b[0;31mKeyError\u001b[0m                                  Traceback (most recent call last)",
      "\u001b[0;32m/opt/anaconda3/envs/datastorm2/lib/python3.7/site-packages/pandas/core/indexes/base.py\u001b[0m in \u001b[0;36mget_loc\u001b[0;34m(self, key, method, tolerance)\u001b[0m\n\u001b[1;32m   3079\u001b[0m             \u001b[0;32mtry\u001b[0m\u001b[0;34m:\u001b[0m\u001b[0;34m\u001b[0m\u001b[0;34m\u001b[0m\u001b[0m\n\u001b[0;32m-> 3080\u001b[0;31m                 \u001b[0;32mreturn\u001b[0m \u001b[0mself\u001b[0m\u001b[0;34m.\u001b[0m\u001b[0m_engine\u001b[0m\u001b[0;34m.\u001b[0m\u001b[0mget_loc\u001b[0m\u001b[0;34m(\u001b[0m\u001b[0mcasted_key\u001b[0m\u001b[0;34m)\u001b[0m\u001b[0;34m\u001b[0m\u001b[0;34m\u001b[0m\u001b[0m\n\u001b[0m\u001b[1;32m   3081\u001b[0m             \u001b[0;32mexcept\u001b[0m \u001b[0mKeyError\u001b[0m \u001b[0;32mas\u001b[0m \u001b[0merr\u001b[0m\u001b[0;34m:\u001b[0m\u001b[0;34m\u001b[0m\u001b[0;34m\u001b[0m\u001b[0m\n",
      "\u001b[0;32mpandas/_libs/index.pyx\u001b[0m in \u001b[0;36mpandas._libs.index.IndexEngine.get_loc\u001b[0;34m()\u001b[0m\n",
      "\u001b[0;32mpandas/_libs/index.pyx\u001b[0m in \u001b[0;36mpandas._libs.index.IndexEngine.get_loc\u001b[0;34m()\u001b[0m\n",
      "\u001b[0;32mpandas/_libs/hashtable_class_helper.pxi\u001b[0m in \u001b[0;36mpandas._libs.hashtable.PyObjectHashTable.get_item\u001b[0;34m()\u001b[0m\n",
      "\u001b[0;32mpandas/_libs/hashtable_class_helper.pxi\u001b[0m in \u001b[0;36mpandas._libs.hashtable.PyObjectHashTable.get_item\u001b[0;34m()\u001b[0m\n",
      "\u001b[0;31mKeyError\u001b[0m: 'next_month_plan'",
      "\nThe above exception was the direct cause of the following exception:\n",
      "\u001b[0;31mKeyError\u001b[0m                                  Traceback (most recent call last)",
      "\u001b[0;32m<ipython-input-5-0ef4b1779c50>\u001b[0m in \u001b[0;36m<module>\u001b[0;34m\u001b[0m\n\u001b[0;32m----> 1\u001b[0;31m \u001b[0mtrain_data\u001b[0m\u001b[0;34m[\u001b[0m\u001b[0;34m'next_month_plan'\u001b[0m\u001b[0;34m]\u001b[0m\u001b[0;34m.\u001b[0m\u001b[0munique\u001b[0m\u001b[0;34m(\u001b[0m\u001b[0;34m)\u001b[0m\u001b[0;34m\u001b[0m\u001b[0;34m\u001b[0m\u001b[0m\n\u001b[0m",
      "\u001b[0;32m/opt/anaconda3/envs/datastorm2/lib/python3.7/site-packages/pandas/core/frame.py\u001b[0m in \u001b[0;36m__getitem__\u001b[0;34m(self, key)\u001b[0m\n\u001b[1;32m   3022\u001b[0m             \u001b[0;32mif\u001b[0m \u001b[0mself\u001b[0m\u001b[0;34m.\u001b[0m\u001b[0mcolumns\u001b[0m\u001b[0;34m.\u001b[0m\u001b[0mnlevels\u001b[0m \u001b[0;34m>\u001b[0m \u001b[0;36m1\u001b[0m\u001b[0;34m:\u001b[0m\u001b[0;34m\u001b[0m\u001b[0;34m\u001b[0m\u001b[0m\n\u001b[1;32m   3023\u001b[0m                 \u001b[0;32mreturn\u001b[0m \u001b[0mself\u001b[0m\u001b[0;34m.\u001b[0m\u001b[0m_getitem_multilevel\u001b[0m\u001b[0;34m(\u001b[0m\u001b[0mkey\u001b[0m\u001b[0;34m)\u001b[0m\u001b[0;34m\u001b[0m\u001b[0;34m\u001b[0m\u001b[0m\n\u001b[0;32m-> 3024\u001b[0;31m             \u001b[0mindexer\u001b[0m \u001b[0;34m=\u001b[0m \u001b[0mself\u001b[0m\u001b[0;34m.\u001b[0m\u001b[0mcolumns\u001b[0m\u001b[0;34m.\u001b[0m\u001b[0mget_loc\u001b[0m\u001b[0;34m(\u001b[0m\u001b[0mkey\u001b[0m\u001b[0;34m)\u001b[0m\u001b[0;34m\u001b[0m\u001b[0;34m\u001b[0m\u001b[0m\n\u001b[0m\u001b[1;32m   3025\u001b[0m             \u001b[0;32mif\u001b[0m \u001b[0mis_integer\u001b[0m\u001b[0;34m(\u001b[0m\u001b[0mindexer\u001b[0m\u001b[0;34m)\u001b[0m\u001b[0;34m:\u001b[0m\u001b[0;34m\u001b[0m\u001b[0;34m\u001b[0m\u001b[0m\n\u001b[1;32m   3026\u001b[0m                 \u001b[0mindexer\u001b[0m \u001b[0;34m=\u001b[0m \u001b[0;34m[\u001b[0m\u001b[0mindexer\u001b[0m\u001b[0;34m]\u001b[0m\u001b[0;34m\u001b[0m\u001b[0;34m\u001b[0m\u001b[0m\n",
      "\u001b[0;32m/opt/anaconda3/envs/datastorm2/lib/python3.7/site-packages/pandas/core/indexes/base.py\u001b[0m in \u001b[0;36mget_loc\u001b[0;34m(self, key, method, tolerance)\u001b[0m\n\u001b[1;32m   3080\u001b[0m                 \u001b[0;32mreturn\u001b[0m \u001b[0mself\u001b[0m\u001b[0;34m.\u001b[0m\u001b[0m_engine\u001b[0m\u001b[0;34m.\u001b[0m\u001b[0mget_loc\u001b[0m\u001b[0;34m(\u001b[0m\u001b[0mcasted_key\u001b[0m\u001b[0;34m)\u001b[0m\u001b[0;34m\u001b[0m\u001b[0;34m\u001b[0m\u001b[0m\n\u001b[1;32m   3081\u001b[0m             \u001b[0;32mexcept\u001b[0m \u001b[0mKeyError\u001b[0m \u001b[0;32mas\u001b[0m \u001b[0merr\u001b[0m\u001b[0;34m:\u001b[0m\u001b[0;34m\u001b[0m\u001b[0;34m\u001b[0m\u001b[0m\n\u001b[0;32m-> 3082\u001b[0;31m                 \u001b[0;32mraise\u001b[0m \u001b[0mKeyError\u001b[0m\u001b[0;34m(\u001b[0m\u001b[0mkey\u001b[0m\u001b[0;34m)\u001b[0m \u001b[0;32mfrom\u001b[0m \u001b[0merr\u001b[0m\u001b[0;34m\u001b[0m\u001b[0;34m\u001b[0m\u001b[0m\n\u001b[0m\u001b[1;32m   3083\u001b[0m \u001b[0;34m\u001b[0m\u001b[0m\n\u001b[1;32m   3084\u001b[0m         \u001b[0;32mif\u001b[0m \u001b[0mtolerance\u001b[0m \u001b[0;32mis\u001b[0m \u001b[0;32mnot\u001b[0m \u001b[0;32mNone\u001b[0m\u001b[0;34m:\u001b[0m\u001b[0;34m\u001b[0m\u001b[0;34m\u001b[0m\u001b[0m\n",
      "\u001b[0;31mKeyError\u001b[0m: 'next_month_plan'"
     ]
    }
   ],
   "source": [
    "train_data['next_month_plan'].unique()"
   ]
  },
  {
   "cell_type": "code",
   "execution_count": null,
   "id": "disabled-eight",
   "metadata": {},
   "outputs": [],
   "source": [
    "labels_x = ['PKG0','PKG1', 'PKG2', 'PKG3', 'PKG4', 'PKG5', 'PKG6', 'PKG7', 'PKG8']"
   ]
  },
  {
   "cell_type": "code",
   "execution_count": null,
   "id": "local-authorization",
   "metadata": {},
   "outputs": [],
   "source": [
    "le = preprocessing.LabelEncoder()"
   ]
  },
  {
   "cell_type": "code",
   "execution_count": null,
   "id": "personal-simulation",
   "metadata": {},
   "outputs": [],
   "source": [
    "le.fit(labels_x)"
   ]
  },
  {
   "cell_type": "code",
   "execution_count": null,
   "id": "secondary-istanbul",
   "metadata": {},
   "outputs": [],
   "source": [
    "le.classes_"
   ]
  },
  {
   "cell_type": "code",
   "execution_count": null,
   "id": "legendary-antenna",
   "metadata": {},
   "outputs": [],
   "source": [
    "train_data['encoded_class_labels'] = le.transform(train_data['next_month_plan'])"
   ]
  },
  {
   "cell_type": "code",
   "execution_count": null,
   "id": "comprehensive-shape",
   "metadata": {},
   "outputs": [],
   "source": [
    "train_data.head(20)"
   ]
  },
  {
   "cell_type": "markdown",
   "id": "other-apollo",
   "metadata": {},
   "source": [
    "## Handling Missing Values"
   ]
  },
  {
   "cell_type": "code",
   "execution_count": 6,
   "id": "experimental-latino",
   "metadata": {},
   "outputs": [
    {
     "name": "stdout",
     "output_type": "stream",
     "text": [
      "<class 'pandas.core.frame.DataFrame'>\n",
      "RangeIndex: 10500 entries, 0 to 10499\n",
      "Data columns (total 40 columns):\n",
      " #   Column                       Non-Null Count  Dtype  \n",
      "---  ------                       --------------  -----  \n",
      " 0   primary_identifier           10500 non-null  int64  \n",
      " 1   device_type                  10500 non-null  object \n",
      " 2   device_category              10500 non-null  object \n",
      " 3   gender                       10500 non-null  object \n",
      " 4   district_name                10500 non-null  object \n",
      " 5   age_group                    10500 non-null  object \n",
      " 6   network_stay                 10500 non-null  int64  \n",
      " 7   average_monthly_bill_amount  10500 non-null  float64\n",
      " 8   dusage_sum                   10500 non-null  int64  \n",
      " 9   dusage_min                   10500 non-null  float64\n",
      " 10  dusage_max                   10500 non-null  float64\n",
      " 11  dusage_diff                  10500 non-null  float64\n",
      " 12  dusage_avg                   10500 non-null  float64\n",
      " 13  dusage_days                  10500 non-null  int64  \n",
      " 14  dusage_stddev                10500 non-null  float64\n",
      " 15  vusage_onnet_sum             10500 non-null  int64  \n",
      " 16  vusage_onnet_max             10500 non-null  float64\n",
      " 17  vusage_onnet_min             10500 non-null  int64  \n",
      " 18  vusage_onnet_diff            10500 non-null  float64\n",
      " 19  vusage_onnet_days            10500 non-null  int64  \n",
      " 20  vusage_onnet_avg             10500 non-null  float64\n",
      " 21  vusage_onnet_stddev          10500 non-null  float64\n",
      " 22  vusage_offnet_sum            10500 non-null  int64  \n",
      " 23  vusage_offnet_max            10500 non-null  float64\n",
      " 24  vusage_offnet_min            10500 non-null  float64\n",
      " 25  vusage_offnet_diff           10500 non-null  float64\n",
      " 26  vusage_offnet_days           10500 non-null  int64  \n",
      " 27  vusage_offnet_avg            10500 non-null  float64\n",
      " 28  vusage_offnet_stddev         10500 non-null  float64\n",
      " 29  vusage_sum                   10500 non-null  int64  \n",
      " 30  vusage_max                   10500 non-null  float64\n",
      " 31  vusage_min                   10500 non-null  int64  \n",
      " 32  vusage_diff                  10500 non-null  float64\n",
      " 33  vusage_days                  10500 non-null  int64  \n",
      " 34  vusage_avg                   10500 non-null  float64\n",
      " 35  number_of_fixed_bb_accounts  10500 non-null  int64  \n",
      " 36  number_of_iptv_accounts      10500 non-null  int64  \n",
      " 37  add_on_tot_rental            10500 non-null  int64  \n",
      " 38  add_on_count                 10500 non-null  int64  \n",
      " 39  encoded_class_labels         10500 non-null  int64  \n",
      "dtypes: float64(18), int64(17), object(5)\n",
      "memory usage: 3.2+ MB\n"
     ]
    }
   ],
   "source": [
    "train_data.info()"
   ]
  },
  {
   "cell_type": "code",
   "execution_count": null,
   "id": "threaded-market",
   "metadata": {},
   "outputs": [],
   "source": [
    "train_data['device_category'].unique()"
   ]
  },
  {
   "cell_type": "code",
   "execution_count": null,
   "id": "metropolitan-joining",
   "metadata": {},
   "outputs": [],
   "source": [
    "train_data['device_type'] = train_data['device_type'].fillna(value = 'Unknown')\n",
    "train_data['device_category'] = train_data['device_category'].fillna(value = 'Unknown')\n",
    "train_data['gender'] = train_data['gender'].fillna(value = 'Unknown')\n",
    "train_data['age_group'] = train_data['age_group'].fillna(value = 'Unknown')"
   ]
  },
  {
   "cell_type": "code",
   "execution_count": null,
   "id": "floppy-second",
   "metadata": {},
   "outputs": [],
   "source": [
    "train_data = train_data.drop(columns = ['next_month_plan'])"
   ]
  },
  {
   "cell_type": "code",
   "execution_count": null,
   "id": "minimal-producer",
   "metadata": {},
   "outputs": [],
   "source": [
    "train_data['dusage_avg'] = train_data['dusage_avg'].fillna(value = 0)\n",
    "train_data['vusage_offnet_avg'] = train_data['vusage_offnet_avg'].fillna(value = 0)\n",
    "train_data['add_on_tot_rental'] = train_data['add_on_tot_rental'].fillna(value = -1)\n",
    "train_data['add_on_count'] = train_data['add_on_count'].fillna(value = 0)\n",
    "train_data['vusage_onnet_avg'] = train_data['vusage_onnet_avg'].fillna(value = 0)"
   ]
  },
  {
   "cell_type": "code",
   "execution_count": null,
   "id": "regulation-appointment",
   "metadata": {},
   "outputs": [],
   "source": [
    "train_data.info()"
   ]
  },
  {
   "cell_type": "markdown",
   "id": "warming-pocket",
   "metadata": {},
   "source": [
    "## Creating pre-processing pipeline"
   ]
  },
  {
   "cell_type": "code",
   "execution_count": 7,
   "id": "former-letter",
   "metadata": {},
   "outputs": [
    {
     "data": {
      "text/plain": [
       "Index(['primary_identifier', 'device_type', 'device_category', 'gender',\n",
       "       'district_name', 'age_group', 'network_stay',\n",
       "       'average_monthly_bill_amount', 'dusage_sum', 'dusage_min', 'dusage_max',\n",
       "       'dusage_diff', 'dusage_avg', 'dusage_days', 'dusage_stddev',\n",
       "       'vusage_onnet_sum', 'vusage_onnet_max', 'vusage_onnet_min',\n",
       "       'vusage_onnet_diff', 'vusage_onnet_days', 'vusage_onnet_avg',\n",
       "       'vusage_onnet_stddev', 'vusage_offnet_sum', 'vusage_offnet_max',\n",
       "       'vusage_offnet_min', 'vusage_offnet_diff', 'vusage_offnet_days',\n",
       "       'vusage_offnet_avg', 'vusage_offnet_stddev', 'vusage_sum', 'vusage_max',\n",
       "       'vusage_min', 'vusage_diff', 'vusage_days', 'vusage_avg',\n",
       "       'number_of_fixed_bb_accounts', 'number_of_iptv_accounts',\n",
       "       'add_on_tot_rental', 'add_on_count', 'encoded_class_labels'],\n",
       "      dtype='object')"
      ]
     },
     "execution_count": 7,
     "metadata": {},
     "output_type": "execute_result"
    }
   ],
   "source": [
    "train_data.columns"
   ]
  },
  {
   "cell_type": "code",
   "execution_count": 8,
   "id": "encouraging-strap",
   "metadata": {},
   "outputs": [],
   "source": [
    "def get_col_types(dataframe):\n",
    "    data_cat_cols = []\n",
    "    data_quan_cols = []\n",
    "    \n",
    "    for col in np.array(dataframe.columns):\n",
    "        if dataframe[col].dtype == 'int64' or dataframe[col].dtype == 'float64':\n",
    "            data_quan_cols.append(col)\n",
    "        elif dataframe[col].dtype == 'O':\n",
    "            data_cat_cols.append(col)\n",
    "            \n",
    "    return data_cat_cols, data_quan_cols"
   ]
  },
  {
   "cell_type": "code",
   "execution_count": 9,
   "id": "experienced-blocking",
   "metadata": {},
   "outputs": [],
   "source": [
    "X = train_data.drop(columns=['encoded_class_labels', 'primary_identifier'])"
   ]
  },
  {
   "cell_type": "code",
   "execution_count": 10,
   "id": "floppy-graduate",
   "metadata": {},
   "outputs": [],
   "source": [
    "data_cat_cols, data_quan_cols = get_col_types(X)"
   ]
  },
  {
   "cell_type": "code",
   "execution_count": 11,
   "id": "automatic-nerve",
   "metadata": {},
   "outputs": [
    {
     "data": {
      "text/plain": [
       "['device_type', 'device_category', 'gender', 'district_name', 'age_group']"
      ]
     },
     "execution_count": 11,
     "metadata": {},
     "output_type": "execute_result"
    }
   ],
   "source": [
    "data_cat_cols"
   ]
  },
  {
   "cell_type": "code",
   "execution_count": 12,
   "id": "allied-latest",
   "metadata": {},
   "outputs": [
    {
     "data": {
      "text/plain": [
       "['network_stay',\n",
       " 'average_monthly_bill_amount',\n",
       " 'dusage_sum',\n",
       " 'dusage_min',\n",
       " 'dusage_max',\n",
       " 'dusage_diff',\n",
       " 'dusage_avg',\n",
       " 'dusage_days',\n",
       " 'dusage_stddev',\n",
       " 'vusage_onnet_sum',\n",
       " 'vusage_onnet_max',\n",
       " 'vusage_onnet_min',\n",
       " 'vusage_onnet_diff',\n",
       " 'vusage_onnet_days',\n",
       " 'vusage_onnet_avg',\n",
       " 'vusage_onnet_stddev',\n",
       " 'vusage_offnet_sum',\n",
       " 'vusage_offnet_max',\n",
       " 'vusage_offnet_min',\n",
       " 'vusage_offnet_diff',\n",
       " 'vusage_offnet_days',\n",
       " 'vusage_offnet_avg',\n",
       " 'vusage_offnet_stddev',\n",
       " 'vusage_sum',\n",
       " 'vusage_max',\n",
       " 'vusage_min',\n",
       " 'vusage_diff',\n",
       " 'vusage_days',\n",
       " 'vusage_avg',\n",
       " 'number_of_fixed_bb_accounts',\n",
       " 'number_of_iptv_accounts',\n",
       " 'add_on_tot_rental',\n",
       " 'add_on_count']"
      ]
     },
     "execution_count": 12,
     "metadata": {},
     "output_type": "execute_result"
    }
   ],
   "source": [
    "data_quan_cols"
   ]
  },
  {
   "cell_type": "code",
   "execution_count": 13,
   "id": "crucial-daily",
   "metadata": {},
   "outputs": [],
   "source": [
    "y = train_data['encoded_class_labels']"
   ]
  },
  {
   "cell_type": "code",
   "execution_count": 14,
   "id": "supreme-defense",
   "metadata": {},
   "outputs": [],
   "source": [
    "X_train, X_test, Y_train, Y_test = train_test_split(X, y, random_state=10, test_size = 0.05, stratify = y)"
   ]
  },
  {
   "cell_type": "code",
   "execution_count": 15,
   "id": "wound-reproduction",
   "metadata": {},
   "outputs": [
    {
     "data": {
      "text/html": [
       "<div>\n",
       "<style scoped>\n",
       "    .dataframe tbody tr th:only-of-type {\n",
       "        vertical-align: middle;\n",
       "    }\n",
       "\n",
       "    .dataframe tbody tr th {\n",
       "        vertical-align: top;\n",
       "    }\n",
       "\n",
       "    .dataframe thead th {\n",
       "        text-align: right;\n",
       "    }\n",
       "</style>\n",
       "<table border=\"1\" class=\"dataframe\">\n",
       "  <thead>\n",
       "    <tr style=\"text-align: right;\">\n",
       "      <th></th>\n",
       "      <th>device_type</th>\n",
       "      <th>device_category</th>\n",
       "      <th>gender</th>\n",
       "      <th>district_name</th>\n",
       "      <th>age_group</th>\n",
       "      <th>network_stay</th>\n",
       "      <th>average_monthly_bill_amount</th>\n",
       "      <th>dusage_sum</th>\n",
       "      <th>dusage_min</th>\n",
       "      <th>dusage_max</th>\n",
       "      <th>...</th>\n",
       "      <th>vusage_sum</th>\n",
       "      <th>vusage_max</th>\n",
       "      <th>vusage_min</th>\n",
       "      <th>vusage_diff</th>\n",
       "      <th>vusage_days</th>\n",
       "      <th>vusage_avg</th>\n",
       "      <th>number_of_fixed_bb_accounts</th>\n",
       "      <th>number_of_iptv_accounts</th>\n",
       "      <th>add_on_tot_rental</th>\n",
       "      <th>add_on_count</th>\n",
       "    </tr>\n",
       "  </thead>\n",
       "  <tbody>\n",
       "    <tr>\n",
       "      <th>6155</th>\n",
       "      <td>4G</td>\n",
       "      <td>Smartphone</td>\n",
       "      <td>MALE</td>\n",
       "      <td>Colombo</td>\n",
       "      <td>60-70</td>\n",
       "      <td>39</td>\n",
       "      <td>831.92</td>\n",
       "      <td>34164</td>\n",
       "      <td>425.700622</td>\n",
       "      <td>1789.252680</td>\n",
       "      <td>...</td>\n",
       "      <td>5</td>\n",
       "      <td>3.600000</td>\n",
       "      <td>0</td>\n",
       "      <td>3.600000</td>\n",
       "      <td>5</td>\n",
       "      <td>1.103333</td>\n",
       "      <td>1</td>\n",
       "      <td>2</td>\n",
       "      <td>360</td>\n",
       "      <td>2</td>\n",
       "    </tr>\n",
       "    <tr>\n",
       "      <th>2288</th>\n",
       "      <td>4G</td>\n",
       "      <td>Smartphone</td>\n",
       "      <td>MALE</td>\n",
       "      <td>Kandy</td>\n",
       "      <td>20-30</td>\n",
       "      <td>93</td>\n",
       "      <td>2677.35</td>\n",
       "      <td>11984</td>\n",
       "      <td>2.270360</td>\n",
       "      <td>1055.490074</td>\n",
       "      <td>...</td>\n",
       "      <td>0</td>\n",
       "      <td>0.000000</td>\n",
       "      <td>0</td>\n",
       "      <td>0.000000</td>\n",
       "      <td>0</td>\n",
       "      <td>0.000000</td>\n",
       "      <td>0</td>\n",
       "      <td>0</td>\n",
       "      <td>-1</td>\n",
       "      <td>0</td>\n",
       "    </tr>\n",
       "    <tr>\n",
       "      <th>9714</th>\n",
       "      <td>4G</td>\n",
       "      <td>Smartphone</td>\n",
       "      <td>MALE</td>\n",
       "      <td>Colombo</td>\n",
       "      <td>40-50</td>\n",
       "      <td>92</td>\n",
       "      <td>2627.77</td>\n",
       "      <td>19830</td>\n",
       "      <td>114.694360</td>\n",
       "      <td>1129.623393</td>\n",
       "      <td>...</td>\n",
       "      <td>0</td>\n",
       "      <td>0.000000</td>\n",
       "      <td>0</td>\n",
       "      <td>0.000000</td>\n",
       "      <td>0</td>\n",
       "      <td>0.000000</td>\n",
       "      <td>0</td>\n",
       "      <td>0</td>\n",
       "      <td>-1</td>\n",
       "      <td>0</td>\n",
       "    </tr>\n",
       "    <tr>\n",
       "      <th>7157</th>\n",
       "      <td>4G</td>\n",
       "      <td>Smartphone</td>\n",
       "      <td>MALE</td>\n",
       "      <td>Colombo</td>\n",
       "      <td>40-50</td>\n",
       "      <td>158</td>\n",
       "      <td>4795.76</td>\n",
       "      <td>8498</td>\n",
       "      <td>13.755560</td>\n",
       "      <td>725.783259</td>\n",
       "      <td>...</td>\n",
       "      <td>114</td>\n",
       "      <td>17.050000</td>\n",
       "      <td>0</td>\n",
       "      <td>17.050000</td>\n",
       "      <td>22</td>\n",
       "      <td>5.197727</td>\n",
       "      <td>0</td>\n",
       "      <td>0</td>\n",
       "      <td>360</td>\n",
       "      <td>2</td>\n",
       "    </tr>\n",
       "    <tr>\n",
       "      <th>738</th>\n",
       "      <td>4G</td>\n",
       "      <td>Smartphone</td>\n",
       "      <td>MALE</td>\n",
       "      <td>Colombo</td>\n",
       "      <td>50-60</td>\n",
       "      <td>51</td>\n",
       "      <td>3978.40</td>\n",
       "      <td>36917</td>\n",
       "      <td>660.364806</td>\n",
       "      <td>2735.215541</td>\n",
       "      <td>...</td>\n",
       "      <td>0</td>\n",
       "      <td>0.000000</td>\n",
       "      <td>0</td>\n",
       "      <td>0.000000</td>\n",
       "      <td>0</td>\n",
       "      <td>0.000000</td>\n",
       "      <td>0</td>\n",
       "      <td>0</td>\n",
       "      <td>1500</td>\n",
       "      <td>1</td>\n",
       "    </tr>\n",
       "    <tr>\n",
       "      <th>490</th>\n",
       "      <td>4G</td>\n",
       "      <td>Smartphone</td>\n",
       "      <td>FEMALE</td>\n",
       "      <td>Colombo</td>\n",
       "      <td>40-50</td>\n",
       "      <td>133</td>\n",
       "      <td>2582.98</td>\n",
       "      <td>6820</td>\n",
       "      <td>16.479900</td>\n",
       "      <td>766.500066</td>\n",
       "      <td>...</td>\n",
       "      <td>330</td>\n",
       "      <td>66.483333</td>\n",
       "      <td>0</td>\n",
       "      <td>66.483333</td>\n",
       "      <td>18</td>\n",
       "      <td>18.367593</td>\n",
       "      <td>0</td>\n",
       "      <td>1</td>\n",
       "      <td>650</td>\n",
       "      <td>1</td>\n",
       "    </tr>\n",
       "    <tr>\n",
       "      <th>467</th>\n",
       "      <td>4G</td>\n",
       "      <td>Smartphone</td>\n",
       "      <td>MALE</td>\n",
       "      <td>Kalutara</td>\n",
       "      <td>40-50</td>\n",
       "      <td>9</td>\n",
       "      <td>906.76</td>\n",
       "      <td>7652</td>\n",
       "      <td>0.043341</td>\n",
       "      <td>958.006304</td>\n",
       "      <td>...</td>\n",
       "      <td>104</td>\n",
       "      <td>17.700000</td>\n",
       "      <td>0</td>\n",
       "      <td>17.700000</td>\n",
       "      <td>27</td>\n",
       "      <td>3.873457</td>\n",
       "      <td>0</td>\n",
       "      <td>0</td>\n",
       "      <td>110</td>\n",
       "      <td>2</td>\n",
       "    </tr>\n",
       "    <tr>\n",
       "      <th>6161</th>\n",
       "      <td>4G</td>\n",
       "      <td>Smartphone</td>\n",
       "      <td>MALE</td>\n",
       "      <td>Colombo</td>\n",
       "      <td>30-40</td>\n",
       "      <td>32</td>\n",
       "      <td>2148.93</td>\n",
       "      <td>10470</td>\n",
       "      <td>24.448140</td>\n",
       "      <td>1649.124297</td>\n",
       "      <td>...</td>\n",
       "      <td>376</td>\n",
       "      <td>43.866667</td>\n",
       "      <td>0</td>\n",
       "      <td>43.866667</td>\n",
       "      <td>34</td>\n",
       "      <td>18.872667</td>\n",
       "      <td>0</td>\n",
       "      <td>0</td>\n",
       "      <td>-1</td>\n",
       "      <td>0</td>\n",
       "    </tr>\n",
       "    <tr>\n",
       "      <th>1343</th>\n",
       "      <td>4G</td>\n",
       "      <td>Smartphone</td>\n",
       "      <td>MALE</td>\n",
       "      <td>Gampaha</td>\n",
       "      <td>40-50</td>\n",
       "      <td>10</td>\n",
       "      <td>2759.05</td>\n",
       "      <td>15901</td>\n",
       "      <td>102.143398</td>\n",
       "      <td>1233.143407</td>\n",
       "      <td>...</td>\n",
       "      <td>111</td>\n",
       "      <td>20.950000</td>\n",
       "      <td>0</td>\n",
       "      <td>20.950000</td>\n",
       "      <td>19</td>\n",
       "      <td>12.399242</td>\n",
       "      <td>0</td>\n",
       "      <td>0</td>\n",
       "      <td>-1</td>\n",
       "      <td>0</td>\n",
       "    </tr>\n",
       "    <tr>\n",
       "      <th>5792</th>\n",
       "      <td>4G</td>\n",
       "      <td>Smartphone</td>\n",
       "      <td>MALE</td>\n",
       "      <td>Colombo</td>\n",
       "      <td>50-60</td>\n",
       "      <td>198</td>\n",
       "      <td>1069.44</td>\n",
       "      <td>13193</td>\n",
       "      <td>52.539788</td>\n",
       "      <td>1733.798770</td>\n",
       "      <td>...</td>\n",
       "      <td>31</td>\n",
       "      <td>13.333333</td>\n",
       "      <td>0</td>\n",
       "      <td>13.333333</td>\n",
       "      <td>8</td>\n",
       "      <td>3.879167</td>\n",
       "      <td>1</td>\n",
       "      <td>0</td>\n",
       "      <td>600</td>\n",
       "      <td>2</td>\n",
       "    </tr>\n",
       "    <tr>\n",
       "      <th>9711</th>\n",
       "      <td>4G</td>\n",
       "      <td>Smartphone</td>\n",
       "      <td>FEMALE</td>\n",
       "      <td>Gampaha</td>\n",
       "      <td>40-50</td>\n",
       "      <td>106</td>\n",
       "      <td>2126.13</td>\n",
       "      <td>5165</td>\n",
       "      <td>0.000000</td>\n",
       "      <td>960.163307</td>\n",
       "      <td>...</td>\n",
       "      <td>0</td>\n",
       "      <td>0.000000</td>\n",
       "      <td>0</td>\n",
       "      <td>0.000000</td>\n",
       "      <td>0</td>\n",
       "      <td>0.000000</td>\n",
       "      <td>0</td>\n",
       "      <td>0</td>\n",
       "      <td>40</td>\n",
       "      <td>1</td>\n",
       "    </tr>\n",
       "    <tr>\n",
       "      <th>8101</th>\n",
       "      <td>4G</td>\n",
       "      <td>Smartphone</td>\n",
       "      <td>FEMALE</td>\n",
       "      <td>Kalutara</td>\n",
       "      <td>40-50</td>\n",
       "      <td>5</td>\n",
       "      <td>989.94</td>\n",
       "      <td>10032</td>\n",
       "      <td>342.528443</td>\n",
       "      <td>1654.087762</td>\n",
       "      <td>...</td>\n",
       "      <td>0</td>\n",
       "      <td>0.000000</td>\n",
       "      <td>0</td>\n",
       "      <td>0.000000</td>\n",
       "      <td>0</td>\n",
       "      <td>0.000000</td>\n",
       "      <td>0</td>\n",
       "      <td>0</td>\n",
       "      <td>520</td>\n",
       "      <td>3</td>\n",
       "    </tr>\n",
       "    <tr>\n",
       "      <th>2582</th>\n",
       "      <td>4G</td>\n",
       "      <td>Smartphone</td>\n",
       "      <td>FEMALE</td>\n",
       "      <td>Gampaha</td>\n",
       "      <td>40-50</td>\n",
       "      <td>10</td>\n",
       "      <td>829.50</td>\n",
       "      <td>13010</td>\n",
       "      <td>0.000000</td>\n",
       "      <td>1781.257216</td>\n",
       "      <td>...</td>\n",
       "      <td>9</td>\n",
       "      <td>8.050000</td>\n",
       "      <td>0</td>\n",
       "      <td>8.050000</td>\n",
       "      <td>2</td>\n",
       "      <td>4.900000</td>\n",
       "      <td>0</td>\n",
       "      <td>0</td>\n",
       "      <td>410</td>\n",
       "      <td>2</td>\n",
       "    </tr>\n",
       "    <tr>\n",
       "      <th>3711</th>\n",
       "      <td>4G</td>\n",
       "      <td>Smartphone</td>\n",
       "      <td>FEMALE</td>\n",
       "      <td>Colombo</td>\n",
       "      <td>20-30</td>\n",
       "      <td>53</td>\n",
       "      <td>1010.39</td>\n",
       "      <td>2585</td>\n",
       "      <td>2.542772</td>\n",
       "      <td>485.774677</td>\n",
       "      <td>...</td>\n",
       "      <td>81</td>\n",
       "      <td>11.833333</td>\n",
       "      <td>0</td>\n",
       "      <td>11.833333</td>\n",
       "      <td>25</td>\n",
       "      <td>3.258667</td>\n",
       "      <td>0</td>\n",
       "      <td>0</td>\n",
       "      <td>200</td>\n",
       "      <td>1</td>\n",
       "    </tr>\n",
       "    <tr>\n",
       "      <th>2789</th>\n",
       "      <td>2G</td>\n",
       "      <td>Feature phone</td>\n",
       "      <td>MALE</td>\n",
       "      <td>Badulla</td>\n",
       "      <td>40-50</td>\n",
       "      <td>185</td>\n",
       "      <td>745.14</td>\n",
       "      <td>0</td>\n",
       "      <td>0.000000</td>\n",
       "      <td>0.000000</td>\n",
       "      <td>...</td>\n",
       "      <td>44</td>\n",
       "      <td>6.066667</td>\n",
       "      <td>0</td>\n",
       "      <td>6.066667</td>\n",
       "      <td>21</td>\n",
       "      <td>2.099206</td>\n",
       "      <td>0</td>\n",
       "      <td>1</td>\n",
       "      <td>-1</td>\n",
       "      <td>0</td>\n",
       "    </tr>\n",
       "    <tr>\n",
       "      <th>5569</th>\n",
       "      <td>4G</td>\n",
       "      <td>Smartphone</td>\n",
       "      <td>FEMALE</td>\n",
       "      <td>Gampaha</td>\n",
       "      <td>30-40</td>\n",
       "      <td>88</td>\n",
       "      <td>2090.50</td>\n",
       "      <td>4069</td>\n",
       "      <td>16.297462</td>\n",
       "      <td>477.574168</td>\n",
       "      <td>...</td>\n",
       "      <td>299</td>\n",
       "      <td>33.616667</td>\n",
       "      <td>0</td>\n",
       "      <td>33.616667</td>\n",
       "      <td>24</td>\n",
       "      <td>12.493750</td>\n",
       "      <td>0</td>\n",
       "      <td>0</td>\n",
       "      <td>0</td>\n",
       "      <td>1</td>\n",
       "    </tr>\n",
       "    <tr>\n",
       "      <th>3744</th>\n",
       "      <td>4G</td>\n",
       "      <td>Smartphone</td>\n",
       "      <td>FEMALE</td>\n",
       "      <td>Gampaha</td>\n",
       "      <td>30-40</td>\n",
       "      <td>5</td>\n",
       "      <td>1405.05</td>\n",
       "      <td>2094</td>\n",
       "      <td>2.217326</td>\n",
       "      <td>295.740664</td>\n",
       "      <td>...</td>\n",
       "      <td>161</td>\n",
       "      <td>54.500000</td>\n",
       "      <td>0</td>\n",
       "      <td>54.500000</td>\n",
       "      <td>13</td>\n",
       "      <td>12.434615</td>\n",
       "      <td>0</td>\n",
       "      <td>0</td>\n",
       "      <td>350</td>\n",
       "      <td>1</td>\n",
       "    </tr>\n",
       "    <tr>\n",
       "      <th>714</th>\n",
       "      <td>2G</td>\n",
       "      <td>Basic</td>\n",
       "      <td>MALE</td>\n",
       "      <td>Kalutara</td>\n",
       "      <td>30-40</td>\n",
       "      <td>20</td>\n",
       "      <td>1039.11</td>\n",
       "      <td>0</td>\n",
       "      <td>0.000000</td>\n",
       "      <td>0.000000</td>\n",
       "      <td>...</td>\n",
       "      <td>47</td>\n",
       "      <td>14.933333</td>\n",
       "      <td>0</td>\n",
       "      <td>14.933333</td>\n",
       "      <td>20</td>\n",
       "      <td>2.356667</td>\n",
       "      <td>0</td>\n",
       "      <td>1</td>\n",
       "      <td>-1</td>\n",
       "      <td>0</td>\n",
       "    </tr>\n",
       "    <tr>\n",
       "      <th>7060</th>\n",
       "      <td>4G</td>\n",
       "      <td>Smartphone</td>\n",
       "      <td>MALE</td>\n",
       "      <td>Jaffna</td>\n",
       "      <td>30-40</td>\n",
       "      <td>203</td>\n",
       "      <td>3112.37</td>\n",
       "      <td>6446</td>\n",
       "      <td>0.000751</td>\n",
       "      <td>887.345405</td>\n",
       "      <td>...</td>\n",
       "      <td>5</td>\n",
       "      <td>3.450000</td>\n",
       "      <td>0</td>\n",
       "      <td>3.450000</td>\n",
       "      <td>3</td>\n",
       "      <td>1.766667</td>\n",
       "      <td>0</td>\n",
       "      <td>0</td>\n",
       "      <td>800</td>\n",
       "      <td>3</td>\n",
       "    </tr>\n",
       "    <tr>\n",
       "      <th>6213</th>\n",
       "      <td>4G</td>\n",
       "      <td>Smartphone</td>\n",
       "      <td>FEMALE</td>\n",
       "      <td>Puttalam</td>\n",
       "      <td>&gt;70</td>\n",
       "      <td>9</td>\n",
       "      <td>473.19</td>\n",
       "      <td>0</td>\n",
       "      <td>0.000000</td>\n",
       "      <td>0.000000</td>\n",
       "      <td>...</td>\n",
       "      <td>22</td>\n",
       "      <td>10.733333</td>\n",
       "      <td>0</td>\n",
       "      <td>10.733333</td>\n",
       "      <td>9</td>\n",
       "      <td>2.475926</td>\n",
       "      <td>0</td>\n",
       "      <td>0</td>\n",
       "      <td>-1</td>\n",
       "      <td>0</td>\n",
       "    </tr>\n",
       "  </tbody>\n",
       "</table>\n",
       "<p>20 rows × 38 columns</p>\n",
       "</div>"
      ],
      "text/plain": [
       "     device_type device_category  gender district_name age_group  \\\n",
       "6155          4G      Smartphone    MALE       Colombo     60-70   \n",
       "2288          4G      Smartphone    MALE         Kandy     20-30   \n",
       "9714          4G      Smartphone    MALE       Colombo     40-50   \n",
       "7157          4G      Smartphone    MALE       Colombo     40-50   \n",
       "738           4G      Smartphone    MALE       Colombo     50-60   \n",
       "490           4G      Smartphone  FEMALE       Colombo     40-50   \n",
       "467           4G      Smartphone    MALE      Kalutara     40-50   \n",
       "6161          4G      Smartphone    MALE       Colombo     30-40   \n",
       "1343          4G      Smartphone    MALE       Gampaha     40-50   \n",
       "5792          4G      Smartphone    MALE       Colombo     50-60   \n",
       "9711          4G      Smartphone  FEMALE       Gampaha     40-50   \n",
       "8101          4G      Smartphone  FEMALE      Kalutara     40-50   \n",
       "2582          4G      Smartphone  FEMALE       Gampaha     40-50   \n",
       "3711          4G      Smartphone  FEMALE       Colombo     20-30   \n",
       "2789          2G   Feature phone    MALE       Badulla     40-50   \n",
       "5569          4G      Smartphone  FEMALE       Gampaha     30-40   \n",
       "3744          4G      Smartphone  FEMALE       Gampaha     30-40   \n",
       "714           2G           Basic    MALE      Kalutara     30-40   \n",
       "7060          4G      Smartphone    MALE        Jaffna     30-40   \n",
       "6213          4G      Smartphone  FEMALE      Puttalam       >70   \n",
       "\n",
       "      network_stay  average_monthly_bill_amount  dusage_sum  dusage_min  \\\n",
       "6155            39                       831.92       34164  425.700622   \n",
       "2288            93                      2677.35       11984    2.270360   \n",
       "9714            92                      2627.77       19830  114.694360   \n",
       "7157           158                      4795.76        8498   13.755560   \n",
       "738             51                      3978.40       36917  660.364806   \n",
       "490            133                      2582.98        6820   16.479900   \n",
       "467              9                       906.76        7652    0.043341   \n",
       "6161            32                      2148.93       10470   24.448140   \n",
       "1343            10                      2759.05       15901  102.143398   \n",
       "5792           198                      1069.44       13193   52.539788   \n",
       "9711           106                      2126.13        5165    0.000000   \n",
       "8101             5                       989.94       10032  342.528443   \n",
       "2582            10                       829.50       13010    0.000000   \n",
       "3711            53                      1010.39        2585    2.542772   \n",
       "2789           185                       745.14           0    0.000000   \n",
       "5569            88                      2090.50        4069   16.297462   \n",
       "3744             5                      1405.05        2094    2.217326   \n",
       "714             20                      1039.11           0    0.000000   \n",
       "7060           203                      3112.37        6446    0.000751   \n",
       "6213             9                       473.19           0    0.000000   \n",
       "\n",
       "       dusage_max  ...  vusage_sum  vusage_max  vusage_min  vusage_diff  \\\n",
       "6155  1789.252680  ...           5    3.600000           0     3.600000   \n",
       "2288  1055.490074  ...           0    0.000000           0     0.000000   \n",
       "9714  1129.623393  ...           0    0.000000           0     0.000000   \n",
       "7157   725.783259  ...         114   17.050000           0    17.050000   \n",
       "738   2735.215541  ...           0    0.000000           0     0.000000   \n",
       "490    766.500066  ...         330   66.483333           0    66.483333   \n",
       "467    958.006304  ...         104   17.700000           0    17.700000   \n",
       "6161  1649.124297  ...         376   43.866667           0    43.866667   \n",
       "1343  1233.143407  ...         111   20.950000           0    20.950000   \n",
       "5792  1733.798770  ...          31   13.333333           0    13.333333   \n",
       "9711   960.163307  ...           0    0.000000           0     0.000000   \n",
       "8101  1654.087762  ...           0    0.000000           0     0.000000   \n",
       "2582  1781.257216  ...           9    8.050000           0     8.050000   \n",
       "3711   485.774677  ...          81   11.833333           0    11.833333   \n",
       "2789     0.000000  ...          44    6.066667           0     6.066667   \n",
       "5569   477.574168  ...         299   33.616667           0    33.616667   \n",
       "3744   295.740664  ...         161   54.500000           0    54.500000   \n",
       "714      0.000000  ...          47   14.933333           0    14.933333   \n",
       "7060   887.345405  ...           5    3.450000           0     3.450000   \n",
       "6213     0.000000  ...          22   10.733333           0    10.733333   \n",
       "\n",
       "      vusage_days  vusage_avg  number_of_fixed_bb_accounts  \\\n",
       "6155            5    1.103333                            1   \n",
       "2288            0    0.000000                            0   \n",
       "9714            0    0.000000                            0   \n",
       "7157           22    5.197727                            0   \n",
       "738             0    0.000000                            0   \n",
       "490            18   18.367593                            0   \n",
       "467            27    3.873457                            0   \n",
       "6161           34   18.872667                            0   \n",
       "1343           19   12.399242                            0   \n",
       "5792            8    3.879167                            1   \n",
       "9711            0    0.000000                            0   \n",
       "8101            0    0.000000                            0   \n",
       "2582            2    4.900000                            0   \n",
       "3711           25    3.258667                            0   \n",
       "2789           21    2.099206                            0   \n",
       "5569           24   12.493750                            0   \n",
       "3744           13   12.434615                            0   \n",
       "714            20    2.356667                            0   \n",
       "7060            3    1.766667                            0   \n",
       "6213            9    2.475926                            0   \n",
       "\n",
       "      number_of_iptv_accounts  add_on_tot_rental  add_on_count  \n",
       "6155                        2                360             2  \n",
       "2288                        0                 -1             0  \n",
       "9714                        0                 -1             0  \n",
       "7157                        0                360             2  \n",
       "738                         0               1500             1  \n",
       "490                         1                650             1  \n",
       "467                         0                110             2  \n",
       "6161                        0                 -1             0  \n",
       "1343                        0                 -1             0  \n",
       "5792                        0                600             2  \n",
       "9711                        0                 40             1  \n",
       "8101                        0                520             3  \n",
       "2582                        0                410             2  \n",
       "3711                        0                200             1  \n",
       "2789                        1                 -1             0  \n",
       "5569                        0                  0             1  \n",
       "3744                        0                350             1  \n",
       "714                         1                 -1             0  \n",
       "7060                        0                800             3  \n",
       "6213                        0                 -1             0  \n",
       "\n",
       "[20 rows x 38 columns]"
      ]
     },
     "execution_count": 15,
     "metadata": {},
     "output_type": "execute_result"
    }
   ],
   "source": [
    "X_train.head(20)"
   ]
  },
  {
   "cell_type": "code",
   "execution_count": 16,
   "id": "preceding-findings",
   "metadata": {},
   "outputs": [
    {
     "data": {
      "text/plain": [
       "array(['60-70', '20-30', '40-50', '50-60', '30-40', '>70', 'Unknown',\n",
       "       '<20'], dtype=object)"
      ]
     },
     "execution_count": 16,
     "metadata": {},
     "output_type": "execute_result"
    }
   ],
   "source": [
    "X_train['age_group'].unique()"
   ]
  },
  {
   "cell_type": "code",
   "execution_count": 17,
   "id": "signal-contest",
   "metadata": {},
   "outputs": [
    {
     "data": {
      "text/plain": [
       "(9975, 38)"
      ]
     },
     "execution_count": 17,
     "metadata": {},
     "output_type": "execute_result"
    }
   ],
   "source": [
    "X_train.shape"
   ]
  },
  {
   "cell_type": "code",
   "execution_count": 18,
   "id": "musical-stability",
   "metadata": {},
   "outputs": [],
   "source": [
    "quan_pipeline = Pipeline([\n",
    "    ('std_scaler', RobustScaler())\n",
    "])\n",
    "\n",
    "quan_transformed = quan_pipeline.fit_transform(X_train[data_quan_cols])"
   ]
  },
  {
   "cell_type": "code",
   "execution_count": 19,
   "id": "breathing-integer",
   "metadata": {},
   "outputs": [],
   "source": [
    "data_pipeline = ColumnTransformer([\n",
    "    ('numerical', quan_pipeline, data_quan_cols),\n",
    "    ('categorical', OrdinalEncoder(), data_cat_cols),\n",
    "    \n",
    "])\n",
    "\n",
    "train_data_processed = data_pipeline.fit_transform(X_train)"
   ]
  },
  {
   "cell_type": "code",
   "execution_count": 20,
   "id": "attractive-seven",
   "metadata": {},
   "outputs": [
    {
     "data": {
      "text/plain": [
       "array([ 9.44881890e-02,  5.36438249e-01,  2.59987477e-01, -2.46300869e-03,\n",
       "        5.14737330e-02,  9.18799625e-02,  2.02782339e-01,  0.00000000e+00,\n",
       "        1.45573065e-01,  0.00000000e+00,  0.00000000e+00,  0.00000000e+00,\n",
       "        0.00000000e+00,  0.00000000e+00,  0.00000000e+00,  0.00000000e+00,\n",
       "       -2.00000000e-01, -3.26498423e-01,  0.00000000e+00, -3.26627219e-01,\n",
       "       -3.75000000e-01, -4.32542308e-01, -3.23931364e-01, -2.15686275e-01,\n",
       "       -3.37454060e-01,  0.00000000e+00, -3.37454060e-01, -3.52941176e-01,\n",
       "       -3.93286152e-01,  0.00000000e+00,  0.00000000e+00, -4.45676275e-01,\n",
       "       -5.00000000e-01,  2.00000000e+00,  4.00000000e+00,  1.00000000e+00,\n",
       "        1.00000000e+01,  0.00000000e+00])"
      ]
     },
     "execution_count": 20,
     "metadata": {},
     "output_type": "execute_result"
    }
   ],
   "source": [
    "train_data_processed[1]"
   ]
  },
  {
   "cell_type": "code",
   "execution_count": 21,
   "id": "light-unemployment",
   "metadata": {},
   "outputs": [
    {
     "data": {
      "text/html": [
       "<div>\n",
       "<style scoped>\n",
       "    .dataframe tbody tr th:only-of-type {\n",
       "        vertical-align: middle;\n",
       "    }\n",
       "\n",
       "    .dataframe tbody tr th {\n",
       "        vertical-align: top;\n",
       "    }\n",
       "\n",
       "    .dataframe thead th {\n",
       "        text-align: right;\n",
       "    }\n",
       "</style>\n",
       "<table border=\"1\" class=\"dataframe\">\n",
       "  <thead>\n",
       "    <tr style=\"text-align: right;\">\n",
       "      <th></th>\n",
       "      <th>device_type</th>\n",
       "      <th>device_category</th>\n",
       "      <th>gender</th>\n",
       "      <th>district_name</th>\n",
       "      <th>age_group</th>\n",
       "      <th>network_stay</th>\n",
       "      <th>average_monthly_bill_amount</th>\n",
       "      <th>dusage_sum</th>\n",
       "      <th>dusage_min</th>\n",
       "      <th>dusage_max</th>\n",
       "      <th>...</th>\n",
       "      <th>vusage_sum</th>\n",
       "      <th>vusage_max</th>\n",
       "      <th>vusage_min</th>\n",
       "      <th>vusage_diff</th>\n",
       "      <th>vusage_days</th>\n",
       "      <th>vusage_avg</th>\n",
       "      <th>number_of_fixed_bb_accounts</th>\n",
       "      <th>number_of_iptv_accounts</th>\n",
       "      <th>add_on_tot_rental</th>\n",
       "      <th>add_on_count</th>\n",
       "    </tr>\n",
       "  </thead>\n",
       "  <tbody>\n",
       "    <tr>\n",
       "      <th>231</th>\n",
       "      <td>4G</td>\n",
       "      <td>Smartphone</td>\n",
       "      <td>FEMALE</td>\n",
       "      <td>Colombo</td>\n",
       "      <td>30-40</td>\n",
       "      <td>11</td>\n",
       "      <td>1716.27</td>\n",
       "      <td>12647</td>\n",
       "      <td>0.000000</td>\n",
       "      <td>1875.519728</td>\n",
       "      <td>...</td>\n",
       "      <td>13</td>\n",
       "      <td>10.366667</td>\n",
       "      <td>0</td>\n",
       "      <td>10.366667</td>\n",
       "      <td>4</td>\n",
       "      <td>3.395833</td>\n",
       "      <td>0</td>\n",
       "      <td>0</td>\n",
       "      <td>250</td>\n",
       "      <td>1</td>\n",
       "    </tr>\n",
       "    <tr>\n",
       "      <th>9966</th>\n",
       "      <td>4G</td>\n",
       "      <td>Smartphone</td>\n",
       "      <td>MALE</td>\n",
       "      <td>Ratnapura</td>\n",
       "      <td>20-30</td>\n",
       "      <td>9</td>\n",
       "      <td>985.32</td>\n",
       "      <td>1089</td>\n",
       "      <td>0.000000</td>\n",
       "      <td>267.741177</td>\n",
       "      <td>...</td>\n",
       "      <td>30</td>\n",
       "      <td>5.850000</td>\n",
       "      <td>0</td>\n",
       "      <td>5.850000</td>\n",
       "      <td>11</td>\n",
       "      <td>2.775758</td>\n",
       "      <td>0</td>\n",
       "      <td>0</td>\n",
       "      <td>-1</td>\n",
       "      <td>0</td>\n",
       "    </tr>\n",
       "    <tr>\n",
       "      <th>486</th>\n",
       "      <td>4G</td>\n",
       "      <td>Smartphone</td>\n",
       "      <td>MALE</td>\n",
       "      <td>Gampaha</td>\n",
       "      <td>40-50</td>\n",
       "      <td>108</td>\n",
       "      <td>3518.42</td>\n",
       "      <td>22732</td>\n",
       "      <td>0.000000</td>\n",
       "      <td>1351.566897</td>\n",
       "      <td>...</td>\n",
       "      <td>113</td>\n",
       "      <td>44.533333</td>\n",
       "      <td>0</td>\n",
       "      <td>44.533333</td>\n",
       "      <td>4</td>\n",
       "      <td>28.425000</td>\n",
       "      <td>0</td>\n",
       "      <td>0</td>\n",
       "      <td>760</td>\n",
       "      <td>2</td>\n",
       "    </tr>\n",
       "    <tr>\n",
       "      <th>9686</th>\n",
       "      <td>4G</td>\n",
       "      <td>Smartphone</td>\n",
       "      <td>MALE</td>\n",
       "      <td>Colombo</td>\n",
       "      <td>30-40</td>\n",
       "      <td>34</td>\n",
       "      <td>2559.86</td>\n",
       "      <td>14666</td>\n",
       "      <td>96.475040</td>\n",
       "      <td>1160.861369</td>\n",
       "      <td>...</td>\n",
       "      <td>0</td>\n",
       "      <td>0.000000</td>\n",
       "      <td>0</td>\n",
       "      <td>0.000000</td>\n",
       "      <td>0</td>\n",
       "      <td>0.000000</td>\n",
       "      <td>0</td>\n",
       "      <td>0</td>\n",
       "      <td>-1</td>\n",
       "      <td>0</td>\n",
       "    </tr>\n",
       "    <tr>\n",
       "      <th>6310</th>\n",
       "      <td>4G</td>\n",
       "      <td>Smartphone</td>\n",
       "      <td>FEMALE</td>\n",
       "      <td>Trincomalee</td>\n",
       "      <td>30-40</td>\n",
       "      <td>24</td>\n",
       "      <td>1802.86</td>\n",
       "      <td>31567</td>\n",
       "      <td>521.592238</td>\n",
       "      <td>1672.417785</td>\n",
       "      <td>...</td>\n",
       "      <td>52</td>\n",
       "      <td>24.683333</td>\n",
       "      <td>0</td>\n",
       "      <td>24.683333</td>\n",
       "      <td>12</td>\n",
       "      <td>4.397222</td>\n",
       "      <td>0</td>\n",
       "      <td>0</td>\n",
       "      <td>450</td>\n",
       "      <td>2</td>\n",
       "    </tr>\n",
       "  </tbody>\n",
       "</table>\n",
       "<p>5 rows × 38 columns</p>\n",
       "</div>"
      ],
      "text/plain": [
       "     device_type device_category  gender district_name age_group  \\\n",
       "231           4G      Smartphone  FEMALE       Colombo     30-40   \n",
       "9966          4G      Smartphone    MALE     Ratnapura     20-30   \n",
       "486           4G      Smartphone    MALE       Gampaha     40-50   \n",
       "9686          4G      Smartphone    MALE       Colombo     30-40   \n",
       "6310          4G      Smartphone  FEMALE   Trincomalee     30-40   \n",
       "\n",
       "      network_stay  average_monthly_bill_amount  dusage_sum  dusage_min  \\\n",
       "231             11                      1716.27       12647    0.000000   \n",
       "9966             9                       985.32        1089    0.000000   \n",
       "486            108                      3518.42       22732    0.000000   \n",
       "9686            34                      2559.86       14666   96.475040   \n",
       "6310            24                      1802.86       31567  521.592238   \n",
       "\n",
       "       dusage_max  ...  vusage_sum  vusage_max  vusage_min  vusage_diff  \\\n",
       "231   1875.519728  ...          13   10.366667           0    10.366667   \n",
       "9966   267.741177  ...          30    5.850000           0     5.850000   \n",
       "486   1351.566897  ...         113   44.533333           0    44.533333   \n",
       "9686  1160.861369  ...           0    0.000000           0     0.000000   \n",
       "6310  1672.417785  ...          52   24.683333           0    24.683333   \n",
       "\n",
       "      vusage_days  vusage_avg  number_of_fixed_bb_accounts  \\\n",
       "231             4    3.395833                            0   \n",
       "9966           11    2.775758                            0   \n",
       "486             4   28.425000                            0   \n",
       "9686            0    0.000000                            0   \n",
       "6310           12    4.397222                            0   \n",
       "\n",
       "      number_of_iptv_accounts  add_on_tot_rental  add_on_count  \n",
       "231                         0                250             1  \n",
       "9966                        0                 -1             0  \n",
       "486                         0                760             2  \n",
       "9686                        0                 -1             0  \n",
       "6310                        0                450             2  \n",
       "\n",
       "[5 rows x 38 columns]"
      ]
     },
     "execution_count": 21,
     "metadata": {},
     "output_type": "execute_result"
    }
   ],
   "source": [
    "X_test.head()"
   ]
  },
  {
   "cell_type": "code",
   "execution_count": 22,
   "id": "focused-milton",
   "metadata": {},
   "outputs": [
    {
     "data": {
      "text/plain": [
       "Index(['device_type', 'device_category', 'gender', 'district_name',\n",
       "       'age_group', 'network_stay', 'average_monthly_bill_amount',\n",
       "       'dusage_sum', 'dusage_min', 'dusage_max', 'dusage_diff', 'dusage_avg',\n",
       "       'dusage_days', 'dusage_stddev', 'vusage_onnet_sum', 'vusage_onnet_max',\n",
       "       'vusage_onnet_min', 'vusage_onnet_diff', 'vusage_onnet_days',\n",
       "       'vusage_onnet_avg', 'vusage_onnet_stddev', 'vusage_offnet_sum',\n",
       "       'vusage_offnet_max', 'vusage_offnet_min', 'vusage_offnet_diff',\n",
       "       'vusage_offnet_days', 'vusage_offnet_avg', 'vusage_offnet_stddev',\n",
       "       'vusage_sum', 'vusage_max', 'vusage_min', 'vusage_diff', 'vusage_days',\n",
       "       'vusage_avg', 'number_of_fixed_bb_accounts', 'number_of_iptv_accounts',\n",
       "       'add_on_tot_rental', 'add_on_count'],\n",
       "      dtype='object')"
      ]
     },
     "execution_count": 22,
     "metadata": {},
     "output_type": "execute_result"
    }
   ],
   "source": [
    "X_train.columns"
   ]
  },
  {
   "cell_type": "code",
   "execution_count": 23,
   "id": "hollywood-conviction",
   "metadata": {},
   "outputs": [
    {
     "name": "stdout",
     "output_type": "stream",
     "text": [
      "<class 'pandas.core.frame.DataFrame'>\n",
      "Int64Index: 525 entries, 231 to 229\n",
      "Data columns (total 38 columns):\n",
      " #   Column                       Non-Null Count  Dtype  \n",
      "---  ------                       --------------  -----  \n",
      " 0   device_type                  525 non-null    object \n",
      " 1   device_category              525 non-null    object \n",
      " 2   gender                       525 non-null    object \n",
      " 3   district_name                525 non-null    object \n",
      " 4   age_group                    525 non-null    object \n",
      " 5   network_stay                 525 non-null    int64  \n",
      " 6   average_monthly_bill_amount  525 non-null    float64\n",
      " 7   dusage_sum                   525 non-null    int64  \n",
      " 8   dusage_min                   525 non-null    float64\n",
      " 9   dusage_max                   525 non-null    float64\n",
      " 10  dusage_diff                  525 non-null    float64\n",
      " 11  dusage_avg                   525 non-null    float64\n",
      " 12  dusage_days                  525 non-null    int64  \n",
      " 13  dusage_stddev                525 non-null    float64\n",
      " 14  vusage_onnet_sum             525 non-null    int64  \n",
      " 15  vusage_onnet_max             525 non-null    float64\n",
      " 16  vusage_onnet_min             525 non-null    int64  \n",
      " 17  vusage_onnet_diff            525 non-null    float64\n",
      " 18  vusage_onnet_days            525 non-null    int64  \n",
      " 19  vusage_onnet_avg             525 non-null    float64\n",
      " 20  vusage_onnet_stddev          525 non-null    float64\n",
      " 21  vusage_offnet_sum            525 non-null    int64  \n",
      " 22  vusage_offnet_max            525 non-null    float64\n",
      " 23  vusage_offnet_min            525 non-null    float64\n",
      " 24  vusage_offnet_diff           525 non-null    float64\n",
      " 25  vusage_offnet_days           525 non-null    int64  \n",
      " 26  vusage_offnet_avg            525 non-null    float64\n",
      " 27  vusage_offnet_stddev         525 non-null    float64\n",
      " 28  vusage_sum                   525 non-null    int64  \n",
      " 29  vusage_max                   525 non-null    float64\n",
      " 30  vusage_min                   525 non-null    int64  \n",
      " 31  vusage_diff                  525 non-null    float64\n",
      " 32  vusage_days                  525 non-null    int64  \n",
      " 33  vusage_avg                   525 non-null    float64\n",
      " 34  number_of_fixed_bb_accounts  525 non-null    int64  \n",
      " 35  number_of_iptv_accounts      525 non-null    int64  \n",
      " 36  add_on_tot_rental            525 non-null    int64  \n",
      " 37  add_on_count                 525 non-null    int64  \n",
      "dtypes: float64(18), int64(15), object(5)\n",
      "memory usage: 160.0+ KB\n"
     ]
    }
   ],
   "source": [
    "X_test.info()"
   ]
  },
  {
   "cell_type": "code",
   "execution_count": 24,
   "id": "treated-millennium",
   "metadata": {},
   "outputs": [],
   "source": [
    "test_data_processed = data_pipeline.transform(X_test)"
   ]
  },
  {
   "cell_type": "code",
   "execution_count": 25,
   "id": "willing-roller",
   "metadata": {},
   "outputs": [
    {
     "data": {
      "text/plain": [
       "array([-0.5511811 , -0.04037991,  0.30150282, -0.03786963,  0.60829292,\n",
       "        0.69580789,  0.68906446, -2.2       ,  1.07049724,  0.        ,\n",
       "        0.        ,  0.        ,  0.        ,  0.        ,  0.        ,\n",
       "        0.        , -0.04705882,  0.16403786,  0.        ,  0.16410256,\n",
       "       -0.125     ,  0.14406906,  0.06531578, -0.08823529,  0.07818243,\n",
       "        0.        ,  0.07818243, -0.11764706,  0.0266005 ,  0.        ,\n",
       "        0.        ,  0.11086475,  0.        ,  2.        ,  4.        ,\n",
       "        0.        ,  4.        ,  1.        ])"
      ]
     },
     "execution_count": 25,
     "metadata": {},
     "output_type": "execute_result"
    }
   ],
   "source": [
    "test_data_processed[0]"
   ]
  },
  {
   "cell_type": "markdown",
   "id": "muslim-straight",
   "metadata": {},
   "source": [
    "### Loading Submission data"
   ]
  },
  {
   "cell_type": "code",
   "execution_count": 26,
   "id": "continued-mention",
   "metadata": {},
   "outputs": [],
   "source": [
    "submission_data = pd.read_csv(\"../data/test_dataset_v2_19.csv\")"
   ]
  },
  {
   "cell_type": "code",
   "execution_count": 27,
   "id": "dying-painting",
   "metadata": {},
   "outputs": [
    {
     "data": {
      "text/html": [
       "<div>\n",
       "<style scoped>\n",
       "    .dataframe tbody tr th:only-of-type {\n",
       "        vertical-align: middle;\n",
       "    }\n",
       "\n",
       "    .dataframe tbody tr th {\n",
       "        vertical-align: top;\n",
       "    }\n",
       "\n",
       "    .dataframe thead th {\n",
       "        text-align: right;\n",
       "    }\n",
       "</style>\n",
       "<table border=\"1\" class=\"dataframe\">\n",
       "  <thead>\n",
       "    <tr style=\"text-align: right;\">\n",
       "      <th></th>\n",
       "      <th>primary_identifier</th>\n",
       "      <th>device_type</th>\n",
       "      <th>device_category</th>\n",
       "      <th>gender</th>\n",
       "      <th>district_name</th>\n",
       "      <th>age_group</th>\n",
       "      <th>network_stay</th>\n",
       "      <th>average_monthly_bill_amount</th>\n",
       "      <th>dusage_sum</th>\n",
       "      <th>dusage_min</th>\n",
       "      <th>...</th>\n",
       "      <th>vusage_sum</th>\n",
       "      <th>vusage_max</th>\n",
       "      <th>vusage_min</th>\n",
       "      <th>vusage_diff</th>\n",
       "      <th>vusage_days</th>\n",
       "      <th>vusage_avg</th>\n",
       "      <th>number_of_fixed_bb_accounts</th>\n",
       "      <th>number_of_iptv_accounts</th>\n",
       "      <th>add_on_tot_rental</th>\n",
       "      <th>add_on_count</th>\n",
       "    </tr>\n",
       "  </thead>\n",
       "  <tbody>\n",
       "    <tr>\n",
       "      <th>0</th>\n",
       "      <td>2003793</td>\n",
       "      <td>4G</td>\n",
       "      <td>Smartphone</td>\n",
       "      <td>MALE</td>\n",
       "      <td>Colombo</td>\n",
       "      <td>40-50</td>\n",
       "      <td>4</td>\n",
       "      <td>689.42</td>\n",
       "      <td>148</td>\n",
       "      <td>0.000000</td>\n",
       "      <td>...</td>\n",
       "      <td>0</td>\n",
       "      <td>0.000000</td>\n",
       "      <td>0</td>\n",
       "      <td>0.000000</td>\n",
       "      <td>0</td>\n",
       "      <td>0.000000</td>\n",
       "      <td>0</td>\n",
       "      <td>1</td>\n",
       "      <td>-1</td>\n",
       "      <td>0</td>\n",
       "    </tr>\n",
       "    <tr>\n",
       "      <th>1</th>\n",
       "      <td>1776101</td>\n",
       "      <td>4G</td>\n",
       "      <td>Smartphone</td>\n",
       "      <td>MALE</td>\n",
       "      <td>Colombo</td>\n",
       "      <td>40-50</td>\n",
       "      <td>7</td>\n",
       "      <td>799.93</td>\n",
       "      <td>300</td>\n",
       "      <td>0.180222</td>\n",
       "      <td>...</td>\n",
       "      <td>107</td>\n",
       "      <td>16.266667</td>\n",
       "      <td>0</td>\n",
       "      <td>16.266667</td>\n",
       "      <td>21</td>\n",
       "      <td>5.107143</td>\n",
       "      <td>0</td>\n",
       "      <td>0</td>\n",
       "      <td>-1</td>\n",
       "      <td>0</td>\n",
       "    </tr>\n",
       "    <tr>\n",
       "      <th>2</th>\n",
       "      <td>6945050</td>\n",
       "      <td>2G</td>\n",
       "      <td>Basic</td>\n",
       "      <td>MALE</td>\n",
       "      <td>Colombo</td>\n",
       "      <td>20-30</td>\n",
       "      <td>20</td>\n",
       "      <td>1538.45</td>\n",
       "      <td>8215</td>\n",
       "      <td>0.000000</td>\n",
       "      <td>...</td>\n",
       "      <td>108</td>\n",
       "      <td>90.000000</td>\n",
       "      <td>0</td>\n",
       "      <td>90.000000</td>\n",
       "      <td>8</td>\n",
       "      <td>13.558333</td>\n",
       "      <td>0</td>\n",
       "      <td>0</td>\n",
       "      <td>110</td>\n",
       "      <td>2</td>\n",
       "    </tr>\n",
       "    <tr>\n",
       "      <th>3</th>\n",
       "      <td>2472049</td>\n",
       "      <td>4G</td>\n",
       "      <td>Smartphone</td>\n",
       "      <td>FEMALE</td>\n",
       "      <td>Matara</td>\n",
       "      <td>40-50</td>\n",
       "      <td>10</td>\n",
       "      <td>995.75</td>\n",
       "      <td>11613</td>\n",
       "      <td>0.000000</td>\n",
       "      <td>...</td>\n",
       "      <td>0</td>\n",
       "      <td>0.416667</td>\n",
       "      <td>0</td>\n",
       "      <td>0.416667</td>\n",
       "      <td>2</td>\n",
       "      <td>0.333333</td>\n",
       "      <td>0</td>\n",
       "      <td>0</td>\n",
       "      <td>-1</td>\n",
       "      <td>0</td>\n",
       "    </tr>\n",
       "    <tr>\n",
       "      <th>4</th>\n",
       "      <td>7197266</td>\n",
       "      <td>4G</td>\n",
       "      <td>Smartphone</td>\n",
       "      <td>MALE</td>\n",
       "      <td>Kandy</td>\n",
       "      <td>30-40</td>\n",
       "      <td>154</td>\n",
       "      <td>553.61</td>\n",
       "      <td>26505</td>\n",
       "      <td>28.515345</td>\n",
       "      <td>...</td>\n",
       "      <td>0</td>\n",
       "      <td>0.000000</td>\n",
       "      <td>0</td>\n",
       "      <td>0.000000</td>\n",
       "      <td>0</td>\n",
       "      <td>0.000000</td>\n",
       "      <td>0</td>\n",
       "      <td>0</td>\n",
       "      <td>350</td>\n",
       "      <td>1</td>\n",
       "    </tr>\n",
       "  </tbody>\n",
       "</table>\n",
       "<p>5 rows × 39 columns</p>\n",
       "</div>"
      ],
      "text/plain": [
       "   primary_identifier device_type device_category  gender district_name  \\\n",
       "0             2003793          4G      Smartphone    MALE       Colombo   \n",
       "1             1776101          4G      Smartphone    MALE       Colombo   \n",
       "2             6945050          2G           Basic    MALE       Colombo   \n",
       "3             2472049          4G      Smartphone  FEMALE        Matara   \n",
       "4             7197266          4G      Smartphone    MALE         Kandy   \n",
       "\n",
       "  age_group  network_stay  average_monthly_bill_amount  dusage_sum  \\\n",
       "0     40-50             4                       689.42         148   \n",
       "1     40-50             7                       799.93         300   \n",
       "2     20-30            20                      1538.45        8215   \n",
       "3     40-50            10                       995.75       11613   \n",
       "4     30-40           154                       553.61       26505   \n",
       "\n",
       "   dusage_min  ...  vusage_sum  vusage_max  vusage_min  vusage_diff  \\\n",
       "0    0.000000  ...           0    0.000000           0     0.000000   \n",
       "1    0.180222  ...         107   16.266667           0    16.266667   \n",
       "2    0.000000  ...         108   90.000000           0    90.000000   \n",
       "3    0.000000  ...           0    0.416667           0     0.416667   \n",
       "4   28.515345  ...           0    0.000000           0     0.000000   \n",
       "\n",
       "   vusage_days  vusage_avg  number_of_fixed_bb_accounts  \\\n",
       "0            0    0.000000                            0   \n",
       "1           21    5.107143                            0   \n",
       "2            8   13.558333                            0   \n",
       "3            2    0.333333                            0   \n",
       "4            0    0.000000                            0   \n",
       "\n",
       "   number_of_iptv_accounts  add_on_tot_rental  add_on_count  \n",
       "0                        1                 -1             0  \n",
       "1                        0                 -1             0  \n",
       "2                        0                110             2  \n",
       "3                        0                 -1             0  \n",
       "4                        0                350             1  \n",
       "\n",
       "[5 rows x 39 columns]"
      ]
     },
     "execution_count": 27,
     "metadata": {},
     "output_type": "execute_result"
    }
   ],
   "source": [
    "submission_data.head()"
   ]
  },
  {
   "cell_type": "markdown",
   "id": "ethical-witch",
   "metadata": {},
   "source": [
    "## Handling missing values in submission data"
   ]
  },
  {
   "cell_type": "code",
   "execution_count": null,
   "id": "funny-register",
   "metadata": {},
   "outputs": [],
   "source": [
    "submission_data.info()"
   ]
  },
  {
   "cell_type": "code",
   "execution_count": null,
   "id": "cleared-formula",
   "metadata": {},
   "outputs": [],
   "source": [
    "submission_data['device_category'].unique()"
   ]
  },
  {
   "cell_type": "code",
   "execution_count": null,
   "id": "nervous-attack",
   "metadata": {},
   "outputs": [],
   "source": [
    "submission_data['device_type'] = submission_data['device_type'].fillna(value = 'Unknown')\n",
    "submission_data['device_category'] = submission_data['device_category'].fillna(value = 'Unknown')\n",
    "submission_data['gender'] = submission_data['gender'].fillna(value = 'Unknown')\n",
    "submission_data['age_group'] = submission_data['age_group'].fillna(value = 'Unknown')"
   ]
  },
  {
   "cell_type": "code",
   "execution_count": null,
   "id": "motivated-strip",
   "metadata": {},
   "outputs": [],
   "source": [
    "submission_data['dusage_avg'] = submission_data['dusage_avg'].fillna(value = 0)\n",
    "submission_data['vusage_offnet_avg'] = submission_data['vusage_offnet_avg'].fillna(value = 0)\n",
    "submission_data['add_on_tot_rental'] = submission_data['add_on_tot_rental'].fillna(value = -1)\n",
    "submission_data['add_on_count'] = submission_data['add_on_count'].fillna(value = 0)\n",
    "submission_data['vusage_onnet_avg'] = submission_data['vusage_onnet_avg'].fillna(value = 0)"
   ]
  },
  {
   "cell_type": "code",
   "execution_count": 28,
   "id": "general-conjunction",
   "metadata": {},
   "outputs": [
    {
     "name": "stdout",
     "output_type": "stream",
     "text": [
      "<class 'pandas.core.frame.DataFrame'>\n",
      "RangeIndex: 4500 entries, 0 to 4499\n",
      "Data columns (total 39 columns):\n",
      " #   Column                       Non-Null Count  Dtype  \n",
      "---  ------                       --------------  -----  \n",
      " 0   primary_identifier           4500 non-null   int64  \n",
      " 1   device_type                  4500 non-null   object \n",
      " 2   device_category              4500 non-null   object \n",
      " 3   gender                       4500 non-null   object \n",
      " 4   district_name                4500 non-null   object \n",
      " 5   age_group                    4500 non-null   object \n",
      " 6   network_stay                 4500 non-null   int64  \n",
      " 7   average_monthly_bill_amount  4500 non-null   float64\n",
      " 8   dusage_sum                   4500 non-null   int64  \n",
      " 9   dusage_min                   4500 non-null   float64\n",
      " 10  dusage_max                   4500 non-null   float64\n",
      " 11  dusage_diff                  4500 non-null   float64\n",
      " 12  dusage_avg                   4500 non-null   float64\n",
      " 13  dusage_days                  4500 non-null   int64  \n",
      " 14  dusage_stddev                4500 non-null   float64\n",
      " 15  vusage_onnet_sum             4500 non-null   int64  \n",
      " 16  vusage_onnet_max             4500 non-null   float64\n",
      " 17  vusage_onnet_min             4500 non-null   float64\n",
      " 18  vusage_onnet_diff            4500 non-null   float64\n",
      " 19  vusage_onnet_days            4500 non-null   int64  \n",
      " 20  vusage_onnet_avg             4500 non-null   float64\n",
      " 21  vusage_onnet_stddev          4500 non-null   float64\n",
      " 22  vusage_offnet_sum            4500 non-null   int64  \n",
      " 23  vusage_offnet_max            4500 non-null   float64\n",
      " 24  vusage_offnet_min            4500 non-null   float64\n",
      " 25  vusage_offnet_diff           4500 non-null   float64\n",
      " 26  vusage_offnet_days           4500 non-null   int64  \n",
      " 27  vusage_offnet_avg            4500 non-null   float64\n",
      " 28  vusage_offnet_stddev         4500 non-null   float64\n",
      " 29  vusage_sum                   4500 non-null   int64  \n",
      " 30  vusage_max                   4500 non-null   float64\n",
      " 31  vusage_min                   4500 non-null   int64  \n",
      " 32  vusage_diff                  4500 non-null   float64\n",
      " 33  vusage_days                  4500 non-null   int64  \n",
      " 34  vusage_avg                   4500 non-null   float64\n",
      " 35  number_of_fixed_bb_accounts  4500 non-null   int64  \n",
      " 36  number_of_iptv_accounts      4500 non-null   int64  \n",
      " 37  add_on_tot_rental            4500 non-null   int64  \n",
      " 38  add_on_count                 4500 non-null   int64  \n",
      "dtypes: float64(19), int64(15), object(5)\n",
      "memory usage: 1.3+ MB\n"
     ]
    }
   ],
   "source": [
    "submission_data.info()"
   ]
  },
  {
   "cell_type": "code",
   "execution_count": 29,
   "id": "hungarian-exclusive",
   "metadata": {},
   "outputs": [],
   "source": [
    "prim_id = submission_data['primary_identifier']"
   ]
  },
  {
   "cell_type": "code",
   "execution_count": 30,
   "id": "extraordinary-newsletter",
   "metadata": {},
   "outputs": [
    {
     "data": {
      "text/plain": [
       "(4500, 39)"
      ]
     },
     "execution_count": 30,
     "metadata": {},
     "output_type": "execute_result"
    }
   ],
   "source": [
    "submission_data.shape"
   ]
  },
  {
   "cell_type": "code",
   "execution_count": 31,
   "id": "baking-province",
   "metadata": {},
   "outputs": [],
   "source": [
    "submission_X = submission_data.drop(columns=['primary_identifier'])"
   ]
  },
  {
   "cell_type": "code",
   "execution_count": 32,
   "id": "detected-glenn",
   "metadata": {},
   "outputs": [
    {
     "data": {
      "text/plain": [
       "(4500, 38)"
      ]
     },
     "execution_count": 32,
     "metadata": {},
     "output_type": "execute_result"
    }
   ],
   "source": [
    "submission_X.shape"
   ]
  },
  {
   "cell_type": "markdown",
   "id": "recreational-pickup",
   "metadata": {},
   "source": [
    "## Pre-processing the submission data"
   ]
  },
  {
   "cell_type": "code",
   "execution_count": 33,
   "id": "assumed-senegal",
   "metadata": {},
   "outputs": [],
   "source": [
    "submission_data_processed = data_pipeline.transform(submission_X)"
   ]
  },
  {
   "cell_type": "code",
   "execution_count": 34,
   "id": "periodic-yugoslavia",
   "metadata": {},
   "outputs": [
    {
     "data": {
      "text/plain": [
       "(38,)"
      ]
     },
     "execution_count": 34,
     "metadata": {},
     "output_type": "execute_result"
    }
   ],
   "source": [
    "submission_data_processed[0].shape"
   ]
  },
  {
   "cell_type": "code",
   "execution_count": 35,
   "id": "sitting-telling",
   "metadata": {},
   "outputs": [
    {
     "data": {
      "text/plain": [
       "array([-0.60629921, -0.65667172, -0.48115216, -0.03786963, -0.56463354,\n",
       "       -0.57283961, -0.4593038 , -5.2       , -0.57999961,  0.        ,\n",
       "        0.        ,  0.        ,  0.        ,  0.        ,  0.        ,\n",
       "        0.        , -0.2       , -0.32649842,  0.        , -0.32662722,\n",
       "       -0.375     , -0.43254231, -0.32393136, -0.21568627, -0.33745406,\n",
       "        0.        , -0.33745406, -0.35294118, -0.39328615,  0.        ,\n",
       "        1.        , -0.44567627, -0.5       ,  2.        ,  4.        ,\n",
       "        1.        ,  4.        ,  2.        ])"
      ]
     },
     "execution_count": 35,
     "metadata": {},
     "output_type": "execute_result"
    }
   ],
   "source": [
    "submission_data_processed[0]"
   ]
  },
  {
   "cell_type": "markdown",
   "id": "empirical-excellence",
   "metadata": {},
   "source": [
    "## Model Code"
   ]
  },
  {
   "cell_type": "code",
   "execution_count": 36,
   "id": "toxic-ideal",
   "metadata": {},
   "outputs": [
    {
     "data": {
      "text/plain": [
       "{1: 3490, 2: 1286, 3: 1631, 4: 698, 5: 1480, 6: 703, 7: 346, 8: 341}"
      ]
     },
     "execution_count": 36,
     "metadata": {},
     "output_type": "execute_result"
    }
   ],
   "source": [
    "unique, counts = np.unique(Y_train, return_counts=True)\n",
    "dict(zip(unique, counts))"
   ]
  },
  {
   "cell_type": "code",
   "execution_count": 37,
   "id": "informational-alloy",
   "metadata": {},
   "outputs": [],
   "source": [
    "strategy = {\n",
    "    1: 3490,\n",
    "    2: 1250,\n",
    "    3: 1600,\n",
    "    4: 698,\n",
    "    5: 1450,\n",
    "    6: 700,\n",
    "    7: 346,\n",
    "    8: 341\n",
    "}"
   ]
  },
  {
   "cell_type": "code",
   "execution_count": 38,
   "id": "missing-congress",
   "metadata": {},
   "outputs": [],
   "source": [
    "undersample = NearMiss(sampling_strategy=strategy,n_neighbors=2)"
   ]
  },
  {
   "cell_type": "code",
   "execution_count": 39,
   "id": "photographic-hawaiian",
   "metadata": {},
   "outputs": [],
   "source": [
    "X_near , y_near = undersample.fit_resample(train_data_processed,Y_train)"
   ]
  },
  {
   "cell_type": "code",
   "execution_count": 40,
   "id": "registered-armenia",
   "metadata": {},
   "outputs": [
    {
     "data": {
      "text/plain": [
       "{1: 3490, 2: 1250, 3: 1600, 4: 698, 5: 1450, 6: 700, 7: 346, 8: 341}"
      ]
     },
     "execution_count": 40,
     "metadata": {},
     "output_type": "execute_result"
    }
   ],
   "source": [
    "unique, counts = np.unique(y_near, return_counts=True)\n",
    "dict(zip(unique, counts))"
   ]
  },
  {
   "cell_type": "code",
   "execution_count": 41,
   "id": "about-breathing",
   "metadata": {},
   "outputs": [],
   "source": [
    "os_count = 4000"
   ]
  },
  {
   "cell_type": "code",
   "execution_count": 42,
   "id": "moral-relation",
   "metadata": {},
   "outputs": [],
   "source": [
    "strategy_os = {\n",
    "    1: 3490,\n",
    "    2: 1500,\n",
    "    3: 1900,\n",
    "    4: 900,\n",
    "    5: 1800,\n",
    "    6: 1000,\n",
    "    7: 600,\n",
    "    8: 600\n",
    "}"
   ]
  },
  {
   "cell_type": "code",
   "execution_count": 43,
   "id": "weighted-thread",
   "metadata": {},
   "outputs": [],
   "source": [
    "from imblearn.over_sampling import SMOTE\n",
    "sm = SMOTE(random_state=42, sampling_strategy = strategy_os)\n",
    "X_res, y_res = sm.fit_resample(train_data_processed, Y_train)"
   ]
  },
  {
   "cell_type": "code",
   "execution_count": 44,
   "id": "whole-picking",
   "metadata": {},
   "outputs": [
    {
     "data": {
      "text/plain": [
       "{1: 3490, 2: 1500, 3: 1900, 4: 900, 5: 1800, 6: 1000, 7: 600, 8: 600}"
      ]
     },
     "execution_count": 44,
     "metadata": {},
     "output_type": "execute_result"
    }
   ],
   "source": [
    "unique, counts = np.unique(y_res, return_counts=True)\n",
    "dict(zip(unique, counts))"
   ]
  },
  {
   "cell_type": "code",
   "execution_count": 45,
   "id": "permanent-anderson",
   "metadata": {},
   "outputs": [
    {
     "data": {
      "text/plain": [
       "(11790, 38)"
      ]
     },
     "execution_count": 45,
     "metadata": {},
     "output_type": "execute_result"
    }
   ],
   "source": [
    "X_res.shape"
   ]
  },
  {
   "cell_type": "markdown",
   "id": "written-illustration",
   "metadata": {},
   "source": [
    "### Decision Trees"
   ]
  },
  {
   "cell_type": "code",
   "execution_count": 46,
   "id": "warming-technician",
   "metadata": {},
   "outputs": [],
   "source": [
    "model_dec_tree = DecisionTreeClassifier(class_weight='balanced')"
   ]
  },
  {
   "cell_type": "code",
   "execution_count": 47,
   "id": "blessed-leave",
   "metadata": {},
   "outputs": [
    {
     "data": {
      "text/plain": [
       "DecisionTreeClassifier(class_weight='balanced')"
      ]
     },
     "execution_count": 47,
     "metadata": {},
     "output_type": "execute_result"
    }
   ],
   "source": [
    "model_dec_tree.fit(X_res, y_res)"
   ]
  },
  {
   "cell_type": "code",
   "execution_count": 48,
   "id": "cleared-enclosure",
   "metadata": {},
   "outputs": [],
   "source": [
    "y_pred_dec_tree = model_dec_tree.predict(test_data_processed)"
   ]
  },
  {
   "cell_type": "code",
   "execution_count": 49,
   "id": "narrow-ballet",
   "metadata": {},
   "outputs": [
    {
     "name": "stdout",
     "output_type": "stream",
     "text": [
      "              precision    recall  f1-score   support\n",
      "\n",
      "           1       0.67      0.64      0.66       183\n",
      "           2       0.18      0.19      0.19        68\n",
      "           3       0.35      0.34      0.35        86\n",
      "           4       0.19      0.22      0.20        37\n",
      "           5       0.62      0.54      0.58        78\n",
      "           6       0.31      0.35      0.33        37\n",
      "           7       0.18      0.17      0.17        18\n",
      "           8       0.36      0.50      0.42        18\n",
      "\n",
      "    accuracy                           0.45       525\n",
      "   macro avg       0.36      0.37      0.36       525\n",
      "weighted avg       0.46      0.45      0.45       525\n",
      "\n"
     ]
    }
   ],
   "source": [
    "print(classification_report(Y_test, y_pred_dec_tree))"
   ]
  },
  {
   "cell_type": "markdown",
   "id": "fatal-paragraph",
   "metadata": {},
   "source": [
    "### Random Forests"
   ]
  },
  {
   "cell_type": "code",
   "execution_count": 50,
   "id": "czech-secret",
   "metadata": {},
   "outputs": [],
   "source": [
    "model_ran_for = RandomForestClassifier(class_weight='balanced')"
   ]
  },
  {
   "cell_type": "code",
   "execution_count": 51,
   "id": "advanced-apple",
   "metadata": {},
   "outputs": [
    {
     "data": {
      "text/plain": [
       "RandomForestClassifier(class_weight='balanced')"
      ]
     },
     "execution_count": 51,
     "metadata": {},
     "output_type": "execute_result"
    }
   ],
   "source": [
    "model_ran_for.fit(X_res, y_res)"
   ]
  },
  {
   "cell_type": "code",
   "execution_count": 52,
   "id": "suffering-registration",
   "metadata": {},
   "outputs": [],
   "source": [
    "y_pred_ran_for = model_ran_for.predict(test_data_processed)"
   ]
  },
  {
   "cell_type": "code",
   "execution_count": 53,
   "id": "desperate-kuwait",
   "metadata": {},
   "outputs": [
    {
     "name": "stdout",
     "output_type": "stream",
     "text": [
      "              precision    recall  f1-score   support\n",
      "\n",
      "           1       0.66      0.81      0.73       183\n",
      "           2       0.53      0.15      0.23        68\n",
      "           3       0.41      0.58      0.48        86\n",
      "           4       0.40      0.11      0.17        37\n",
      "           5       0.62      0.83      0.71        78\n",
      "           6       0.48      0.27      0.34        37\n",
      "           7       0.33      0.17      0.22        18\n",
      "           8       0.50      0.44      0.47        18\n",
      "\n",
      "    accuracy                           0.57       525\n",
      "   macro avg       0.49      0.42      0.42       525\n",
      "weighted avg       0.55      0.57      0.53       525\n",
      "\n"
     ]
    }
   ],
   "source": [
    "print(classification_report(Y_test, y_pred_ran_for))"
   ]
  },
  {
   "cell_type": "markdown",
   "id": "transparent-conjunction",
   "metadata": {},
   "source": [
    "### Extra Trees Classifier"
   ]
  },
  {
   "cell_type": "code",
   "execution_count": null,
   "id": "acknowledged-trouble",
   "metadata": {},
   "outputs": [],
   "source": [
    "model_ex_trees = ExtraTreesClassifier(class_weight='balanced')"
   ]
  },
  {
   "cell_type": "code",
   "execution_count": null,
   "id": "silver-function",
   "metadata": {},
   "outputs": [],
   "source": [
    "model_ex_trees.fit(X_res, y_res)"
   ]
  },
  {
   "cell_type": "code",
   "execution_count": null,
   "id": "prompt-breed",
   "metadata": {},
   "outputs": [],
   "source": [
    "y_pred_ex_trees = model_ex_trees.predict(test_data_processed)"
   ]
  },
  {
   "cell_type": "code",
   "execution_count": null,
   "id": "straight-quebec",
   "metadata": {},
   "outputs": [],
   "source": [
    "print(classification_report(Y_test, y_pred_ex_trees))"
   ]
  },
  {
   "cell_type": "markdown",
   "id": "statewide-garage",
   "metadata": {},
   "source": [
    "### Gradient Boosting"
   ]
  },
  {
   "cell_type": "code",
   "execution_count": null,
   "id": "severe-street",
   "metadata": {},
   "outputs": [],
   "source": [
    "model_grad_boost = GradientBoostingClassifier()"
   ]
  },
  {
   "cell_type": "code",
   "execution_count": null,
   "id": "maritime-intellectual",
   "metadata": {},
   "outputs": [],
   "source": [
    "model_grad_boost.fit(X_res, y_res)"
   ]
  },
  {
   "cell_type": "code",
   "execution_count": null,
   "id": "thousand-deficit",
   "metadata": {},
   "outputs": [],
   "source": [
    "y_pred_grad_boost = model_grad_boost.predict(test_data_processed)"
   ]
  },
  {
   "cell_type": "code",
   "execution_count": null,
   "id": "viral-blink",
   "metadata": {},
   "outputs": [],
   "source": [
    "print(classification_report(Y_test, y_pred_grad_boost))"
   ]
  },
  {
   "cell_type": "markdown",
   "id": "previous-fantasy",
   "metadata": {},
   "source": [
    "### Hist Gradient Boosting Classifier"
   ]
  },
  {
   "cell_type": "code",
   "execution_count": null,
   "id": "ignored-apartment",
   "metadata": {},
   "outputs": [],
   "source": [
    "model_hist_gb = HistGradientBoostingClassifier()"
   ]
  },
  {
   "cell_type": "code",
   "execution_count": null,
   "id": "enclosed-certification",
   "metadata": {},
   "outputs": [],
   "source": [
    "model_hist_gb.fit(X_res, y_res)"
   ]
  },
  {
   "cell_type": "code",
   "execution_count": null,
   "id": "insured-clone",
   "metadata": {},
   "outputs": [],
   "source": [
    "y_pred_his_gb = model_hist_gb.predict(test_data_processed)"
   ]
  },
  {
   "cell_type": "code",
   "execution_count": null,
   "id": "voluntary-archive",
   "metadata": {},
   "outputs": [],
   "source": [
    "print(classification_report(Y_test, y_pred_his_gb))"
   ]
  },
  {
   "cell_type": "markdown",
   "id": "severe-offering",
   "metadata": {},
   "source": [
    "### XG Boost"
   ]
  },
  {
   "cell_type": "code",
   "execution_count": null,
   "id": "miniature-retreat",
   "metadata": {},
   "outputs": [],
   "source": [
    "model = XGBClassifier(label_encoder = False, class_weights = 'balanced')"
   ]
  },
  {
   "cell_type": "code",
   "execution_count": null,
   "id": "shaped-economics",
   "metadata": {},
   "outputs": [],
   "source": [
    "model.fit(X_res, y_res)"
   ]
  },
  {
   "cell_type": "code",
   "execution_count": null,
   "id": "threaded-theta",
   "metadata": {},
   "outputs": [],
   "source": [
    "y_pred = model.predict(test_data_processed)"
   ]
  },
  {
   "cell_type": "code",
   "execution_count": null,
   "id": "auburn-olive",
   "metadata": {},
   "outputs": [],
   "source": [
    "print(classification_report(Y_test, y_pred))"
   ]
  },
  {
   "cell_type": "markdown",
   "id": "cleared-cooperation",
   "metadata": {},
   "source": [
    "## Attempting Stacking Classification"
   ]
  },
  {
   "cell_type": "code",
   "execution_count": null,
   "id": "western-march",
   "metadata": {},
   "outputs": [],
   "source": [
    "estimators = [('rf', RandomForestClassifier(class_weight='balanced')),\n",
    "              ('xgb', XGBClassifier(label_encoder = False, class_weight = 'balanced')),\n",
    "              ('hist_tree', HistGradientBoostingClassifier())\n",
    "             ]"
   ]
  },
  {
   "cell_type": "code",
   "execution_count": null,
   "id": "quiet-legislation",
   "metadata": {},
   "outputs": [],
   "source": [
    "clf = StackingClassifier(estimators=estimators, final_estimator=LogisticRegression())"
   ]
  },
  {
   "cell_type": "code",
   "execution_count": null,
   "id": "beginning-variable",
   "metadata": {},
   "outputs": [],
   "source": [
    "clf.fit(X_res, y_res)"
   ]
  },
  {
   "cell_type": "code",
   "execution_count": null,
   "id": "interpreted-mapping",
   "metadata": {},
   "outputs": [],
   "source": [
    "y_pred_clf = clf.predict(test_data_processed)"
   ]
  },
  {
   "cell_type": "code",
   "execution_count": null,
   "id": "driving-climate",
   "metadata": {},
   "outputs": [],
   "source": [
    "print(classification_report(Y_test, y_pred_clf))"
   ]
  },
  {
   "cell_type": "code",
   "execution_count": null,
   "id": "refined-authority",
   "metadata": {},
   "outputs": [],
   "source": []
  },
  {
   "cell_type": "markdown",
   "id": "sublime-enforcement",
   "metadata": {},
   "source": [
    "## Submission"
   ]
  },
  {
   "cell_type": "code",
   "execution_count": null,
   "id": "contained-terminal",
   "metadata": {},
   "outputs": [],
   "source": [
    "y_submission = model_ran_for.predict(submission_data_processed)"
   ]
  },
  {
   "cell_type": "code",
   "execution_count": null,
   "id": "stylish-diploma",
   "metadata": {},
   "outputs": [],
   "source": [
    "y_submission"
   ]
  },
  {
   "cell_type": "code",
   "execution_count": null,
   "id": "established-example",
   "metadata": {},
   "outputs": [],
   "source": [
    "unique, counts = np.unique(y_submission, return_counts=True)\n",
    "dict(zip(unique, counts))"
   ]
  },
  {
   "cell_type": "code",
   "execution_count": null,
   "id": "protected-township",
   "metadata": {},
   "outputs": [],
   "source": [
    "y_submissions_series = pd.Series(y_submission)"
   ]
  },
  {
   "cell_type": "code",
   "execution_count": null,
   "id": "cardiac-defendant",
   "metadata": {},
   "outputs": [],
   "source": [
    "submission_data = {'primary_identifier' : pd.to_numeric(prim_id),\n",
    "                 'next_month_plan' : pd.to_numeric(y_submissions_series)}\n",
    "\n",
    "submission_df = pd.DataFrame(submission_data)"
   ]
  },
  {
   "cell_type": "code",
   "execution_count": null,
   "id": "female-fashion",
   "metadata": {},
   "outputs": [],
   "source": [
    "submission_df.shape"
   ]
  },
  {
   "cell_type": "code",
   "execution_count": null,
   "id": "falling-messaging",
   "metadata": {},
   "outputs": [],
   "source": [
    "#submission_df.to_csv(\"submission_7.csv\")"
   ]
  },
  {
   "cell_type": "code",
   "execution_count": null,
   "id": "thick-reflection",
   "metadata": {},
   "outputs": [],
   "source": []
  },
  {
   "cell_type": "code",
   "execution_count": null,
   "id": "immediate-whale",
   "metadata": {},
   "outputs": [],
   "source": [
    "param_dist = {'n_estimators': [50, 100, 300, 500, 700, 900],\n",
    "              'criterion': ['gini', 'entropy'],\n",
    "              'max_depth': [1, 3, 4, 5, 6, 8, 10, 12, None],\n",
    "              'max_features': ['auto', 'sqrt', 'log2', 15, 20, 25],\n",
    "              'class_weight': ['balanced', 'balanced_subsample']\n",
    "             }"
   ]
  },
  {
   "cell_type": "code",
   "execution_count": null,
   "id": "amazing-origin",
   "metadata": {},
   "outputs": [],
   "source": [
    "param_dist = {'max_depth': [16, 20],\n",
    "              'n_estimators': [400, 500, 600],\n",
    "              'max_features': ['log2', 15, 20]\n",
    "             }"
   ]
  },
  {
   "cell_type": "code",
   "execution_count": null,
   "id": "japanese-explosion",
   "metadata": {},
   "outputs": [],
   "source": [
    "clf_rf = RandomForestClassifier()\n",
    "clf = GridSearchCV(clf_rf, \n",
    "                   param_dist,\n",
    "                   cv = 5,\n",
    "                   verbose = 3, \n",
    "                   n_jobs = -1)"
   ]
  },
  {
   "cell_type": "code",
   "execution_count": null,
   "id": "noticed-hammer",
   "metadata": {},
   "outputs": [],
   "source": [
    "clf.fit(X_res, y_res)"
   ]
  },
  {
   "cell_type": "code",
   "execution_count": null,
   "id": "amber-middle",
   "metadata": {},
   "outputs": [],
   "source": [
    "clf.best_params_"
   ]
  },
  {
   "cell_type": "code",
   "execution_count": null,
   "id": "official-companion",
   "metadata": {},
   "outputs": [],
   "source": [
    "clf.best_score_"
   ]
  },
  {
   "cell_type": "code",
   "execution_count": 54,
   "id": "random-arthur",
   "metadata": {},
   "outputs": [
    {
     "data": {
      "text/plain": [
       "(11790, 38)"
      ]
     },
     "execution_count": 54,
     "metadata": {},
     "output_type": "execute_result"
    }
   ],
   "source": [
    "X_res.shape"
   ]
  },
  {
   "cell_type": "code",
   "execution_count": 55,
   "id": "contemporary-federal",
   "metadata": {},
   "outputs": [],
   "source": [
    "model_ran_for_new = RandomForestClassifier(random_state = 0, max_depth = 10, \n",
    "                                           n_estimators = 400, max_features=38,\n",
    "                                          class_weight='balanced')"
   ]
  },
  {
   "cell_type": "code",
   "execution_count": 56,
   "id": "remarkable-blind",
   "metadata": {},
   "outputs": [
    {
     "data": {
      "text/plain": [
       "RandomForestClassifier(class_weight='balanced', max_depth=10, max_features=38,\n",
       "                       n_estimators=400, random_state=0)"
      ]
     },
     "execution_count": 56,
     "metadata": {},
     "output_type": "execute_result"
    }
   ],
   "source": [
    "model_ran_for_new.fit(X_res, y_res)"
   ]
  },
  {
   "cell_type": "code",
   "execution_count": 57,
   "id": "proper-excellence",
   "metadata": {},
   "outputs": [],
   "source": [
    "y_pred_ran_for_new = model_ran_for_new.predict(test_data_processed)"
   ]
  },
  {
   "cell_type": "code",
   "execution_count": 58,
   "id": "engaging-finish",
   "metadata": {},
   "outputs": [
    {
     "name": "stdout",
     "output_type": "stream",
     "text": [
      "              precision    recall  f1-score   support\n",
      "\n",
      "           1       0.83      0.64      0.72       183\n",
      "           2       0.41      0.38      0.40        68\n",
      "           3       0.45      0.53      0.49        86\n",
      "           4       0.31      0.46      0.37        37\n",
      "           5       0.68      0.68      0.68        78\n",
      "           6       0.37      0.38      0.37        37\n",
      "           7       0.27      0.17      0.21        18\n",
      "           8       0.43      0.83      0.57        18\n",
      "\n",
      "    accuracy                           0.56       525\n",
      "   macro avg       0.47      0.51      0.48       525\n",
      "weighted avg       0.59      0.56      0.56       525\n",
      "\n"
     ]
    }
   ],
   "source": [
    "print(classification_report(Y_test, y_pred_ran_for_new))"
   ]
  },
  {
   "cell_type": "code",
   "execution_count": 189,
   "id": "sealed-worthy",
   "metadata": {},
   "outputs": [],
   "source": [
    "model_ran_for_new_2 = RandomForestClassifier(random_state = 0, max_depth = 9,\n",
    "                                             n_estimators = 250, max_features=38,\n",
    "                                             class_weight='balanced'\n",
    "                                            )"
   ]
  },
  {
   "cell_type": "code",
   "execution_count": 183,
   "id": "genuine-sherman",
   "metadata": {},
   "outputs": [],
   "source": [
    "model_ran_for_new_2 = RandomForestClassifier(random_state = 0, max_depth = 6,\n",
    "                                             n_estimators = 250, max_features=38,\n",
    "                                             class_weight='balanced'\n",
    "                                            )"
   ]
  },
  {
   "cell_type": "code",
   "execution_count": 190,
   "id": "independent-calculation",
   "metadata": {},
   "outputs": [
    {
     "data": {
      "text/plain": [
       "RandomForestClassifier(class_weight='balanced', max_depth=9, max_features=38,\n",
       "                       n_estimators=250, random_state=0)"
      ]
     },
     "execution_count": 190,
     "metadata": {},
     "output_type": "execute_result"
    }
   ],
   "source": [
    "model_ran_for_new_2.fit(X_res, y_res)"
   ]
  },
  {
   "cell_type": "code",
   "execution_count": 191,
   "id": "seeing-atlanta",
   "metadata": {},
   "outputs": [],
   "source": [
    "y_pred_ran_for_new_2 = model_ran_for_new_2.predict(test_data_processed)"
   ]
  },
  {
   "cell_type": "code",
   "execution_count": 192,
   "id": "advance-terry",
   "metadata": {},
   "outputs": [
    {
     "name": "stdout",
     "output_type": "stream",
     "text": [
      "              precision    recall  f1-score   support\n",
      "\n",
      "           1       0.83      0.62      0.71       183\n",
      "           2       0.39      0.38      0.39        68\n",
      "           3       0.45      0.49      0.47        86\n",
      "           4       0.32      0.57      0.41        37\n",
      "           5       0.68      0.64      0.66        78\n",
      "           6       0.38      0.41      0.39        37\n",
      "           7       0.36      0.22      0.28        18\n",
      "           8       0.38      0.83      0.53        18\n",
      "\n",
      "    accuracy                           0.55       525\n",
      "   macro avg       0.48      0.52      0.48       525\n",
      "weighted avg       0.59      0.55      0.56       525\n",
      "\n"
     ]
    }
   ],
   "source": [
    "print(classification_report(Y_test, y_pred_ran_for_new_2))"
   ]
  },
  {
   "cell_type": "code",
   "execution_count": 193,
   "id": "written-absolute",
   "metadata": {},
   "outputs": [],
   "source": [
    "y_submission = model_ran_for_new_2.predict(submission_data_processed)"
   ]
  },
  {
   "cell_type": "code",
   "execution_count": 194,
   "id": "convinced-relationship",
   "metadata": {},
   "outputs": [
    {
     "data": {
      "text/plain": [
       "{1: 1150, 2: 697, 3: 682, 4: 592, 5: 642, 6: 305, 7: 152, 8: 280}"
      ]
     },
     "execution_count": 194,
     "metadata": {},
     "output_type": "execute_result"
    }
   ],
   "source": [
    "unique, counts = np.unique(y_submission, return_counts=True)\n",
    "dict(zip(unique, counts))"
   ]
  },
  {
   "cell_type": "raw",
   "id": "tough-guide",
   "metadata": {},
   "source": [
    "for i in range(10):\n",
    "    print(\"Random state is -> \", i)\n",
    "    model_ran_for_new = RandomForestClassifier(random_state = i, max_depth = 10, \n",
    "                                               n_estimators = 400, max_features = 20)\n",
    "    model_ran_for_new.fit(X_res, y_res)\n",
    "    y_pred_ran_for_new = model_ran_for_new.predict(test_data_processed)\n",
    "    print(classification_report(Y_test, y_pred_ran_for_new))"
   ]
  },
  {
   "cell_type": "code",
   "execution_count": 195,
   "id": "encouraging-software",
   "metadata": {},
   "outputs": [],
   "source": [
    "y_submissions_series = pd.Series(y_submission)"
   ]
  },
  {
   "cell_type": "code",
   "execution_count": 196,
   "id": "attended-chair",
   "metadata": {},
   "outputs": [],
   "source": [
    "submission_data = {'primary_identifier' : pd.to_numeric(prim_id),\n",
    "                 'next_month_plan' : pd.to_numeric(y_submissions_series)}\n",
    "\n",
    "submission_df = pd.DataFrame(submission_data)"
   ]
  },
  {
   "cell_type": "code",
   "execution_count": 197,
   "id": "surprising-circuit",
   "metadata": {},
   "outputs": [
    {
     "data": {
      "text/plain": [
       "(4500, 2)"
      ]
     },
     "execution_count": 197,
     "metadata": {},
     "output_type": "execute_result"
    }
   ],
   "source": [
    "submission_df.shape"
   ]
  },
  {
   "cell_type": "code",
   "execution_count": 198,
   "id": "focused-consciousness",
   "metadata": {},
   "outputs": [],
   "source": [
    "submission_df.to_csv(\"submission_test_bigil.csv\")"
   ]
  },
  {
   "cell_type": "code",
   "execution_count": null,
   "id": "latin-memorabilia",
   "metadata": {},
   "outputs": [],
   "source": []
  },
  {
   "cell_type": "code",
   "execution_count": null,
   "id": "exceptional-picture",
   "metadata": {},
   "outputs": [],
   "source": []
  },
  {
   "cell_type": "code",
   "execution_count": null,
   "id": "delayed-yorkshire",
   "metadata": {},
   "outputs": [],
   "source": [
    "from sklearn.metrics import f1_score"
   ]
  },
  {
   "cell_type": "code",
   "execution_count": null,
   "id": "functional-queen",
   "metadata": {},
   "outputs": [],
   "source": [
    "from sklearn.experimental import enable_halving_search_cv\n",
    "from sklearn.model_selection import HalvingGridSearchCV"
   ]
  },
  {
   "cell_type": "code",
   "execution_count": null,
   "id": "wrong-visiting",
   "metadata": {},
   "outputs": [],
   "source": [
    "param_grid = {\"max_depth\": [3, 5, 7, 10, 11, 12, 13],\n",
    "             \"max_features\": [15, 20, 22, 25, 28, 30, 31, 32]}"
   ]
  },
  {
   "cell_type": "code",
   "execution_count": null,
   "id": "coastal-columbus",
   "metadata": {},
   "outputs": [],
   "source": [
    "search = HalvingGridSearchCV(RandomForestClassifier(random_state = 0),\n",
    "                             param_grid, resource='n_estimators',max_resources=500,random_state=0,\n",
    "                             n_jobs=-1, class_weights = 'balanced')"
   ]
  },
  {
   "cell_type": "code",
   "execution_count": null,
   "id": "mature-ballot",
   "metadata": {},
   "outputs": [],
   "source": [
    "search.fit(X_res, y_res)"
   ]
  },
  {
   "cell_type": "code",
   "execution_count": null,
   "id": "wooden-tennis",
   "metadata": {},
   "outputs": [],
   "source": [
    "search.best_params_"
   ]
  },
  {
   "cell_type": "code",
   "execution_count": null,
   "id": "incomplete-adrian",
   "metadata": {},
   "outputs": [],
   "source": [
    "search.best_score_"
   ]
  },
  {
   "cell_type": "code",
   "execution_count": null,
   "id": "enormous-relief",
   "metadata": {},
   "outputs": [],
   "source": [
    "X_res.shape"
   ]
  },
  {
   "cell_type": "code",
   "execution_count": null,
   "id": "permanent-florence",
   "metadata": {},
   "outputs": [],
   "source": [
    "model_xgb = XGBClassifier(random_state = 0, max_depth = 20, max_features = 38, n_estimators = 900,\n",
    "                                  class_weight='balanced')"
   ]
  },
  {
   "cell_type": "code",
   "execution_count": null,
   "id": "medieval-mouse",
   "metadata": {},
   "outputs": [],
   "source": [
    "model_xgb.fit(X_res, y_res)"
   ]
  },
  {
   "cell_type": "code",
   "execution_count": null,
   "id": "labeled-scope",
   "metadata": {},
   "outputs": [],
   "source": [
    "y_pred_xgb = model_xgb.predict(test_data_processed)"
   ]
  },
  {
   "cell_type": "code",
   "execution_count": null,
   "id": "rational-indiana",
   "metadata": {},
   "outputs": [],
   "source": [
    "print(classification_report(Y_test, y_pred_xgb))"
   ]
  },
  {
   "cell_type": "code",
   "execution_count": null,
   "id": "plain-nigeria",
   "metadata": {},
   "outputs": [],
   "source": [
    "y_submission = model_xgb.predict(submission_data_processed)"
   ]
  },
  {
   "cell_type": "code",
   "execution_count": null,
   "id": "expressed-freeware",
   "metadata": {},
   "outputs": [],
   "source": [
    "unique, counts = np.unique(y_submission, return_counts=True)\n",
    "dict(zip(unique, counts))"
   ]
  },
  {
   "cell_type": "code",
   "execution_count": null,
   "id": "formal-closure",
   "metadata": {},
   "outputs": [],
   "source": []
  },
  {
   "cell_type": "code",
   "execution_count": null,
   "id": "identical-chance",
   "metadata": {},
   "outputs": [],
   "source": [
    "from sklearn.multiclass import OneVsOneClassifier, OneVsRestClassifier"
   ]
  },
  {
   "cell_type": "code",
   "execution_count": null,
   "id": "occupied-lease",
   "metadata": {},
   "outputs": [],
   "source": [
    "ovo = OneVsOneClassifier(RandomForestClassifier(random_state = 0, max_depth = 15, \n",
    "                                                n_estimators = 600, max_features=38,\n",
    "                                               class_weight='balanced'), n_jobs = -1)"
   ]
  },
  {
   "cell_type": "code",
   "execution_count": null,
   "id": "theoretical-document",
   "metadata": {},
   "outputs": [],
   "source": [
    "ovo.fit(X_res, y_res)"
   ]
  },
  {
   "cell_type": "code",
   "execution_count": null,
   "id": "useful-marking",
   "metadata": {},
   "outputs": [],
   "source": [
    "y_pred_ovo = ovo.predict(test_data_processed)"
   ]
  },
  {
   "cell_type": "code",
   "execution_count": null,
   "id": "noticed-playlist",
   "metadata": {},
   "outputs": [],
   "source": [
    "print(classification_report(Y_test, y_pred_ovo))"
   ]
  },
  {
   "cell_type": "code",
   "execution_count": null,
   "id": "revised-labor",
   "metadata": {},
   "outputs": [],
   "source": []
  },
  {
   "cell_type": "code",
   "execution_count": null,
   "id": "medium-proceeding",
   "metadata": {},
   "outputs": [],
   "source": [
    "ovr = OneVsRestClassifier(RandomForestClassifier(random_state = 0, max_depth = 15, \n",
    "                                                 n_estimators = 600, max_features=38,\n",
    "                                       class_weight='balanced'), n_jobs = -1)"
   ]
  },
  {
   "cell_type": "code",
   "execution_count": null,
   "id": "portuguese-carol",
   "metadata": {},
   "outputs": [],
   "source": [
    "ovr.fit(X_res, y_res)"
   ]
  },
  {
   "cell_type": "code",
   "execution_count": null,
   "id": "complex-jacket",
   "metadata": {},
   "outputs": [],
   "source": [
    "y_pred_ovr = ovr.predict(test_data_processed)"
   ]
  },
  {
   "cell_type": "code",
   "execution_count": null,
   "id": "textile-weight",
   "metadata": {},
   "outputs": [],
   "source": [
    "print(classification_report(Y_test, y_pred_ovr))"
   ]
  },
  {
   "cell_type": "code",
   "execution_count": null,
   "id": "hearing-implementation",
   "metadata": {},
   "outputs": [],
   "source": [
    "y_submission = ovr.predict(submission_data_processed)"
   ]
  },
  {
   "cell_type": "code",
   "execution_count": null,
   "id": "stylish-samba",
   "metadata": {},
   "outputs": [],
   "source": [
    "unique, counts = np.unique(y_submission, return_counts=True)\n",
    "dict(zip(unique, counts))"
   ]
  },
  {
   "cell_type": "code",
   "execution_count": null,
   "id": "protective-poland",
   "metadata": {},
   "outputs": [],
   "source": []
  }
 ],
 "metadata": {
  "kernelspec": {
   "display_name": "Python 3",
   "language": "python",
   "name": "python3"
  },
  "language_info": {
   "codemirror_mode": {
    "name": "ipython",
    "version": 3
   },
   "file_extension": ".py",
   "mimetype": "text/x-python",
   "name": "python",
   "nbconvert_exporter": "python",
   "pygments_lexer": "ipython3",
   "version": "3.7.10"
  }
 },
 "nbformat": 4,
 "nbformat_minor": 5
}
