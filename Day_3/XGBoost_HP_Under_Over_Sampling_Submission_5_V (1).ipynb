{
 "cells": [
  {
   "cell_type": "markdown",
   "id": "duplicate-sandwich",
   "metadata": {
    "id": "duplicate-sandwich"
   },
   "source": [
    "# Best Score -> 0.39729\n",
    "\n",
    "\n",
    "> Indented block\n",
    "\n"
   ]
  },
  {
   "cell_type": "markdown",
   "id": "muslim-collaboration",
   "metadata": {
    "id": "muslim-collaboration"
   },
   "source": [
    "## Import the needed libraries"
   ]
  },
  {
   "cell_type": "code",
   "execution_count": 1,
   "id": "changing-pricing",
   "metadata": {
    "colab": {
     "base_uri": "https://localhost:8080/"
    },
    "id": "changing-pricing",
    "outputId": "2629baa0-1c22-4979-996c-aa06c7b5a81b"
   },
   "outputs": [
    {
     "name": "stderr",
     "output_type": "stream",
     "text": [
      "/usr/local/lib/python3.7/dist-packages/sklearn/externals/six.py:31: FutureWarning: The module is deprecated in version 0.21 and will be removed in version 0.23 since we've dropped support for Python 2.7. Please rely on the official version of six (https://pypi.org/project/six/).\n",
      "  \"(https://pypi.org/project/six/).\", FutureWarning)\n",
      "/usr/local/lib/python3.7/dist-packages/sklearn/utils/deprecation.py:144: FutureWarning: The sklearn.neighbors.base module is  deprecated in version 0.22 and will be removed in version 0.24. The corresponding classes / functions should instead be imported from sklearn.neighbors. Anything that cannot be imported from sklearn.neighbors is now part of the private API.\n",
      "  warnings.warn(message, FutureWarning)\n",
      "/usr/local/lib/python3.7/dist-packages/sklearn/utils/deprecation.py:144: FutureWarning: The sklearn.ensemble.bagging module is  deprecated in version 0.22 and will be removed in version 0.24. The corresponding classes / functions should instead be imported from sklearn.ensemble. Anything that cannot be imported from sklearn.ensemble is now part of the private API.\n",
      "  warnings.warn(message, FutureWarning)\n",
      "/usr/local/lib/python3.7/dist-packages/sklearn/utils/deprecation.py:144: FutureWarning: The sklearn.ensemble.base module is  deprecated in version 0.22 and will be removed in version 0.24. The corresponding classes / functions should instead be imported from sklearn.ensemble. Anything that cannot be imported from sklearn.ensemble is now part of the private API.\n",
      "  warnings.warn(message, FutureWarning)\n",
      "/usr/local/lib/python3.7/dist-packages/sklearn/utils/deprecation.py:144: FutureWarning: The sklearn.ensemble.forest module is  deprecated in version 0.22 and will be removed in version 0.24. The corresponding classes / functions should instead be imported from sklearn.ensemble. Anything that cannot be imported from sklearn.ensemble is now part of the private API.\n",
      "  warnings.warn(message, FutureWarning)\n",
      "/usr/local/lib/python3.7/dist-packages/sklearn/externals/joblib/__init__.py:15: FutureWarning: sklearn.externals.joblib is deprecated in 0.21 and will be removed in 0.23. Please import this functionality directly from joblib, which can be installed with: pip install joblib. If this warning is raised when loading pickled models, you may need to re-serialize those models with scikit-learn 0.21+.\n",
      "  warnings.warn(msg, category=FutureWarning)\n"
     ]
    }
   ],
   "source": [
    "import pandas as pd\n",
    "import numpy as np\n",
    "import matplotlib.pyplot as plt\n",
    "%matplotlib inline\n",
    "import seaborn as sns\n",
    "from sklearn.model_selection import train_test_split\n",
    "from sklearn.metrics import accuracy_score\n",
    "from sklearn.metrics import confusion_matrix\n",
    "from sklearn.model_selection import cross_val_score\n",
    "from sklearn.preprocessing import OneHotEncoder\n",
    "from sklearn.pipeline import Pipeline\n",
    "from sklearn import preprocessing\n",
    "from sklearn.compose import ColumnTransformer\n",
    "from sklearn.preprocessing import StandardScaler #you can use minmax scaler too\n",
    "from sklearn.model_selection import cross_val_score\n",
    "from sklearn.model_selection import GridSearchCV\n",
    "import xgboost as xgb\n",
    "from imblearn.ensemble import BalancedBaggingClassifier\n",
    "from imblearn.under_sampling import NearMiss\n",
    "from imblearn.under_sampling import TomekLinks\n",
    "from xgboost import XGBClassifier"
   ]
  },
  {
   "cell_type": "markdown",
   "id": "occasional-updating",
   "metadata": {
    "id": "occasional-updating"
   },
   "source": [
    "## Import the training data"
   ]
  },
  {
   "cell_type": "code",
   "execution_count": 132,
   "id": "demonstrated-perth",
   "metadata": {
    "colab": {
     "base_uri": "https://localhost:8080/",
     "height": 361
    },
    "id": "demonstrated-perth",
    "outputId": "52ac13a9-0d92-4a70-c2e0-f0b08bcfe3e4"
   },
   "outputs": [
    {
     "ename": "FileNotFoundError",
     "evalue": "ignored",
     "output_type": "error",
     "traceback": [
      "\u001b[0;31m---------------------------------------------------------------------------\u001b[0m",
      "\u001b[0;31mFileNotFoundError\u001b[0m                         Traceback (most recent call last)",
      "\u001b[0;32m<ipython-input-132-ce7222ff9ee8>\u001b[0m in \u001b[0;36m<module>\u001b[0;34m()\u001b[0m\n\u001b[0;32m----> 1\u001b[0;31m \u001b[0mtrain_data\u001b[0m \u001b[0;34m=\u001b[0m \u001b[0mpd\u001b[0m\u001b[0;34m.\u001b[0m\u001b[0mread_csv\u001b[0m\u001b[0;34m(\u001b[0m\u001b[0;34m\"/content/train_dataset.csv\"\u001b[0m\u001b[0;34m)\u001b[0m\u001b[0;34m\u001b[0m\u001b[0;34m\u001b[0m\u001b[0m\n\u001b[0m",
      "\u001b[0;32m/usr/local/lib/python3.7/dist-packages/pandas/io/parsers.py\u001b[0m in \u001b[0;36mread_csv\u001b[0;34m(filepath_or_buffer, sep, delimiter, header, names, index_col, usecols, squeeze, prefix, mangle_dupe_cols, dtype, engine, converters, true_values, false_values, skipinitialspace, skiprows, skipfooter, nrows, na_values, keep_default_na, na_filter, verbose, skip_blank_lines, parse_dates, infer_datetime_format, keep_date_col, date_parser, dayfirst, cache_dates, iterator, chunksize, compression, thousands, decimal, lineterminator, quotechar, quoting, doublequote, escapechar, comment, encoding, dialect, error_bad_lines, warn_bad_lines, delim_whitespace, low_memory, memory_map, float_precision)\u001b[0m\n\u001b[1;32m    686\u001b[0m     )\n\u001b[1;32m    687\u001b[0m \u001b[0;34m\u001b[0m\u001b[0m\n\u001b[0;32m--> 688\u001b[0;31m     \u001b[0;32mreturn\u001b[0m \u001b[0m_read\u001b[0m\u001b[0;34m(\u001b[0m\u001b[0mfilepath_or_buffer\u001b[0m\u001b[0;34m,\u001b[0m \u001b[0mkwds\u001b[0m\u001b[0;34m)\u001b[0m\u001b[0;34m\u001b[0m\u001b[0;34m\u001b[0m\u001b[0m\n\u001b[0m\u001b[1;32m    689\u001b[0m \u001b[0;34m\u001b[0m\u001b[0m\n\u001b[1;32m    690\u001b[0m \u001b[0;34m\u001b[0m\u001b[0m\n",
      "\u001b[0;32m/usr/local/lib/python3.7/dist-packages/pandas/io/parsers.py\u001b[0m in \u001b[0;36m_read\u001b[0;34m(filepath_or_buffer, kwds)\u001b[0m\n\u001b[1;32m    452\u001b[0m \u001b[0;34m\u001b[0m\u001b[0m\n\u001b[1;32m    453\u001b[0m     \u001b[0;31m# Create the parser.\u001b[0m\u001b[0;34m\u001b[0m\u001b[0;34m\u001b[0m\u001b[0;34m\u001b[0m\u001b[0m\n\u001b[0;32m--> 454\u001b[0;31m     \u001b[0mparser\u001b[0m \u001b[0;34m=\u001b[0m \u001b[0mTextFileReader\u001b[0m\u001b[0;34m(\u001b[0m\u001b[0mfp_or_buf\u001b[0m\u001b[0;34m,\u001b[0m \u001b[0;34m**\u001b[0m\u001b[0mkwds\u001b[0m\u001b[0;34m)\u001b[0m\u001b[0;34m\u001b[0m\u001b[0;34m\u001b[0m\u001b[0m\n\u001b[0m\u001b[1;32m    455\u001b[0m \u001b[0;34m\u001b[0m\u001b[0m\n\u001b[1;32m    456\u001b[0m     \u001b[0;32mif\u001b[0m \u001b[0mchunksize\u001b[0m \u001b[0;32mor\u001b[0m \u001b[0miterator\u001b[0m\u001b[0;34m:\u001b[0m\u001b[0;34m\u001b[0m\u001b[0;34m\u001b[0m\u001b[0m\n",
      "\u001b[0;32m/usr/local/lib/python3.7/dist-packages/pandas/io/parsers.py\u001b[0m in \u001b[0;36m__init__\u001b[0;34m(self, f, engine, **kwds)\u001b[0m\n\u001b[1;32m    946\u001b[0m             \u001b[0mself\u001b[0m\u001b[0;34m.\u001b[0m\u001b[0moptions\u001b[0m\u001b[0;34m[\u001b[0m\u001b[0;34m\"has_index_names\"\u001b[0m\u001b[0;34m]\u001b[0m \u001b[0;34m=\u001b[0m \u001b[0mkwds\u001b[0m\u001b[0;34m[\u001b[0m\u001b[0;34m\"has_index_names\"\u001b[0m\u001b[0;34m]\u001b[0m\u001b[0;34m\u001b[0m\u001b[0;34m\u001b[0m\u001b[0m\n\u001b[1;32m    947\u001b[0m \u001b[0;34m\u001b[0m\u001b[0m\n\u001b[0;32m--> 948\u001b[0;31m         \u001b[0mself\u001b[0m\u001b[0;34m.\u001b[0m\u001b[0m_make_engine\u001b[0m\u001b[0;34m(\u001b[0m\u001b[0mself\u001b[0m\u001b[0;34m.\u001b[0m\u001b[0mengine\u001b[0m\u001b[0;34m)\u001b[0m\u001b[0;34m\u001b[0m\u001b[0;34m\u001b[0m\u001b[0m\n\u001b[0m\u001b[1;32m    949\u001b[0m \u001b[0;34m\u001b[0m\u001b[0m\n\u001b[1;32m    950\u001b[0m     \u001b[0;32mdef\u001b[0m \u001b[0mclose\u001b[0m\u001b[0;34m(\u001b[0m\u001b[0mself\u001b[0m\u001b[0;34m)\u001b[0m\u001b[0;34m:\u001b[0m\u001b[0;34m\u001b[0m\u001b[0;34m\u001b[0m\u001b[0m\n",
      "\u001b[0;32m/usr/local/lib/python3.7/dist-packages/pandas/io/parsers.py\u001b[0m in \u001b[0;36m_make_engine\u001b[0;34m(self, engine)\u001b[0m\n\u001b[1;32m   1178\u001b[0m     \u001b[0;32mdef\u001b[0m \u001b[0m_make_engine\u001b[0m\u001b[0;34m(\u001b[0m\u001b[0mself\u001b[0m\u001b[0;34m,\u001b[0m \u001b[0mengine\u001b[0m\u001b[0;34m=\u001b[0m\u001b[0;34m\"c\"\u001b[0m\u001b[0;34m)\u001b[0m\u001b[0;34m:\u001b[0m\u001b[0;34m\u001b[0m\u001b[0;34m\u001b[0m\u001b[0m\n\u001b[1;32m   1179\u001b[0m         \u001b[0;32mif\u001b[0m \u001b[0mengine\u001b[0m \u001b[0;34m==\u001b[0m \u001b[0;34m\"c\"\u001b[0m\u001b[0;34m:\u001b[0m\u001b[0;34m\u001b[0m\u001b[0;34m\u001b[0m\u001b[0m\n\u001b[0;32m-> 1180\u001b[0;31m             \u001b[0mself\u001b[0m\u001b[0;34m.\u001b[0m\u001b[0m_engine\u001b[0m \u001b[0;34m=\u001b[0m \u001b[0mCParserWrapper\u001b[0m\u001b[0;34m(\u001b[0m\u001b[0mself\u001b[0m\u001b[0;34m.\u001b[0m\u001b[0mf\u001b[0m\u001b[0;34m,\u001b[0m \u001b[0;34m**\u001b[0m\u001b[0mself\u001b[0m\u001b[0;34m.\u001b[0m\u001b[0moptions\u001b[0m\u001b[0;34m)\u001b[0m\u001b[0;34m\u001b[0m\u001b[0;34m\u001b[0m\u001b[0m\n\u001b[0m\u001b[1;32m   1181\u001b[0m         \u001b[0;32melse\u001b[0m\u001b[0;34m:\u001b[0m\u001b[0;34m\u001b[0m\u001b[0;34m\u001b[0m\u001b[0m\n\u001b[1;32m   1182\u001b[0m             \u001b[0;32mif\u001b[0m \u001b[0mengine\u001b[0m \u001b[0;34m==\u001b[0m \u001b[0;34m\"python\"\u001b[0m\u001b[0;34m:\u001b[0m\u001b[0;34m\u001b[0m\u001b[0;34m\u001b[0m\u001b[0m\n",
      "\u001b[0;32m/usr/local/lib/python3.7/dist-packages/pandas/io/parsers.py\u001b[0m in \u001b[0;36m__init__\u001b[0;34m(self, src, **kwds)\u001b[0m\n\u001b[1;32m   2008\u001b[0m         \u001b[0mkwds\u001b[0m\u001b[0;34m[\u001b[0m\u001b[0;34m\"usecols\"\u001b[0m\u001b[0;34m]\u001b[0m \u001b[0;34m=\u001b[0m \u001b[0mself\u001b[0m\u001b[0;34m.\u001b[0m\u001b[0musecols\u001b[0m\u001b[0;34m\u001b[0m\u001b[0;34m\u001b[0m\u001b[0m\n\u001b[1;32m   2009\u001b[0m \u001b[0;34m\u001b[0m\u001b[0m\n\u001b[0;32m-> 2010\u001b[0;31m         \u001b[0mself\u001b[0m\u001b[0;34m.\u001b[0m\u001b[0m_reader\u001b[0m \u001b[0;34m=\u001b[0m \u001b[0mparsers\u001b[0m\u001b[0;34m.\u001b[0m\u001b[0mTextReader\u001b[0m\u001b[0;34m(\u001b[0m\u001b[0msrc\u001b[0m\u001b[0;34m,\u001b[0m \u001b[0;34m**\u001b[0m\u001b[0mkwds\u001b[0m\u001b[0;34m)\u001b[0m\u001b[0;34m\u001b[0m\u001b[0;34m\u001b[0m\u001b[0m\n\u001b[0m\u001b[1;32m   2011\u001b[0m         \u001b[0mself\u001b[0m\u001b[0;34m.\u001b[0m\u001b[0munnamed_cols\u001b[0m \u001b[0;34m=\u001b[0m \u001b[0mself\u001b[0m\u001b[0;34m.\u001b[0m\u001b[0m_reader\u001b[0m\u001b[0;34m.\u001b[0m\u001b[0munnamed_cols\u001b[0m\u001b[0;34m\u001b[0m\u001b[0;34m\u001b[0m\u001b[0m\n\u001b[1;32m   2012\u001b[0m \u001b[0;34m\u001b[0m\u001b[0m\n",
      "\u001b[0;32mpandas/_libs/parsers.pyx\u001b[0m in \u001b[0;36mpandas._libs.parsers.TextReader.__cinit__\u001b[0;34m()\u001b[0m\n",
      "\u001b[0;32mpandas/_libs/parsers.pyx\u001b[0m in \u001b[0;36mpandas._libs.parsers.TextReader._setup_parser_source\u001b[0;34m()\u001b[0m\n",
      "\u001b[0;31mFileNotFoundError\u001b[0m: [Errno 2] No such file or directory: '/content/train_dataset.csv'"
     ]
    }
   ],
   "source": [
    "train_data = pd.read_csv(\"/content/train_dataset.csv\")"
   ]
  },
  {
   "cell_type": "code",
   "execution_count": 3,
   "id": "disciplinary-accounting",
   "metadata": {
    "colab": {
     "base_uri": "https://localhost:8080/",
     "height": 220
    },
    "id": "disciplinary-accounting",
    "outputId": "d585d676-aa11-4778-84de-8fae58752623"
   },
   "outputs": [
    {
     "data": {
      "text/html": [
       "<div>\n",
       "<style scoped>\n",
       "    .dataframe tbody tr th:only-of-type {\n",
       "        vertical-align: middle;\n",
       "    }\n",
       "\n",
       "    .dataframe tbody tr th {\n",
       "        vertical-align: top;\n",
       "    }\n",
       "\n",
       "    .dataframe thead th {\n",
       "        text-align: right;\n",
       "    }\n",
       "</style>\n",
       "<table border=\"1\" class=\"dataframe\">\n",
       "  <thead>\n",
       "    <tr style=\"text-align: right;\">\n",
       "      <th></th>\n",
       "      <th>primary_identifier</th>\n",
       "      <th>device_type</th>\n",
       "      <th>device_category</th>\n",
       "      <th>gender</th>\n",
       "      <th>district_name</th>\n",
       "      <th>age_group</th>\n",
       "      <th>network_stay</th>\n",
       "      <th>average_monthly_bill_amount</th>\n",
       "      <th>dusage_sum</th>\n",
       "      <th>dusage_min</th>\n",
       "      <th>dusage_max</th>\n",
       "      <th>dusage_diff</th>\n",
       "      <th>dusage_avg</th>\n",
       "      <th>dusage_days</th>\n",
       "      <th>dusage_stddev</th>\n",
       "      <th>vusage_onnet_sum</th>\n",
       "      <th>vusage_onnet_max</th>\n",
       "      <th>vusage_onnet_min</th>\n",
       "      <th>vusage_onnet_diff</th>\n",
       "      <th>vusage_onnet_days</th>\n",
       "      <th>vusage_onnet_avg</th>\n",
       "      <th>vusage_onnet_stddev</th>\n",
       "      <th>vusage_offnet_sum</th>\n",
       "      <th>vusage_offnet_max</th>\n",
       "      <th>vusage_offnet_min</th>\n",
       "      <th>vusage_offnet_days</th>\n",
       "      <th>vusage_offnet_avg</th>\n",
       "      <th>vusage_offnet_stddev</th>\n",
       "      <th>number_of_fixed_bb_accounts</th>\n",
       "      <th>number_of_iptv_accounts</th>\n",
       "      <th>add_on_tot_rental</th>\n",
       "      <th>add_on_count</th>\n",
       "      <th>next_month_plan</th>\n",
       "    </tr>\n",
       "  </thead>\n",
       "  <tbody>\n",
       "    <tr>\n",
       "      <th>10495</th>\n",
       "      <td>1438655</td>\n",
       "      <td>4G</td>\n",
       "      <td>Smartphone</td>\n",
       "      <td>MALE</td>\n",
       "      <td>Kalutara</td>\n",
       "      <td>40-50</td>\n",
       "      <td>64</td>\n",
       "      <td>2088.13</td>\n",
       "      <td>479</td>\n",
       "      <td>0.346959</td>\n",
       "      <td>226.626969</td>\n",
       "      <td>226.280010</td>\n",
       "      <td>15.972982</td>\n",
       "      <td>30</td>\n",
       "      <td>41.785388</td>\n",
       "      <td>318</td>\n",
       "      <td>43.433333</td>\n",
       "      <td>0</td>\n",
       "      <td>43.433333</td>\n",
       "      <td>12</td>\n",
       "      <td>26.519444</td>\n",
       "      <td>16.035284</td>\n",
       "      <td>102</td>\n",
       "      <td>29.866667</td>\n",
       "      <td>0.0</td>\n",
       "      <td>7</td>\n",
       "      <td>14.571429</td>\n",
       "      <td>8.017054</td>\n",
       "      <td>0</td>\n",
       "      <td>0</td>\n",
       "      <td>NaN</td>\n",
       "      <td>NaN</td>\n",
       "      <td>PKG6</td>\n",
       "    </tr>\n",
       "    <tr>\n",
       "      <th>10496</th>\n",
       "      <td>7827264</td>\n",
       "      <td>4G</td>\n",
       "      <td>Smartphone</td>\n",
       "      <td>FEMALE</td>\n",
       "      <td>Colombo</td>\n",
       "      <td>&lt;20</td>\n",
       "      <td>6</td>\n",
       "      <td>2053.50</td>\n",
       "      <td>23168</td>\n",
       "      <td>0.219985</td>\n",
       "      <td>2525.781404</td>\n",
       "      <td>2525.561419</td>\n",
       "      <td>926.754902</td>\n",
       "      <td>25</td>\n",
       "      <td>683.641213</td>\n",
       "      <td>0</td>\n",
       "      <td>0.000000</td>\n",
       "      <td>0</td>\n",
       "      <td>0.000000</td>\n",
       "      <td>0</td>\n",
       "      <td>NaN</td>\n",
       "      <td>0.000000</td>\n",
       "      <td>32</td>\n",
       "      <td>25.366667</td>\n",
       "      <td>0.0</td>\n",
       "      <td>3</td>\n",
       "      <td>10.861111</td>\n",
       "      <td>5.151029</td>\n",
       "      <td>0</td>\n",
       "      <td>0</td>\n",
       "      <td>580.0</td>\n",
       "      <td>3.0</td>\n",
       "      <td>PKG1</td>\n",
       "    </tr>\n",
       "    <tr>\n",
       "      <th>10497</th>\n",
       "      <td>1433957</td>\n",
       "      <td>4G</td>\n",
       "      <td>Smartphone</td>\n",
       "      <td>FEMALE</td>\n",
       "      <td>Colombo</td>\n",
       "      <td>30-40</td>\n",
       "      <td>69</td>\n",
       "      <td>2827.33</td>\n",
       "      <td>4553</td>\n",
       "      <td>4.831711</td>\n",
       "      <td>581.854178</td>\n",
       "      <td>577.022468</td>\n",
       "      <td>151.773327</td>\n",
       "      <td>30</td>\n",
       "      <td>161.529659</td>\n",
       "      <td>0</td>\n",
       "      <td>0.000000</td>\n",
       "      <td>0</td>\n",
       "      <td>0.000000</td>\n",
       "      <td>0</td>\n",
       "      <td>NaN</td>\n",
       "      <td>0.000000</td>\n",
       "      <td>0</td>\n",
       "      <td>0.000000</td>\n",
       "      <td>0.0</td>\n",
       "      <td>0</td>\n",
       "      <td>NaN</td>\n",
       "      <td>0.000000</td>\n",
       "      <td>0</td>\n",
       "      <td>1</td>\n",
       "      <td>NaN</td>\n",
       "      <td>NaN</td>\n",
       "      <td>PKG6</td>\n",
       "    </tr>\n",
       "    <tr>\n",
       "      <th>10498</th>\n",
       "      <td>8494507</td>\n",
       "      <td>4G</td>\n",
       "      <td>Smartphone</td>\n",
       "      <td>MALE</td>\n",
       "      <td>Kandy</td>\n",
       "      <td>60-70</td>\n",
       "      <td>233</td>\n",
       "      <td>645.43</td>\n",
       "      <td>2069</td>\n",
       "      <td>4.722031</td>\n",
       "      <td>191.290240</td>\n",
       "      <td>186.568210</td>\n",
       "      <td>68.986909</td>\n",
       "      <td>30</td>\n",
       "      <td>53.804147</td>\n",
       "      <td>0</td>\n",
       "      <td>0.000000</td>\n",
       "      <td>0</td>\n",
       "      <td>0.000000</td>\n",
       "      <td>0</td>\n",
       "      <td>NaN</td>\n",
       "      <td>0.000000</td>\n",
       "      <td>105</td>\n",
       "      <td>18.650000</td>\n",
       "      <td>0.0</td>\n",
       "      <td>18</td>\n",
       "      <td>5.887963</td>\n",
       "      <td>4.956822</td>\n",
       "      <td>0</td>\n",
       "      <td>1</td>\n",
       "      <td>NaN</td>\n",
       "      <td>NaN</td>\n",
       "      <td>PKG1</td>\n",
       "    </tr>\n",
       "    <tr>\n",
       "      <th>10499</th>\n",
       "      <td>3569439</td>\n",
       "      <td>3G</td>\n",
       "      <td>Smartphone</td>\n",
       "      <td>MALE</td>\n",
       "      <td>Puttalam</td>\n",
       "      <td>40-50</td>\n",
       "      <td>33</td>\n",
       "      <td>498.20</td>\n",
       "      <td>536</td>\n",
       "      <td>0.003048</td>\n",
       "      <td>177.700564</td>\n",
       "      <td>177.697516</td>\n",
       "      <td>17.877463</td>\n",
       "      <td>30</td>\n",
       "      <td>43.567639</td>\n",
       "      <td>0</td>\n",
       "      <td>0.000000</td>\n",
       "      <td>0</td>\n",
       "      <td>0.000000</td>\n",
       "      <td>0</td>\n",
       "      <td>NaN</td>\n",
       "      <td>0.000000</td>\n",
       "      <td>15</td>\n",
       "      <td>4.366667</td>\n",
       "      <td>0.0</td>\n",
       "      <td>7</td>\n",
       "      <td>2.228571</td>\n",
       "      <td>1.096541</td>\n",
       "      <td>0</td>\n",
       "      <td>0</td>\n",
       "      <td>NaN</td>\n",
       "      <td>NaN</td>\n",
       "      <td>PKG1</td>\n",
       "    </tr>\n",
       "  </tbody>\n",
       "</table>\n",
       "</div>"
      ],
      "text/plain": [
       "       primary_identifier device_type  ... add_on_count next_month_plan\n",
       "10495             1438655          4G  ...          NaN            PKG6\n",
       "10496             7827264          4G  ...          3.0            PKG1\n",
       "10497             1433957          4G  ...          NaN            PKG6\n",
       "10498             8494507          4G  ...          NaN            PKG1\n",
       "10499             3569439          3G  ...          NaN            PKG1\n",
       "\n",
       "[5 rows x 33 columns]"
      ]
     },
     "execution_count": 3,
     "metadata": {},
     "output_type": "execute_result"
    }
   ],
   "source": [
    "train_data.tail()"
   ]
  },
  {
   "cell_type": "markdown",
   "id": "lightweight-mountain",
   "metadata": {
    "id": "lightweight-mountain"
   },
   "source": [
    "## Encoding Labels"
   ]
  },
  {
   "cell_type": "code",
   "execution_count": 4,
   "id": "wired-raising",
   "metadata": {
    "id": "wired-raising"
   },
   "outputs": [],
   "source": [
    "train_data['next_month_plan'] = train_data['next_month_plan'].astype('category')"
   ]
  },
  {
   "cell_type": "code",
   "execution_count": 5,
   "id": "neutral-suite",
   "metadata": {
    "colab": {
     "base_uri": "https://localhost:8080/"
    },
    "id": "neutral-suite",
    "outputId": "43f8699c-a371-4393-f154-ceee05bc89d0"
   },
   "outputs": [
    {
     "data": {
      "text/plain": [
       "['PKG2', 'PKG1', 'PKG6', 'PKG4', 'PKG5', 'PKG3', 'PKG8', 'PKG7']\n",
       "Categories (8, object): ['PKG2', 'PKG1', 'PKG6', 'PKG4', 'PKG5', 'PKG3', 'PKG8', 'PKG7']"
      ]
     },
     "execution_count": 5,
     "metadata": {},
     "output_type": "execute_result"
    }
   ],
   "source": [
    "train_data['next_month_plan'].unique()"
   ]
  },
  {
   "cell_type": "code",
   "execution_count": 6,
   "id": "disabled-eight",
   "metadata": {
    "id": "disabled-eight"
   },
   "outputs": [],
   "source": [
    "labels_x = ['PKG0','PKG1', 'PKG2', 'PKG3', 'PKG4', 'PKG5', 'PKG6', 'PKG7', 'PKG8']"
   ]
  },
  {
   "cell_type": "code",
   "execution_count": 7,
   "id": "local-authorization",
   "metadata": {
    "id": "local-authorization"
   },
   "outputs": [],
   "source": [
    "le = preprocessing.LabelEncoder()"
   ]
  },
  {
   "cell_type": "code",
   "execution_count": 8,
   "id": "personal-simulation",
   "metadata": {
    "colab": {
     "base_uri": "https://localhost:8080/"
    },
    "id": "personal-simulation",
    "outputId": "0b2af790-3c2c-4bfa-d971-69106271440b"
   },
   "outputs": [
    {
     "data": {
      "text/plain": [
       "LabelEncoder()"
      ]
     },
     "execution_count": 8,
     "metadata": {},
     "output_type": "execute_result"
    }
   ],
   "source": [
    "le.fit(labels_x)"
   ]
  },
  {
   "cell_type": "code",
   "execution_count": 9,
   "id": "secondary-istanbul",
   "metadata": {
    "colab": {
     "base_uri": "https://localhost:8080/"
    },
    "id": "secondary-istanbul",
    "outputId": "6bb89868-47d9-4b8a-b3c9-c378d9e63e1b"
   },
   "outputs": [
    {
     "data": {
      "text/plain": [
       "array(['PKG0', 'PKG1', 'PKG2', 'PKG3', 'PKG4', 'PKG5', 'PKG6', 'PKG7',\n",
       "       'PKG8'], dtype='<U4')"
      ]
     },
     "execution_count": 9,
     "metadata": {},
     "output_type": "execute_result"
    }
   ],
   "source": [
    "le.classes_"
   ]
  },
  {
   "cell_type": "code",
   "execution_count": 10,
   "id": "legendary-antenna",
   "metadata": {
    "id": "legendary-antenna"
   },
   "outputs": [],
   "source": [
    "train_data['encoded_class_labels'] = le.transform(train_data['next_month_plan'])"
   ]
  },
  {
   "cell_type": "code",
   "execution_count": 11,
   "id": "tutorial-checklist",
   "metadata": {
    "id": "tutorial-checklist"
   },
   "outputs": [],
   "source": [
    "train_data = train_data.drop(columns=['next_month_plan'])"
   ]
  },
  {
   "cell_type": "code",
   "execution_count": 12,
   "id": "comprehensive-shape",
   "metadata": {
    "colab": {
     "base_uri": "https://localhost:8080/",
     "height": 673
    },
    "id": "comprehensive-shape",
    "outputId": "2c429347-258a-4e89-c464-a1b65d0101b0"
   },
   "outputs": [
    {
     "data": {
      "text/html": [
       "<div>\n",
       "<style scoped>\n",
       "    .dataframe tbody tr th:only-of-type {\n",
       "        vertical-align: middle;\n",
       "    }\n",
       "\n",
       "    .dataframe tbody tr th {\n",
       "        vertical-align: top;\n",
       "    }\n",
       "\n",
       "    .dataframe thead th {\n",
       "        text-align: right;\n",
       "    }\n",
       "</style>\n",
       "<table border=\"1\" class=\"dataframe\">\n",
       "  <thead>\n",
       "    <tr style=\"text-align: right;\">\n",
       "      <th></th>\n",
       "      <th>primary_identifier</th>\n",
       "      <th>device_type</th>\n",
       "      <th>device_category</th>\n",
       "      <th>gender</th>\n",
       "      <th>district_name</th>\n",
       "      <th>age_group</th>\n",
       "      <th>network_stay</th>\n",
       "      <th>average_monthly_bill_amount</th>\n",
       "      <th>dusage_sum</th>\n",
       "      <th>dusage_min</th>\n",
       "      <th>dusage_max</th>\n",
       "      <th>dusage_diff</th>\n",
       "      <th>dusage_avg</th>\n",
       "      <th>dusage_days</th>\n",
       "      <th>dusage_stddev</th>\n",
       "      <th>vusage_onnet_sum</th>\n",
       "      <th>vusage_onnet_max</th>\n",
       "      <th>vusage_onnet_min</th>\n",
       "      <th>vusage_onnet_diff</th>\n",
       "      <th>vusage_onnet_days</th>\n",
       "      <th>vusage_onnet_avg</th>\n",
       "      <th>vusage_onnet_stddev</th>\n",
       "      <th>vusage_offnet_sum</th>\n",
       "      <th>vusage_offnet_max</th>\n",
       "      <th>vusage_offnet_min</th>\n",
       "      <th>vusage_offnet_days</th>\n",
       "      <th>vusage_offnet_avg</th>\n",
       "      <th>vusage_offnet_stddev</th>\n",
       "      <th>number_of_fixed_bb_accounts</th>\n",
       "      <th>number_of_iptv_accounts</th>\n",
       "      <th>add_on_tot_rental</th>\n",
       "      <th>add_on_count</th>\n",
       "      <th>encoded_class_labels</th>\n",
       "    </tr>\n",
       "  </thead>\n",
       "  <tbody>\n",
       "    <tr>\n",
       "      <th>0</th>\n",
       "      <td>6875768</td>\n",
       "      <td>4G</td>\n",
       "      <td>Smartphone</td>\n",
       "      <td>MALE</td>\n",
       "      <td>Kegalle</td>\n",
       "      <td>40-50</td>\n",
       "      <td>219</td>\n",
       "      <td>761.62</td>\n",
       "      <td>6317</td>\n",
       "      <td>2.773958</td>\n",
       "      <td>622.685848</td>\n",
       "      <td>619.911890</td>\n",
       "      <td>210.579939</td>\n",
       "      <td>30</td>\n",
       "      <td>197.116822</td>\n",
       "      <td>0</td>\n",
       "      <td>0.000000</td>\n",
       "      <td>0</td>\n",
       "      <td>0.000000</td>\n",
       "      <td>0</td>\n",
       "      <td>NaN</td>\n",
       "      <td>0.000000</td>\n",
       "      <td>677</td>\n",
       "      <td>152.866667</td>\n",
       "      <td>0.0</td>\n",
       "      <td>27</td>\n",
       "      <td>25.099383</td>\n",
       "      <td>34.759221</td>\n",
       "      <td>0</td>\n",
       "      <td>1</td>\n",
       "      <td>NaN</td>\n",
       "      <td>NaN</td>\n",
       "      <td>2</td>\n",
       "    </tr>\n",
       "    <tr>\n",
       "      <th>1</th>\n",
       "      <td>6406277</td>\n",
       "      <td>4G</td>\n",
       "      <td>Smartphone</td>\n",
       "      <td>MALE</td>\n",
       "      <td>Galle</td>\n",
       "      <td>40-50</td>\n",
       "      <td>36</td>\n",
       "      <td>2482.52</td>\n",
       "      <td>28365</td>\n",
       "      <td>3.079438</td>\n",
       "      <td>2569.429138</td>\n",
       "      <td>2566.349700</td>\n",
       "      <td>945.531235</td>\n",
       "      <td>30</td>\n",
       "      <td>573.299639</td>\n",
       "      <td>0</td>\n",
       "      <td>0.000000</td>\n",
       "      <td>0</td>\n",
       "      <td>0.000000</td>\n",
       "      <td>0</td>\n",
       "      <td>NaN</td>\n",
       "      <td>0.000000</td>\n",
       "      <td>76</td>\n",
       "      <td>35.433333</td>\n",
       "      <td>0.0</td>\n",
       "      <td>15</td>\n",
       "      <td>5.071111</td>\n",
       "      <td>6.779644</td>\n",
       "      <td>0</td>\n",
       "      <td>0</td>\n",
       "      <td>600.0</td>\n",
       "      <td>2.0</td>\n",
       "      <td>1</td>\n",
       "    </tr>\n",
       "    <tr>\n",
       "      <th>2</th>\n",
       "      <td>3563570</td>\n",
       "      <td>4G</td>\n",
       "      <td>Smartphone</td>\n",
       "      <td>MALE</td>\n",
       "      <td>Kandy</td>\n",
       "      <td>30-40</td>\n",
       "      <td>186</td>\n",
       "      <td>1565.55</td>\n",
       "      <td>18581</td>\n",
       "      <td>48.193713</td>\n",
       "      <td>2739.515326</td>\n",
       "      <td>2691.321613</td>\n",
       "      <td>619.378811</td>\n",
       "      <td>30</td>\n",
       "      <td>619.750500</td>\n",
       "      <td>0</td>\n",
       "      <td>0.000000</td>\n",
       "      <td>0</td>\n",
       "      <td>0.000000</td>\n",
       "      <td>0</td>\n",
       "      <td>NaN</td>\n",
       "      <td>0.000000</td>\n",
       "      <td>0</td>\n",
       "      <td>0.000000</td>\n",
       "      <td>0.0</td>\n",
       "      <td>0</td>\n",
       "      <td>NaN</td>\n",
       "      <td>0.000000</td>\n",
       "      <td>0</td>\n",
       "      <td>0</td>\n",
       "      <td>0.0</td>\n",
       "      <td>1.0</td>\n",
       "      <td>6</td>\n",
       "    </tr>\n",
       "    <tr>\n",
       "      <th>3</th>\n",
       "      <td>1853666</td>\n",
       "      <td>4G</td>\n",
       "      <td>Smartphone</td>\n",
       "      <td>FEMALE</td>\n",
       "      <td>Colombo</td>\n",
       "      <td>40-50</td>\n",
       "      <td>24</td>\n",
       "      <td>2397.49</td>\n",
       "      <td>91071</td>\n",
       "      <td>22.437842</td>\n",
       "      <td>7523.355693</td>\n",
       "      <td>7500.917850</td>\n",
       "      <td>3035.708609</td>\n",
       "      <td>30</td>\n",
       "      <td>2174.203127</td>\n",
       "      <td>0</td>\n",
       "      <td>0.000000</td>\n",
       "      <td>0</td>\n",
       "      <td>0.000000</td>\n",
       "      <td>0</td>\n",
       "      <td>NaN</td>\n",
       "      <td>0.000000</td>\n",
       "      <td>0</td>\n",
       "      <td>0.000000</td>\n",
       "      <td>0.0</td>\n",
       "      <td>0</td>\n",
       "      <td>NaN</td>\n",
       "      <td>0.000000</td>\n",
       "      <td>0</td>\n",
       "      <td>0</td>\n",
       "      <td>1110.0</td>\n",
       "      <td>2.0</td>\n",
       "      <td>4</td>\n",
       "    </tr>\n",
       "    <tr>\n",
       "      <th>4</th>\n",
       "      <td>2794331</td>\n",
       "      <td>4G</td>\n",
       "      <td>Smartphone</td>\n",
       "      <td>FEMALE</td>\n",
       "      <td>Kandy</td>\n",
       "      <td>50-60</td>\n",
       "      <td>37</td>\n",
       "      <td>2501.75</td>\n",
       "      <td>19736</td>\n",
       "      <td>53.302092</td>\n",
       "      <td>1239.220170</td>\n",
       "      <td>1185.918078</td>\n",
       "      <td>657.889802</td>\n",
       "      <td>30</td>\n",
       "      <td>329.152516</td>\n",
       "      <td>0</td>\n",
       "      <td>0.000000</td>\n",
       "      <td>0</td>\n",
       "      <td>0.000000</td>\n",
       "      <td>0</td>\n",
       "      <td>NaN</td>\n",
       "      <td>0.000000</td>\n",
       "      <td>258</td>\n",
       "      <td>87.616667</td>\n",
       "      <td>0.0</td>\n",
       "      <td>23</td>\n",
       "      <td>11.256522</td>\n",
       "      <td>16.224071</td>\n",
       "      <td>0</td>\n",
       "      <td>1</td>\n",
       "      <td>1350.0</td>\n",
       "      <td>2.0</td>\n",
       "      <td>4</td>\n",
       "    </tr>\n",
       "    <tr>\n",
       "      <th>5</th>\n",
       "      <td>3619017</td>\n",
       "      <td>2G</td>\n",
       "      <td>Basic</td>\n",
       "      <td>MALE</td>\n",
       "      <td>Galle</td>\n",
       "      <td>40-50</td>\n",
       "      <td>30</td>\n",
       "      <td>495.54</td>\n",
       "      <td>0</td>\n",
       "      <td>0.001531</td>\n",
       "      <td>0.173772</td>\n",
       "      <td>0.172241</td>\n",
       "      <td>0.020356</td>\n",
       "      <td>30</td>\n",
       "      <td>0.034965</td>\n",
       "      <td>0</td>\n",
       "      <td>0.000000</td>\n",
       "      <td>0</td>\n",
       "      <td>0.000000</td>\n",
       "      <td>0</td>\n",
       "      <td>NaN</td>\n",
       "      <td>0.000000</td>\n",
       "      <td>2</td>\n",
       "      <td>1.066667</td>\n",
       "      <td>0.0</td>\n",
       "      <td>3</td>\n",
       "      <td>0.700000</td>\n",
       "      <td>0.233432</td>\n",
       "      <td>0</td>\n",
       "      <td>0</td>\n",
       "      <td>NaN</td>\n",
       "      <td>NaN</td>\n",
       "      <td>1</td>\n",
       "    </tr>\n",
       "    <tr>\n",
       "      <th>6</th>\n",
       "      <td>7633257</td>\n",
       "      <td>4G</td>\n",
       "      <td>Smartphone</td>\n",
       "      <td>MALE</td>\n",
       "      <td>Kegalle</td>\n",
       "      <td>30-40</td>\n",
       "      <td>35</td>\n",
       "      <td>1977.19</td>\n",
       "      <td>14782</td>\n",
       "      <td>205.394300</td>\n",
       "      <td>1001.028832</td>\n",
       "      <td>795.634533</td>\n",
       "      <td>492.737055</td>\n",
       "      <td>30</td>\n",
       "      <td>177.211955</td>\n",
       "      <td>0</td>\n",
       "      <td>0.000000</td>\n",
       "      <td>0</td>\n",
       "      <td>0.000000</td>\n",
       "      <td>0</td>\n",
       "      <td>NaN</td>\n",
       "      <td>0.000000</td>\n",
       "      <td>0</td>\n",
       "      <td>0.000000</td>\n",
       "      <td>0.0</td>\n",
       "      <td>0</td>\n",
       "      <td>NaN</td>\n",
       "      <td>0.000000</td>\n",
       "      <td>0</td>\n",
       "      <td>0</td>\n",
       "      <td>110.0</td>\n",
       "      <td>1.0</td>\n",
       "      <td>5</td>\n",
       "    </tr>\n",
       "    <tr>\n",
       "      <th>7</th>\n",
       "      <td>5507217</td>\n",
       "      <td>4G</td>\n",
       "      <td>Smartphone</td>\n",
       "      <td>MALE</td>\n",
       "      <td>Gampaha</td>\n",
       "      <td>30-40</td>\n",
       "      <td>170</td>\n",
       "      <td>2925.00</td>\n",
       "      <td>3473</td>\n",
       "      <td>6.426329</td>\n",
       "      <td>1132.109515</td>\n",
       "      <td>1125.683187</td>\n",
       "      <td>115.785698</td>\n",
       "      <td>30</td>\n",
       "      <td>222.353815</td>\n",
       "      <td>43</td>\n",
       "      <td>9.966667</td>\n",
       "      <td>0</td>\n",
       "      <td>9.966667</td>\n",
       "      <td>7</td>\n",
       "      <td>6.147619</td>\n",
       "      <td>2.939495</td>\n",
       "      <td>0</td>\n",
       "      <td>0.000000</td>\n",
       "      <td>0.0</td>\n",
       "      <td>0</td>\n",
       "      <td>NaN</td>\n",
       "      <td>0.000000</td>\n",
       "      <td>0</td>\n",
       "      <td>0</td>\n",
       "      <td>650.0</td>\n",
       "      <td>1.0</td>\n",
       "      <td>5</td>\n",
       "    </tr>\n",
       "    <tr>\n",
       "      <th>8</th>\n",
       "      <td>7566055</td>\n",
       "      <td>4G</td>\n",
       "      <td>Smartphone</td>\n",
       "      <td>MALE</td>\n",
       "      <td>Kalutara</td>\n",
       "      <td>20-30</td>\n",
       "      <td>48</td>\n",
       "      <td>473.59</td>\n",
       "      <td>3870</td>\n",
       "      <td>0.000000</td>\n",
       "      <td>1180.032728</td>\n",
       "      <td>1180.032728</td>\n",
       "      <td>552.976737</td>\n",
       "      <td>7</td>\n",
       "      <td>337.334503</td>\n",
       "      <td>7</td>\n",
       "      <td>6.700000</td>\n",
       "      <td>0</td>\n",
       "      <td>6.700000</td>\n",
       "      <td>2</td>\n",
       "      <td>3.575000</td>\n",
       "      <td>1.313412</td>\n",
       "      <td>34</td>\n",
       "      <td>22.883333</td>\n",
       "      <td>0.0</td>\n",
       "      <td>3</td>\n",
       "      <td>11.338889</td>\n",
       "      <td>4.661264</td>\n",
       "      <td>0</td>\n",
       "      <td>0</td>\n",
       "      <td>110.0</td>\n",
       "      <td>1.0</td>\n",
       "      <td>2</td>\n",
       "    </tr>\n",
       "    <tr>\n",
       "      <th>9</th>\n",
       "      <td>7324903</td>\n",
       "      <td>4G</td>\n",
       "      <td>Smartphone</td>\n",
       "      <td>MALE</td>\n",
       "      <td>Colombo</td>\n",
       "      <td>20-30</td>\n",
       "      <td>81</td>\n",
       "      <td>1324.60</td>\n",
       "      <td>20876</td>\n",
       "      <td>3.450117</td>\n",
       "      <td>1290.141176</td>\n",
       "      <td>1286.691059</td>\n",
       "      <td>695.869196</td>\n",
       "      <td>30</td>\n",
       "      <td>334.779967</td>\n",
       "      <td>7</td>\n",
       "      <td>7.400000</td>\n",
       "      <td>0</td>\n",
       "      <td>7.400000</td>\n",
       "      <td>1</td>\n",
       "      <td>7.400000</td>\n",
       "      <td>1.351049</td>\n",
       "      <td>11</td>\n",
       "      <td>6.816667</td>\n",
       "      <td>0.0</td>\n",
       "      <td>6</td>\n",
       "      <td>1.922222</td>\n",
       "      <td>1.310881</td>\n",
       "      <td>0</td>\n",
       "      <td>0</td>\n",
       "      <td>360.0</td>\n",
       "      <td>2.0</td>\n",
       "      <td>2</td>\n",
       "    </tr>\n",
       "    <tr>\n",
       "      <th>10</th>\n",
       "      <td>4058040</td>\n",
       "      <td>4G</td>\n",
       "      <td>Smartphone</td>\n",
       "      <td>FEMALE</td>\n",
       "      <td>Kalutara</td>\n",
       "      <td>30-40</td>\n",
       "      <td>64</td>\n",
       "      <td>1612.70</td>\n",
       "      <td>11580</td>\n",
       "      <td>49.483975</td>\n",
       "      <td>1105.013389</td>\n",
       "      <td>1055.529413</td>\n",
       "      <td>386.002511</td>\n",
       "      <td>30</td>\n",
       "      <td>248.073070</td>\n",
       "      <td>0</td>\n",
       "      <td>0.000000</td>\n",
       "      <td>0</td>\n",
       "      <td>0.000000</td>\n",
       "      <td>0</td>\n",
       "      <td>NaN</td>\n",
       "      <td>0.000000</td>\n",
       "      <td>27</td>\n",
       "      <td>11.416667</td>\n",
       "      <td>0.0</td>\n",
       "      <td>7</td>\n",
       "      <td>3.959524</td>\n",
       "      <td>2.649690</td>\n",
       "      <td>0</td>\n",
       "      <td>0</td>\n",
       "      <td>740.0</td>\n",
       "      <td>2.0</td>\n",
       "      <td>3</td>\n",
       "    </tr>\n",
       "    <tr>\n",
       "      <th>11</th>\n",
       "      <td>9835417</td>\n",
       "      <td>4G</td>\n",
       "      <td>Smartphone</td>\n",
       "      <td>FEMALE</td>\n",
       "      <td>Kurunegala</td>\n",
       "      <td>30-40</td>\n",
       "      <td>32</td>\n",
       "      <td>0.00</td>\n",
       "      <td>136</td>\n",
       "      <td>0.000000</td>\n",
       "      <td>100.385936</td>\n",
       "      <td>100.385936</td>\n",
       "      <td>34.225912</td>\n",
       "      <td>4</td>\n",
       "      <td>36.431212</td>\n",
       "      <td>0</td>\n",
       "      <td>0.000000</td>\n",
       "      <td>0</td>\n",
       "      <td>0.000000</td>\n",
       "      <td>0</td>\n",
       "      <td>NaN</td>\n",
       "      <td>0.000000</td>\n",
       "      <td>2</td>\n",
       "      <td>2.083333</td>\n",
       "      <td>0.0</td>\n",
       "      <td>2</td>\n",
       "      <td>1.283333</td>\n",
       "      <td>0.778115</td>\n",
       "      <td>0</td>\n",
       "      <td>0</td>\n",
       "      <td>110.0</td>\n",
       "      <td>1.0</td>\n",
       "      <td>1</td>\n",
       "    </tr>\n",
       "    <tr>\n",
       "      <th>12</th>\n",
       "      <td>8104537</td>\n",
       "      <td>4G</td>\n",
       "      <td>Smartphone</td>\n",
       "      <td>MALE</td>\n",
       "      <td>Gampaha</td>\n",
       "      <td>30-40</td>\n",
       "      <td>26</td>\n",
       "      <td>1787.08</td>\n",
       "      <td>10043</td>\n",
       "      <td>40.711069</td>\n",
       "      <td>1021.117332</td>\n",
       "      <td>980.406263</td>\n",
       "      <td>334.795648</td>\n",
       "      <td>30</td>\n",
       "      <td>225.810812</td>\n",
       "      <td>0</td>\n",
       "      <td>0.000000</td>\n",
       "      <td>0</td>\n",
       "      <td>0.000000</td>\n",
       "      <td>0</td>\n",
       "      <td>NaN</td>\n",
       "      <td>0.000000</td>\n",
       "      <td>0</td>\n",
       "      <td>0.000000</td>\n",
       "      <td>0.0</td>\n",
       "      <td>0</td>\n",
       "      <td>NaN</td>\n",
       "      <td>0.000000</td>\n",
       "      <td>0</td>\n",
       "      <td>0</td>\n",
       "      <td>NaN</td>\n",
       "      <td>NaN</td>\n",
       "      <td>5</td>\n",
       "    </tr>\n",
       "    <tr>\n",
       "      <th>13</th>\n",
       "      <td>6937092</td>\n",
       "      <td>2G</td>\n",
       "      <td>Basic</td>\n",
       "      <td>MALE</td>\n",
       "      <td>Puttalam</td>\n",
       "      <td>40-50</td>\n",
       "      <td>178</td>\n",
       "      <td>496.34</td>\n",
       "      <td>0</td>\n",
       "      <td>0.000000</td>\n",
       "      <td>0.000000</td>\n",
       "      <td>0.000000</td>\n",
       "      <td>NaN</td>\n",
       "      <td>0</td>\n",
       "      <td>0.000000</td>\n",
       "      <td>0</td>\n",
       "      <td>0.000000</td>\n",
       "      <td>0</td>\n",
       "      <td>0.000000</td>\n",
       "      <td>0</td>\n",
       "      <td>NaN</td>\n",
       "      <td>0.000000</td>\n",
       "      <td>14</td>\n",
       "      <td>13.566667</td>\n",
       "      <td>0.0</td>\n",
       "      <td>3</td>\n",
       "      <td>4.911111</td>\n",
       "      <td>2.560657</td>\n",
       "      <td>0</td>\n",
       "      <td>0</td>\n",
       "      <td>NaN</td>\n",
       "      <td>NaN</td>\n",
       "      <td>1</td>\n",
       "    </tr>\n",
       "    <tr>\n",
       "      <th>14</th>\n",
       "      <td>3515441</td>\n",
       "      <td>3G</td>\n",
       "      <td>Smartphone</td>\n",
       "      <td>MALE</td>\n",
       "      <td>Galle</td>\n",
       "      <td>50-60</td>\n",
       "      <td>18</td>\n",
       "      <td>1528.66</td>\n",
       "      <td>1447</td>\n",
       "      <td>0.000000</td>\n",
       "      <td>199.305175</td>\n",
       "      <td>199.305175</td>\n",
       "      <td>55.678351</td>\n",
       "      <td>26</td>\n",
       "      <td>58.703614</td>\n",
       "      <td>57</td>\n",
       "      <td>19.650000</td>\n",
       "      <td>0</td>\n",
       "      <td>19.650000</td>\n",
       "      <td>4</td>\n",
       "      <td>14.408333</td>\n",
       "      <td>5.559296</td>\n",
       "      <td>21</td>\n",
       "      <td>11.050000</td>\n",
       "      <td>0.0</td>\n",
       "      <td>5</td>\n",
       "      <td>4.273333</td>\n",
       "      <td>2.357698</td>\n",
       "      <td>0</td>\n",
       "      <td>0</td>\n",
       "      <td>NaN</td>\n",
       "      <td>NaN</td>\n",
       "      <td>1</td>\n",
       "    </tr>\n",
       "    <tr>\n",
       "      <th>15</th>\n",
       "      <td>1254707</td>\n",
       "      <td>4G</td>\n",
       "      <td>Smartphone</td>\n",
       "      <td>FEMALE</td>\n",
       "      <td>Colombo</td>\n",
       "      <td>30-40</td>\n",
       "      <td>94</td>\n",
       "      <td>1826.41</td>\n",
       "      <td>3978</td>\n",
       "      <td>1.125170</td>\n",
       "      <td>836.352979</td>\n",
       "      <td>835.227809</td>\n",
       "      <td>132.602035</td>\n",
       "      <td>30</td>\n",
       "      <td>192.323588</td>\n",
       "      <td>9</td>\n",
       "      <td>9.750000</td>\n",
       "      <td>0</td>\n",
       "      <td>9.750000</td>\n",
       "      <td>1</td>\n",
       "      <td>9.750000</td>\n",
       "      <td>1.780098</td>\n",
       "      <td>47</td>\n",
       "      <td>21.366667</td>\n",
       "      <td>0.0</td>\n",
       "      <td>11</td>\n",
       "      <td>4.310606</td>\n",
       "      <td>4.407215</td>\n",
       "      <td>0</td>\n",
       "      <td>0</td>\n",
       "      <td>350.0</td>\n",
       "      <td>1.0</td>\n",
       "      <td>3</td>\n",
       "    </tr>\n",
       "    <tr>\n",
       "      <th>16</th>\n",
       "      <td>5038603</td>\n",
       "      <td>4G</td>\n",
       "      <td>Smartphone</td>\n",
       "      <td>FEMALE</td>\n",
       "      <td>Colombo</td>\n",
       "      <td>30-40</td>\n",
       "      <td>52</td>\n",
       "      <td>352.97</td>\n",
       "      <td>1862</td>\n",
       "      <td>2.095556</td>\n",
       "      <td>356.642125</td>\n",
       "      <td>354.546569</td>\n",
       "      <td>62.089134</td>\n",
       "      <td>30</td>\n",
       "      <td>92.779127</td>\n",
       "      <td>0</td>\n",
       "      <td>0.000000</td>\n",
       "      <td>0</td>\n",
       "      <td>0.000000</td>\n",
       "      <td>0</td>\n",
       "      <td>NaN</td>\n",
       "      <td>0.000000</td>\n",
       "      <td>7</td>\n",
       "      <td>2.816667</td>\n",
       "      <td>0.0</td>\n",
       "      <td>6</td>\n",
       "      <td>1.236111</td>\n",
       "      <td>0.657627</td>\n",
       "      <td>0</td>\n",
       "      <td>0</td>\n",
       "      <td>NaN</td>\n",
       "      <td>NaN</td>\n",
       "      <td>2</td>\n",
       "    </tr>\n",
       "    <tr>\n",
       "      <th>17</th>\n",
       "      <td>3037770</td>\n",
       "      <td>2G</td>\n",
       "      <td>Feature phone</td>\n",
       "      <td>MALE</td>\n",
       "      <td>Kalutara</td>\n",
       "      <td>50-60</td>\n",
       "      <td>4</td>\n",
       "      <td>557.74</td>\n",
       "      <td>0</td>\n",
       "      <td>0.000000</td>\n",
       "      <td>0.000000</td>\n",
       "      <td>0.000000</td>\n",
       "      <td>NaN</td>\n",
       "      <td>0</td>\n",
       "      <td>0.000000</td>\n",
       "      <td>0</td>\n",
       "      <td>0.000000</td>\n",
       "      <td>0</td>\n",
       "      <td>0.000000</td>\n",
       "      <td>0</td>\n",
       "      <td>NaN</td>\n",
       "      <td>0.000000</td>\n",
       "      <td>49</td>\n",
       "      <td>10.216667</td>\n",
       "      <td>0.0</td>\n",
       "      <td>22</td>\n",
       "      <td>2.231061</td>\n",
       "      <td>2.491781</td>\n",
       "      <td>0</td>\n",
       "      <td>0</td>\n",
       "      <td>NaN</td>\n",
       "      <td>NaN</td>\n",
       "      <td>1</td>\n",
       "    </tr>\n",
       "    <tr>\n",
       "      <th>18</th>\n",
       "      <td>4669431</td>\n",
       "      <td>4G</td>\n",
       "      <td>Smartphone</td>\n",
       "      <td>FEMALE</td>\n",
       "      <td>Gampaha</td>\n",
       "      <td>20-30</td>\n",
       "      <td>57</td>\n",
       "      <td>4721.84</td>\n",
       "      <td>19508</td>\n",
       "      <td>205.565197</td>\n",
       "      <td>1417.438719</td>\n",
       "      <td>1211.873522</td>\n",
       "      <td>650.270801</td>\n",
       "      <td>30</td>\n",
       "      <td>340.750340</td>\n",
       "      <td>0</td>\n",
       "      <td>0.000000</td>\n",
       "      <td>0</td>\n",
       "      <td>0.000000</td>\n",
       "      <td>0</td>\n",
       "      <td>NaN</td>\n",
       "      <td>0.000000</td>\n",
       "      <td>0</td>\n",
       "      <td>0.000000</td>\n",
       "      <td>0.0</td>\n",
       "      <td>0</td>\n",
       "      <td>NaN</td>\n",
       "      <td>0.000000</td>\n",
       "      <td>0</td>\n",
       "      <td>0</td>\n",
       "      <td>2550.0</td>\n",
       "      <td>5.0</td>\n",
       "      <td>3</td>\n",
       "    </tr>\n",
       "    <tr>\n",
       "      <th>19</th>\n",
       "      <td>8683145</td>\n",
       "      <td>4G</td>\n",
       "      <td>Smartphone</td>\n",
       "      <td>MALE</td>\n",
       "      <td>Galle</td>\n",
       "      <td>40-50</td>\n",
       "      <td>126</td>\n",
       "      <td>1165.14</td>\n",
       "      <td>325</td>\n",
       "      <td>0.000000</td>\n",
       "      <td>70.372355</td>\n",
       "      <td>70.372355</td>\n",
       "      <td>12.037511</td>\n",
       "      <td>27</td>\n",
       "      <td>17.202423</td>\n",
       "      <td>0</td>\n",
       "      <td>0.000000</td>\n",
       "      <td>0</td>\n",
       "      <td>0.000000</td>\n",
       "      <td>0</td>\n",
       "      <td>NaN</td>\n",
       "      <td>0.000000</td>\n",
       "      <td>59</td>\n",
       "      <td>11.700000</td>\n",
       "      <td>0.0</td>\n",
       "      <td>15</td>\n",
       "      <td>3.936667</td>\n",
       "      <td>3.213490</td>\n",
       "      <td>0</td>\n",
       "      <td>1</td>\n",
       "      <td>NaN</td>\n",
       "      <td>NaN</td>\n",
       "      <td>2</td>\n",
       "    </tr>\n",
       "  </tbody>\n",
       "</table>\n",
       "</div>"
      ],
      "text/plain": [
       "    primary_identifier device_type  ... add_on_count encoded_class_labels\n",
       "0              6875768          4G  ...          NaN                    2\n",
       "1              6406277          4G  ...          2.0                    1\n",
       "2              3563570          4G  ...          1.0                    6\n",
       "3              1853666          4G  ...          2.0                    4\n",
       "4              2794331          4G  ...          2.0                    4\n",
       "5              3619017          2G  ...          NaN                    1\n",
       "6              7633257          4G  ...          1.0                    5\n",
       "7              5507217          4G  ...          1.0                    5\n",
       "8              7566055          4G  ...          1.0                    2\n",
       "9              7324903          4G  ...          2.0                    2\n",
       "10             4058040          4G  ...          2.0                    3\n",
       "11             9835417          4G  ...          1.0                    1\n",
       "12             8104537          4G  ...          NaN                    5\n",
       "13             6937092          2G  ...          NaN                    1\n",
       "14             3515441          3G  ...          NaN                    1\n",
       "15             1254707          4G  ...          1.0                    3\n",
       "16             5038603          4G  ...          NaN                    2\n",
       "17             3037770          2G  ...          NaN                    1\n",
       "18             4669431          4G  ...          5.0                    3\n",
       "19             8683145          4G  ...          NaN                    2\n",
       "\n",
       "[20 rows x 33 columns]"
      ]
     },
     "execution_count": 12,
     "metadata": {},
     "output_type": "execute_result"
    }
   ],
   "source": [
    "train_data.head(20)"
   ]
  },
  {
   "cell_type": "markdown",
   "id": "other-apollo",
   "metadata": {
    "id": "other-apollo"
   },
   "source": [
    "## Handling Missing Values"
   ]
  },
  {
   "cell_type": "code",
   "execution_count": 13,
   "id": "experimental-latino",
   "metadata": {
    "colab": {
     "base_uri": "https://localhost:8080/"
    },
    "id": "experimental-latino",
    "outputId": "9a980a67-2f95-4082-d6d4-5c94017467c1"
   },
   "outputs": [
    {
     "name": "stdout",
     "output_type": "stream",
     "text": [
      "<class 'pandas.core.frame.DataFrame'>\n",
      "RangeIndex: 10500 entries, 0 to 10499\n",
      "Data columns (total 33 columns):\n",
      " #   Column                       Non-Null Count  Dtype  \n",
      "---  ------                       --------------  -----  \n",
      " 0   primary_identifier           10500 non-null  int64  \n",
      " 1   device_type                  10477 non-null  object \n",
      " 2   device_category              10470 non-null  object \n",
      " 3   gender                       10365 non-null  object \n",
      " 4   district_name                10500 non-null  object \n",
      " 5   age_group                    10365 non-null  object \n",
      " 6   network_stay                 10500 non-null  int64  \n",
      " 7   average_monthly_bill_amount  10500 non-null  float64\n",
      " 8   dusage_sum                   10500 non-null  int64  \n",
      " 9   dusage_min                   10500 non-null  float64\n",
      " 10  dusage_max                   10500 non-null  float64\n",
      " 11  dusage_diff                  10500 non-null  float64\n",
      " 12  dusage_avg                   9642 non-null   float64\n",
      " 13  dusage_days                  10500 non-null  int64  \n",
      " 14  dusage_stddev                10500 non-null  float64\n",
      " 15  vusage_onnet_sum             10500 non-null  int64  \n",
      " 16  vusage_onnet_max             10500 non-null  float64\n",
      " 17  vusage_onnet_min             10500 non-null  int64  \n",
      " 18  vusage_onnet_diff            10500 non-null  float64\n",
      " 19  vusage_onnet_days            10500 non-null  int64  \n",
      " 20  vusage_onnet_avg             1828 non-null   float64\n",
      " 21  vusage_onnet_stddev          10500 non-null  float64\n",
      " 22  vusage_offnet_sum            10500 non-null  int64  \n",
      " 23  vusage_offnet_max            10500 non-null  float64\n",
      " 24  vusage_offnet_min            10500 non-null  float64\n",
      " 25  vusage_offnet_days           10500 non-null  int64  \n",
      " 26  vusage_offnet_avg            7187 non-null   float64\n",
      " 27  vusage_offnet_stddev         10500 non-null  float64\n",
      " 28  number_of_fixed_bb_accounts  10500 non-null  int64  \n",
      " 29  number_of_iptv_accounts      10500 non-null  int64  \n",
      " 30  add_on_tot_rental            6667 non-null   float64\n",
      " 31  add_on_count                 6667 non-null   float64\n",
      " 32  encoded_class_labels         10500 non-null  int64  \n",
      "dtypes: float64(16), int64(12), object(5)\n",
      "memory usage: 2.6+ MB\n"
     ]
    }
   ],
   "source": [
    "train_data.info()"
   ]
  },
  {
   "cell_type": "code",
   "execution_count": 14,
   "id": "threaded-market",
   "metadata": {
    "colab": {
     "base_uri": "https://localhost:8080/"
    },
    "id": "threaded-market",
    "outputId": "45fc608d-9006-472a-bcc9-5013900ff519"
   },
   "outputs": [
    {
     "data": {
      "text/plain": [
       "array(['Smartphone', 'Basic', 'Feature phone', 'Pluggable card', 'Tablet',\n",
       "       nan, 'Modem'], dtype=object)"
      ]
     },
     "execution_count": 14,
     "metadata": {},
     "output_type": "execute_result"
    }
   ],
   "source": [
    "train_data['device_category'].unique()"
   ]
  },
  {
   "cell_type": "code",
   "execution_count": 15,
   "id": "metropolitan-joining",
   "metadata": {
    "id": "metropolitan-joining"
   },
   "outputs": [],
   "source": [
    "train_data['device_type'] = train_data['device_type'].fillna(value = 'Unknown')\n",
    "train_data['device_category'] = train_data['device_category'].fillna(value = 'Unknown')\n",
    "train_data['gender'] = train_data['gender'].fillna(value = 'Unknown')\n",
    "train_data['age_group'] = train_data['age_group'].fillna(value = 'Unknown')"
   ]
  },
  {
   "cell_type": "code",
   "execution_count": null,
   "id": "floppy-second",
   "metadata": {
    "id": "floppy-second"
   },
   "outputs": [],
   "source": []
  },
  {
   "cell_type": "code",
   "execution_count": 16,
   "id": "minimal-producer",
   "metadata": {
    "id": "minimal-producer"
   },
   "outputs": [],
   "source": [
    "train_data['dusage_avg'] = train_data['dusage_avg'].fillna(value = 0)\n",
    "train_data['vusage_offnet_avg'] = train_data['vusage_offnet_avg'].fillna(value = 0)\n",
    "train_data['add_on_tot_rental'] = train_data['add_on_tot_rental'].fillna(value = 0)\n",
    "train_data['add_on_count'] = train_data['add_on_count'].fillna(value = 0)\n",
    "train_data['vusage_onnet_avg'] = train_data['vusage_onnet_avg'].fillna(value = 0)"
   ]
  },
  {
   "cell_type": "code",
   "execution_count": 17,
   "id": "regulation-appointment",
   "metadata": {
    "colab": {
     "base_uri": "https://localhost:8080/"
    },
    "id": "regulation-appointment",
    "outputId": "d0661fe0-a430-4cd9-b4af-2ba5631a638a"
   },
   "outputs": [
    {
     "name": "stdout",
     "output_type": "stream",
     "text": [
      "<class 'pandas.core.frame.DataFrame'>\n",
      "RangeIndex: 10500 entries, 0 to 10499\n",
      "Data columns (total 33 columns):\n",
      " #   Column                       Non-Null Count  Dtype  \n",
      "---  ------                       --------------  -----  \n",
      " 0   primary_identifier           10500 non-null  int64  \n",
      " 1   device_type                  10500 non-null  object \n",
      " 2   device_category              10500 non-null  object \n",
      " 3   gender                       10500 non-null  object \n",
      " 4   district_name                10500 non-null  object \n",
      " 5   age_group                    10500 non-null  object \n",
      " 6   network_stay                 10500 non-null  int64  \n",
      " 7   average_monthly_bill_amount  10500 non-null  float64\n",
      " 8   dusage_sum                   10500 non-null  int64  \n",
      " 9   dusage_min                   10500 non-null  float64\n",
      " 10  dusage_max                   10500 non-null  float64\n",
      " 11  dusage_diff                  10500 non-null  float64\n",
      " 12  dusage_avg                   10500 non-null  float64\n",
      " 13  dusage_days                  10500 non-null  int64  \n",
      " 14  dusage_stddev                10500 non-null  float64\n",
      " 15  vusage_onnet_sum             10500 non-null  int64  \n",
      " 16  vusage_onnet_max             10500 non-null  float64\n",
      " 17  vusage_onnet_min             10500 non-null  int64  \n",
      " 18  vusage_onnet_diff            10500 non-null  float64\n",
      " 19  vusage_onnet_days            10500 non-null  int64  \n",
      " 20  vusage_onnet_avg             10500 non-null  float64\n",
      " 21  vusage_onnet_stddev          10500 non-null  float64\n",
      " 22  vusage_offnet_sum            10500 non-null  int64  \n",
      " 23  vusage_offnet_max            10500 non-null  float64\n",
      " 24  vusage_offnet_min            10500 non-null  float64\n",
      " 25  vusage_offnet_days           10500 non-null  int64  \n",
      " 26  vusage_offnet_avg            10500 non-null  float64\n",
      " 27  vusage_offnet_stddev         10500 non-null  float64\n",
      " 28  number_of_fixed_bb_accounts  10500 non-null  int64  \n",
      " 29  number_of_iptv_accounts      10500 non-null  int64  \n",
      " 30  add_on_tot_rental            10500 non-null  float64\n",
      " 31  add_on_count                 10500 non-null  float64\n",
      " 32  encoded_class_labels         10500 non-null  int64  \n",
      "dtypes: float64(16), int64(12), object(5)\n",
      "memory usage: 2.6+ MB\n"
     ]
    }
   ],
   "source": [
    "train_data.info()"
   ]
  },
  {
   "cell_type": "code",
   "execution_count": 18,
   "id": "_GOA4uxxIyoT",
   "metadata": {
    "id": "_GOA4uxxIyoT"
   },
   "outputs": [],
   "source": [
    "train_data = train_data.drop(columns=['network_stay','dusage_min','dusage_max','vusage_onnet_max','vusage_onnet_min'])"
   ]
  },
  {
   "cell_type": "markdown",
   "id": "warming-pocket",
   "metadata": {
    "id": "warming-pocket"
   },
   "source": [
    "## Creating pre-processing pipeline"
   ]
  },
  {
   "cell_type": "code",
   "execution_count": 19,
   "id": "former-letter",
   "metadata": {
    "colab": {
     "base_uri": "https://localhost:8080/"
    },
    "id": "former-letter",
    "outputId": "159c54a1-ab75-4bbd-e211-d846f6a29e97"
   },
   "outputs": [
    {
     "data": {
      "text/plain": [
       "Index(['primary_identifier', 'device_type', 'device_category', 'gender',\n",
       "       'district_name', 'age_group', 'average_monthly_bill_amount',\n",
       "       'dusage_sum', 'dusage_diff', 'dusage_avg', 'dusage_days',\n",
       "       'dusage_stddev', 'vusage_onnet_sum', 'vusage_onnet_diff',\n",
       "       'vusage_onnet_days', 'vusage_onnet_avg', 'vusage_onnet_stddev',\n",
       "       'vusage_offnet_sum', 'vusage_offnet_max', 'vusage_offnet_min',\n",
       "       'vusage_offnet_days', 'vusage_offnet_avg', 'vusage_offnet_stddev',\n",
       "       'number_of_fixed_bb_accounts', 'number_of_iptv_accounts',\n",
       "       'add_on_tot_rental', 'add_on_count', 'encoded_class_labels'],\n",
       "      dtype='object')"
      ]
     },
     "execution_count": 19,
     "metadata": {},
     "output_type": "execute_result"
    }
   ],
   "source": [
    "train_data.columns"
   ]
  },
  {
   "cell_type": "code",
   "execution_count": 20,
   "id": "encouraging-strap",
   "metadata": {
    "id": "encouraging-strap"
   },
   "outputs": [],
   "source": [
    "data_cat_cols = ['device_type', 'device_category', 'gender', 'district_name', 'age_group']"
   ]
  },
  {
   "cell_type": "code",
   "execution_count": 30,
   "id": "floppy-graduate",
   "metadata": {
    "id": "floppy-graduate"
   },
   "outputs": [],
   "source": [
    "data_quan_cols = ['average_monthly_bill_amount', 'dusage_sum', \n",
    "                   'dusage_diff','dusage_avg', 'dusage_days', \n",
    "                  'dusage_stddev', 'vusage_onnet_sum','vusage_onnet_diff', \n",
    "                  'vusage_onnet_days', 'vusage_onnet_avg',\n",
    "                  'vusage_onnet_stddev', 'vusage_offnet_sum', 'vusage_offnet_max',\n",
    "                  'vusage_offnet_min', 'vusage_offnet_days', 'vusage_offnet_avg',\n",
    "                  'vusage_offnet_stddev', 'number_of_fixed_bb_accounts','number_of_iptv_accounts', \n",
    "                  'add_on_tot_rental', 'add_on_count']"
   ]
  },
  {
   "cell_type": "code",
   "execution_count": 31,
   "id": "experienced-blocking",
   "metadata": {
    "id": "experienced-blocking"
   },
   "outputs": [],
   "source": [
    "X = train_data.drop(columns=['encoded_class_labels', 'primary_identifier'])"
   ]
  },
  {
   "cell_type": "markdown",
   "id": "internal-lounge",
   "metadata": {
    "id": "internal-lounge"
   },
   "source": [
    "#### Dropping columns selected by Feature selection"
   ]
  },
  {
   "cell_type": "code",
   "execution_count": null,
   "id": "adequate-median",
   "metadata": {
    "id": "adequate-median"
   },
   "outputs": [],
   "source": [
    "columns_remove = ['network_stay', 'dusage_max']"
   ]
  },
  {
   "cell_type": "code",
   "execution_count": null,
   "id": "finite-justice",
   "metadata": {
    "id": "finite-justice"
   },
   "outputs": [],
   "source": [
    "# for col in columns_remove:\n",
    "#     data_quan_cols.remove(col)"
   ]
  },
  {
   "cell_type": "code",
   "execution_count": null,
   "id": "meaning-karen",
   "metadata": {
    "id": "meaning-karen"
   },
   "outputs": [],
   "source": [
    "#X = X.drop(columns=columns_remove)"
   ]
  },
  {
   "cell_type": "code",
   "execution_count": 32,
   "id": "unlikely-leader",
   "metadata": {
    "colab": {
     "base_uri": "https://localhost:8080/"
    },
    "id": "unlikely-leader",
    "outputId": "9cfd8301-5339-4bcb-e237-89a93950d839"
   },
   "outputs": [
    {
     "data": {
      "text/plain": [
       "Index(['device_type', 'device_category', 'gender', 'district_name',\n",
       "       'age_group', 'average_monthly_bill_amount', 'dusage_sum', 'dusage_diff',\n",
       "       'dusage_avg', 'dusage_days', 'dusage_stddev', 'vusage_onnet_sum',\n",
       "       'vusage_onnet_diff', 'vusage_onnet_days', 'vusage_onnet_avg',\n",
       "       'vusage_onnet_stddev', 'vusage_offnet_sum', 'vusage_offnet_max',\n",
       "       'vusage_offnet_min', 'vusage_offnet_days', 'vusage_offnet_avg',\n",
       "       'vusage_offnet_stddev', 'number_of_fixed_bb_accounts',\n",
       "       'number_of_iptv_accounts', 'add_on_tot_rental', 'add_on_count'],\n",
       "      dtype='object')"
      ]
     },
     "execution_count": 32,
     "metadata": {},
     "output_type": "execute_result"
    }
   ],
   "source": [
    "X.columns"
   ]
  },
  {
   "cell_type": "code",
   "execution_count": null,
   "id": "modular-thomas",
   "metadata": {
    "id": "modular-thomas"
   },
   "outputs": [],
   "source": []
  },
  {
   "cell_type": "code",
   "execution_count": 33,
   "id": "crucial-daily",
   "metadata": {
    "id": "crucial-daily"
   },
   "outputs": [],
   "source": [
    "y = train_data['encoded_class_labels']"
   ]
  },
  {
   "cell_type": "code",
   "execution_count": 34,
   "id": "supreme-defense",
   "metadata": {
    "id": "supreme-defense"
   },
   "outputs": [],
   "source": [
    "X_train, X_test, Y_train, Y_test = train_test_split(X, y, random_state=10, test_size = 0.05, stratify = y)"
   ]
  },
  {
   "cell_type": "code",
   "execution_count": 35,
   "id": "wound-reproduction",
   "metadata": {
    "colab": {
     "base_uri": "https://localhost:8080/",
     "height": 673
    },
    "id": "wound-reproduction",
    "outputId": "7d12d1e8-3a3f-4166-be47-ad71ddfdde93"
   },
   "outputs": [
    {
     "data": {
      "text/html": [
       "<div>\n",
       "<style scoped>\n",
       "    .dataframe tbody tr th:only-of-type {\n",
       "        vertical-align: middle;\n",
       "    }\n",
       "\n",
       "    .dataframe tbody tr th {\n",
       "        vertical-align: top;\n",
       "    }\n",
       "\n",
       "    .dataframe thead th {\n",
       "        text-align: right;\n",
       "    }\n",
       "</style>\n",
       "<table border=\"1\" class=\"dataframe\">\n",
       "  <thead>\n",
       "    <tr style=\"text-align: right;\">\n",
       "      <th></th>\n",
       "      <th>device_type</th>\n",
       "      <th>device_category</th>\n",
       "      <th>gender</th>\n",
       "      <th>district_name</th>\n",
       "      <th>age_group</th>\n",
       "      <th>average_monthly_bill_amount</th>\n",
       "      <th>dusage_sum</th>\n",
       "      <th>dusage_diff</th>\n",
       "      <th>dusage_avg</th>\n",
       "      <th>dusage_days</th>\n",
       "      <th>dusage_stddev</th>\n",
       "      <th>vusage_onnet_sum</th>\n",
       "      <th>vusage_onnet_diff</th>\n",
       "      <th>vusage_onnet_days</th>\n",
       "      <th>vusage_onnet_avg</th>\n",
       "      <th>vusage_onnet_stddev</th>\n",
       "      <th>vusage_offnet_sum</th>\n",
       "      <th>vusage_offnet_max</th>\n",
       "      <th>vusage_offnet_min</th>\n",
       "      <th>vusage_offnet_days</th>\n",
       "      <th>vusage_offnet_avg</th>\n",
       "      <th>vusage_offnet_stddev</th>\n",
       "      <th>number_of_fixed_bb_accounts</th>\n",
       "      <th>number_of_iptv_accounts</th>\n",
       "      <th>add_on_tot_rental</th>\n",
       "      <th>add_on_count</th>\n",
       "    </tr>\n",
       "  </thead>\n",
       "  <tbody>\n",
       "    <tr>\n",
       "      <th>6155</th>\n",
       "      <td>4G</td>\n",
       "      <td>Smartphone</td>\n",
       "      <td>MALE</td>\n",
       "      <td>Colombo</td>\n",
       "      <td>60-70</td>\n",
       "      <td>831.92</td>\n",
       "      <td>34164</td>\n",
       "      <td>1363.552058</td>\n",
       "      <td>1138.819100</td>\n",
       "      <td>30</td>\n",
       "      <td>399.148743</td>\n",
       "      <td>0</td>\n",
       "      <td>0.000000</td>\n",
       "      <td>0</td>\n",
       "      <td>0.000000</td>\n",
       "      <td>0.000000</td>\n",
       "      <td>5</td>\n",
       "      <td>3.600000</td>\n",
       "      <td>0.0</td>\n",
       "      <td>5</td>\n",
       "      <td>1.103333</td>\n",
       "      <td>0.672225</td>\n",
       "      <td>1</td>\n",
       "      <td>2</td>\n",
       "      <td>360.0</td>\n",
       "      <td>2.0</td>\n",
       "    </tr>\n",
       "    <tr>\n",
       "      <th>2288</th>\n",
       "      <td>4G</td>\n",
       "      <td>Smartphone</td>\n",
       "      <td>MALE</td>\n",
       "      <td>Kandy</td>\n",
       "      <td>20-30</td>\n",
       "      <td>2677.35</td>\n",
       "      <td>11984</td>\n",
       "      <td>1053.219714</td>\n",
       "      <td>399.470436</td>\n",
       "      <td>30</td>\n",
       "      <td>281.884382</td>\n",
       "      <td>0</td>\n",
       "      <td>0.000000</td>\n",
       "      <td>0</td>\n",
       "      <td>0.000000</td>\n",
       "      <td>0.000000</td>\n",
       "      <td>0</td>\n",
       "      <td>0.000000</td>\n",
       "      <td>0.0</td>\n",
       "      <td>0</td>\n",
       "      <td>0.000000</td>\n",
       "      <td>0.000000</td>\n",
       "      <td>0</td>\n",
       "      <td>0</td>\n",
       "      <td>0.0</td>\n",
       "      <td>0.0</td>\n",
       "    </tr>\n",
       "    <tr>\n",
       "      <th>9714</th>\n",
       "      <td>4G</td>\n",
       "      <td>Smartphone</td>\n",
       "      <td>MALE</td>\n",
       "      <td>Colombo</td>\n",
       "      <td>40-50</td>\n",
       "      <td>2627.77</td>\n",
       "      <td>19830</td>\n",
       "      <td>1014.929033</td>\n",
       "      <td>661.027294</td>\n",
       "      <td>30</td>\n",
       "      <td>220.638181</td>\n",
       "      <td>0</td>\n",
       "      <td>0.000000</td>\n",
       "      <td>0</td>\n",
       "      <td>0.000000</td>\n",
       "      <td>0.000000</td>\n",
       "      <td>0</td>\n",
       "      <td>0.000000</td>\n",
       "      <td>0.0</td>\n",
       "      <td>0</td>\n",
       "      <td>0.000000</td>\n",
       "      <td>0.000000</td>\n",
       "      <td>0</td>\n",
       "      <td>0</td>\n",
       "      <td>0.0</td>\n",
       "      <td>0.0</td>\n",
       "    </tr>\n",
       "    <tr>\n",
       "      <th>7157</th>\n",
       "      <td>4G</td>\n",
       "      <td>Smartphone</td>\n",
       "      <td>MALE</td>\n",
       "      <td>Colombo</td>\n",
       "      <td>40-50</td>\n",
       "      <td>4795.76</td>\n",
       "      <td>8498</td>\n",
       "      <td>712.027700</td>\n",
       "      <td>283.283955</td>\n",
       "      <td>30</td>\n",
       "      <td>216.864356</td>\n",
       "      <td>0</td>\n",
       "      <td>0.000000</td>\n",
       "      <td>0</td>\n",
       "      <td>0.000000</td>\n",
       "      <td>0.000000</td>\n",
       "      <td>114</td>\n",
       "      <td>17.050000</td>\n",
       "      <td>0.0</td>\n",
       "      <td>22</td>\n",
       "      <td>5.197727</td>\n",
       "      <td>4.522210</td>\n",
       "      <td>0</td>\n",
       "      <td>0</td>\n",
       "      <td>360.0</td>\n",
       "      <td>2.0</td>\n",
       "    </tr>\n",
       "    <tr>\n",
       "      <th>738</th>\n",
       "      <td>4G</td>\n",
       "      <td>Smartphone</td>\n",
       "      <td>MALE</td>\n",
       "      <td>Colombo</td>\n",
       "      <td>50-60</td>\n",
       "      <td>3978.40</td>\n",
       "      <td>36917</td>\n",
       "      <td>2074.850735</td>\n",
       "      <td>1230.593121</td>\n",
       "      <td>30</td>\n",
       "      <td>466.919448</td>\n",
       "      <td>0</td>\n",
       "      <td>0.000000</td>\n",
       "      <td>0</td>\n",
       "      <td>0.000000</td>\n",
       "      <td>0.000000</td>\n",
       "      <td>0</td>\n",
       "      <td>0.000000</td>\n",
       "      <td>0.0</td>\n",
       "      <td>0</td>\n",
       "      <td>0.000000</td>\n",
       "      <td>0.000000</td>\n",
       "      <td>0</td>\n",
       "      <td>0</td>\n",
       "      <td>1500.0</td>\n",
       "      <td>1.0</td>\n",
       "    </tr>\n",
       "    <tr>\n",
       "      <th>490</th>\n",
       "      <td>4G</td>\n",
       "      <td>Smartphone</td>\n",
       "      <td>FEMALE</td>\n",
       "      <td>Colombo</td>\n",
       "      <td>40-50</td>\n",
       "      <td>2582.98</td>\n",
       "      <td>6820</td>\n",
       "      <td>750.020165</td>\n",
       "      <td>227.350520</td>\n",
       "      <td>30</td>\n",
       "      <td>193.195645</td>\n",
       "      <td>0</td>\n",
       "      <td>0.000000</td>\n",
       "      <td>0</td>\n",
       "      <td>0.000000</td>\n",
       "      <td>0.000000</td>\n",
       "      <td>330</td>\n",
       "      <td>66.483333</td>\n",
       "      <td>0.0</td>\n",
       "      <td>18</td>\n",
       "      <td>18.367593</td>\n",
       "      <td>18.339099</td>\n",
       "      <td>0</td>\n",
       "      <td>1</td>\n",
       "      <td>650.0</td>\n",
       "      <td>1.0</td>\n",
       "    </tr>\n",
       "    <tr>\n",
       "      <th>467</th>\n",
       "      <td>4G</td>\n",
       "      <td>Smartphone</td>\n",
       "      <td>MALE</td>\n",
       "      <td>Kalutara</td>\n",
       "      <td>40-50</td>\n",
       "      <td>906.76</td>\n",
       "      <td>7652</td>\n",
       "      <td>957.962963</td>\n",
       "      <td>255.090212</td>\n",
       "      <td>30</td>\n",
       "      <td>282.895663</td>\n",
       "      <td>0</td>\n",
       "      <td>0.000000</td>\n",
       "      <td>0</td>\n",
       "      <td>0.000000</td>\n",
       "      <td>0.000000</td>\n",
       "      <td>104</td>\n",
       "      <td>17.700000</td>\n",
       "      <td>0.0</td>\n",
       "      <td>27</td>\n",
       "      <td>3.873457</td>\n",
       "      <td>4.288491</td>\n",
       "      <td>0</td>\n",
       "      <td>0</td>\n",
       "      <td>110.0</td>\n",
       "      <td>2.0</td>\n",
       "    </tr>\n",
       "    <tr>\n",
       "      <th>6161</th>\n",
       "      <td>4G</td>\n",
       "      <td>Smartphone</td>\n",
       "      <td>MALE</td>\n",
       "      <td>Colombo</td>\n",
       "      <td>30-40</td>\n",
       "      <td>2148.93</td>\n",
       "      <td>10470</td>\n",
       "      <td>1624.676157</td>\n",
       "      <td>349.017543</td>\n",
       "      <td>30</td>\n",
       "      <td>339.574431</td>\n",
       "      <td>323</td>\n",
       "      <td>43.866667</td>\n",
       "      <td>25</td>\n",
       "      <td>12.956000</td>\n",
       "      <td>12.350004</td>\n",
       "      <td>53</td>\n",
       "      <td>21.683333</td>\n",
       "      <td>0.0</td>\n",
       "      <td>9</td>\n",
       "      <td>5.916667</td>\n",
       "      <td>4.704471</td>\n",
       "      <td>0</td>\n",
       "      <td>0</td>\n",
       "      <td>0.0</td>\n",
       "      <td>0.0</td>\n",
       "    </tr>\n",
       "    <tr>\n",
       "      <th>1343</th>\n",
       "      <td>4G</td>\n",
       "      <td>Smartphone</td>\n",
       "      <td>MALE</td>\n",
       "      <td>Gampaha</td>\n",
       "      <td>40-50</td>\n",
       "      <td>2759.05</td>\n",
       "      <td>15901</td>\n",
       "      <td>1131.000009</td>\n",
       "      <td>530.056132</td>\n",
       "      <td>30</td>\n",
       "      <td>268.249199</td>\n",
       "      <td>66</td>\n",
       "      <td>20.950000</td>\n",
       "      <td>8</td>\n",
       "      <td>8.258333</td>\n",
       "      <td>5.098354</td>\n",
       "      <td>45</td>\n",
       "      <td>8.533333</td>\n",
       "      <td>0.0</td>\n",
       "      <td>11</td>\n",
       "      <td>4.140909</td>\n",
       "      <td>2.426823</td>\n",
       "      <td>0</td>\n",
       "      <td>0</td>\n",
       "      <td>0.0</td>\n",
       "      <td>0.0</td>\n",
       "    </tr>\n",
       "    <tr>\n",
       "      <th>5792</th>\n",
       "      <td>4G</td>\n",
       "      <td>Smartphone</td>\n",
       "      <td>MALE</td>\n",
       "      <td>Colombo</td>\n",
       "      <td>50-60</td>\n",
       "      <td>1069.44</td>\n",
       "      <td>13193</td>\n",
       "      <td>1681.258982</td>\n",
       "      <td>439.789331</td>\n",
       "      <td>30</td>\n",
       "      <td>321.920352</td>\n",
       "      <td>0</td>\n",
       "      <td>0.000000</td>\n",
       "      <td>0</td>\n",
       "      <td>0.000000</td>\n",
       "      <td>0.000000</td>\n",
       "      <td>31</td>\n",
       "      <td>13.333333</td>\n",
       "      <td>0.0</td>\n",
       "      <td>8</td>\n",
       "      <td>3.879167</td>\n",
       "      <td>2.785113</td>\n",
       "      <td>1</td>\n",
       "      <td>0</td>\n",
       "      <td>600.0</td>\n",
       "      <td>2.0</td>\n",
       "    </tr>\n",
       "    <tr>\n",
       "      <th>9711</th>\n",
       "      <td>4G</td>\n",
       "      <td>Smartphone</td>\n",
       "      <td>FEMALE</td>\n",
       "      <td>Gampaha</td>\n",
       "      <td>40-50</td>\n",
       "      <td>2126.13</td>\n",
       "      <td>5165</td>\n",
       "      <td>960.163307</td>\n",
       "      <td>184.468836</td>\n",
       "      <td>28</td>\n",
       "      <td>181.310519</td>\n",
       "      <td>0</td>\n",
       "      <td>0.000000</td>\n",
       "      <td>0</td>\n",
       "      <td>0.000000</td>\n",
       "      <td>0.000000</td>\n",
       "      <td>0</td>\n",
       "      <td>0.000000</td>\n",
       "      <td>0.0</td>\n",
       "      <td>0</td>\n",
       "      <td>0.000000</td>\n",
       "      <td>0.000000</td>\n",
       "      <td>0</td>\n",
       "      <td>0</td>\n",
       "      <td>40.0</td>\n",
       "      <td>1.0</td>\n",
       "    </tr>\n",
       "    <tr>\n",
       "      <th>8101</th>\n",
       "      <td>4G</td>\n",
       "      <td>Smartphone</td>\n",
       "      <td>FEMALE</td>\n",
       "      <td>Kalutara</td>\n",
       "      <td>40-50</td>\n",
       "      <td>989.94</td>\n",
       "      <td>10032</td>\n",
       "      <td>1311.559319</td>\n",
       "      <td>1114.703291</td>\n",
       "      <td>9</td>\n",
       "      <td>475.018874</td>\n",
       "      <td>0</td>\n",
       "      <td>0.000000</td>\n",
       "      <td>0</td>\n",
       "      <td>0.000000</td>\n",
       "      <td>0.000000</td>\n",
       "      <td>0</td>\n",
       "      <td>0.000000</td>\n",
       "      <td>0.0</td>\n",
       "      <td>0</td>\n",
       "      <td>0.000000</td>\n",
       "      <td>0.000000</td>\n",
       "      <td>0</td>\n",
       "      <td>0</td>\n",
       "      <td>520.0</td>\n",
       "      <td>3.0</td>\n",
       "    </tr>\n",
       "    <tr>\n",
       "      <th>2582</th>\n",
       "      <td>4G</td>\n",
       "      <td>Smartphone</td>\n",
       "      <td>FEMALE</td>\n",
       "      <td>Gampaha</td>\n",
       "      <td>40-50</td>\n",
       "      <td>829.50</td>\n",
       "      <td>13010</td>\n",
       "      <td>1781.257216</td>\n",
       "      <td>481.862324</td>\n",
       "      <td>27</td>\n",
       "      <td>438.957966</td>\n",
       "      <td>0</td>\n",
       "      <td>0.000000</td>\n",
       "      <td>0</td>\n",
       "      <td>0.000000</td>\n",
       "      <td>0.000000</td>\n",
       "      <td>9</td>\n",
       "      <td>8.050000</td>\n",
       "      <td>0.0</td>\n",
       "      <td>2</td>\n",
       "      <td>4.900000</td>\n",
       "      <td>1.493245</td>\n",
       "      <td>0</td>\n",
       "      <td>0</td>\n",
       "      <td>410.0</td>\n",
       "      <td>2.0</td>\n",
       "    </tr>\n",
       "    <tr>\n",
       "      <th>3711</th>\n",
       "      <td>4G</td>\n",
       "      <td>Smartphone</td>\n",
       "      <td>FEMALE</td>\n",
       "      <td>Colombo</td>\n",
       "      <td>20-30</td>\n",
       "      <td>1010.39</td>\n",
       "      <td>2585</td>\n",
       "      <td>483.231905</td>\n",
       "      <td>86.175506</td>\n",
       "      <td>30</td>\n",
       "      <td>101.367678</td>\n",
       "      <td>0</td>\n",
       "      <td>0.000000</td>\n",
       "      <td>0</td>\n",
       "      <td>0.000000</td>\n",
       "      <td>0.000000</td>\n",
       "      <td>81</td>\n",
       "      <td>11.833333</td>\n",
       "      <td>0.0</td>\n",
       "      <td>25</td>\n",
       "      <td>3.258667</td>\n",
       "      <td>3.088797</td>\n",
       "      <td>0</td>\n",
       "      <td>0</td>\n",
       "      <td>200.0</td>\n",
       "      <td>1.0</td>\n",
       "    </tr>\n",
       "    <tr>\n",
       "      <th>2789</th>\n",
       "      <td>2G</td>\n",
       "      <td>Feature phone</td>\n",
       "      <td>MALE</td>\n",
       "      <td>Badulla</td>\n",
       "      <td>40-50</td>\n",
       "      <td>745.14</td>\n",
       "      <td>0</td>\n",
       "      <td>0.000000</td>\n",
       "      <td>0.000000</td>\n",
       "      <td>0</td>\n",
       "      <td>0.000000</td>\n",
       "      <td>0</td>\n",
       "      <td>0.000000</td>\n",
       "      <td>0</td>\n",
       "      <td>0.000000</td>\n",
       "      <td>0.000000</td>\n",
       "      <td>44</td>\n",
       "      <td>6.066667</td>\n",
       "      <td>0.0</td>\n",
       "      <td>21</td>\n",
       "      <td>2.099206</td>\n",
       "      <td>1.724081</td>\n",
       "      <td>0</td>\n",
       "      <td>1</td>\n",
       "      <td>0.0</td>\n",
       "      <td>0.0</td>\n",
       "    </tr>\n",
       "    <tr>\n",
       "      <th>5569</th>\n",
       "      <td>4G</td>\n",
       "      <td>Smartphone</td>\n",
       "      <td>FEMALE</td>\n",
       "      <td>Gampaha</td>\n",
       "      <td>30-40</td>\n",
       "      <td>2090.50</td>\n",
       "      <td>4069</td>\n",
       "      <td>461.276706</td>\n",
       "      <td>135.647238</td>\n",
       "      <td>30</td>\n",
       "      <td>118.285318</td>\n",
       "      <td>0</td>\n",
       "      <td>0.000000</td>\n",
       "      <td>0</td>\n",
       "      <td>0.000000</td>\n",
       "      <td>0.000000</td>\n",
       "      <td>299</td>\n",
       "      <td>33.616667</td>\n",
       "      <td>0.0</td>\n",
       "      <td>24</td>\n",
       "      <td>12.493750</td>\n",
       "      <td>10.299765</td>\n",
       "      <td>0</td>\n",
       "      <td>0</td>\n",
       "      <td>0.0</td>\n",
       "      <td>1.0</td>\n",
       "    </tr>\n",
       "    <tr>\n",
       "      <th>3744</th>\n",
       "      <td>4G</td>\n",
       "      <td>Smartphone</td>\n",
       "      <td>FEMALE</td>\n",
       "      <td>Gampaha</td>\n",
       "      <td>30-40</td>\n",
       "      <td>1405.05</td>\n",
       "      <td>2094</td>\n",
       "      <td>293.523338</td>\n",
       "      <td>69.800667</td>\n",
       "      <td>30</td>\n",
       "      <td>70.539271</td>\n",
       "      <td>0</td>\n",
       "      <td>0.000000</td>\n",
       "      <td>0</td>\n",
       "      <td>0.000000</td>\n",
       "      <td>0.000000</td>\n",
       "      <td>161</td>\n",
       "      <td>54.500000</td>\n",
       "      <td>0.0</td>\n",
       "      <td>13</td>\n",
       "      <td>12.434615</td>\n",
       "      <td>12.956256</td>\n",
       "      <td>0</td>\n",
       "      <td>0</td>\n",
       "      <td>350.0</td>\n",
       "      <td>1.0</td>\n",
       "    </tr>\n",
       "    <tr>\n",
       "      <th>714</th>\n",
       "      <td>2G</td>\n",
       "      <td>Basic</td>\n",
       "      <td>MALE</td>\n",
       "      <td>Kalutara</td>\n",
       "      <td>30-40</td>\n",
       "      <td>1039.11</td>\n",
       "      <td>0</td>\n",
       "      <td>0.000000</td>\n",
       "      <td>0.000000</td>\n",
       "      <td>0</td>\n",
       "      <td>0.000000</td>\n",
       "      <td>0</td>\n",
       "      <td>0.000000</td>\n",
       "      <td>0</td>\n",
       "      <td>0.000000</td>\n",
       "      <td>0.000000</td>\n",
       "      <td>47</td>\n",
       "      <td>14.933333</td>\n",
       "      <td>0.0</td>\n",
       "      <td>20</td>\n",
       "      <td>2.356667</td>\n",
       "      <td>2.953237</td>\n",
       "      <td>0</td>\n",
       "      <td>1</td>\n",
       "      <td>0.0</td>\n",
       "      <td>0.0</td>\n",
       "    </tr>\n",
       "    <tr>\n",
       "      <th>7060</th>\n",
       "      <td>4G</td>\n",
       "      <td>Smartphone</td>\n",
       "      <td>MALE</td>\n",
       "      <td>Jaffna</td>\n",
       "      <td>30-40</td>\n",
       "      <td>3112.37</td>\n",
       "      <td>6446</td>\n",
       "      <td>887.344653</td>\n",
       "      <td>293.006802</td>\n",
       "      <td>22</td>\n",
       "      <td>200.669198</td>\n",
       "      <td>0</td>\n",
       "      <td>0.000000</td>\n",
       "      <td>0</td>\n",
       "      <td>0.000000</td>\n",
       "      <td>0.000000</td>\n",
       "      <td>5</td>\n",
       "      <td>3.450000</td>\n",
       "      <td>0.0</td>\n",
       "      <td>3</td>\n",
       "      <td>1.766667</td>\n",
       "      <td>0.775940</td>\n",
       "      <td>0</td>\n",
       "      <td>0</td>\n",
       "      <td>800.0</td>\n",
       "      <td>3.0</td>\n",
       "    </tr>\n",
       "    <tr>\n",
       "      <th>6213</th>\n",
       "      <td>4G</td>\n",
       "      <td>Smartphone</td>\n",
       "      <td>FEMALE</td>\n",
       "      <td>Puttalam</td>\n",
       "      <td>&gt;70</td>\n",
       "      <td>473.19</td>\n",
       "      <td>0</td>\n",
       "      <td>0.000000</td>\n",
       "      <td>0.000000</td>\n",
       "      <td>0</td>\n",
       "      <td>0.000000</td>\n",
       "      <td>0</td>\n",
       "      <td>0.000000</td>\n",
       "      <td>0</td>\n",
       "      <td>0.000000</td>\n",
       "      <td>0.000000</td>\n",
       "      <td>22</td>\n",
       "      <td>10.733333</td>\n",
       "      <td>0.0</td>\n",
       "      <td>9</td>\n",
       "      <td>2.475926</td>\n",
       "      <td>2.614520</td>\n",
       "      <td>0</td>\n",
       "      <td>0</td>\n",
       "      <td>0.0</td>\n",
       "      <td>0.0</td>\n",
       "    </tr>\n",
       "  </tbody>\n",
       "</table>\n",
       "</div>"
      ],
      "text/plain": [
       "     device_type device_category  ... add_on_tot_rental add_on_count\n",
       "6155          4G      Smartphone  ...             360.0          2.0\n",
       "2288          4G      Smartphone  ...               0.0          0.0\n",
       "9714          4G      Smartphone  ...               0.0          0.0\n",
       "7157          4G      Smartphone  ...             360.0          2.0\n",
       "738           4G      Smartphone  ...            1500.0          1.0\n",
       "490           4G      Smartphone  ...             650.0          1.0\n",
       "467           4G      Smartphone  ...             110.0          2.0\n",
       "6161          4G      Smartphone  ...               0.0          0.0\n",
       "1343          4G      Smartphone  ...               0.0          0.0\n",
       "5792          4G      Smartphone  ...             600.0          2.0\n",
       "9711          4G      Smartphone  ...              40.0          1.0\n",
       "8101          4G      Smartphone  ...             520.0          3.0\n",
       "2582          4G      Smartphone  ...             410.0          2.0\n",
       "3711          4G      Smartphone  ...             200.0          1.0\n",
       "2789          2G   Feature phone  ...               0.0          0.0\n",
       "5569          4G      Smartphone  ...               0.0          1.0\n",
       "3744          4G      Smartphone  ...             350.0          1.0\n",
       "714           2G           Basic  ...               0.0          0.0\n",
       "7060          4G      Smartphone  ...             800.0          3.0\n",
       "6213          4G      Smartphone  ...               0.0          0.0\n",
       "\n",
       "[20 rows x 26 columns]"
      ]
     },
     "execution_count": 35,
     "metadata": {},
     "output_type": "execute_result"
    }
   ],
   "source": [
    "X_train.head(20)"
   ]
  },
  {
   "cell_type": "code",
   "execution_count": 36,
   "id": "preceding-findings",
   "metadata": {
    "colab": {
     "base_uri": "https://localhost:8080/"
    },
    "id": "preceding-findings",
    "outputId": "d2279fb3-ce72-4900-f475-798f100e6dc3"
   },
   "outputs": [
    {
     "data": {
      "text/plain": [
       "array(['60-70', '20-30', '40-50', '50-60', '30-40', '>70', 'Unknown',\n",
       "       '<20'], dtype=object)"
      ]
     },
     "execution_count": 36,
     "metadata": {},
     "output_type": "execute_result"
    }
   ],
   "source": [
    "X_train['age_group'].unique()"
   ]
  },
  {
   "cell_type": "code",
   "execution_count": 37,
   "id": "signal-contest",
   "metadata": {
    "colab": {
     "base_uri": "https://localhost:8080/"
    },
    "id": "signal-contest",
    "outputId": "398e46f2-a0b2-4ff6-dd31-d3af5824e3ef"
   },
   "outputs": [
    {
     "data": {
      "text/plain": [
       "(9975, 26)"
      ]
     },
     "execution_count": 37,
     "metadata": {},
     "output_type": "execute_result"
    }
   ],
   "source": [
    "X_train.shape"
   ]
  },
  {
   "cell_type": "code",
   "execution_count": 38,
   "id": "musical-stability",
   "metadata": {
    "id": "musical-stability"
   },
   "outputs": [],
   "source": [
    "quan_pipeline = Pipeline([\n",
    "    ('std_scaler', StandardScaler())\n",
    "])\n",
    "\n",
    "quan_transformed = quan_pipeline.fit_transform(X_train[data_quan_cols])"
   ]
  },
  {
   "cell_type": "code",
   "execution_count": 39,
   "id": "breathing-integer",
   "metadata": {
    "id": "breathing-integer"
   },
   "outputs": [],
   "source": [
    "data_pipeline = ColumnTransformer([\n",
    "    ('numerical', quan_pipeline, data_quan_cols),\n",
    "    ('categorical', OneHotEncoder(handle_unknown = 'ignore'), data_cat_cols),\n",
    "    \n",
    "])\n",
    "\n",
    "train_data_processed = data_pipeline.fit_transform(X_train)"
   ]
  },
  {
   "cell_type": "code",
   "execution_count": null,
   "id": "le2iLCUYgtd2",
   "metadata": {
    "id": "le2iLCUYgtd2"
   },
   "outputs": [],
   "source": [
    "from sklearn.pipeline import Pipeline\n",
    "from sklearn.impute import SimpleImputer\n",
    "from sklearn.preprocessing import StandardScaler\n",
    "from sklearn.preprocessing import OneHotEncoder\n",
    "from sklearn.compose import ColumnTransformer\n",
    "\n",
    "num_attribs = list(housing_num)\n",
    "cat_attribs = list(housing_cat)\n",
    "\n",
    "num_pipeline = Pipeline([\n",
    "         \n",
    "         ('attribs_adder', FunctionTransformer(add_extra_features, validate=False)),\n",
    "         ('imputer', SimpleImputer(strategy=\"median\")),\n",
    "         ('std_scaler', StandardScaler())\n",
    "    ])\n",
    "full_pipeline = ColumnTransformer([\n",
    "        (\"num\", num_pipeline, num_attribs),\n",
    "        (cat_attribs),\n",
    "    ])\n",
    "\n",
    "housing_prepared = full_pipeline.fit_transform(housing_date1)"
   ]
  },
  {
   "cell_type": "code",
   "execution_count": 40,
   "id": "attractive-seven",
   "metadata": {
    "colab": {
     "base_uri": "https://localhost:8080/"
    },
    "id": "attractive-seven",
    "outputId": "26523604-c479-47c4-d034-221a9ff4df9b"
   },
   "outputs": [
    {
     "data": {
      "text/plain": [
       "array([-0.84948216,  1.34223453, -0.00532918,  1.2518874 ,  0.53621625,\n",
       "        0.16788833, -0.18788699, -0.2600062 , -0.28080456, -0.27565714,\n",
       "       -0.24650206, -0.47954691, -0.5031088 , -0.06635089, -0.42126523,\n",
       "       -0.4872795 , -0.53776094,  4.00769298,  3.49200503,  0.0538823 ,\n",
       "        0.60012268,  0.        ,  0.        ,  1.        ,  0.        ,\n",
       "        0.        ,  0.        ,  0.        ,  0.        ,  1.        ,\n",
       "        0.        ,  0.        ,  0.        ,  1.        ,  0.        ,\n",
       "        0.        ,  0.        ,  0.        ,  0.        ,  1.        ,\n",
       "        0.        ,  0.        ,  0.        ,  0.        ,  0.        ,\n",
       "        0.        ,  0.        ,  0.        ,  0.        ,  0.        ,\n",
       "        0.        ,  0.        ,  0.        ,  0.        ,  0.        ,\n",
       "        0.        ,  0.        ,  0.        ,  0.        ,  0.        ,\n",
       "        0.        ,  0.        ,  0.        ,  0.        ,  0.        ,\n",
       "        1.        ,  0.        ,  0.        ,  0.        ])"
      ]
     },
     "execution_count": 40,
     "metadata": {},
     "output_type": "execute_result"
    }
   ],
   "source": [
    "train_data_processed[0]"
   ]
  },
  {
   "cell_type": "code",
   "execution_count": 41,
   "id": "light-unemployment",
   "metadata": {
    "colab": {
     "base_uri": "https://localhost:8080/",
     "height": 220
    },
    "id": "light-unemployment",
    "outputId": "7fcedb06-79cf-49b4-f621-f7bedc05888f"
   },
   "outputs": [
    {
     "data": {
      "text/html": [
       "<div>\n",
       "<style scoped>\n",
       "    .dataframe tbody tr th:only-of-type {\n",
       "        vertical-align: middle;\n",
       "    }\n",
       "\n",
       "    .dataframe tbody tr th {\n",
       "        vertical-align: top;\n",
       "    }\n",
       "\n",
       "    .dataframe thead th {\n",
       "        text-align: right;\n",
       "    }\n",
       "</style>\n",
       "<table border=\"1\" class=\"dataframe\">\n",
       "  <thead>\n",
       "    <tr style=\"text-align: right;\">\n",
       "      <th></th>\n",
       "      <th>device_type</th>\n",
       "      <th>device_category</th>\n",
       "      <th>gender</th>\n",
       "      <th>district_name</th>\n",
       "      <th>age_group</th>\n",
       "      <th>average_monthly_bill_amount</th>\n",
       "      <th>dusage_sum</th>\n",
       "      <th>dusage_diff</th>\n",
       "      <th>dusage_avg</th>\n",
       "      <th>dusage_days</th>\n",
       "      <th>dusage_stddev</th>\n",
       "      <th>vusage_onnet_sum</th>\n",
       "      <th>vusage_onnet_diff</th>\n",
       "      <th>vusage_onnet_days</th>\n",
       "      <th>vusage_onnet_avg</th>\n",
       "      <th>vusage_onnet_stddev</th>\n",
       "      <th>vusage_offnet_sum</th>\n",
       "      <th>vusage_offnet_max</th>\n",
       "      <th>vusage_offnet_min</th>\n",
       "      <th>vusage_offnet_days</th>\n",
       "      <th>vusage_offnet_avg</th>\n",
       "      <th>vusage_offnet_stddev</th>\n",
       "      <th>number_of_fixed_bb_accounts</th>\n",
       "      <th>number_of_iptv_accounts</th>\n",
       "      <th>add_on_tot_rental</th>\n",
       "      <th>add_on_count</th>\n",
       "    </tr>\n",
       "  </thead>\n",
       "  <tbody>\n",
       "    <tr>\n",
       "      <th>231</th>\n",
       "      <td>4G</td>\n",
       "      <td>Smartphone</td>\n",
       "      <td>FEMALE</td>\n",
       "      <td>Colombo</td>\n",
       "      <td>30-40</td>\n",
       "      <td>1716.27</td>\n",
       "      <td>12647</td>\n",
       "      <td>1875.519728</td>\n",
       "      <td>665.666485</td>\n",
       "      <td>19</td>\n",
       "      <td>592.455861</td>\n",
       "      <td>0</td>\n",
       "      <td>0.0</td>\n",
       "      <td>0</td>\n",
       "      <td>0.0</td>\n",
       "      <td>0.0</td>\n",
       "      <td>13</td>\n",
       "      <td>10.366667</td>\n",
       "      <td>0.0</td>\n",
       "      <td>4</td>\n",
       "      <td>3.395833</td>\n",
       "      <td>1.946967</td>\n",
       "      <td>0</td>\n",
       "      <td>0</td>\n",
       "      <td>250.0</td>\n",
       "      <td>1.0</td>\n",
       "    </tr>\n",
       "    <tr>\n",
       "      <th>9966</th>\n",
       "      <td>4G</td>\n",
       "      <td>Smartphone</td>\n",
       "      <td>MALE</td>\n",
       "      <td>Ratnapura</td>\n",
       "      <td>20-30</td>\n",
       "      <td>985.32</td>\n",
       "      <td>1089</td>\n",
       "      <td>267.741177</td>\n",
       "      <td>37.566127</td>\n",
       "      <td>29</td>\n",
       "      <td>65.361534</td>\n",
       "      <td>0</td>\n",
       "      <td>0.0</td>\n",
       "      <td>0</td>\n",
       "      <td>0.0</td>\n",
       "      <td>0.0</td>\n",
       "      <td>30</td>\n",
       "      <td>5.850000</td>\n",
       "      <td>0.0</td>\n",
       "      <td>11</td>\n",
       "      <td>2.775758</td>\n",
       "      <td>1.919775</td>\n",
       "      <td>0</td>\n",
       "      <td>0</td>\n",
       "      <td>0.0</td>\n",
       "      <td>0.0</td>\n",
       "    </tr>\n",
       "    <tr>\n",
       "      <th>486</th>\n",
       "      <td>4G</td>\n",
       "      <td>Smartphone</td>\n",
       "      <td>MALE</td>\n",
       "      <td>Gampaha</td>\n",
       "      <td>40-50</td>\n",
       "      <td>3518.42</td>\n",
       "      <td>22732</td>\n",
       "      <td>1351.566897</td>\n",
       "      <td>783.872928</td>\n",
       "      <td>29</td>\n",
       "      <td>352.976495</td>\n",
       "      <td>0</td>\n",
       "      <td>0.0</td>\n",
       "      <td>0</td>\n",
       "      <td>0.0</td>\n",
       "      <td>0.0</td>\n",
       "      <td>113</td>\n",
       "      <td>44.533333</td>\n",
       "      <td>0.0</td>\n",
       "      <td>4</td>\n",
       "      <td>28.425000</td>\n",
       "      <td>10.514607</td>\n",
       "      <td>0</td>\n",
       "      <td>0</td>\n",
       "      <td>760.0</td>\n",
       "      <td>2.0</td>\n",
       "    </tr>\n",
       "    <tr>\n",
       "      <th>9686</th>\n",
       "      <td>4G</td>\n",
       "      <td>Smartphone</td>\n",
       "      <td>MALE</td>\n",
       "      <td>Colombo</td>\n",
       "      <td>30-40</td>\n",
       "      <td>2559.86</td>\n",
       "      <td>14666</td>\n",
       "      <td>1064.386329</td>\n",
       "      <td>488.870862</td>\n",
       "      <td>30</td>\n",
       "      <td>249.683006</td>\n",
       "      <td>0</td>\n",
       "      <td>0.0</td>\n",
       "      <td>0</td>\n",
       "      <td>0.0</td>\n",
       "      <td>0.0</td>\n",
       "      <td>0</td>\n",
       "      <td>0.000000</td>\n",
       "      <td>0.0</td>\n",
       "      <td>0</td>\n",
       "      <td>0.000000</td>\n",
       "      <td>0.000000</td>\n",
       "      <td>0</td>\n",
       "      <td>0</td>\n",
       "      <td>0.0</td>\n",
       "      <td>0.0</td>\n",
       "    </tr>\n",
       "    <tr>\n",
       "      <th>6310</th>\n",
       "      <td>4G</td>\n",
       "      <td>Smartphone</td>\n",
       "      <td>FEMALE</td>\n",
       "      <td>Trincomalee</td>\n",
       "      <td>30-40</td>\n",
       "      <td>1802.86</td>\n",
       "      <td>31567</td>\n",
       "      <td>1150.825547</td>\n",
       "      <td>1052.261866</td>\n",
       "      <td>30</td>\n",
       "      <td>317.321847</td>\n",
       "      <td>0</td>\n",
       "      <td>0.0</td>\n",
       "      <td>0</td>\n",
       "      <td>0.0</td>\n",
       "      <td>0.0</td>\n",
       "      <td>52</td>\n",
       "      <td>24.683333</td>\n",
       "      <td>0.0</td>\n",
       "      <td>12</td>\n",
       "      <td>4.397222</td>\n",
       "      <td>4.734033</td>\n",
       "      <td>0</td>\n",
       "      <td>0</td>\n",
       "      <td>450.0</td>\n",
       "      <td>2.0</td>\n",
       "    </tr>\n",
       "  </tbody>\n",
       "</table>\n",
       "</div>"
      ],
      "text/plain": [
       "     device_type device_category  ... add_on_tot_rental add_on_count\n",
       "231           4G      Smartphone  ...             250.0          1.0\n",
       "9966          4G      Smartphone  ...               0.0          0.0\n",
       "486           4G      Smartphone  ...             760.0          2.0\n",
       "9686          4G      Smartphone  ...               0.0          0.0\n",
       "6310          4G      Smartphone  ...             450.0          2.0\n",
       "\n",
       "[5 rows x 26 columns]"
      ]
     },
     "execution_count": 41,
     "metadata": {},
     "output_type": "execute_result"
    }
   ],
   "source": [
    "X_test.head()"
   ]
  },
  {
   "cell_type": "code",
   "execution_count": 42,
   "id": "focused-milton",
   "metadata": {
    "colab": {
     "base_uri": "https://localhost:8080/"
    },
    "id": "focused-milton",
    "outputId": "91da9f8c-3aa8-460b-ede3-79bb7ecffbb7"
   },
   "outputs": [
    {
     "data": {
      "text/plain": [
       "Index(['device_type', 'device_category', 'gender', 'district_name',\n",
       "       'age_group', 'average_monthly_bill_amount', 'dusage_sum', 'dusage_diff',\n",
       "       'dusage_avg', 'dusage_days', 'dusage_stddev', 'vusage_onnet_sum',\n",
       "       'vusage_onnet_diff', 'vusage_onnet_days', 'vusage_onnet_avg',\n",
       "       'vusage_onnet_stddev', 'vusage_offnet_sum', 'vusage_offnet_max',\n",
       "       'vusage_offnet_min', 'vusage_offnet_days', 'vusage_offnet_avg',\n",
       "       'vusage_offnet_stddev', 'number_of_fixed_bb_accounts',\n",
       "       'number_of_iptv_accounts', 'add_on_tot_rental', 'add_on_count'],\n",
       "      dtype='object')"
      ]
     },
     "execution_count": 42,
     "metadata": {},
     "output_type": "execute_result"
    }
   ],
   "source": [
    "X_train.columns"
   ]
  },
  {
   "cell_type": "code",
   "execution_count": 43,
   "id": "hollywood-conviction",
   "metadata": {
    "colab": {
     "base_uri": "https://localhost:8080/"
    },
    "id": "hollywood-conviction",
    "outputId": "065c3e6c-8543-41c0-e638-cceae641e41f"
   },
   "outputs": [
    {
     "name": "stdout",
     "output_type": "stream",
     "text": [
      "<class 'pandas.core.frame.DataFrame'>\n",
      "Int64Index: 525 entries, 231 to 229\n",
      "Data columns (total 26 columns):\n",
      " #   Column                       Non-Null Count  Dtype  \n",
      "---  ------                       --------------  -----  \n",
      " 0   device_type                  525 non-null    object \n",
      " 1   device_category              525 non-null    object \n",
      " 2   gender                       525 non-null    object \n",
      " 3   district_name                525 non-null    object \n",
      " 4   age_group                    525 non-null    object \n",
      " 5   average_monthly_bill_amount  525 non-null    float64\n",
      " 6   dusage_sum                   525 non-null    int64  \n",
      " 7   dusage_diff                  525 non-null    float64\n",
      " 8   dusage_avg                   525 non-null    float64\n",
      " 9   dusage_days                  525 non-null    int64  \n",
      " 10  dusage_stddev                525 non-null    float64\n",
      " 11  vusage_onnet_sum             525 non-null    int64  \n",
      " 12  vusage_onnet_diff            525 non-null    float64\n",
      " 13  vusage_onnet_days            525 non-null    int64  \n",
      " 14  vusage_onnet_avg             525 non-null    float64\n",
      " 15  vusage_onnet_stddev          525 non-null    float64\n",
      " 16  vusage_offnet_sum            525 non-null    int64  \n",
      " 17  vusage_offnet_max            525 non-null    float64\n",
      " 18  vusage_offnet_min            525 non-null    float64\n",
      " 19  vusage_offnet_days           525 non-null    int64  \n",
      " 20  vusage_offnet_avg            525 non-null    float64\n",
      " 21  vusage_offnet_stddev         525 non-null    float64\n",
      " 22  number_of_fixed_bb_accounts  525 non-null    int64  \n",
      " 23  number_of_iptv_accounts      525 non-null    int64  \n",
      " 24  add_on_tot_rental            525 non-null    float64\n",
      " 25  add_on_count                 525 non-null    float64\n",
      "dtypes: float64(13), int64(8), object(5)\n",
      "memory usage: 110.7+ KB\n"
     ]
    }
   ],
   "source": [
    "X_test.info()"
   ]
  },
  {
   "cell_type": "code",
   "execution_count": 44,
   "id": "treated-millennium",
   "metadata": {
    "id": "treated-millennium"
   },
   "outputs": [],
   "source": [
    "test_data_processed = data_pipeline.transform(X_test)"
   ]
  },
  {
   "cell_type": "code",
   "execution_count": 45,
   "id": "willing-roller",
   "metadata": {
    "colab": {
     "base_uri": "https://localhost:8080/"
    },
    "id": "willing-roller",
    "outputId": "4ff18f83-4375-4b90-d5ec-15fe3108fc23"
   },
   "outputs": [
    {
     "data": {
      "text/plain": [
       "array([[-0.24995533, -0.01257233,  0.28025057, ...,  0.        ,\n",
       "         0.        ,  0.        ],\n",
       "       [-0.74548779, -0.74031586, -0.61658146, ...,  0.        ,\n",
       "         0.        ,  0.        ],\n",
       "       [ 0.97177507,  0.62242452, -0.0120146 , ...,  0.        ,\n",
       "         0.        ,  0.        ],\n",
       "       ...,\n",
       "       [-1.09860764, -0.80680636, -0.76582097, ...,  0.        ,\n",
       "         0.        ,  0.        ],\n",
       "       [-0.31827705, -0.75807185, -0.66589201, ...,  0.        ,\n",
       "         1.        ,  0.        ],\n",
       "       [-0.92795926, -0.74037883, -0.69109345, ...,  0.        ,\n",
       "         0.        ,  0.        ]])"
      ]
     },
     "execution_count": 45,
     "metadata": {},
     "output_type": "execute_result"
    }
   ],
   "source": [
    "test_data_processed"
   ]
  },
  {
   "cell_type": "markdown",
   "id": "muslim-straight",
   "metadata": {
    "id": "muslim-straight"
   },
   "source": [
    "### Loading Submission data"
   ]
  },
  {
   "cell_type": "code",
   "execution_count": 77,
   "id": "continued-mention",
   "metadata": {
    "id": "continued-mention"
   },
   "outputs": [],
   "source": [
    "submission_data = pd.read_csv(\"/content/test_dataset_v2.csv\")"
   ]
  },
  {
   "cell_type": "code",
   "execution_count": 78,
   "id": "dying-painting",
   "metadata": {
    "colab": {
     "base_uri": "https://localhost:8080/",
     "height": 220
    },
    "id": "dying-painting",
    "outputId": "c8837659-00c6-40ba-f501-3c583ca4bb2d"
   },
   "outputs": [
    {
     "data": {
      "text/html": [
       "<div>\n",
       "<style scoped>\n",
       "    .dataframe tbody tr th:only-of-type {\n",
       "        vertical-align: middle;\n",
       "    }\n",
       "\n",
       "    .dataframe tbody tr th {\n",
       "        vertical-align: top;\n",
       "    }\n",
       "\n",
       "    .dataframe thead th {\n",
       "        text-align: right;\n",
       "    }\n",
       "</style>\n",
       "<table border=\"1\" class=\"dataframe\">\n",
       "  <thead>\n",
       "    <tr style=\"text-align: right;\">\n",
       "      <th></th>\n",
       "      <th>primary_identifier</th>\n",
       "      <th>device_type</th>\n",
       "      <th>device_category</th>\n",
       "      <th>gender</th>\n",
       "      <th>district_name</th>\n",
       "      <th>age_group</th>\n",
       "      <th>network_stay</th>\n",
       "      <th>average_monthly_bill_amount</th>\n",
       "      <th>dusage_sum</th>\n",
       "      <th>dusage_min</th>\n",
       "      <th>dusage_max</th>\n",
       "      <th>dusage_diff</th>\n",
       "      <th>dusage_avg</th>\n",
       "      <th>dusage_days</th>\n",
       "      <th>dusage_stddev</th>\n",
       "      <th>vusage_onnet_sum</th>\n",
       "      <th>vusage_onnet_max</th>\n",
       "      <th>vusage_onnet_min</th>\n",
       "      <th>vusage_onnet_diff</th>\n",
       "      <th>vusage_onnet_days</th>\n",
       "      <th>vusage_onnet_avg</th>\n",
       "      <th>vusage_onnet_stddev</th>\n",
       "      <th>vusage_offnet_sum</th>\n",
       "      <th>vusage_offnet_max</th>\n",
       "      <th>vusage_offnet_min</th>\n",
       "      <th>vusage_offnet_days</th>\n",
       "      <th>vusage_offnet_avg</th>\n",
       "      <th>vusage_offnet_stddev</th>\n",
       "      <th>number_of_fixed_bb_accounts</th>\n",
       "      <th>number_of_iptv_accounts</th>\n",
       "      <th>add_on_tot_rental</th>\n",
       "      <th>add_on_count</th>\n",
       "    </tr>\n",
       "  </thead>\n",
       "  <tbody>\n",
       "    <tr>\n",
       "      <th>0</th>\n",
       "      <td>2003793</td>\n",
       "      <td>4G</td>\n",
       "      <td>Smartphone</td>\n",
       "      <td>MALE</td>\n",
       "      <td>Colombo</td>\n",
       "      <td>40-50</td>\n",
       "      <td>4</td>\n",
       "      <td>689.42</td>\n",
       "      <td>148</td>\n",
       "      <td>0.000000</td>\n",
       "      <td>148.146634</td>\n",
       "      <td>148.146634</td>\n",
       "      <td>37.037382</td>\n",
       "      <td>4</td>\n",
       "      <td>38.251243</td>\n",
       "      <td>0</td>\n",
       "      <td>0.0</td>\n",
       "      <td>0.0</td>\n",
       "      <td>0.0</td>\n",
       "      <td>0</td>\n",
       "      <td>NaN</td>\n",
       "      <td>0.0</td>\n",
       "      <td>0</td>\n",
       "      <td>0.000000</td>\n",
       "      <td>0.0</td>\n",
       "      <td>0</td>\n",
       "      <td>NaN</td>\n",
       "      <td>0.000000</td>\n",
       "      <td>0</td>\n",
       "      <td>1</td>\n",
       "      <td>NaN</td>\n",
       "      <td>NaN</td>\n",
       "    </tr>\n",
       "    <tr>\n",
       "      <th>1</th>\n",
       "      <td>1776101</td>\n",
       "      <td>4G</td>\n",
       "      <td>Smartphone</td>\n",
       "      <td>MALE</td>\n",
       "      <td>Colombo</td>\n",
       "      <td>40-50</td>\n",
       "      <td>7</td>\n",
       "      <td>799.93</td>\n",
       "      <td>300</td>\n",
       "      <td>0.180222</td>\n",
       "      <td>119.466825</td>\n",
       "      <td>119.286604</td>\n",
       "      <td>10.027957</td>\n",
       "      <td>30</td>\n",
       "      <td>24.125172</td>\n",
       "      <td>0</td>\n",
       "      <td>0.0</td>\n",
       "      <td>0.0</td>\n",
       "      <td>0.0</td>\n",
       "      <td>0</td>\n",
       "      <td>NaN</td>\n",
       "      <td>0.0</td>\n",
       "      <td>107</td>\n",
       "      <td>16.266667</td>\n",
       "      <td>0.0</td>\n",
       "      <td>21</td>\n",
       "      <td>5.107143</td>\n",
       "      <td>4.924111</td>\n",
       "      <td>0</td>\n",
       "      <td>0</td>\n",
       "      <td>NaN</td>\n",
       "      <td>NaN</td>\n",
       "    </tr>\n",
       "    <tr>\n",
       "      <th>2</th>\n",
       "      <td>6945050</td>\n",
       "      <td>2G</td>\n",
       "      <td>Basic</td>\n",
       "      <td>MALE</td>\n",
       "      <td>Colombo</td>\n",
       "      <td>20-30</td>\n",
       "      <td>20</td>\n",
       "      <td>1538.45</td>\n",
       "      <td>8215</td>\n",
       "      <td>0.000000</td>\n",
       "      <td>4048.511104</td>\n",
       "      <td>4048.511104</td>\n",
       "      <td>2053.950266</td>\n",
       "      <td>4</td>\n",
       "      <td>932.358667</td>\n",
       "      <td>0</td>\n",
       "      <td>0.0</td>\n",
       "      <td>0.0</td>\n",
       "      <td>0.0</td>\n",
       "      <td>0</td>\n",
       "      <td>NaN</td>\n",
       "      <td>0.0</td>\n",
       "      <td>108</td>\n",
       "      <td>90.000000</td>\n",
       "      <td>0.0</td>\n",
       "      <td>8</td>\n",
       "      <td>13.558333</td>\n",
       "      <td>16.397071</td>\n",
       "      <td>0</td>\n",
       "      <td>0</td>\n",
       "      <td>110.0</td>\n",
       "      <td>2.0</td>\n",
       "    </tr>\n",
       "    <tr>\n",
       "      <th>3</th>\n",
       "      <td>2472049</td>\n",
       "      <td>4G</td>\n",
       "      <td>Smartphone</td>\n",
       "      <td>FEMALE</td>\n",
       "      <td>Matara</td>\n",
       "      <td>40-50</td>\n",
       "      <td>10</td>\n",
       "      <td>995.75</td>\n",
       "      <td>11613</td>\n",
       "      <td>0.000000</td>\n",
       "      <td>1057.448432</td>\n",
       "      <td>1057.448432</td>\n",
       "      <td>430.118721</td>\n",
       "      <td>27</td>\n",
       "      <td>268.457304</td>\n",
       "      <td>0</td>\n",
       "      <td>0.0</td>\n",
       "      <td>0.0</td>\n",
       "      <td>0.0</td>\n",
       "      <td>0</td>\n",
       "      <td>NaN</td>\n",
       "      <td>0.0</td>\n",
       "      <td>0</td>\n",
       "      <td>0.416667</td>\n",
       "      <td>0.0</td>\n",
       "      <td>2</td>\n",
       "      <td>0.333333</td>\n",
       "      <td>0.087355</td>\n",
       "      <td>0</td>\n",
       "      <td>0</td>\n",
       "      <td>NaN</td>\n",
       "      <td>NaN</td>\n",
       "    </tr>\n",
       "    <tr>\n",
       "      <th>4</th>\n",
       "      <td>7197266</td>\n",
       "      <td>4G</td>\n",
       "      <td>Smartphone</td>\n",
       "      <td>MALE</td>\n",
       "      <td>Kandy</td>\n",
       "      <td>30-40</td>\n",
       "      <td>154</td>\n",
       "      <td>553.61</td>\n",
       "      <td>26505</td>\n",
       "      <td>28.515345</td>\n",
       "      <td>2490.832742</td>\n",
       "      <td>2462.317397</td>\n",
       "      <td>883.505624</td>\n",
       "      <td>30</td>\n",
       "      <td>660.353290</td>\n",
       "      <td>0</td>\n",
       "      <td>0.0</td>\n",
       "      <td>0.0</td>\n",
       "      <td>0.0</td>\n",
       "      <td>0</td>\n",
       "      <td>NaN</td>\n",
       "      <td>0.0</td>\n",
       "      <td>0</td>\n",
       "      <td>0.000000</td>\n",
       "      <td>0.0</td>\n",
       "      <td>0</td>\n",
       "      <td>NaN</td>\n",
       "      <td>0.000000</td>\n",
       "      <td>0</td>\n",
       "      <td>0</td>\n",
       "      <td>350.0</td>\n",
       "      <td>1.0</td>\n",
       "    </tr>\n",
       "  </tbody>\n",
       "</table>\n",
       "</div>"
      ],
      "text/plain": [
       "   primary_identifier device_type  ... add_on_tot_rental add_on_count\n",
       "0             2003793          4G  ...               NaN          NaN\n",
       "1             1776101          4G  ...               NaN          NaN\n",
       "2             6945050          2G  ...             110.0          2.0\n",
       "3             2472049          4G  ...               NaN          NaN\n",
       "4             7197266          4G  ...             350.0          1.0\n",
       "\n",
       "[5 rows x 32 columns]"
      ]
     },
     "execution_count": 78,
     "metadata": {},
     "output_type": "execute_result"
    }
   ],
   "source": [
    "submission_data.head()"
   ]
  },
  {
   "cell_type": "markdown",
   "id": "ethical-witch",
   "metadata": {
    "id": "ethical-witch"
   },
   "source": [
    "## Handling missing values in submission data"
   ]
  },
  {
   "cell_type": "code",
   "execution_count": 79,
   "id": "funny-register",
   "metadata": {
    "colab": {
     "base_uri": "https://localhost:8080/"
    },
    "id": "funny-register",
    "outputId": "ba5438e1-8012-451e-ccd4-cd30edbdadc0"
   },
   "outputs": [
    {
     "name": "stdout",
     "output_type": "stream",
     "text": [
      "<class 'pandas.core.frame.DataFrame'>\n",
      "RangeIndex: 4500 entries, 0 to 4499\n",
      "Data columns (total 32 columns):\n",
      " #   Column                       Non-Null Count  Dtype  \n",
      "---  ------                       --------------  -----  \n",
      " 0   primary_identifier           4500 non-null   int64  \n",
      " 1   device_type                  4487 non-null   object \n",
      " 2   device_category              4484 non-null   object \n",
      " 3   gender                       4445 non-null   object \n",
      " 4   district_name                4500 non-null   object \n",
      " 5   age_group                    4445 non-null   object \n",
      " 6   network_stay                 4500 non-null   int64  \n",
      " 7   average_monthly_bill_amount  4500 non-null   float64\n",
      " 8   dusage_sum                   4500 non-null   int64  \n",
      " 9   dusage_min                   4500 non-null   float64\n",
      " 10  dusage_max                   4500 non-null   float64\n",
      " 11  dusage_diff                  4500 non-null   float64\n",
      " 12  dusage_avg                   4136 non-null   float64\n",
      " 13  dusage_days                  4500 non-null   int64  \n",
      " 14  dusage_stddev                4500 non-null   float64\n",
      " 15  vusage_onnet_sum             4500 non-null   int64  \n",
      " 16  vusage_onnet_max             4500 non-null   float64\n",
      " 17  vusage_onnet_min             4500 non-null   float64\n",
      " 18  vusage_onnet_diff            4500 non-null   float64\n",
      " 19  vusage_onnet_days            4500 non-null   int64  \n",
      " 20  vusage_onnet_avg             785 non-null    float64\n",
      " 21  vusage_onnet_stddev          4500 non-null   float64\n",
      " 22  vusage_offnet_sum            4500 non-null   int64  \n",
      " 23  vusage_offnet_max            4500 non-null   float64\n",
      " 24  vusage_offnet_min            4500 non-null   float64\n",
      " 25  vusage_offnet_days           4500 non-null   int64  \n",
      " 26  vusage_offnet_avg            3074 non-null   float64\n",
      " 27  vusage_offnet_stddev         4500 non-null   float64\n",
      " 28  number_of_fixed_bb_accounts  4500 non-null   int64  \n",
      " 29  number_of_iptv_accounts      4500 non-null   int64  \n",
      " 30  add_on_tot_rental            2788 non-null   float64\n",
      " 31  add_on_count                 2788 non-null   float64\n",
      "dtypes: float64(17), int64(10), object(5)\n",
      "memory usage: 1.1+ MB\n"
     ]
    }
   ],
   "source": [
    "submission_data.info()"
   ]
  },
  {
   "cell_type": "code",
   "execution_count": 80,
   "id": "cleared-formula",
   "metadata": {
    "colab": {
     "base_uri": "https://localhost:8080/"
    },
    "id": "cleared-formula",
    "outputId": "64c92d2e-27d5-433a-d1dd-adffce4f4c4c"
   },
   "outputs": [
    {
     "data": {
      "text/plain": [
       "array(['Smartphone', 'Basic', 'Feature phone', 'M2M', nan, 'Tablet',\n",
       "       'Pluggable card', 'Modem'], dtype=object)"
      ]
     },
     "execution_count": 80,
     "metadata": {},
     "output_type": "execute_result"
    }
   ],
   "source": [
    "submission_data['device_category'].unique()"
   ]
  },
  {
   "cell_type": "code",
   "execution_count": 81,
   "id": "nervous-attack",
   "metadata": {
    "id": "nervous-attack"
   },
   "outputs": [],
   "source": [
    "submission_data['device_type'] = submission_data['device_type'].fillna(value = 'Unknown')\n",
    "submission_data['device_category'] = submission_data['device_category'].fillna(value = 'Unknown')\n",
    "submission_data['gender'] = submission_data['gender'].fillna(value = 'Unknown')\n",
    "submission_data['age_group'] = submission_data['age_group'].fillna(value = 'Unknown')"
   ]
  },
  {
   "cell_type": "code",
   "execution_count": null,
   "id": "square-charleston",
   "metadata": {
    "id": "square-charleston"
   },
   "outputs": [],
   "source": [
    "#submission_data = submission_data.drop(columns = ['vusage_onnet_avg'])"
   ]
  },
  {
   "cell_type": "code",
   "execution_count": null,
   "id": "cordless-examination",
   "metadata": {
    "id": "cordless-examination"
   },
   "outputs": [],
   "source": [
    "#submission_data = submission_data.drop(columns = columns_remove)"
   ]
  },
  {
   "cell_type": "code",
   "execution_count": 82,
   "id": "motivated-strip",
   "metadata": {
    "id": "motivated-strip"
   },
   "outputs": [],
   "source": [
    "submission_data['dusage_avg'] = submission_data['dusage_avg'].fillna(value = 0)\n",
    "submission_data['vusage_offnet_avg'] = submission_data['vusage_offnet_avg'].fillna(value = 0)\n",
    "submission_data['add_on_tot_rental'] = submission_data['add_on_tot_rental'].fillna(value = 0)\n",
    "submission_data['add_on_count'] = submission_data['add_on_count'].fillna(value = 0)\n",
    "submission_data['vusage_onnet_avg'] = submission_data['vusage_onnet_avg'].fillna(value = 0)"
   ]
  },
  {
   "cell_type": "code",
   "execution_count": 83,
   "id": "general-conjunction",
   "metadata": {
    "colab": {
     "base_uri": "https://localhost:8080/"
    },
    "id": "general-conjunction",
    "outputId": "6eec43eb-85c8-4c06-c36f-07f77d72c3e6"
   },
   "outputs": [
    {
     "name": "stdout",
     "output_type": "stream",
     "text": [
      "<class 'pandas.core.frame.DataFrame'>\n",
      "RangeIndex: 4500 entries, 0 to 4499\n",
      "Data columns (total 32 columns):\n",
      " #   Column                       Non-Null Count  Dtype  \n",
      "---  ------                       --------------  -----  \n",
      " 0   primary_identifier           4500 non-null   int64  \n",
      " 1   device_type                  4500 non-null   object \n",
      " 2   device_category              4500 non-null   object \n",
      " 3   gender                       4500 non-null   object \n",
      " 4   district_name                4500 non-null   object \n",
      " 5   age_group                    4500 non-null   object \n",
      " 6   network_stay                 4500 non-null   int64  \n",
      " 7   average_monthly_bill_amount  4500 non-null   float64\n",
      " 8   dusage_sum                   4500 non-null   int64  \n",
      " 9   dusage_min                   4500 non-null   float64\n",
      " 10  dusage_max                   4500 non-null   float64\n",
      " 11  dusage_diff                  4500 non-null   float64\n",
      " 12  dusage_avg                   4500 non-null   float64\n",
      " 13  dusage_days                  4500 non-null   int64  \n",
      " 14  dusage_stddev                4500 non-null   float64\n",
      " 15  vusage_onnet_sum             4500 non-null   int64  \n",
      " 16  vusage_onnet_max             4500 non-null   float64\n",
      " 17  vusage_onnet_min             4500 non-null   float64\n",
      " 18  vusage_onnet_diff            4500 non-null   float64\n",
      " 19  vusage_onnet_days            4500 non-null   int64  \n",
      " 20  vusage_onnet_avg             4500 non-null   float64\n",
      " 21  vusage_onnet_stddev          4500 non-null   float64\n",
      " 22  vusage_offnet_sum            4500 non-null   int64  \n",
      " 23  vusage_offnet_max            4500 non-null   float64\n",
      " 24  vusage_offnet_min            4500 non-null   float64\n",
      " 25  vusage_offnet_days           4500 non-null   int64  \n",
      " 26  vusage_offnet_avg            4500 non-null   float64\n",
      " 27  vusage_offnet_stddev         4500 non-null   float64\n",
      " 28  number_of_fixed_bb_accounts  4500 non-null   int64  \n",
      " 29  number_of_iptv_accounts      4500 non-null   int64  \n",
      " 30  add_on_tot_rental            4500 non-null   float64\n",
      " 31  add_on_count                 4500 non-null   float64\n",
      "dtypes: float64(17), int64(10), object(5)\n",
      "memory usage: 1.1+ MB\n"
     ]
    }
   ],
   "source": [
    "submission_data.info()"
   ]
  },
  {
   "cell_type": "code",
   "execution_count": 84,
   "id": "hungarian-exclusive",
   "metadata": {
    "id": "hungarian-exclusive"
   },
   "outputs": [],
   "source": [
    "prim_id = submission_data['primary_identifier']"
   ]
  },
  {
   "cell_type": "code",
   "execution_count": 88,
   "id": "eOYattWNN2HT",
   "metadata": {
    "id": "eOYattWNN2HT"
   },
   "outputs": [],
   "source": [
    "submission_data = submission_data.drop(columns=['network_stay','dusage_min','dusage_max','vusage_onnet_max','vusage_onnet_min'])"
   ]
  },
  {
   "cell_type": "code",
   "execution_count": 89,
   "id": "extraordinary-newsletter",
   "metadata": {
    "colab": {
     "base_uri": "https://localhost:8080/"
    },
    "id": "extraordinary-newsletter",
    "outputId": "b05c13f3-7b01-4664-e0a1-986f1bcebcf4"
   },
   "outputs": [
    {
     "data": {
      "text/plain": [
       "(4500, 27)"
      ]
     },
     "execution_count": 89,
     "metadata": {},
     "output_type": "execute_result"
    }
   ],
   "source": [
    "submission_data.shape"
   ]
  },
  {
   "cell_type": "code",
   "execution_count": 90,
   "id": "baking-province",
   "metadata": {
    "id": "baking-province"
   },
   "outputs": [],
   "source": [
    "submission_X = submission_data.drop(columns=['primary_identifier'])"
   ]
  },
  {
   "cell_type": "code",
   "execution_count": 91,
   "id": "detected-glenn",
   "metadata": {
    "colab": {
     "base_uri": "https://localhost:8080/"
    },
    "id": "detected-glenn",
    "outputId": "a374116f-cbb9-4d20-a007-cc0419fcd216"
   },
   "outputs": [
    {
     "data": {
      "text/plain": [
       "(4500, 26)"
      ]
     },
     "execution_count": 91,
     "metadata": {},
     "output_type": "execute_result"
    }
   ],
   "source": [
    "submission_X.shape"
   ]
  },
  {
   "cell_type": "markdown",
   "id": "recreational-pickup",
   "metadata": {
    "id": "recreational-pickup"
   },
   "source": [
    "## Pre-processing the submission data"
   ]
  },
  {
   "cell_type": "code",
   "execution_count": 92,
   "id": "assumed-senegal",
   "metadata": {
    "id": "assumed-senegal"
   },
   "outputs": [],
   "source": [
    "submission_data_processed = data_pipeline.transform(submission_X)"
   ]
  },
  {
   "cell_type": "code",
   "execution_count": 93,
   "id": "periodic-yugoslavia",
   "metadata": {
    "colab": {
     "base_uri": "https://localhost:8080/"
    },
    "id": "periodic-yugoslavia",
    "outputId": "8bcc91d9-cf45-44b2-f8c2-826f935ae623"
   },
   "outputs": [
    {
     "data": {
      "text/plain": [
       "(69,)"
      ]
     },
     "execution_count": 93,
     "metadata": {},
     "output_type": "execute_result"
    }
   ],
   "source": [
    "submission_data_processed[0].shape"
   ]
  },
  {
   "cell_type": "markdown",
   "id": "empirical-excellence",
   "metadata": {
    "id": "empirical-excellence"
   },
   "source": [
    "## Model Code"
   ]
  },
  {
   "cell_type": "code",
   "execution_count": 46,
   "id": "disturbed-charger",
   "metadata": {
    "colab": {
     "base_uri": "https://localhost:8080/"
    },
    "id": "disturbed-charger",
    "outputId": "672d5758-1253-4daa-9ae8-56a2dd9e3773"
   },
   "outputs": [
    {
     "data": {
      "text/plain": [
       "array([1, 6, 8, 3, 7, 5, 4, 2])"
      ]
     },
     "execution_count": 46,
     "metadata": {},
     "output_type": "execute_result"
    }
   ],
   "source": [
    "Y_train.unique()"
   ]
  },
  {
   "cell_type": "code",
   "execution_count": 47,
   "id": "monetary-medline",
   "metadata": {
    "id": "monetary-medline"
   },
   "outputs": [],
   "source": [
    "unique, counts = np.unique(Y_train, return_counts=True)"
   ]
  },
  {
   "cell_type": "code",
   "execution_count": 48,
   "id": "incoming-defeat",
   "metadata": {
    "colab": {
     "base_uri": "https://localhost:8080/"
    },
    "id": "incoming-defeat",
    "outputId": "94c389e4-2271-4a74-d4c0-09350140ec9a"
   },
   "outputs": [
    {
     "data": {
      "text/plain": [
       "{1: 3490, 2: 1286, 3: 1631, 4: 698, 5: 1480, 6: 703, 7: 346, 8: 341}"
      ]
     },
     "execution_count": 48,
     "metadata": {},
     "output_type": "execute_result"
    }
   ],
   "source": [
    "dict(zip(unique, counts))"
   ]
  },
  {
   "cell_type": "code",
   "execution_count": 49,
   "id": "owned-numbers",
   "metadata": {
    "colab": {
     "base_uri": "https://localhost:8080/"
    },
    "id": "owned-numbers",
    "outputId": "6e41fcbd-b476-43e2-cdbc-8a076ae81f88"
   },
   "outputs": [
    {
     "data": {
      "text/plain": [
       "453.7"
      ]
     },
     "execution_count": 49,
     "metadata": {},
     "output_type": "execute_result"
    }
   ],
   "source": [
    "3490*0.13"
   ]
  },
  {
   "cell_type": "code",
   "execution_count": 50,
   "id": "peripheral-davis",
   "metadata": {
    "id": "peripheral-davis"
   },
   "outputs": [],
   "source": [
    "strategy = {\n",
    "    1: 3490,\n",
    "    2: 1250,\n",
    "    3: 1600,\n",
    "    4: 698,\n",
    "    5: 1450,\n",
    "    6: 700,\n",
    "    7: 346,\n",
    "    8: 341\n",
    "}"
   ]
  },
  {
   "cell_type": "code",
   "execution_count": 51,
   "id": "peaceful-anxiety",
   "metadata": {
    "id": "peaceful-anxiety"
   },
   "outputs": [],
   "source": [
    "undersample = NearMiss(sampling_strategy=strategy,n_neighbors=2)"
   ]
  },
  {
   "cell_type": "code",
   "execution_count": 52,
   "id": "transsexual-health",
   "metadata": {
    "colab": {
     "base_uri": "https://localhost:8080/"
    },
    "id": "transsexual-health",
    "outputId": "8ccad4e0-538b-44f9-98e5-688531c01c86"
   },
   "outputs": [
    {
     "name": "stderr",
     "output_type": "stream",
     "text": [
      "/usr/local/lib/python3.7/dist-packages/sklearn/utils/deprecation.py:87: FutureWarning: Function safe_indexing is deprecated; safe_indexing is deprecated in version 0.22 and will be removed in version 0.24.\n",
      "  warnings.warn(msg, category=FutureWarning)\n",
      "/usr/local/lib/python3.7/dist-packages/sklearn/utils/deprecation.py:87: FutureWarning: Function safe_indexing is deprecated; safe_indexing is deprecated in version 0.22 and will be removed in version 0.24.\n",
      "  warnings.warn(msg, category=FutureWarning)\n",
      "/usr/local/lib/python3.7/dist-packages/sklearn/utils/deprecation.py:87: FutureWarning: Function safe_indexing is deprecated; safe_indexing is deprecated in version 0.22 and will be removed in version 0.24.\n",
      "  warnings.warn(msg, category=FutureWarning)\n",
      "/usr/local/lib/python3.7/dist-packages/sklearn/utils/deprecation.py:87: FutureWarning: Function safe_indexing is deprecated; safe_indexing is deprecated in version 0.22 and will be removed in version 0.24.\n",
      "  warnings.warn(msg, category=FutureWarning)\n",
      "/usr/local/lib/python3.7/dist-packages/sklearn/utils/deprecation.py:87: FutureWarning: Function safe_indexing is deprecated; safe_indexing is deprecated in version 0.22 and will be removed in version 0.24.\n",
      "  warnings.warn(msg, category=FutureWarning)\n",
      "/usr/local/lib/python3.7/dist-packages/sklearn/utils/deprecation.py:87: FutureWarning: Function safe_indexing is deprecated; safe_indexing is deprecated in version 0.22 and will be removed in version 0.24.\n",
      "  warnings.warn(msg, category=FutureWarning)\n",
      "/usr/local/lib/python3.7/dist-packages/sklearn/utils/deprecation.py:87: FutureWarning: Function safe_indexing is deprecated; safe_indexing is deprecated in version 0.22 and will be removed in version 0.24.\n",
      "  warnings.warn(msg, category=FutureWarning)\n",
      "/usr/local/lib/python3.7/dist-packages/sklearn/utils/deprecation.py:87: FutureWarning: Function safe_indexing is deprecated; safe_indexing is deprecated in version 0.22 and will be removed in version 0.24.\n",
      "  warnings.warn(msg, category=FutureWarning)\n",
      "/usr/local/lib/python3.7/dist-packages/sklearn/utils/deprecation.py:87: FutureWarning: Function safe_indexing is deprecated; safe_indexing is deprecated in version 0.22 and will be removed in version 0.24.\n",
      "  warnings.warn(msg, category=FutureWarning)\n",
      "/usr/local/lib/python3.7/dist-packages/sklearn/utils/deprecation.py:87: FutureWarning: Function safe_indexing is deprecated; safe_indexing is deprecated in version 0.22 and will be removed in version 0.24.\n",
      "  warnings.warn(msg, category=FutureWarning)\n"
     ]
    }
   ],
   "source": [
    "X_near , y_near = undersample.fit_resample(train_data_processed,Y_train)"
   ]
  },
  {
   "cell_type": "code",
   "execution_count": 53,
   "id": "changed-prompt",
   "metadata": {
    "colab": {
     "base_uri": "https://localhost:8080/"
    },
    "id": "changed-prompt",
    "outputId": "8cbe17bb-a112-42cb-baec-2e536d5d0bb9"
   },
   "outputs": [
    {
     "data": {
      "text/plain": [
       "(9875, 69)"
      ]
     },
     "execution_count": 53,
     "metadata": {},
     "output_type": "execute_result"
    }
   ],
   "source": [
    "X_near.shape"
   ]
  },
  {
   "cell_type": "code",
   "execution_count": 54,
   "id": "signal-chess",
   "metadata": {
    "colab": {
     "base_uri": "https://localhost:8080/"
    },
    "id": "signal-chess",
    "outputId": "cb18339d-e4ee-40a1-97ca-fff6f13ddbf9"
   },
   "outputs": [
    {
     "data": {
      "text/plain": [
       "{1: 3490, 2: 1250, 3: 1600, 4: 698, 5: 1450, 6: 700, 7: 346, 8: 341}"
      ]
     },
     "execution_count": 54,
     "metadata": {},
     "output_type": "execute_result"
    }
   ],
   "source": [
    "unique, counts = np.unique(y_near, return_counts=True)\n",
    "dict(zip(unique, counts))"
   ]
  },
  {
   "cell_type": "markdown",
   "id": "lasting-favorite",
   "metadata": {
    "id": "lasting-favorite"
   },
   "source": [
    "### Oversampling"
   ]
  },
  {
   "cell_type": "code",
   "execution_count": 55,
   "id": "military-election",
   "metadata": {
    "id": "military-election"
   },
   "outputs": [],
   "source": [
    "strategy_os = {\n",
    "    1: 3490,\n",
    "    2: 1250,\n",
    "    3: 1600,\n",
    "    4: 698,\n",
    "    5: 1450,\n",
    "    6: 700,\n",
    "    7: 700,\n",
    "    8: 700\n",
    "}"
   ]
  },
  {
   "cell_type": "code",
   "execution_count": 56,
   "id": "visible-briefing",
   "metadata": {
    "colab": {
     "base_uri": "https://localhost:8080/"
    },
    "id": "visible-briefing",
    "outputId": "72a268dc-28a5-422c-c481-1c4ac6846905"
   },
   "outputs": [
    {
     "name": "stderr",
     "output_type": "stream",
     "text": [
      "/usr/local/lib/python3.7/dist-packages/sklearn/utils/deprecation.py:87: FutureWarning: Function safe_indexing is deprecated; safe_indexing is deprecated in version 0.22 and will be removed in version 0.24.\n",
      "  warnings.warn(msg, category=FutureWarning)\n",
      "/usr/local/lib/python3.7/dist-packages/sklearn/utils/deprecation.py:87: FutureWarning: Function safe_indexing is deprecated; safe_indexing is deprecated in version 0.22 and will be removed in version 0.24.\n",
      "  warnings.warn(msg, category=FutureWarning)\n"
     ]
    }
   ],
   "source": [
    "from imblearn.over_sampling import SMOTE\n",
    "sm = SMOTE(random_state=42, sampling_strategy = strategy_os)\n",
    "X_res, y_res = sm.fit_resample(X_near, y_near)"
   ]
  },
  {
   "cell_type": "code",
   "execution_count": 57,
   "id": "controlling-dispute",
   "metadata": {
    "colab": {
     "base_uri": "https://localhost:8080/"
    },
    "id": "controlling-dispute",
    "outputId": "e8509358-59db-40c4-b804-5e389d58a6d6"
   },
   "outputs": [
    {
     "data": {
      "text/plain": [
       "(10588, 69)"
      ]
     },
     "execution_count": 57,
     "metadata": {},
     "output_type": "execute_result"
    }
   ],
   "source": [
    "X_res.shape"
   ]
  },
  {
   "cell_type": "code",
   "execution_count": 58,
   "id": "automotive-nigeria",
   "metadata": {
    "colab": {
     "base_uri": "https://localhost:8080/"
    },
    "id": "automotive-nigeria",
    "outputId": "676328df-1fc4-4867-9987-8aa6f23f4ae5"
   },
   "outputs": [
    {
     "data": {
      "text/plain": [
       "{1: 3490, 2: 1250, 3: 1600, 4: 698, 5: 1450, 6: 700, 7: 700, 8: 700}"
      ]
     },
     "execution_count": 58,
     "metadata": {},
     "output_type": "execute_result"
    }
   ],
   "source": [
    "unique, counts = np.unique(y_res, return_counts=True)\n",
    "dict(zip(unique, counts))"
   ]
  },
  {
   "cell_type": "markdown",
   "id": "abroad-paragraph",
   "metadata": {
    "id": "abroad-paragraph"
   },
   "source": [
    "clf_xgb = XGBClassifier()\n",
    "param_dist = {'n_estimators': [100, 300, 500, 700, 900],\n",
    "              'learning_rate': [1, 0.1, 0.01, 0.02],\n",
    "              'max_depth': [3, 4, 5, 6],\n",
    "             }"
   ]
  },
  {
   "cell_type": "markdown",
   "id": "cardiovascular-secret",
   "metadata": {
    "id": "cardiovascular-secret"
   },
   "source": [
    "clf = GridSearchCV(clf_xgb, \n",
    "                   param_dist,\n",
    "                   cv = 5,\n",
    "                   verbose = 3, \n",
    "                   n_jobs = -1)"
   ]
  },
  {
   "cell_type": "markdown",
   "id": "hazardous-throat",
   "metadata": {
    "id": "hazardous-throat"
   },
   "source": [
    "clf.fit(X_res, y_res)"
   ]
  },
  {
   "cell_type": "markdown",
   "id": "impaired-framing",
   "metadata": {
    "id": "impaired-framing"
   },
   "source": [
    "clf.best_params_\n",
    "Best parameters = {'learning_rate': 0.02, 'max_depth': 5, 'n_estimators': 900}"
   ]
  },
  {
   "cell_type": "markdown",
   "id": "organized-calcium",
   "metadata": {
    "id": "organized-calcium"
   },
   "source": [
    "clf.best_score_"
   ]
  },
  {
   "cell_type": "code",
   "execution_count": 128,
   "id": "light-triumph",
   "metadata": {
    "id": "light-triumph"
   },
   "outputs": [],
   "source": [
    "model = XGBClassifier(label_encoder = False, \n",
    "                      learning_rate = 0.01,max_depth = 9,\n",
    "                       n_estimators = 900, subsample = 0.5349338392246493)\n",
    "#model = XGBClassifier(label_encoder = False)\n",
    "#900 gave the best score\n",
    "#max depth 7"
   ]
  },
  {
   "cell_type": "code",
   "execution_count": 129,
   "id": "hydraulic-technique",
   "metadata": {
    "colab": {
     "base_uri": "https://localhost:8080/"
    },
    "id": "hydraulic-technique",
    "outputId": "76861a7e-572c-49c7-abd1-506f5144b977"
   },
   "outputs": [
    {
     "data": {
      "text/plain": [
       "XGBClassifier(base_score=0.5, booster='gbtree', colsample_bylevel=1,\n",
       "              colsample_bynode=1, colsample_bytree=1, gamma=0,\n",
       "              label_encoder=False, learning_rate=0.01, max_delta_step=0,\n",
       "              max_depth=9, min_child_weight=1, missing=None, n_estimators=900,\n",
       "              n_jobs=1, nthread=None, objective='multi:softprob',\n",
       "              random_state=0, reg_alpha=0, reg_lambda=1, scale_pos_weight=1,\n",
       "              seed=None, silent=None, subsample=0.5349338392246493,\n",
       "              verbosity=1)"
      ]
     },
     "execution_count": 129,
     "metadata": {},
     "output_type": "execute_result"
    }
   ],
   "source": [
    "model.fit(X_res, y_res)"
   ]
  },
  {
   "cell_type": "code",
   "execution_count": 130,
   "id": "preceding-cassette",
   "metadata": {
    "id": "preceding-cassette"
   },
   "outputs": [],
   "source": [
    "y_pred = model.predict(test_data_processed)"
   ]
  },
  {
   "cell_type": "code",
   "execution_count": 131,
   "id": "eawX-arSfNMp",
   "metadata": {
    "colab": {
     "base_uri": "https://localhost:8080/"
    },
    "id": "eawX-arSfNMp",
    "outputId": "be4aa6dc-e866-48eb-b804-4828076091bb"
   },
   "outputs": [
    {
     "name": "stdout",
     "output_type": "stream",
     "text": [
      "              precision    recall  f1-score   support\n",
      "\n",
      "           1       0.71      0.83      0.77       183\n",
      "           2       0.56      0.15      0.23        68\n",
      "           3       0.44      0.66      0.53        86\n",
      "           4       0.33      0.14      0.19        37\n",
      "           5       0.67      0.78      0.72        78\n",
      "           6       0.52      0.30      0.38        37\n",
      "           7       0.27      0.17      0.21        18\n",
      "           8       0.42      0.61      0.50        18\n",
      "\n",
      "    accuracy                           0.59       525\n",
      "   macro avg       0.49      0.45      0.44       525\n",
      "weighted avg       0.58      0.59      0.56       525\n",
      "\n"
     ]
    }
   ],
   "source": [
    "# Getting f1 score\n",
    "from sklearn.metrics import classification_report\n",
    "print(classification_report(Y_test, y_pred))"
   ]
  },
  {
   "cell_type": "code",
   "execution_count": 115,
   "id": "intimate-chemistry",
   "metadata": {
    "colab": {
     "base_uri": "https://localhost:8080/"
    },
    "id": "intimate-chemistry",
    "outputId": "11e830c2-5780-4530-96d4-95d95d932a2f"
   },
   "outputs": [
    {
     "name": "stdout",
     "output_type": "stream",
     "text": [
      "              precision    recall  f1-score   support\n",
      "\n",
      "           1       0.73      0.83      0.78       183\n",
      "           2       0.71      0.18      0.28        68\n",
      "           3       0.41      0.66      0.51        86\n",
      "           4       0.42      0.14      0.20        37\n",
      "           5       0.67      0.78      0.72        78\n",
      "           6       0.47      0.22      0.30        37\n",
      "           7       0.25      0.17      0.20        18\n",
      "           8       0.47      0.78      0.58        18\n",
      "\n",
      "    accuracy                           0.59       525\n",
      "   macro avg       0.52      0.47      0.45       525\n",
      "weighted avg       0.60      0.59      0.56       525\n",
      "\n"
     ]
    }
   ],
   "source": [
    "# Getting f1 score\n",
    "from sklearn.metrics import classification_report\n",
    "print(classification_report(Y_test, y_pred))"
   ]
  },
  {
   "cell_type": "code",
   "execution_count": 116,
   "id": "quiet-statistics",
   "metadata": {
    "id": "quiet-statistics"
   },
   "outputs": [],
   "source": [
    "y_submission = model.predict(submission_data_processed)"
   ]
  },
  {
   "cell_type": "code",
   "execution_count": 117,
   "id": "connected-johnson",
   "metadata": {
    "colab": {
     "base_uri": "https://localhost:8080/"
    },
    "id": "connected-johnson",
    "outputId": "0d760082-1a77-4e41-f3b2-2623d1c3519f"
   },
   "outputs": [
    {
     "data": {
      "text/plain": [
       "{1: 1810, 2: 183, 3: 1029, 4: 138, 5: 839, 6: 214, 7: 113, 8: 174}"
      ]
     },
     "execution_count": 117,
     "metadata": {},
     "output_type": "execute_result"
    }
   ],
   "source": [
    "unique, counts = np.unique(y_submission, return_counts=True)\n",
    "dict(zip(unique, counts))"
   ]
  },
  {
   "cell_type": "code",
   "execution_count": 118,
   "id": "pressing-subscription",
   "metadata": {
    "colab": {
     "base_uri": "https://localhost:8080/"
    },
    "id": "pressing-subscription",
    "outputId": "c1017888-50a8-419e-b0e6-2793ca2a89e7"
   },
   "outputs": [
    {
     "data": {
      "text/plain": [
       "array([2, 1, 3, ..., 3, 7, 3])"
      ]
     },
     "execution_count": 118,
     "metadata": {},
     "output_type": "execute_result"
    }
   ],
   "source": [
    "y_submission"
   ]
  },
  {
   "cell_type": "code",
   "execution_count": 119,
   "id": "hollywood-fraction",
   "metadata": {
    "id": "hollywood-fraction"
   },
   "outputs": [],
   "source": [
    "y_submissions_series = pd.Series(y_submission)"
   ]
  },
  {
   "cell_type": "code",
   "execution_count": 120,
   "id": "superb-appraisal",
   "metadata": {
    "id": "superb-appraisal"
   },
   "outputs": [],
   "source": [
    "submission_data = {'primary_identifier' : pd.to_numeric(prim_id),\n",
    "                 'next_month_plan' : pd.to_numeric(y_submissions_series)}\n",
    "\n",
    "submission_df = pd.DataFrame(submission_data)"
   ]
  },
  {
   "cell_type": "code",
   "execution_count": 121,
   "id": "centered-steering",
   "metadata": {
    "colab": {
     "base_uri": "https://localhost:8080/"
    },
    "id": "centered-steering",
    "outputId": "4cb43102-c2c7-4ad7-93d4-1e62f11792fe"
   },
   "outputs": [
    {
     "data": {
      "text/plain": [
       "(4500, 2)"
      ]
     },
     "execution_count": 121,
     "metadata": {},
     "output_type": "execute_result"
    }
   ],
   "source": [
    "submission_df.shape"
   ]
  },
  {
   "cell_type": "code",
   "execution_count": 122,
   "id": "sitting-species",
   "metadata": {
    "id": "sitting-species"
   },
   "outputs": [],
   "source": [
    "submission_df.to_csv(\"submission_6.csv\")"
   ]
  },
  {
   "cell_type": "code",
   "execution_count": 123,
   "id": "advised-resistance",
   "metadata": {
    "colab": {
     "base_uri": "https://localhost:8080/"
    },
    "id": "advised-resistance",
    "outputId": "d4a6cd98-8062-443f-8b0e-df4b0f3c6b87"
   },
   "outputs": [
    {
     "name": "stdout",
     "output_type": "stream",
     "text": [
      "<class 'pandas.core.frame.DataFrame'>\n",
      "RangeIndex: 4500 entries, 0 to 4499\n",
      "Data columns (total 2 columns):\n",
      " #   Column              Non-Null Count  Dtype\n",
      "---  ------              --------------  -----\n",
      " 0   primary_identifier  4500 non-null   int64\n",
      " 1   next_month_plan     4500 non-null   int64\n",
      "dtypes: int64(2)\n",
      "memory usage: 70.4 KB\n"
     ]
    }
   ],
   "source": [
    "submission_df.info()"
   ]
  },
  {
   "cell_type": "code",
   "execution_count": 1,
   "id": "EU24jZUaSi-7",
   "metadata": {
    "id": "EU24jZUaSi-7"
   },
   "outputs": [
    {
     "ename": "ModuleNotFoundError",
     "evalue": "No module named 'keras'",
     "output_type": "error",
     "traceback": [
      "\u001b[0;31m---------------------------------------------------------------------------\u001b[0m",
      "\u001b[0;31mModuleNotFoundError\u001b[0m                       Traceback (most recent call last)",
      "\u001b[0;32m<ipython-input-1-72eeb5d3f9c2>\u001b[0m in \u001b[0;36m<module>\u001b[0;34m\u001b[0m\n\u001b[0;32m----> 1\u001b[0;31m \u001b[0;32mfrom\u001b[0m \u001b[0mkeras\u001b[0m\u001b[0;34m.\u001b[0m\u001b[0mlayers\u001b[0m \u001b[0;32mimport\u001b[0m \u001b[0mInput\u001b[0m\u001b[0;34m,\u001b[0m\u001b[0mDense\u001b[0m\u001b[0;34m,\u001b[0m\u001b[0mConv1D\u001b[0m\u001b[0;34m,\u001b[0m\u001b[0mMaxPool1D\u001b[0m\u001b[0;34m,\u001b[0m\u001b[0mGlobalMaxPooling1D\u001b[0m\u001b[0;34m,\u001b[0m\u001b[0mAdd\u001b[0m\u001b[0;34m,\u001b[0m\u001b[0mGlobalAveragePooling1D\u001b[0m\u001b[0;34m,\u001b[0m\u001b[0mReshape\u001b[0m\u001b[0;34m,\u001b[0m\u001b[0mmultiply\u001b[0m\u001b[0;34m\u001b[0m\u001b[0;34m\u001b[0m\u001b[0m\n\u001b[0m\u001b[1;32m      2\u001b[0m \u001b[0;32mfrom\u001b[0m \u001b[0mkeras\u001b[0m\u001b[0;34m.\u001b[0m\u001b[0mlayers\u001b[0m\u001b[0;34m.\u001b[0m\u001b[0mmerge\u001b[0m \u001b[0;32mimport\u001b[0m \u001b[0mconcatenate\u001b[0m\u001b[0;34m\u001b[0m\u001b[0;34m\u001b[0m\u001b[0m\n\u001b[1;32m      3\u001b[0m \u001b[0;32mfrom\u001b[0m \u001b[0mkeras\u001b[0m\u001b[0;34m.\u001b[0m\u001b[0mmodels\u001b[0m \u001b[0;32mimport\u001b[0m \u001b[0mModel\u001b[0m\u001b[0;34m\u001b[0m\u001b[0;34m\u001b[0m\u001b[0m\n\u001b[1;32m      4\u001b[0m \u001b[0;32mfrom\u001b[0m \u001b[0mkeras\u001b[0m \u001b[0;32mimport\u001b[0m \u001b[0mcallbacks\u001b[0m\u001b[0;34m\u001b[0m\u001b[0;34m\u001b[0m\u001b[0m\n",
      "\u001b[0;31mModuleNotFoundError\u001b[0m: No module named 'keras'"
     ]
    }
   ],
   "source": [
    "from keras.layers import Input,Dense,Conv1D,MaxPool1D,GlobalMaxPooling1D,Add,GlobalAveragePooling1D,Reshape,multiply\n",
    "from keras.layers.merge import concatenate\n",
    "from keras.models import Model\n",
    "from keras import callbacks"
   ]
  },
  {
   "cell_type": "code",
   "execution_count": 105,
   "id": "jOuCKu6OSr6w",
   "metadata": {
    "id": "jOuCKu6OSr6w"
   },
   "outputs": [],
   "source": [
    "import numpy as np # linear algebra\n",
    "import pandas as pd # data processing, CSV file I/O (e.g. pd.read_csv)\n",
    "from sklearn.metrics import log_loss\n",
    "from sklearn.model_selection import StratifiedKFold\n",
    "import gc\n",
    "import os\n",
    "import matplotlib.pyplot as plt\n",
    "import seaborn as sns \n",
    "import lightgbm as lgb\n",
    "#from catboost import Pool, CatBoostClassifier\n",
    "import itertools\n",
    "import pickle, gzip\n",
    "import glob"
   ]
  },
  {
   "cell_type": "code",
   "execution_count": 110,
   "id": "inside-allocation",
   "metadata": {
    "id": "inside-allocation"
   },
   "outputs": [],
   "source": [
    "#K.clear_session()\n",
    "def build_model(dropout_rate=0.25,activation='relu'):\n",
    "    start_neurons = 256\n",
    "    feat_ip = Input(shape=(train_data.shape[1],), name='feature_ip')\n",
    "    \n",
    "    x = BatchNormalization()(feat_ip)\n",
    "    x = Dense(start_neurons, activation=activation)(x)    \n",
    "    feat1 = Dropout(rate=dropout_rate)(x)\n",
    "\n",
    "    x = BatchNormalization()(feat1)\n",
    "    x = Dense(start_neurons//2, activation=activation)(x)    \n",
    "    feat2 = Dropout(rate=dropout_rate)(x)\n",
    "    \n",
    "    x = BatchNormalization()(feat2)\n",
    "    x = Dense(start_neurons//4, activation=activation)(x)    \n",
    "    feat3 = Dropout(rate=dropout_rate)(x)\n",
    "    x = BatchNormalization()(feat3)\n",
    "    x = Dense(start_neurons//8, activation=activation)(x)    \n",
    "    feat4 = Dropout(rate=dropout_rate/2)(x)\n",
    "\n",
    "    feat_concat = concatenate([feat1,feat2,feat3,feat4])\n",
    "    out = Dense(len(classes), activation='softmax')(feat_concat)\n",
    "\n",
    "    model = Model(inputs=[feat_ip], outputs=[out])    \n",
    "    return model"
   ]
  },
  {
   "cell_type": "code",
   "execution_count": 111,
   "id": "bW1gjK-fT7YF",
   "metadata": {
    "colab": {
     "base_uri": "https://localhost:8080/",
     "height": 272
    },
    "id": "bW1gjK-fT7YF",
    "outputId": "b3881294-5062-48e8-e7b7-1da9735b2b6f"
   },
   "outputs": [
    {
     "ename": "NameError",
     "evalue": "ignored",
     "output_type": "error",
     "traceback": [
      "\u001b[0;31m---------------------------------------------------------------------------\u001b[0m",
      "\u001b[0;31mNameError\u001b[0m                                 Traceback (most recent call last)",
      "\u001b[0;32m<ipython-input-111-ad9fab8599ef>\u001b[0m in \u001b[0;36m<module>\u001b[0;34m()\u001b[0m\n\u001b[0;32m----> 1\u001b[0;31m \u001b[0mmodel\u001b[0m \u001b[0;34m=\u001b[0m \u001b[0mbuild_model\u001b[0m\u001b[0;34m(\u001b[0m\u001b[0mdropout_rate\u001b[0m\u001b[0;34m=\u001b[0m\u001b[0;36m0.25\u001b[0m\u001b[0;34m,\u001b[0m\u001b[0mactivation\u001b[0m\u001b[0;34m=\u001b[0m\u001b[0;34m'relu'\u001b[0m\u001b[0;34m)\u001b[0m\u001b[0;34m\u001b[0m\u001b[0;34m\u001b[0m\u001b[0m\n\u001b[0m",
      "\u001b[0;32m<ipython-input-110-53e779cecef9>\u001b[0m in \u001b[0;36mbuild_model\u001b[0;34m(dropout_rate, activation)\u001b[0m\n\u001b[1;32m      4\u001b[0m     \u001b[0mfeat_ip\u001b[0m \u001b[0;34m=\u001b[0m \u001b[0mInput\u001b[0m\u001b[0;34m(\u001b[0m\u001b[0mshape\u001b[0m\u001b[0;34m=\u001b[0m\u001b[0;34m(\u001b[0m\u001b[0mtrain_data\u001b[0m\u001b[0;34m.\u001b[0m\u001b[0mshape\u001b[0m\u001b[0;34m[\u001b[0m\u001b[0;36m1\u001b[0m\u001b[0;34m]\u001b[0m\u001b[0;34m,\u001b[0m\u001b[0;34m)\u001b[0m\u001b[0;34m,\u001b[0m \u001b[0mname\u001b[0m\u001b[0;34m=\u001b[0m\u001b[0;34m'feature_ip'\u001b[0m\u001b[0;34m)\u001b[0m\u001b[0;34m\u001b[0m\u001b[0;34m\u001b[0m\u001b[0m\n\u001b[1;32m      5\u001b[0m \u001b[0;34m\u001b[0m\u001b[0m\n\u001b[0;32m----> 6\u001b[0;31m     \u001b[0mx\u001b[0m \u001b[0;34m=\u001b[0m \u001b[0mBatchNormalization\u001b[0m\u001b[0;34m(\u001b[0m\u001b[0;34m)\u001b[0m\u001b[0;34m(\u001b[0m\u001b[0mfeat_ip\u001b[0m\u001b[0;34m)\u001b[0m\u001b[0;34m\u001b[0m\u001b[0;34m\u001b[0m\u001b[0m\n\u001b[0m\u001b[1;32m      7\u001b[0m     \u001b[0mx\u001b[0m \u001b[0;34m=\u001b[0m \u001b[0mDense\u001b[0m\u001b[0;34m(\u001b[0m\u001b[0mstart_neurons\u001b[0m\u001b[0;34m,\u001b[0m \u001b[0mactivation\u001b[0m\u001b[0;34m=\u001b[0m\u001b[0mactivation\u001b[0m\u001b[0;34m)\u001b[0m\u001b[0;34m(\u001b[0m\u001b[0mx\u001b[0m\u001b[0;34m)\u001b[0m\u001b[0;34m\u001b[0m\u001b[0;34m\u001b[0m\u001b[0m\n\u001b[1;32m      8\u001b[0m     \u001b[0mfeat1\u001b[0m \u001b[0;34m=\u001b[0m \u001b[0mDropout\u001b[0m\u001b[0;34m(\u001b[0m\u001b[0mrate\u001b[0m\u001b[0;34m=\u001b[0m\u001b[0mdropout_rate\u001b[0m\u001b[0;34m)\u001b[0m\u001b[0;34m(\u001b[0m\u001b[0mx\u001b[0m\u001b[0;34m)\u001b[0m\u001b[0;34m\u001b[0m\u001b[0;34m\u001b[0m\u001b[0m\n",
      "\u001b[0;31mNameError\u001b[0m: name 'BatchNormalization' is not defined"
     ]
    }
   ],
   "source": [
    "model = build_model(dropout_rate=0.25,activation='relu')"
   ]
  },
  {
   "cell_type": "code",
   "execution_count": 108,
   "id": "pb-ogfswS9Hl",
   "metadata": {
    "colab": {
     "base_uri": "https://localhost:8080/",
     "height": 223
    },
    "id": "pb-ogfswS9Hl",
    "outputId": "3d3f4331-9a35-42f9-b6c2-e68fc2e56a05"
   },
   "outputs": [
    {
     "ename": "AttributeError",
     "evalue": "ignored",
     "output_type": "error",
     "traceback": [
      "\u001b[0;31m---------------------------------------------------------------------------\u001b[0m",
      "\u001b[0;31mAttributeError\u001b[0m                            Traceback (most recent call last)",
      "\u001b[0;32m<ipython-input-108-f569ecc9d3c2>\u001b[0m in \u001b[0;36m<module>\u001b[0;34m()\u001b[0m\n\u001b[0;32m----> 1\u001b[0;31m model.compile(loss= keras.losses.SparseCategoricalCrossentropy(),\n\u001b[0m\u001b[1;32m      2\u001b[0m              \u001b[0moptimizer\u001b[0m\u001b[0;34m=\u001b[0m\u001b[0mtf\u001b[0m\u001b[0;34m.\u001b[0m\u001b[0mkeras\u001b[0m\u001b[0;34m.\u001b[0m\u001b[0moptimizers\u001b[0m\u001b[0;34m.\u001b[0m\u001b[0mAdam\u001b[0m\u001b[0;34m(\u001b[0m\u001b[0mlr\u001b[0m\u001b[0;34m=\u001b[0m\u001b[0;36m0.001\u001b[0m\u001b[0;34m)\u001b[0m\u001b[0;34m,\u001b[0m\u001b[0;34m\u001b[0m\u001b[0;34m\u001b[0m\u001b[0m\n\u001b[1;32m      3\u001b[0m              metrics=['accuracy'])\n\u001b[1;32m      4\u001b[0m history = model.fit(X_train, Y_train,\n\u001b[1;32m      5\u001b[0m                     \u001b[0mvalidation_data\u001b[0m\u001b[0;34m=\u001b[0m\u001b[0;34m[\u001b[0m\u001b[0mX_test\u001b[0m\u001b[0;34m,\u001b[0m \u001b[0mY_test\u001b[0m\u001b[0;34m]\u001b[0m\u001b[0;34m,\u001b[0m\u001b[0;34m\u001b[0m\u001b[0;34m\u001b[0m\u001b[0m\n",
      "\u001b[0;31mAttributeError\u001b[0m: 'XGBClassifier' object has no attribute 'compile'"
     ]
    }
   ],
   "source": [
    "model.compile(loss= keras.losses.SparseCategoricalCrossentropy(),\n",
    "             optimizer=tf.keras.optimizers.Adam(lr=0.001),\n",
    "             metrics=['accuracy'])\n",
    "history = model.fit(X_train, Y_train,\n",
    "                    validation_data=[X_test, Y_test], \n",
    "                    epochs=250,\n",
    "                    batch_size=200)"
   ]
  }
 ],
 "metadata": {
  "colab": {
   "name": "XGBoost_HP_Under_Over_Sampling_Submission_5_V.ipynb",
   "provenance": []
  },
  "kernelspec": {
   "display_name": "Python 3",
   "language": "python",
   "name": "python3"
  },
  "language_info": {
   "codemirror_mode": {
    "name": "ipython",
    "version": 3
   },
   "file_extension": ".py",
   "mimetype": "text/x-python",
   "name": "python",
   "nbconvert_exporter": "python",
   "pygments_lexer": "ipython3",
   "version": "3.7.10"
  }
 },
 "nbformat": 4,
 "nbformat_minor": 5
}
